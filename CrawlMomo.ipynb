{
 "cells": [
  {
   "cell_type": "markdown",
   "metadata": {},
   "source": [
    "Code lấy tên + link phim"
   ]
  },
  {
   "cell_type": "code",
   "execution_count": 6,
   "metadata": {},
   "outputs": [
    {
     "name": "stdout",
     "output_type": "stream",
     "text": [
      "Lưu 6 phim mới sau 12 lần bấm\n",
      "Lưu 6 phim mới sau 14 lần bấm\n",
      "Lưu 6 phim mới sau 16 lần bấm\n",
      "Lưu 6 phim mới sau 18 lần bấm\n",
      "Lưu 6 phim mới sau 20 lần bấm\n",
      "Lưu 6 phim mới sau 22 lần bấm\n",
      "Lưu 6 phim mới sau 24 lần bấm\n",
      "Lưu 6 phim mới sau 26 lần bấm\n",
      "Lưu 6 phim mới sau 28 lần bấm\n",
      "Lưu 6 phim mới sau 30 lần bấm\n",
      "Lưu 6 phim mới sau 32 lần bấm\n",
      "Lưu 6 phim mới sau 34 lần bấm\n",
      "Lưu 6 phim mới sau 36 lần bấm\n",
      "Lưu 6 phim mới sau 38 lần bấm\n",
      "Lưu 6 phim mới sau 40 lần bấm\n",
      "Lưu 6 phim mới sau 42 lần bấm\n",
      "Lưu 6 phim mới sau 44 lần bấm\n",
      "Lưu 6 phim mới sau 46 lần bấm\n",
      "Lưu 6 phim mới sau 48 lần bấm\n",
      "Lưu 6 phim mới sau 50 lần bấm\n",
      "Lưu 6 phim mới sau 52 lần bấm\n",
      "Lưu 6 phim mới sau 54 lần bấm\n",
      "Lưu 6 phim mới sau 56 lần bấm\n",
      "Lưu 6 phim mới sau 58 lần bấm\n",
      "Lưu 6 phim mới sau 60 lần bấm\n",
      "Lưu 6 phim mới sau 62 lần bấm\n",
      "Lưu 6 phim mới sau 64 lần bấm\n",
      "Lưu 6 phim mới sau 66 lần bấm\n",
      "Lưu 6 phim mới sau 68 lần bấm\n",
      "Lưu 6 phim mới sau 70 lần bấm\n",
      "Lưu 6 phim mới sau 72 lần bấm\n",
      "Lưu 6 phim mới sau 74 lần bấm\n",
      "Lưu 6 phim mới sau 76 lần bấm\n",
      "Lưu 6 phim mới sau 78 lần bấm\n",
      "Lưu 6 phim mới sau 80 lần bấm\n",
      "Lưu 6 phim mới sau 82 lần bấm\n",
      "Lưu 6 phim mới sau 84 lần bấm\n",
      "Lưu 6 phim mới sau 86 lần bấm\n",
      "Lưu 6 phim mới sau 88 lần bấm\n",
      "Lưu 6 phim mới sau 90 lần bấm\n",
      "Lưu 6 phim mới sau 92 lần bấm\n",
      "Lưu 6 phim mới sau 94 lần bấm\n",
      "Lưu 6 phim mới sau 96 lần bấm\n",
      "Lưu 6 phim mới sau 98 lần bấm\n",
      "Lưu 6 phim mới sau 100 lần bấm\n",
      "Lưu 6 phim mới sau 102 lần bấm\n",
      "Lưu 6 phim mới sau 104 lần bấm\n",
      "Lưu 6 phim mới sau 106 lần bấm\n",
      "Lưu 6 phim mới sau 108 lần bấm\n",
      "Lưu 6 phim mới sau 110 lần bấm\n",
      "Lưu 6 phim mới sau 112 lần bấm\n",
      "Lưu 6 phim mới sau 114 lần bấm\n",
      "Lưu 6 phim mới sau 116 lần bấm\n",
      "Lưu 6 phim mới sau 118 lần bấm\n",
      "Lưu 6 phim mới sau 120 lần bấm\n",
      "Lưu 6 phim mới sau 122 lần bấm\n",
      "Lưu 6 phim mới sau 124 lần bấm\n",
      "Lưu 6 phim mới sau 126 lần bấm\n",
      "Lưu 6 phim mới sau 128 lần bấm\n",
      "Lưu 6 phim mới sau 130 lần bấm\n",
      "Lưu 6 phim mới sau 132 lần bấm\n",
      "Lưu 6 phim mới sau 134 lần bấm\n",
      "Lưu 6 phim mới sau 136 lần bấm\n",
      "Lưu 6 phim mới sau 138 lần bấm\n",
      "Lưu 6 phim mới sau 140 lần bấm\n",
      "Lưu 6 phim mới sau 142 lần bấm\n",
      "Lưu 6 phim mới sau 144 lần bấm\n",
      "Lưu 6 phim mới sau 146 lần bấm\n",
      "Lưu 6 phim mới sau 148 lần bấm\n",
      "Lưu 6 phim mới sau 150 lần bấm\n",
      "Lưu 6 phim mới sau 152 lần bấm\n",
      "Lưu 6 phim mới sau 154 lần bấm\n",
      "Lưu 6 phim mới sau 156 lần bấm\n",
      "Lưu 6 phim mới sau 158 lần bấm\n",
      "Lưu 6 phim mới sau 160 lần bấm\n",
      "Lưu 6 phim mới sau 162 lần bấm\n",
      "Lưu 6 phim mới sau 164 lần bấm\n",
      "Lưu 6 phim mới sau 166 lần bấm\n",
      "Lưu 6 phim mới sau 168 lần bấm\n",
      "Lưu 6 phim mới sau 170 lần bấm\n",
      "Lưu 6 phim mới sau 172 lần bấm\n",
      "Lưu 6 phim mới sau 174 lần bấm\n",
      "Lưu 6 phim mới sau 176 lần bấm\n",
      "Lưu 6 phim mới sau 178 lần bấm\n",
      "Lưu 6 phim mới sau 180 lần bấm\n",
      "Lưu 6 phim mới sau 182 lần bấm\n",
      "Lưu 6 phim mới sau 184 lần bấm\n",
      "Lưu 6 phim mới sau 186 lần bấm\n",
      "Lưu 6 phim mới sau 188 lần bấm\n",
      "Lưu 6 phim mới sau 190 lần bấm\n",
      "Lưu 6 phim mới sau 192 lần bấm\n",
      "Lưu 6 phim mới sau 194 lần bấm\n",
      "Lưu 6 phim mới sau 196 lần bấm\n",
      "Lưu 6 phim mới sau 198 lần bấm\n",
      "Lưu 6 phim mới sau 200 lần bấm\n",
      "Lưu 6 phim mới sau 202 lần bấm\n",
      "Lưu 6 phim mới sau 204 lần bấm\n",
      "Lưu 6 phim mới sau 206 lần bấm\n",
      "Lưu 6 phim mới sau 208 lần bấm\n",
      "Lưu 6 phim mới sau 210 lần bấm\n",
      "Lưu 6 phim mới sau 212 lần bấm\n",
      "Lưu 6 phim mới sau 214 lần bấm\n",
      "Lưu 6 phim mới sau 216 lần bấm\n",
      "Lưu 6 phim mới sau 218 lần bấm\n",
      "Lưu 6 phim mới sau 220 lần bấm\n",
      "Lưu 6 phim mới sau 222 lần bấm\n",
      "Lưu 6 phim mới sau 224 lần bấm\n",
      "Lưu 6 phim mới sau 226 lần bấm\n",
      "Lưu 6 phim mới sau 228 lần bấm\n",
      "Lưu 6 phim mới sau 230 lần bấm\n",
      "Lưu 6 phim mới sau 232 lần bấm\n",
      "Lưu 6 phim mới sau 234 lần bấm\n",
      "Lưu 6 phim mới sau 236 lần bấm\n",
      "Lưu 6 phim mới sau 238 lần bấm\n",
      "Lưu 6 phim mới sau 240 lần bấm\n",
      "Lưu 6 phim mới sau 242 lần bấm\n",
      "Lưu 6 phim mới sau 244 lần bấm\n",
      "Lưu 6 phim mới sau 246 lần bấm\n",
      "Lưu 6 phim mới sau 248 lần bấm\n",
      "Lưu 6 phim mới sau 250 lần bấm\n",
      "Lưu 6 phim mới sau 252 lần bấm\n",
      "Lưu 6 phim mới sau 254 lần bấm\n",
      "Lưu 6 phim mới sau 256 lần bấm\n",
      "Lưu 6 phim mới sau 258 lần bấm\n",
      "Lưu 6 phim mới sau 260 lần bấm\n",
      "Lưu 6 phim mới sau 262 lần bấm\n",
      "Lưu 6 phim mới sau 264 lần bấm\n",
      "Lưu 6 phim mới sau 266 lần bấm\n",
      "Lưu 6 phim mới sau 268 lần bấm\n",
      "Lưu 6 phim mới sau 270 lần bấm\n",
      "Lưu 6 phim mới sau 272 lần bấm\n",
      "Lưu 6 phim mới sau 274 lần bấm\n",
      "Lưu 6 phim mới sau 276 lần bấm\n",
      "Lưu 6 phim mới sau 278 lần bấm\n",
      "Lưu 5 phim mới sau 280 lần bấm\n",
      "Tổng số phim mới được lưu: 809\n",
      "Số lần bấm nút: 285\n"
     ]
    }
   ],
   "source": [
    "import csv\n",
    "from selenium import webdriver\n",
    "from selenium.webdriver.common.by import By\n",
    "from selenium.webdriver.support.ui import WebDriverWait\n",
    "from selenium.webdriver.support import expected_conditions as EC\n",
    "from bs4 import BeautifulSoup\n",
    "import time\n",
    "import os\n",
    "\n",
    "# Hàm đọc danh sách phim từ CSV vào set\n",
    "def load_existing_movies(csv_filename):\n",
    "    movie_set = set()\n",
    "    if os.path.exists(csv_filename):\n",
    "        with open(csv_filename, mode='r', encoding='utf-8') as file:\n",
    "            reader = csv.reader(file)\n",
    "            next(reader, None)  # Bỏ qua header nếu có\n",
    "            for row in reader:\n",
    "                movie_set.add(row[0])\n",
    "    return movie_set\n",
    "\n",
    "# Cấu hình Selenium\n",
    "driver = webdriver.Chrome()\n",
    "driver.get(\"https://www.momo.vn/cinema/review\")  \n",
    "time.sleep(3)  # Đợi trang load\n",
    "\n",
    "# Bấm nút \"Xem thêm\" nếu có và kiểm tra trong CSV mỗi 2 lần bấm\n",
    "wait = WebDriverWait(driver, 5)\n",
    "click_count = 0\n",
    "csv_filename = \"movies.csv\"\n",
    "existing_movies = load_existing_movies(csv_filename)\n",
    "movies_to_save = []\n",
    "\n",
    "for i in range(1000):  # Giới hạn số lần bấm\n",
    "    try:\n",
    "        button = wait.until(EC.element_to_be_clickable((By.XPATH, \"//button[contains(text(), 'Xem tiếp nhé !')]\")))\n",
    "        button.click()\n",
    "        click_count += 1\n",
    "        time.sleep(2)  # Đợi nội dung mới tải về\n",
    "\n",
    "        # Mỗi 2 lần bấm thì kiểm tra và lấy dữ liệu\n",
    "        if click_count % 2 == 0:\n",
    "            page_html = driver.page_source\n",
    "            soup = BeautifulSoup(page_html, 'html.parser')\n",
    "            movie_divs = soup.find_all('div', class_='relative h-full overflow-hidden rounded-xl border border-gray-200 bg-white shadow-lg')\n",
    "            new_count = 0\n",
    "            \n",
    "            for movie in movie_divs:\n",
    "                title_tag = movie.find('div', class_='truncate text-sm font-bold leading-tight text-white hover:text-pink-100')\n",
    "                movie_name = title_tag.text.strip() if title_tag else \"Không rõ\"\n",
    "                review_link_tag = movie.find('a', href=True)\n",
    "                movie_link = \"https://www.momo.vn\" + review_link_tag['href'] if review_link_tag else \"Không có link\"\n",
    "                \n",
    "                if movie_name not in existing_movies:\n",
    "                    existing_movies.add(movie_name)\n",
    "                    movies_to_save.append((movie_name, movie_link))\n",
    "                    new_count += 1\n",
    "            \n",
    "            if new_count > 0:\n",
    "                print(f\"Lưu {new_count} phim mới sau {click_count} lần bấm\")\n",
    "    except:\n",
    "        break  # Nếu không tìm thấy nút, thoát vòng lặp\n",
    "\n",
    "# Đóng trình duyệt\n",
    "driver.quit()\n",
    "\n",
    "# Ghi danh sách phim vào file CSV nếu có phim mới\n",
    "if movies_to_save:\n",
    "    file_exists = os.path.exists(csv_filename)\n",
    "    with open(csv_filename, mode='a' if file_exists else 'w', newline='', encoding='utf-8') as file:\n",
    "        writer = csv.writer(file)\n",
    "        if not file_exists:\n",
    "            writer.writerow([\"Tên phim\", \"Link review\"])  # Ghi header nếu file chưa tồn tại\n",
    "        writer.writerows(movies_to_save)\n",
    "    print(f\"Tổng số phim mới được lưu: {len(movies_to_save)}\")\n",
    "else:\n",
    "    print(\"Không có phim mới để lưu.\")\n",
    "\n",
    "print(f\"Số lần bấm nút: {click_count}\")"
   ]
  },
  {
   "cell_type": "markdown",
   "metadata": {},
   "source": [
    "Code lấy thể loại phim + link hình"
   ]
  },
  {
   "cell_type": "code",
   "execution_count": 1,
   "metadata": {},
   "outputs": [
    {
     "name": "stderr",
     "output_type": "stream",
     "text": [
      "C:\\Users\\ADMIN\\AppData\\Local\\Temp\\ipykernel_7724\\373337600.py:22: FutureWarning: Series.__getitem__ treating keys as positions is deprecated. In a future version, integer keys will always be treated as labels (consistent with DataFrame behavior). To access a value by position, use `ser.iloc[pos]`\n",
      "  link = row[1]  # Cột 1 chứa link review\n"
     ]
    },
    {
     "name": "stdout",
     "output_type": "stream",
     "text": [
      "1/845 - Cập nhật thể loại: Gia đình, Tâm Linh, Hài\n",
      "1/845 - Cập nhật ảnh: https://cinema.momocdn.net/img/30910758424122498-672b4df6707cf_1.jpg?size=L\n"
     ]
    },
    {
     "name": "stderr",
     "output_type": "stream",
     "text": [
      "C:\\Users\\ADMIN\\AppData\\Local\\Temp\\ipykernel_7724\\373337600.py:22: FutureWarning: Series.__getitem__ treating keys as positions is deprecated. In a future version, integer keys will always be treated as labels (consistent with DataFrame behavior). To access a value by position, use `ser.iloc[pos]`\n",
      "  link = row[1]  # Cột 1 chứa link review\n"
     ]
    },
    {
     "name": "stdout",
     "output_type": "stream",
     "text": [
      "2/845 - Cập nhật thể loại: Hài, Lãng mạn\n",
      "2/845 - Cập nhật ảnh: https://cinema.momocdn.net/img/20805460312366259-dsc07289-5246.jpg?size=L\n"
     ]
    },
    {
     "name": "stderr",
     "output_type": "stream",
     "text": [
      "C:\\Users\\ADMIN\\AppData\\Local\\Temp\\ipykernel_7724\\373337600.py:22: FutureWarning: Series.__getitem__ treating keys as positions is deprecated. In a future version, integer keys will always be treated as labels (consistent with DataFrame behavior). To access a value by position, use `ser.iloc[pos]`\n",
      "  link = row[1]  # Cột 1 chứa link review\n"
     ]
    },
    {
     "name": "stdout",
     "output_type": "stream",
     "text": [
      "3/845 - Cập nhật thể loại: Kinh dị\n",
      "3/845 - Cập nhật ảnh: https://cinema.momocdn.net/img/129193450011335785-67b46f28f1610_1.jpg?size=L\n"
     ]
    },
    {
     "name": "stderr",
     "output_type": "stream",
     "text": [
      "C:\\Users\\ADMIN\\AppData\\Local\\Temp\\ipykernel_7724\\373337600.py:22: FutureWarning: Series.__getitem__ treating keys as positions is deprecated. In a future version, integer keys will always be treated as labels (consistent with DataFrame behavior). To access a value by position, use `ser.iloc[pos]`\n",
      "  link = row[1]  # Cột 1 chứa link review\n"
     ]
    },
    {
     "name": "stdout",
     "output_type": "stream",
     "text": [
      "4/845 - Cập nhật thể loại: Chính kịch, Hành động, Hoạt hình\n",
      "4/845 - Cập nhật ảnh: https://image.tmdb.org/t/p/w780/sl5rXSyMTzK5WkpRO9oVIkqr6DE.jpg\n"
     ]
    },
    {
     "name": "stderr",
     "output_type": "stream",
     "text": [
      "C:\\Users\\ADMIN\\AppData\\Local\\Temp\\ipykernel_7724\\373337600.py:22: FutureWarning: Series.__getitem__ treating keys as positions is deprecated. In a future version, integer keys will always be treated as labels (consistent with DataFrame behavior). To access a value by position, use `ser.iloc[pos]`\n",
      "  link = row[1]  # Cột 1 chứa link review\n"
     ]
    },
    {
     "name": "stdout",
     "output_type": "stream",
     "text": [
      "5/845 - Cập nhật thể loại: Âm Nhạc, Tài liệu\n",
      "5/845 - Cập nhật ảnh: https://cinema.momocdn.net/img/86663091801703204-athsad.jpg?size=L\n"
     ]
    },
    {
     "name": "stderr",
     "output_type": "stream",
     "text": [
      "C:\\Users\\ADMIN\\AppData\\Local\\Temp\\ipykernel_7724\\373337600.py:22: FutureWarning: Series.__getitem__ treating keys as positions is deprecated. In a future version, integer keys will always be treated as labels (consistent with DataFrame behavior). To access a value by position, use `ser.iloc[pos]`\n",
      "  link = row[1]  # Cột 1 chứa link review\n"
     ]
    },
    {
     "name": "stdout",
     "output_type": "stream",
     "text": [
      "6/845 - Cập nhật thể loại: Chính kịch, Phiêu lưu, Khoa học - Viễn tưởng\n",
      "6/845 - Cập nhật ảnh: https://image.tmdb.org/t/p/w780/vjVkdKOsCuQvpAVW83EHf9M3Z3h.jpg\n"
     ]
    },
    {
     "name": "stderr",
     "output_type": "stream",
     "text": [
      "C:\\Users\\ADMIN\\AppData\\Local\\Temp\\ipykernel_7724\\373337600.py:22: FutureWarning: Series.__getitem__ treating keys as positions is deprecated. In a future version, integer keys will always be treated as labels (consistent with DataFrame behavior). To access a value by position, use `ser.iloc[pos]`\n",
      "  link = row[1]  # Cột 1 chứa link review\n"
     ]
    },
    {
     "name": "stdout",
     "output_type": "stream",
     "text": [
      "7/845 - Cập nhật thể loại: Hài, Hành động\n",
      "7/845 - Cập nhật ảnh: https://image.tmdb.org/t/p/w780/w121PdRrpzxhKZuBIvTpvq5WDq4.jpg\n"
     ]
    },
    {
     "name": "stderr",
     "output_type": "stream",
     "text": [
      "C:\\Users\\ADMIN\\AppData\\Local\\Temp\\ipykernel_7724\\373337600.py:22: FutureWarning: Series.__getitem__ treating keys as positions is deprecated. In a future version, integer keys will always be treated as labels (consistent with DataFrame behavior). To access a value by position, use `ser.iloc[pos]`\n",
      "  link = row[1]  # Cột 1 chứa link review\n"
     ]
    },
    {
     "name": "stdout",
     "output_type": "stream",
     "text": [
      "8/845 - Cập nhật thể loại: Gay cấn, Kinh dị\n",
      "8/845 - Cập nhật ảnh: https://image.tmdb.org/t/p/w780/a76Q2dl3O0QbZKd7c2WGs3teaxn.jpg\n"
     ]
    },
    {
     "name": "stderr",
     "output_type": "stream",
     "text": [
      "C:\\Users\\ADMIN\\AppData\\Local\\Temp\\ipykernel_7724\\373337600.py:22: FutureWarning: Series.__getitem__ treating keys as positions is deprecated. In a future version, integer keys will always be treated as labels (consistent with DataFrame behavior). To access a value by position, use `ser.iloc[pos]`\n",
      "  link = row[1]  # Cột 1 chứa link review\n"
     ]
    },
    {
     "name": "stdout",
     "output_type": "stream",
     "text": [
      "9/845 - Cập nhật thể loại: Phiêu lưu, Giả tưởng, Hoạt hình\n",
      "9/845 - Cập nhật ảnh: https://image.tmdb.org/t/p/w780/jfKMI32Xc2HfB0hRlmPVlAaeb7r.jpg\n"
     ]
    },
    {
     "name": "stderr",
     "output_type": "stream",
     "text": [
      "C:\\Users\\ADMIN\\AppData\\Local\\Temp\\ipykernel_7724\\373337600.py:22: FutureWarning: Series.__getitem__ treating keys as positions is deprecated. In a future version, integer keys will always be treated as labels (consistent with DataFrame behavior). To access a value by position, use `ser.iloc[pos]`\n",
      "  link = row[1]  # Cột 1 chứa link review\n"
     ]
    },
    {
     "name": "stdout",
     "output_type": "stream",
     "text": [
      "10/845 - Cập nhật thể loại: Chính kịch, Phiêu lưu, Khoa học - Viễn tưởng\n",
      "10/845 - Cập nhật ảnh: https://image.tmdb.org/t/p/w780/xrhuca78v1RElxEG3kW1KpR4ayG.jpg\n"
     ]
    },
    {
     "name": "stderr",
     "output_type": "stream",
     "text": [
      "C:\\Users\\ADMIN\\AppData\\Local\\Temp\\ipykernel_7724\\373337600.py:22: FutureWarning: Series.__getitem__ treating keys as positions is deprecated. In a future version, integer keys will always be treated as labels (consistent with DataFrame behavior). To access a value by position, use `ser.iloc[pos]`\n",
      "  link = row[1]  # Cột 1 chứa link review\n"
     ]
    },
    {
     "name": "stdout",
     "output_type": "stream",
     "text": [
      "11/845 - Cập nhật thể loại: Chính kịch, Khoa học - Viễn tưởng, Hành động, Hoạt hình\n",
      "11/845 - Cập nhật ảnh: https://image.tmdb.org/t/p/w780/uSQ5H2JeQpH4IpR01CwoObocZed.jpg\n"
     ]
    },
    {
     "name": "stderr",
     "output_type": "stream",
     "text": [
      "C:\\Users\\ADMIN\\AppData\\Local\\Temp\\ipykernel_7724\\373337600.py:22: FutureWarning: Series.__getitem__ treating keys as positions is deprecated. In a future version, integer keys will always be treated as labels (consistent with DataFrame behavior). To access a value by position, use `ser.iloc[pos]`\n",
      "  link = row[1]  # Cột 1 chứa link review\n"
     ]
    },
    {
     "name": "stdout",
     "output_type": "stream",
     "text": [
      "12/845 - Cập nhật thể loại: Kinh dị, Hài\n",
      "12/845 - Cập nhật ảnh: https://image.tmdb.org/t/p/w780/xIp9gYZKWKpby5Q0687r7WZ5YwL.jpg\n"
     ]
    },
    {
     "name": "stderr",
     "output_type": "stream",
     "text": [
      "C:\\Users\\ADMIN\\AppData\\Local\\Temp\\ipykernel_7724\\373337600.py:22: FutureWarning: Series.__getitem__ treating keys as positions is deprecated. In a future version, integer keys will always be treated as labels (consistent with DataFrame behavior). To access a value by position, use `ser.iloc[pos]`\n",
      "  link = row[1]  # Cột 1 chứa link review\n"
     ]
    },
    {
     "name": "stdout",
     "output_type": "stream",
     "text": [
      "13/845 - Cập nhật thể loại: Gia đình, Phiêu lưu, Hoạt hình\n",
      "13/845 - Cập nhật ảnh: https://image.tmdb.org/t/p/w780/4gd1HMGL7r2h2hLow1UIjvYMxox.jpg\n"
     ]
    },
    {
     "name": "stderr",
     "output_type": "stream",
     "text": [
      "C:\\Users\\ADMIN\\AppData\\Local\\Temp\\ipykernel_7724\\373337600.py:22: FutureWarning: Series.__getitem__ treating keys as positions is deprecated. In a future version, integer keys will always be treated as labels (consistent with DataFrame behavior). To access a value by position, use `ser.iloc[pos]`\n",
      "  link = row[1]  # Cột 1 chứa link review\n"
     ]
    },
    {
     "name": "stdout",
     "output_type": "stream",
     "text": [
      "14/845 - Cập nhật thể loại: Gay cấn, Hài, Hành động\n",
      "14/845 - Cập nhật ảnh: https://image.tmdb.org/t/p/w780/8eBj4WgFTsQOb8Moicf0I9sBgDE.jpg\n"
     ]
    },
    {
     "name": "stderr",
     "output_type": "stream",
     "text": [
      "C:\\Users\\ADMIN\\AppData\\Local\\Temp\\ipykernel_7724\\373337600.py:22: FutureWarning: Series.__getitem__ treating keys as positions is deprecated. In a future version, integer keys will always be treated as labels (consistent with DataFrame behavior). To access a value by position, use `ser.iloc[pos]`\n",
      "  link = row[1]  # Cột 1 chứa link review\n"
     ]
    },
    {
     "name": "stdout",
     "output_type": "stream",
     "text": [
      "15/845 - Cập nhật thể loại: Âm Nhạc, Tài liệu\n",
      "15/845 - Cập nhật ảnh: https://cinema.momocdn.net/img/130400336309767140-maxresdefault.jpg?size=L\n"
     ]
    },
    {
     "name": "stderr",
     "output_type": "stream",
     "text": [
      "C:\\Users\\ADMIN\\AppData\\Local\\Temp\\ipykernel_7724\\373337600.py:22: FutureWarning: Series.__getitem__ treating keys as positions is deprecated. In a future version, integer keys will always be treated as labels (consistent with DataFrame behavior). To access a value by position, use `ser.iloc[pos]`\n",
      "  link = row[1]  # Cột 1 chứa link review\n"
     ]
    },
    {
     "name": "stdout",
     "output_type": "stream",
     "text": [
      "16/845 - Cập nhật thể loại: Âm Nhạc, Tài liệu\n",
      "16/845 - Cập nhật ảnh: https://image.tmdb.org/t/p/w780/ydbWUY2vP3Ykq7KrzAlxhEfs1HQ.jpg\n"
     ]
    },
    {
     "name": "stderr",
     "output_type": "stream",
     "text": [
      "C:\\Users\\ADMIN\\AppData\\Local\\Temp\\ipykernel_7724\\373337600.py:22: FutureWarning: Series.__getitem__ treating keys as positions is deprecated. In a future version, integer keys will always be treated as labels (consistent with DataFrame behavior). To access a value by position, use `ser.iloc[pos]`\n",
      "  link = row[1]  # Cột 1 chứa link review\n"
     ]
    },
    {
     "name": "stdout",
     "output_type": "stream",
     "text": [
      "17/845 - Cập nhật thể loại: Lãng mạn\n",
      "17/845 - Cập nhật ảnh: https://cinema.momocdn.net/img/32033864513020595-first-look-mai-1701162316.jpg\n"
     ]
    },
    {
     "name": "stderr",
     "output_type": "stream",
     "text": [
      "C:\\Users\\ADMIN\\AppData\\Local\\Temp\\ipykernel_7724\\373337600.py:22: FutureWarning: Series.__getitem__ treating keys as positions is deprecated. In a future version, integer keys will always be treated as labels (consistent with DataFrame behavior). To access a value by position, use `ser.iloc[pos]`\n",
      "  link = row[1]  # Cột 1 chứa link review\n"
     ]
    },
    {
     "name": "stdout",
     "output_type": "stream",
     "text": [
      "18/845 - Cập nhật thể loại: Gia đình, Tình cảm, Hài\n",
      "18/845 - Cập nhật ảnh: https://cinema.momocdn.net/img/58187000777018731-Ly-Hai-7-Large.jpg\n"
     ]
    },
    {
     "name": "stderr",
     "output_type": "stream",
     "text": [
      "C:\\Users\\ADMIN\\AppData\\Local\\Temp\\ipykernel_7724\\373337600.py:22: FutureWarning: Series.__getitem__ treating keys as positions is deprecated. In a future version, integer keys will always be treated as labels (consistent with DataFrame behavior). To access a value by position, use `ser.iloc[pos]`\n",
      "  link = row[1]  # Cột 1 chứa link review\n"
     ]
    },
    {
     "name": "stdout",
     "output_type": "stream",
     "text": [
      "19/845 - Cập nhật thể loại: Hài, Lãng mạn\n",
      "19/845 - Cập nhật ảnh: https://cinema.momocdn.net/img/20806799746765424-1-2-1-17319977764621795015696-126-0-1098-1856-crop-17319978254341652940828.jpg?size=L\n"
     ]
    },
    {
     "name": "stderr",
     "output_type": "stream",
     "text": [
      "C:\\Users\\ADMIN\\AppData\\Local\\Temp\\ipykernel_7724\\373337600.py:22: FutureWarning: Series.__getitem__ treating keys as positions is deprecated. In a future version, integer keys will always be treated as labels (consistent with DataFrame behavior). To access a value by position, use `ser.iloc[pos]`\n",
      "  link = row[1]  # Cột 1 chứa link review\n"
     ]
    },
    {
     "name": "stdout",
     "output_type": "stream",
     "text": [
      "20/845 - Cập nhật thể loại: Gay cấn, Bí ẩn, Kinh dị\n",
      "20/845 - Cập nhật ảnh: https://cinema.momocdn.net/img/33662675193695067-aINel9503ompOlGKn4sIVMg09Un.jpg\n"
     ]
    },
    {
     "name": "stderr",
     "output_type": "stream",
     "text": [
      "C:\\Users\\ADMIN\\AppData\\Local\\Temp\\ipykernel_7724\\373337600.py:22: FutureWarning: Series.__getitem__ treating keys as positions is deprecated. In a future version, integer keys will always be treated as labels (consistent with DataFrame behavior). To access a value by position, use `ser.iloc[pos]`\n",
      "  link = row[1]  # Cột 1 chứa link review\n"
     ]
    },
    {
     "name": "stdout",
     "output_type": "stream",
     "text": [
      "21/845 - Cập nhật thể loại: Bí ẩn, Hình sự, Hành động, Hoạt hình\n",
      "21/845 - Cập nhật ảnh: https://cinema.momocdn.net/img/9633644791641463-bPbPrWWJGaLXQ5ESjcaIbMzVDg8.jpg\n"
     ]
    },
    {
     "name": "stderr",
     "output_type": "stream",
     "text": [
      "C:\\Users\\ADMIN\\AppData\\Local\\Temp\\ipykernel_7724\\373337600.py:22: FutureWarning: Series.__getitem__ treating keys as positions is deprecated. In a future version, integer keys will always be treated as labels (consistent with DataFrame behavior). To access a value by position, use `ser.iloc[pos]`\n",
      "  link = row[1]  # Cột 1 chứa link review\n"
     ]
    },
    {
     "name": "stdout",
     "output_type": "stream",
     "text": [
      "22/845 - Cập nhật thể loại: Chính kịch, Gia đình, Chiến tranh\n",
      "22/845 - Cập nhật ảnh: https://cinema.momocdn.net/img/9026105849476126-7TW7TR9lYLpPDqdABBfEmxBYUiE.jpg\n"
     ]
    },
    {
     "name": "stderr",
     "output_type": "stream",
     "text": [
      "C:\\Users\\ADMIN\\AppData\\Local\\Temp\\ipykernel_7724\\373337600.py:22: FutureWarning: Series.__getitem__ treating keys as positions is deprecated. In a future version, integer keys will always be treated as labels (consistent with DataFrame behavior). To access a value by position, use `ser.iloc[pos]`\n",
      "  link = row[1]  # Cột 1 chứa link review\n"
     ]
    },
    {
     "name": "stdout",
     "output_type": "stream",
     "text": [
      "23/845 - Cập nhật thể loại: Kinh dị\n",
      "23/845 - Cập nhật ảnh: https://cinema.momocdn.net/img/13385037892429967-4Rn5JBul7GkvwdnVysEPwdJFZzl.jpg\n"
     ]
    },
    {
     "name": "stderr",
     "output_type": "stream",
     "text": [
      "C:\\Users\\ADMIN\\AppData\\Local\\Temp\\ipykernel_7724\\373337600.py:22: FutureWarning: Series.__getitem__ treating keys as positions is deprecated. In a future version, integer keys will always be treated as labels (consistent with DataFrame behavior). To access a value by position, use `ser.iloc[pos]`\n",
      "  link = row[1]  # Cột 1 chứa link review\n"
     ]
    },
    {
     "name": "stdout",
     "output_type": "stream",
     "text": [
      "24/845 - Cập nhật thể loại: Gay cấn, Kinh dị\n",
      "24/845 - Cập nhật ảnh: https://cinema.momocdn.net/img/76912236330285912-Screen%20Shot%202024-09-13%20at%2015.21.27.png\n"
     ]
    },
    {
     "name": "stderr",
     "output_type": "stream",
     "text": [
      "C:\\Users\\ADMIN\\AppData\\Local\\Temp\\ipykernel_7724\\373337600.py:22: FutureWarning: Series.__getitem__ treating keys as positions is deprecated. In a future version, integer keys will always be treated as labels (consistent with DataFrame behavior). To access a value by position, use `ser.iloc[pos]`\n",
      "  link = row[1]  # Cột 1 chứa link review\n"
     ]
    },
    {
     "name": "stdout",
     "output_type": "stream",
     "text": [
      "25/845 - Cập nhật thể loại: Hài, Lãng mạn\n",
      "25/845 - Cập nhật ảnh: https://cinema.momocdn.net/img/26842957116188811-gfEnkleo6elBpEceKDDRwdaO2rZ.jpg\n"
     ]
    },
    {
     "name": "stderr",
     "output_type": "stream",
     "text": [
      "C:\\Users\\ADMIN\\AppData\\Local\\Temp\\ipykernel_7724\\373337600.py:22: FutureWarning: Series.__getitem__ treating keys as positions is deprecated. In a future version, integer keys will always be treated as labels (consistent with DataFrame behavior). To access a value by position, use `ser.iloc[pos]`\n",
      "  link = row[1]  # Cột 1 chứa link review\n"
     ]
    },
    {
     "name": "stdout",
     "output_type": "stream",
     "text": [
      "26/845 - Cập nhật thể loại: Kinh dị\n",
      "26/845 - Cập nhật ảnh: https://cinema.momocdn.net/img/14391164406189585-Thumb%20Teaser.jpg\n"
     ]
    },
    {
     "name": "stderr",
     "output_type": "stream",
     "text": [
      "C:\\Users\\ADMIN\\AppData\\Local\\Temp\\ipykernel_7724\\373337600.py:22: FutureWarning: Series.__getitem__ treating keys as positions is deprecated. In a future version, integer keys will always be treated as labels (consistent with DataFrame behavior). To access a value by position, use `ser.iloc[pos]`\n",
      "  link = row[1]  # Cột 1 chứa link review\n"
     ]
    },
    {
     "name": "stdout",
     "output_type": "stream",
     "text": [
      "27/845 - Cập nhật thể loại: Gay cấn, Hành động\n",
      "27/845 - Cập nhật ảnh: https://cinema.momocdn.net/img/96788620132953244-x9vF7htgRDYvohxpScKlRE5ZOqv.jpg\n"
     ]
    },
    {
     "name": "stderr",
     "output_type": "stream",
     "text": [
      "C:\\Users\\ADMIN\\AppData\\Local\\Temp\\ipykernel_7724\\373337600.py:22: FutureWarning: Series.__getitem__ treating keys as positions is deprecated. In a future version, integer keys will always be treated as labels (consistent with DataFrame behavior). To access a value by position, use `ser.iloc[pos]`\n",
      "  link = row[1]  # Cột 1 chứa link review\n"
     ]
    },
    {
     "name": "stdout",
     "output_type": "stream",
     "text": [
      "28/845 - Cập nhật thể loại: Phiêu lưu, Khoa học - Viễn tưởng, Hành động\n",
      "28/845 - Cập nhật ảnh: https://cinema.momocdn.net/img/36279307436604273-nDCN5WubZtnrUy5B1q67xde4wQI.jpg\n"
     ]
    },
    {
     "name": "stderr",
     "output_type": "stream",
     "text": [
      "C:\\Users\\ADMIN\\AppData\\Local\\Temp\\ipykernel_7724\\373337600.py:22: FutureWarning: Series.__getitem__ treating keys as positions is deprecated. In a future version, integer keys will always be treated as labels (consistent with DataFrame behavior). To access a value by position, use `ser.iloc[pos]`\n",
      "  link = row[1]  # Cột 1 chứa link review\n"
     ]
    },
    {
     "name": "stdout",
     "output_type": "stream",
     "text": [
      "29/845 - Cập nhật thể loại: Chính kịch, Hài\n",
      "29/845 - Cập nhật ảnh: https://cinema.momocdn.net/img/19607381824352175-CDTHUMB.jpg?size=L\n"
     ]
    },
    {
     "name": "stderr",
     "output_type": "stream",
     "text": [
      "C:\\Users\\ADMIN\\AppData\\Local\\Temp\\ipykernel_7724\\373337600.py:22: FutureWarning: Series.__getitem__ treating keys as positions is deprecated. In a future version, integer keys will always be treated as labels (consistent with DataFrame behavior). To access a value by position, use `ser.iloc[pos]`\n",
      "  link = row[1]  # Cột 1 chứa link review\n"
     ]
    },
    {
     "name": "stdout",
     "output_type": "stream",
     "text": [
      "30/845 - Cập nhật thể loại: Chính kịch, Lãng mạn\n",
      "30/845 - Cập nhật ảnh: https://cinema.momocdn.net/img/15087893694815253-55jXWq2Z3g1L0fTRHLJ36UPspmm.jpg\n"
     ]
    },
    {
     "name": "stderr",
     "output_type": "stream",
     "text": [
      "C:\\Users\\ADMIN\\AppData\\Local\\Temp\\ipykernel_7724\\373337600.py:22: FutureWarning: Series.__getitem__ treating keys as positions is deprecated. In a future version, integer keys will always be treated as labels (consistent with DataFrame behavior). To access a value by position, use `ser.iloc[pos]`\n",
      "  link = row[1]  # Cột 1 chứa link review\n"
     ]
    },
    {
     "name": "stdout",
     "output_type": "stream",
     "text": [
      "31/845 - Cập nhật thể loại: Gia đình, Hài\n",
      "31/845 - Cập nhật ảnh: https://cinema.momocdn.net/img/52615211680343816-lam-giau-voi-ma-750_1723108879820.jpg\n"
     ]
    },
    {
     "name": "stderr",
     "output_type": "stream",
     "text": [
      "C:\\Users\\ADMIN\\AppData\\Local\\Temp\\ipykernel_7724\\373337600.py:22: FutureWarning: Series.__getitem__ treating keys as positions is deprecated. In a future version, integer keys will always be treated as labels (consistent with DataFrame behavior). To access a value by position, use `ser.iloc[pos]`\n",
      "  link = row[1]  # Cột 1 chứa link review\n"
     ]
    },
    {
     "name": "stdout",
     "output_type": "stream",
     "text": [
      "32/845 - Cập nhật thể loại: Kinh dị\n",
      "32/845 - Cập nhật ảnh: https://cinema.momocdn.net/img/31430731804853690-denamhonnnn.jpg?size=L\n"
     ]
    },
    {
     "name": "stderr",
     "output_type": "stream",
     "text": [
      "C:\\Users\\ADMIN\\AppData\\Local\\Temp\\ipykernel_7724\\373337600.py:22: FutureWarning: Series.__getitem__ treating keys as positions is deprecated. In a future version, integer keys will always be treated as labels (consistent with DataFrame behavior). To access a value by position, use `ser.iloc[pos]`\n",
      "  link = row[1]  # Cột 1 chứa link review\n"
     ]
    },
    {
     "name": "stdout",
     "output_type": "stream",
     "text": [
      "33/845 - Cập nhật thể loại: Kinh dị\n",
      "33/845 - Cập nhật ảnh: https://cinema.momocdn.net/img/25291146077975868-qu-cau-750_1698228057531.jpg\n"
     ]
    },
    {
     "name": "stderr",
     "output_type": "stream",
     "text": [
      "C:\\Users\\ADMIN\\AppData\\Local\\Temp\\ipykernel_7724\\373337600.py:22: FutureWarning: Series.__getitem__ treating keys as positions is deprecated. In a future version, integer keys will always be treated as labels (consistent with DataFrame behavior). To access a value by position, use `ser.iloc[pos]`\n",
      "  link = row[1]  # Cột 1 chứa link review\n"
     ]
    },
    {
     "name": "stdout",
     "output_type": "stream",
     "text": [
      "34/845 - Cập nhật thể loại: Gia đình, Hài, Lãng mạn\n",
      "34/845 - Cập nhật ảnh: https://cinema.momocdn.net/img/29781413380088908-9r7YEw1ZW7Kq2iwoTNx643G53JC.jpg\n"
     ]
    },
    {
     "name": "stderr",
     "output_type": "stream",
     "text": [
      "C:\\Users\\ADMIN\\AppData\\Local\\Temp\\ipykernel_7724\\373337600.py:22: FutureWarning: Series.__getitem__ treating keys as positions is deprecated. In a future version, integer keys will always be treated as labels (consistent with DataFrame behavior). To access a value by position, use `ser.iloc[pos]`\n",
      "  link = row[1]  # Cột 1 chứa link review\n"
     ]
    },
    {
     "name": "stdout",
     "output_type": "stream",
     "text": [
      "35/845 - Cập nhật thể loại: Chính kịch, Bí ẩn, Hài, Hành động\n",
      "35/845 - Cập nhật ảnh: https://cinema.momocdn.net/img/60738efc-4247-4b0f-8f93-230f1048463c-67607266484586062.jpg\n"
     ]
    },
    {
     "name": "stderr",
     "output_type": "stream",
     "text": [
      "C:\\Users\\ADMIN\\AppData\\Local\\Temp\\ipykernel_7724\\373337600.py:22: FutureWarning: Series.__getitem__ treating keys as positions is deprecated. In a future version, integer keys will always be treated as labels (consistent with DataFrame behavior). To access a value by position, use `ser.iloc[pos]`\n",
      "  link = row[1]  # Cột 1 chứa link review\n"
     ]
    },
    {
     "name": "stdout",
     "output_type": "stream",
     "text": [
      "36/845 - Cập nhật thể loại: Chính kịch\n",
      "36/845 - Cập nhật ảnh: https://cinema.momocdn.net/img/51868011241813084-3Xk8Agkn05SIjX1dnj2l2Mohytd.jpg\n"
     ]
    },
    {
     "name": "stderr",
     "output_type": "stream",
     "text": [
      "C:\\Users\\ADMIN\\AppData\\Local\\Temp\\ipykernel_7724\\373337600.py:22: FutureWarning: Series.__getitem__ treating keys as positions is deprecated. In a future version, integer keys will always be treated as labels (consistent with DataFrame behavior). To access a value by position, use `ser.iloc[pos]`\n",
      "  link = row[1]  # Cột 1 chứa link review\n"
     ]
    },
    {
     "name": "stdout",
     "output_type": "stream",
     "text": [
      "37/845 - Cập nhật thể loại: Kinh dị, Hài\n",
      "37/845 - Cập nhật ảnh: https://image.tmdb.org/t/p/w780/2Y2YHRLLkF3WdbLEGHpG5hKTyyG.jpg\n"
     ]
    },
    {
     "name": "stderr",
     "output_type": "stream",
     "text": [
      "C:\\Users\\ADMIN\\AppData\\Local\\Temp\\ipykernel_7724\\373337600.py:22: FutureWarning: Series.__getitem__ treating keys as positions is deprecated. In a future version, integer keys will always be treated as labels (consistent with DataFrame behavior). To access a value by position, use `ser.iloc[pos]`\n",
      "  link = row[1]  # Cột 1 chứa link review\n"
     ]
    },
    {
     "name": "stdout",
     "output_type": "stream",
     "text": [
      "38/845 - Cập nhật thể loại: Gia đình, Phiêu lưu, Hài, Hành động, Hoạt hình\n",
      "38/845 - Cập nhật ảnh: https://cinema.momocdn.net/img/33921126840894596-pJXT7j12gQmR5TbPoSEFyEFH6bd.jpg\n"
     ]
    },
    {
     "name": "stderr",
     "output_type": "stream",
     "text": [
      "C:\\Users\\ADMIN\\AppData\\Local\\Temp\\ipykernel_7724\\373337600.py:22: FutureWarning: Series.__getitem__ treating keys as positions is deprecated. In a future version, integer keys will always be treated as labels (consistent with DataFrame behavior). To access a value by position, use `ser.iloc[pos]`\n",
      "  link = row[1]  # Cột 1 chứa link review\n"
     ]
    },
    {
     "name": "stdout",
     "output_type": "stream",
     "text": [
      "39/845 - Cập nhật thể loại: Âm Nhạc, Phiêu lưu, Khoa học - Viễn tưởng, Giả tưởng, Hoạt hình\n",
      "39/845 - Cập nhật ảnh: https://cinema.momocdn.net/img/57932775851362297-Z3mSxuPRNiFYxf1LBoGz3YrJzC.jpg\n"
     ]
    },
    {
     "name": "stderr",
     "output_type": "stream",
     "text": [
      "C:\\Users\\ADMIN\\AppData\\Local\\Temp\\ipykernel_7724\\373337600.py:22: FutureWarning: Series.__getitem__ treating keys as positions is deprecated. In a future version, integer keys will always be treated as labels (consistent with DataFrame behavior). To access a value by position, use `ser.iloc[pos]`\n",
      "  link = row[1]  # Cột 1 chứa link review\n"
     ]
    },
    {
     "name": "stdout",
     "output_type": "stream",
     "text": [
      "40/845 - Cập nhật thể loại: Gay cấn, Ma, Kinh dị\n",
      "40/845 - Cập nhật ảnh: https://cinema.momocdn.net/img/24924281642101214-Untitled-1.jpg\n"
     ]
    },
    {
     "name": "stderr",
     "output_type": "stream",
     "text": [
      "C:\\Users\\ADMIN\\AppData\\Local\\Temp\\ipykernel_7724\\373337600.py:22: FutureWarning: Series.__getitem__ treating keys as positions is deprecated. In a future version, integer keys will always be treated as labels (consistent with DataFrame behavior). To access a value by position, use `ser.iloc[pos]`\n",
      "  link = row[1]  # Cột 1 chứa link review\n"
     ]
    },
    {
     "name": "stdout",
     "output_type": "stream",
     "text": [
      "41/845 - Cập nhật thể loại: Gia đình, Hài\n",
      "41/845 - Cập nhật ảnh: https://cinema.momocdn.net/img/76746974584401484-Capture-2024-09-11-172615.png\n"
     ]
    },
    {
     "name": "stderr",
     "output_type": "stream",
     "text": [
      "C:\\Users\\ADMIN\\AppData\\Local\\Temp\\ipykernel_7724\\373337600.py:22: FutureWarning: Series.__getitem__ treating keys as positions is deprecated. In a future version, integer keys will always be treated as labels (consistent with DataFrame behavior). To access a value by position, use `ser.iloc[pos]`\n",
      "  link = row[1]  # Cột 1 chứa link review\n"
     ]
    },
    {
     "name": "stdout",
     "output_type": "stream",
     "text": [
      "42/845 - Cập nhật thể loại: Kinh dị, Hài\n",
      "42/845 - Cập nhật ảnh: https://cinema.momocdn.net/img/52004287847780992-7qMw4BkgvCLBev11Db5ygXNisaF.jpg\n"
     ]
    },
    {
     "name": "stderr",
     "output_type": "stream",
     "text": [
      "C:\\Users\\ADMIN\\AppData\\Local\\Temp\\ipykernel_7724\\373337600.py:22: FutureWarning: Series.__getitem__ treating keys as positions is deprecated. In a future version, integer keys will always be treated as labels (consistent with DataFrame behavior). To access a value by position, use `ser.iloc[pos]`\n",
      "  link = row[1]  # Cột 1 chứa link review\n"
     ]
    },
    {
     "name": "stdout",
     "output_type": "stream",
     "text": [
      "43/845 - Cập nhật thể loại: Chính kịch\n",
      "43/845 - Cập nhật ảnh: https://cinema.momocdn.net/img/93840286572513356-tBLRdEQCth9gj5VHZbx2sO4coCY.jpg\n"
     ]
    },
    {
     "name": "stderr",
     "output_type": "stream",
     "text": [
      "C:\\Users\\ADMIN\\AppData\\Local\\Temp\\ipykernel_7724\\373337600.py:22: FutureWarning: Series.__getitem__ treating keys as positions is deprecated. In a future version, integer keys will always be treated as labels (consistent with DataFrame behavior). To access a value by position, use `ser.iloc[pos]`\n",
      "  link = row[1]  # Cột 1 chứa link review\n"
     ]
    },
    {
     "name": "stdout",
     "output_type": "stream",
     "text": [
      "44/845 - Cập nhật thể loại: Kinh dị\n",
      "44/845 - Cập nhật ảnh: https://cinema.momocdn.net/img/104090625710626008-bakdrop.jpg\n"
     ]
    },
    {
     "name": "stderr",
     "output_type": "stream",
     "text": [
      "C:\\Users\\ADMIN\\AppData\\Local\\Temp\\ipykernel_7724\\373337600.py:22: FutureWarning: Series.__getitem__ treating keys as positions is deprecated. In a future version, integer keys will always be treated as labels (consistent with DataFrame behavior). To access a value by position, use `ser.iloc[pos]`\n",
      "  link = row[1]  # Cột 1 chứa link review\n"
     ]
    },
    {
     "name": "stdout",
     "output_type": "stream",
     "text": [
      "45/845 - Cập nhật thể loại: Chính kịch, Hình sự, Hành động\n",
      "45/845 - Cập nhật ảnh: https://cinema.momocdn.net/img/50978401525223863-7w6pbVSV0uwTQOTPW5Pb8e7rdPc.jpg\n"
     ]
    },
    {
     "name": "stderr",
     "output_type": "stream",
     "text": [
      "C:\\Users\\ADMIN\\AppData\\Local\\Temp\\ipykernel_7724\\373337600.py:22: FutureWarning: Series.__getitem__ treating keys as positions is deprecated. In a future version, integer keys will always be treated as labels (consistent with DataFrame behavior). To access a value by position, use `ser.iloc[pos]`\n",
      "  link = row[1]  # Cột 1 chứa link review\n"
     ]
    },
    {
     "name": "stdout",
     "output_type": "stream",
     "text": [
      "46/845 - Cập nhật thể loại: Phiêu lưu, Khoa học - Viễn tưởng, Hài\n",
      "46/845 - Cập nhật ảnh: https://cinema.momocdn.net/img/57931530102309644-nbq3LfgLXnL5ixZ1Q74jTJmhmTS.jpg\n"
     ]
    },
    {
     "name": "stderr",
     "output_type": "stream",
     "text": [
      "C:\\Users\\ADMIN\\AppData\\Local\\Temp\\ipykernel_7724\\373337600.py:22: FutureWarning: Series.__getitem__ treating keys as positions is deprecated. In a future version, integer keys will always be treated as labels (consistent with DataFrame behavior). To access a value by position, use `ser.iloc[pos]`\n",
      "  link = row[1]  # Cột 1 chứa link review\n"
     ]
    },
    {
     "name": "stdout",
     "output_type": "stream",
     "text": [
      "47/845 - Cập nhật thể loại: Siêu anh hùng, Phiêu lưu, Khoa học - Viễn tưởng, Hành động\n",
      "47/845 - Cập nhật ảnh: https://cinema.momocdn.net/img/19910902269128065-3zP1aFWym9sfEDAiiGvpCXI3vcH.jpg\n"
     ]
    },
    {
     "name": "stderr",
     "output_type": "stream",
     "text": [
      "C:\\Users\\ADMIN\\AppData\\Local\\Temp\\ipykernel_7724\\373337600.py:22: FutureWarning: Series.__getitem__ treating keys as positions is deprecated. In a future version, integer keys will always be treated as labels (consistent with DataFrame behavior). To access a value by position, use `ser.iloc[pos]`\n",
      "  link = row[1]  # Cột 1 chứa link review\n"
     ]
    },
    {
     "name": "stdout",
     "output_type": "stream",
     "text": [
      "48/845 - Cập nhật thể loại: Phiêu lưu, Khoa học - Viễn tưởng, Hành động\n",
      "48/845 - Cập nhật ảnh: https://cinema.momocdn.net/img/76908753486687232-3V4kLQg0kSqPLctI5ziYWabAZYF.jpg\n"
     ]
    },
    {
     "name": "stderr",
     "output_type": "stream",
     "text": [
      "C:\\Users\\ADMIN\\AppData\\Local\\Temp\\ipykernel_7724\\373337600.py:22: FutureWarning: Series.__getitem__ treating keys as positions is deprecated. In a future version, integer keys will always be treated as labels (consistent with DataFrame behavior). To access a value by position, use `ser.iloc[pos]`\n",
      "  link = row[1]  # Cột 1 chứa link review\n"
     ]
    },
    {
     "name": "stdout",
     "output_type": "stream",
     "text": [
      "49/845 - Cập nhật thể loại: Gia đình, Phiêu lưu, Hài, Hoạt hình\n",
      "49/845 - Cập nhật ảnh: https://cinema.momocdn.net/img/9563101505271413-lgkPzcOSnTvjeMnuFzozRO5HHw1.jpg\n"
     ]
    },
    {
     "name": "stderr",
     "output_type": "stream",
     "text": [
      "C:\\Users\\ADMIN\\AppData\\Local\\Temp\\ipykernel_7724\\373337600.py:22: FutureWarning: Series.__getitem__ treating keys as positions is deprecated. In a future version, integer keys will always be treated as labels (consistent with DataFrame behavior). To access a value by position, use `ser.iloc[pos]`\n",
      "  link = row[1]  # Cột 1 chứa link review\n"
     ]
    },
    {
     "name": "stdout",
     "output_type": "stream",
     "text": [
      "50/845 - Cập nhật thể loại: Gay cấn, Giật gân, Kinh dị\n",
      "50/845 - Cập nhật ảnh: https://cinema.momocdn.net/img/27172453956115921-55hRgXkbvHoc9dL58S9HAGyxmZt.jpg\n"
     ]
    },
    {
     "name": "stderr",
     "output_type": "stream",
     "text": [
      "C:\\Users\\ADMIN\\AppData\\Local\\Temp\\ipykernel_7724\\373337600.py:22: FutureWarning: Series.__getitem__ treating keys as positions is deprecated. In a future version, integer keys will always be treated as labels (consistent with DataFrame behavior). To access a value by position, use `ser.iloc[pos]`\n",
      "  link = row[1]  # Cột 1 chứa link review\n"
     ]
    },
    {
     "name": "stdout",
     "output_type": "stream",
     "text": [
      "51/845 - Cập nhật thể loại: Hài, Lãng mạn\n",
      "51/845 - Cập nhật ảnh: https://cinema.momocdn.net/img/24065430366242193-tiKNQUipxfKQQXuUFnBprXtL7kM.jpg\n"
     ]
    },
    {
     "name": "stderr",
     "output_type": "stream",
     "text": [
      "C:\\Users\\ADMIN\\AppData\\Local\\Temp\\ipykernel_7724\\373337600.py:22: FutureWarning: Series.__getitem__ treating keys as positions is deprecated. In a future version, integer keys will always be treated as labels (consistent with DataFrame behavior). To access a value by position, use `ser.iloc[pos]`\n",
      "  link = row[1]  # Cột 1 chứa link review\n"
     ]
    },
    {
     "name": "stdout",
     "output_type": "stream",
     "text": [
      "52/845 - Cập nhật thể loại: Phiêu lưu, Khoa học - Viễn tưởng, Hành động\n",
      "52/845 - Cập nhật ảnh: https://cinema.momocdn.net/img/12744539830352274-4G3DsvGEACnuIKlmaEtbx9nv7oD.jpg\n"
     ]
    },
    {
     "name": "stderr",
     "output_type": "stream",
     "text": [
      "C:\\Users\\ADMIN\\AppData\\Local\\Temp\\ipykernel_7724\\373337600.py:22: FutureWarning: Series.__getitem__ treating keys as positions is deprecated. In a future version, integer keys will always be treated as labels (consistent with DataFrame behavior). To access a value by position, use `ser.iloc[pos]`\n",
      "  link = row[1]  # Cột 1 chứa link review\n"
     ]
    },
    {
     "name": "stdout",
     "output_type": "stream",
     "text": [
      "53/845 - Cập nhật thể loại: Lãng mạn\n",
      "53/845 - Cập nhật ảnh: https://cinema.momocdn.net/img/58015197218761955-ngay-xua-chuyen-tinh-1-7185-1702790011.jpg\n"
     ]
    },
    {
     "name": "stderr",
     "output_type": "stream",
     "text": [
      "C:\\Users\\ADMIN\\AppData\\Local\\Temp\\ipykernel_7724\\373337600.py:22: FutureWarning: Series.__getitem__ treating keys as positions is deprecated. In a future version, integer keys will always be treated as labels (consistent with DataFrame behavior). To access a value by position, use `ser.iloc[pos]`\n",
      "  link = row[1]  # Cột 1 chứa link review\n"
     ]
    },
    {
     "name": "stdout",
     "output_type": "stream",
     "text": [
      "54/845 - Cập nhật thể loại: Lãng mạn\n",
      "54/845 - Cập nhật ảnh: https://cinema.momocdn.net/img/36869801389273378-yPGRx9VrA98UlS5QfXrNws34D82.jpg\n"
     ]
    },
    {
     "name": "stderr",
     "output_type": "stream",
     "text": [
      "C:\\Users\\ADMIN\\AppData\\Local\\Temp\\ipykernel_7724\\373337600.py:22: FutureWarning: Series.__getitem__ treating keys as positions is deprecated. In a future version, integer keys will always be treated as labels (consistent with DataFrame behavior). To access a value by position, use `ser.iloc[pos]`\n",
      "  link = row[1]  # Cột 1 chứa link review\n"
     ]
    },
    {
     "name": "stdout",
     "output_type": "stream",
     "text": [
      "55/845 - Cập nhật thể loại: Chính kịch, Gia đình, Hài, Hoạt hình\n",
      "55/845 - Cập nhật ảnh: https://cinema.momocdn.net/img/24935517474601818-5PDY5km05Q3g1lcUaCxeA6BDyp5.jpg\n"
     ]
    },
    {
     "name": "stderr",
     "output_type": "stream",
     "text": [
      "C:\\Users\\ADMIN\\AppData\\Local\\Temp\\ipykernel_7724\\373337600.py:22: FutureWarning: Series.__getitem__ treating keys as positions is deprecated. In a future version, integer keys will always be treated as labels (consistent with DataFrame behavior). To access a value by position, use `ser.iloc[pos]`\n",
      "  link = row[1]  # Cột 1 chứa link review\n"
     ]
    },
    {
     "name": "stdout",
     "output_type": "stream",
     "text": [
      "56/845 - Cập nhật thể loại: Phiêu lưu, Hài, Hành động, Hoạt hình\n",
      "56/845 - Cập nhật ảnh: https://cinema.momocdn.net/img/30817239567297364-c2bUvZG7uwdM4AmH0wT8HXXKeBg.jpg\n"
     ]
    },
    {
     "name": "stderr",
     "output_type": "stream",
     "text": [
      "C:\\Users\\ADMIN\\AppData\\Local\\Temp\\ipykernel_7724\\373337600.py:22: FutureWarning: Series.__getitem__ treating keys as positions is deprecated. In a future version, integer keys will always be treated as labels (consistent with DataFrame behavior). To access a value by position, use `ser.iloc[pos]`\n",
      "  link = row[1]  # Cột 1 chứa link review\n"
     ]
    },
    {
     "name": "stdout",
     "output_type": "stream",
     "text": [
      "57/845 - Cập nhật thể loại: Kinh dị, Hài\n",
      "57/845 - Cập nhật ảnh: https://image.tmdb.org/t/p/w780/gOpFniz5Wn7AxWSmV8nH5AQnGmz.jpg\n"
     ]
    },
    {
     "name": "stderr",
     "output_type": "stream",
     "text": [
      "C:\\Users\\ADMIN\\AppData\\Local\\Temp\\ipykernel_7724\\373337600.py:22: FutureWarning: Series.__getitem__ treating keys as positions is deprecated. In a future version, integer keys will always be treated as labels (consistent with DataFrame behavior). To access a value by position, use `ser.iloc[pos]`\n",
      "  link = row[1]  # Cột 1 chứa link review\n"
     ]
    },
    {
     "name": "stdout",
     "output_type": "stream",
     "text": [
      "58/845 - Cập nhật thể loại: Hài\n",
      "58/845 - Cập nhật ảnh: https://cinema.momocdn.net/img/50881848963397772-gD8hr973ZaNNMNfrZ0zE4SBSOgb.jpg\n"
     ]
    },
    {
     "name": "stderr",
     "output_type": "stream",
     "text": [
      "C:\\Users\\ADMIN\\AppData\\Local\\Temp\\ipykernel_7724\\373337600.py:22: FutureWarning: Series.__getitem__ treating keys as positions is deprecated. In a future version, integer keys will always be treated as labels (consistent with DataFrame behavior). To access a value by position, use `ser.iloc[pos]`\n",
      "  link = row[1]  # Cột 1 chứa link review\n"
     ]
    },
    {
     "name": "stdout",
     "output_type": "stream",
     "text": [
      "59/845 - Cập nhật thể loại: Kinh dị, Hài\n",
      "59/845 - Cập nhật ảnh: https://cinema.momocdn.net/img/50978028151516921-i9gC7lfWa56pQ5AmfGsOhHlmg6o.jpg\n"
     ]
    },
    {
     "name": "stderr",
     "output_type": "stream",
     "text": [
      "C:\\Users\\ADMIN\\AppData\\Local\\Temp\\ipykernel_7724\\373337600.py:22: FutureWarning: Series.__getitem__ treating keys as positions is deprecated. In a future version, integer keys will always be treated as labels (consistent with DataFrame behavior). To access a value by position, use `ser.iloc[pos]`\n",
      "  link = row[1]  # Cột 1 chứa link review\n"
     ]
    },
    {
     "name": "stdout",
     "output_type": "stream",
     "text": [
      "60/845 - Cập nhật thể loại: Bí ẩn, Ma, Kinh dị\n",
      "60/845 - Cập nhật ảnh: https://cinema.momocdn.net/img/13949287040968844-nun2.jpg\n"
     ]
    },
    {
     "name": "stderr",
     "output_type": "stream",
     "text": [
      "C:\\Users\\ADMIN\\AppData\\Local\\Temp\\ipykernel_7724\\373337600.py:22: FutureWarning: Series.__getitem__ treating keys as positions is deprecated. In a future version, integer keys will always be treated as labels (consistent with DataFrame behavior). To access a value by position, use `ser.iloc[pos]`\n",
      "  link = row[1]  # Cột 1 chứa link review\n"
     ]
    },
    {
     "name": "stdout",
     "output_type": "stream",
     "text": [
      "61/845 - Cập nhật thể loại: Phiêu lưu, Khoa học - Viễn tưởng, Hành động\n",
      "61/845 - Cập nhật ảnh: https://homepage.momocdn.net/cinema/momo-cdn-api-220615143112-637909002726073251.jpg\n"
     ]
    },
    {
     "name": "stderr",
     "output_type": "stream",
     "text": [
      "C:\\Users\\ADMIN\\AppData\\Local\\Temp\\ipykernel_7724\\373337600.py:22: FutureWarning: Series.__getitem__ treating keys as positions is deprecated. In a future version, integer keys will always be treated as labels (consistent with DataFrame behavior). To access a value by position, use `ser.iloc[pos]`\n",
      "  link = row[1]  # Cột 1 chứa link review\n"
     ]
    },
    {
     "name": "stdout",
     "output_type": "stream",
     "text": [
      "62/845 - Cập nhật thể loại: Gia đình, Hài\n",
      "62/845 - Cập nhật ảnh: https://cinema.momocdn.net/img/49489667634662374-song-luan-dong-vai-chinh-phim-_281725343702.png\n"
     ]
    },
    {
     "name": "stderr",
     "output_type": "stream",
     "text": [
      "C:\\Users\\ADMIN\\AppData\\Local\\Temp\\ipykernel_7724\\373337600.py:22: FutureWarning: Series.__getitem__ treating keys as positions is deprecated. In a future version, integer keys will always be treated as labels (consistent with DataFrame behavior). To access a value by position, use `ser.iloc[pos]`\n",
      "  link = row[1]  # Cột 1 chứa link review\n"
     ]
    },
    {
     "name": "stdout",
     "output_type": "stream",
     "text": [
      "63/845 - Cập nhật thể loại: Hài\n",
      "63/845 - Cập nhật ảnh: https://cinema.momocdn.net/img/83488625990570463-eHK0Tagwl5kPhpIKstBeG045aLt.jpg\n"
     ]
    },
    {
     "name": "stderr",
     "output_type": "stream",
     "text": [
      "C:\\Users\\ADMIN\\AppData\\Local\\Temp\\ipykernel_7724\\373337600.py:22: FutureWarning: Series.__getitem__ treating keys as positions is deprecated. In a future version, integer keys will always be treated as labels (consistent with DataFrame behavior). To access a value by position, use `ser.iloc[pos]`\n",
      "  link = row[1]  # Cột 1 chứa link review\n"
     ]
    },
    {
     "name": "stdout",
     "output_type": "stream",
     "text": [
      "64/845 - Cập nhật thể loại: Gay cấn, Hành động\n",
      "64/845 - Cập nhật ảnh: https://cinema.momocdn.net/img/96400919057923434-hPIWQT70wQK6akqfLXByEvr62u0.jpg\n"
     ]
    },
    {
     "name": "stderr",
     "output_type": "stream",
     "text": [
      "C:\\Users\\ADMIN\\AppData\\Local\\Temp\\ipykernel_7724\\373337600.py:22: FutureWarning: Series.__getitem__ treating keys as positions is deprecated. In a future version, integer keys will always be treated as labels (consistent with DataFrame behavior). To access a value by position, use `ser.iloc[pos]`\n",
      "  link = row[1]  # Cột 1 chứa link review\n"
     ]
    },
    {
     "name": "stdout",
     "output_type": "stream",
     "text": [
      "65/845 - Cập nhật thể loại: Gia đình, Phiêu lưu, Hài, Hoạt hình\n",
      "65/845 - Cập nhật ảnh: https://cinema.momocdn.net/img/19839095016256844-9b9GCFpdttINBHfr0TgeXmxiqwf.jpg\n"
     ]
    },
    {
     "name": "stderr",
     "output_type": "stream",
     "text": [
      "C:\\Users\\ADMIN\\AppData\\Local\\Temp\\ipykernel_7724\\373337600.py:22: FutureWarning: Series.__getitem__ treating keys as positions is deprecated. In a future version, integer keys will always be treated as labels (consistent with DataFrame behavior). To access a value by position, use `ser.iloc[pos]`\n",
      "  link = row[1]  # Cột 1 chứa link review\n"
     ]
    },
    {
     "name": "stdout",
     "output_type": "stream",
     "text": [
      "66/845 - Cập nhật thể loại: Chính kịch\n",
      "66/845 - Cập nhật ảnh: https://cinema.momocdn.net/img/36871890828709900-maxresdefault%20(3\n"
     ]
    },
    {
     "name": "stderr",
     "output_type": "stream",
     "text": [
      "C:\\Users\\ADMIN\\AppData\\Local\\Temp\\ipykernel_7724\\373337600.py:22: FutureWarning: Series.__getitem__ treating keys as positions is deprecated. In a future version, integer keys will always be treated as labels (consistent with DataFrame behavior). To access a value by position, use `ser.iloc[pos]`\n",
      "  link = row[1]  # Cột 1 chứa link review\n"
     ]
    },
    {
     "name": "stdout",
     "output_type": "stream",
     "text": [
      "67/845 - Cập nhật thể loại: Hình sự, Hài, Hành động\n",
      "67/845 - Cập nhật ảnh: https://cinema.momocdn.net/img/76740839010983820-Thumb-Main.jpg\n"
     ]
    },
    {
     "name": "stderr",
     "output_type": "stream",
     "text": [
      "C:\\Users\\ADMIN\\AppData\\Local\\Temp\\ipykernel_7724\\373337600.py:22: FutureWarning: Series.__getitem__ treating keys as positions is deprecated. In a future version, integer keys will always be treated as labels (consistent with DataFrame behavior). To access a value by position, use `ser.iloc[pos]`\n",
      "  link = row[1]  # Cột 1 chứa link review\n"
     ]
    },
    {
     "name": "stdout",
     "output_type": "stream",
     "text": [
      "68/845 - Cập nhật thể loại: Âm Nhạc\n",
      "68/845 - Cập nhật ảnh: https://cinema.momocdn.net/img/22245082037397180-ts8PUgEjtWee0e0lKVQ8NOQTPrM.jpg\n"
     ]
    },
    {
     "name": "stderr",
     "output_type": "stream",
     "text": [
      "C:\\Users\\ADMIN\\AppData\\Local\\Temp\\ipykernel_7724\\373337600.py:22: FutureWarning: Series.__getitem__ treating keys as positions is deprecated. In a future version, integer keys will always be treated as labels (consistent with DataFrame behavior). To access a value by position, use `ser.iloc[pos]`\n",
      "  link = row[1]  # Cột 1 chứa link review\n"
     ]
    },
    {
     "name": "stdout",
     "output_type": "stream",
     "text": [
      "69/845 - Cập nhật thể loại: Hài\n",
      "69/845 - Cập nhật ảnh: https://cinema.momocdn.net/img/90579154296984976-yDtpu2KVZL3GO2mhx7hIxgHZxUB.jpg\n"
     ]
    },
    {
     "name": "stderr",
     "output_type": "stream",
     "text": [
      "C:\\Users\\ADMIN\\AppData\\Local\\Temp\\ipykernel_7724\\373337600.py:22: FutureWarning: Series.__getitem__ treating keys as positions is deprecated. In a future version, integer keys will always be treated as labels (consistent with DataFrame behavior). To access a value by position, use `ser.iloc[pos]`\n",
      "  link = row[1]  # Cột 1 chứa link review\n"
     ]
    },
    {
     "name": "stdout",
     "output_type": "stream",
     "text": [
      "70/845 - Cập nhật thể loại: Gay cấn, Tâm lý\n",
      "70/845 - Cập nhật ảnh: https://cinema.momocdn.net/img/20434065089851409-u7vBLDg1OErWVEE4ij4EhqdYzvE.jpg\n"
     ]
    },
    {
     "name": "stderr",
     "output_type": "stream",
     "text": [
      "C:\\Users\\ADMIN\\AppData\\Local\\Temp\\ipykernel_7724\\373337600.py:22: FutureWarning: Series.__getitem__ treating keys as positions is deprecated. In a future version, integer keys will always be treated as labels (consistent with DataFrame behavior). To access a value by position, use `ser.iloc[pos]`\n",
      "  link = row[1]  # Cột 1 chứa link review\n"
     ]
    },
    {
     "name": "stdout",
     "output_type": "stream",
     "text": [
      "71/845 - Cập nhật thể loại: Chính kịch, Hoạt hình\n",
      "71/845 - Cập nhật ảnh: https://cinema.momocdn.net/img/59072402354007678-cZmOrIOkJ2SNfVdiO85dUbOAYnL.jpg\n"
     ]
    },
    {
     "name": "stderr",
     "output_type": "stream",
     "text": [
      "C:\\Users\\ADMIN\\AppData\\Local\\Temp\\ipykernel_7724\\373337600.py:22: FutureWarning: Series.__getitem__ treating keys as positions is deprecated. In a future version, integer keys will always be treated as labels (consistent with DataFrame behavior). To access a value by position, use `ser.iloc[pos]`\n",
      "  link = row[1]  # Cột 1 chứa link review\n"
     ]
    },
    {
     "name": "stdout",
     "output_type": "stream",
     "text": [
      "72/845 - Cập nhật thể loại: Bí ẩn, Kinh dị\n",
      "72/845 - Cập nhật ảnh: https://cinema.momocdn.net/img/56251423831839649-fQdNEZcqYpp7RZQts47LQdqJgvc.jpg\n"
     ]
    },
    {
     "name": "stderr",
     "output_type": "stream",
     "text": [
      "C:\\Users\\ADMIN\\AppData\\Local\\Temp\\ipykernel_7724\\373337600.py:22: FutureWarning: Series.__getitem__ treating keys as positions is deprecated. In a future version, integer keys will always be treated as labels (consistent with DataFrame behavior). To access a value by position, use `ser.iloc[pos]`\n",
      "  link = row[1]  # Cột 1 chứa link review\n"
     ]
    },
    {
     "name": "stdout",
     "output_type": "stream",
     "text": [
      "73/845 - Cập nhật thể loại: Chính kịch, Gia đình\n",
      "73/845 - Cập nhật ảnh: https://cinema.momocdn.net/img/53203009429240994-Untitled-3.jpg\n"
     ]
    },
    {
     "name": "stderr",
     "output_type": "stream",
     "text": [
      "C:\\Users\\ADMIN\\AppData\\Local\\Temp\\ipykernel_7724\\373337600.py:22: FutureWarning: Series.__getitem__ treating keys as positions is deprecated. In a future version, integer keys will always be treated as labels (consistent with DataFrame behavior). To access a value by position, use `ser.iloc[pos]`\n",
      "  link = row[1]  # Cột 1 chứa link review\n"
     ]
    },
    {
     "name": "stdout",
     "output_type": "stream",
     "text": [
      "74/845 - Cập nhật thể loại: Phiêu lưu, Khoa học - Viễn tưởng, Hành động\n",
      "74/845 - Cập nhật ảnh: https://cinema.momocdn.net/img/57817703136038574-3nPDlMUEOLsJcdzSKsR6sKYBDEI.jpg\n"
     ]
    },
    {
     "name": "stderr",
     "output_type": "stream",
     "text": [
      "C:\\Users\\ADMIN\\AppData\\Local\\Temp\\ipykernel_7724\\373337600.py:22: FutureWarning: Series.__getitem__ treating keys as positions is deprecated. In a future version, integer keys will always be treated as labels (consistent with DataFrame behavior). To access a value by position, use `ser.iloc[pos]`\n",
      "  link = row[1]  # Cột 1 chứa link review\n"
     ]
    },
    {
     "name": "stdout",
     "output_type": "stream",
     "text": [
      "75/845 - Cập nhật thể loại: Gay cấn, Bí ẩn, Kinh dị\n",
      "75/845 - Cập nhật ảnh: https://image.tmdb.org/t/p/w780/9NkELPD2VS8RzZP9ASbW5rTklQ1.jpg\n"
     ]
    },
    {
     "name": "stderr",
     "output_type": "stream",
     "text": [
      "C:\\Users\\ADMIN\\AppData\\Local\\Temp\\ipykernel_7724\\373337600.py:22: FutureWarning: Series.__getitem__ treating keys as positions is deprecated. In a future version, integer keys will always be treated as labels (consistent with DataFrame behavior). To access a value by position, use `ser.iloc[pos]`\n",
      "  link = row[1]  # Cột 1 chứa link review\n"
     ]
    },
    {
     "name": "stdout",
     "output_type": "stream",
     "text": [
      "76/845 - Cập nhật thể loại: Gay cấn, Giật gân, Hành động\n",
      "76/845 - Cập nhật ảnh: https://cinema.momocdn.net/img/29774942585394620-tL8fzn7JaBzRJKsE1W6GrVxmMQj.jpg\n"
     ]
    },
    {
     "name": "stderr",
     "output_type": "stream",
     "text": [
      "C:\\Users\\ADMIN\\AppData\\Local\\Temp\\ipykernel_7724\\373337600.py:22: FutureWarning: Series.__getitem__ treating keys as positions is deprecated. In a future version, integer keys will always be treated as labels (consistent with DataFrame behavior). To access a value by position, use `ser.iloc[pos]`\n",
      "  link = row[1]  # Cột 1 chứa link review\n"
     ]
    },
    {
     "name": "stdout",
     "output_type": "stream",
     "text": [
      "77/845 - Cập nhật thể loại: Gia đình, Khoa học - Viễn tưởng, Hoạt hình\n",
      "77/845 - Cập nhật ảnh: https://cinema.momocdn.net/img/108617207755215561-nExTIbyC3WrIn2lXEe2cjYy8KHF.jpg\n"
     ]
    },
    {
     "name": "stderr",
     "output_type": "stream",
     "text": [
      "C:\\Users\\ADMIN\\AppData\\Local\\Temp\\ipykernel_7724\\373337600.py:22: FutureWarning: Series.__getitem__ treating keys as positions is deprecated. In a future version, integer keys will always be treated as labels (consistent with DataFrame behavior). To access a value by position, use `ser.iloc[pos]`\n",
      "  link = row[1]  # Cột 1 chứa link review\n"
     ]
    },
    {
     "name": "stdout",
     "output_type": "stream",
     "text": [
      "78/845 - Cập nhật thể loại: Trinh thám, Hình sự, Hành động, Hoạt hình\n",
      "78/845 - Cập nhật ảnh: https://cinema.momocdn.net/img/14294563339724767-zZnsfR6BRqtxyLyAhsi2TMukEBx.jpg\n"
     ]
    },
    {
     "name": "stderr",
     "output_type": "stream",
     "text": [
      "C:\\Users\\ADMIN\\AppData\\Local\\Temp\\ipykernel_7724\\373337600.py:22: FutureWarning: Series.__getitem__ treating keys as positions is deprecated. In a future version, integer keys will always be treated as labels (consistent with DataFrame behavior). To access a value by position, use `ser.iloc[pos]`\n",
      "  link = row[1]  # Cột 1 chứa link review\n"
     ]
    },
    {
     "name": "stdout",
     "output_type": "stream",
     "text": [
      "79/845 - Cập nhật thể loại: Chính kịch, Kinh dị, Hành động\n",
      "79/845 - Cập nhật ảnh: https://cinema.momocdn.net/img/107586772104235300-elxYvqymNurnpUJmlEgoDGogXwq.jpg\n"
     ]
    },
    {
     "name": "stderr",
     "output_type": "stream",
     "text": [
      "C:\\Users\\ADMIN\\AppData\\Local\\Temp\\ipykernel_7724\\373337600.py:22: FutureWarning: Series.__getitem__ treating keys as positions is deprecated. In a future version, integer keys will always be treated as labels (consistent with DataFrame behavior). To access a value by position, use `ser.iloc[pos]`\n",
      "  link = row[1]  # Cột 1 chứa link review\n"
     ]
    },
    {
     "name": "stdout",
     "output_type": "stream",
     "text": [
      "80/845 - Cập nhật thể loại: Giả tưởng, Hành động, Hoạt hình\n",
      "80/845 - Cập nhật ảnh: https://cinema.momocdn.net/img/32118695502052424-pNtQZbopfVKwmUufecogOs6a5Sc.jpg\n"
     ]
    },
    {
     "name": "stderr",
     "output_type": "stream",
     "text": [
      "C:\\Users\\ADMIN\\AppData\\Local\\Temp\\ipykernel_7724\\373337600.py:22: FutureWarning: Series.__getitem__ treating keys as positions is deprecated. In a future version, integer keys will always be treated as labels (consistent with DataFrame behavior). To access a value by position, use `ser.iloc[pos]`\n",
      "  link = row[1]  # Cột 1 chứa link review\n"
     ]
    },
    {
     "name": "stdout",
     "output_type": "stream",
     "text": [
      "81/845 - Cập nhật thể loại: Phiêu lưu, Giả tưởng, Hoạt hình\n",
      "81/845 - Cập nhật ảnh: https://image.tmdb.org/t/p/w780/xqaN2WYQclQlqvKvsOcNgOx2vRn.jpg\n"
     ]
    },
    {
     "name": "stderr",
     "output_type": "stream",
     "text": [
      "C:\\Users\\ADMIN\\AppData\\Local\\Temp\\ipykernel_7724\\373337600.py:22: FutureWarning: Series.__getitem__ treating keys as positions is deprecated. In a future version, integer keys will always be treated as labels (consistent with DataFrame behavior). To access a value by position, use `ser.iloc[pos]`\n",
      "  link = row[1]  # Cột 1 chứa link review\n"
     ]
    },
    {
     "name": "stdout",
     "output_type": "stream",
     "text": [
      "82/845 - Cập nhật thể loại: Tâm lý, Hài\n",
      "82/845 - Cập nhật ảnh: https://cinema.momocdn.net/img/28907693194394812-HI_03945_edit.jpg\n"
     ]
    },
    {
     "name": "stderr",
     "output_type": "stream",
     "text": [
      "C:\\Users\\ADMIN\\AppData\\Local\\Temp\\ipykernel_7724\\373337600.py:22: FutureWarning: Series.__getitem__ treating keys as positions is deprecated. In a future version, integer keys will always be treated as labels (consistent with DataFrame behavior). To access a value by position, use `ser.iloc[pos]`\n",
      "  link = row[1]  # Cột 1 chứa link review\n"
     ]
    },
    {
     "name": "stdout",
     "output_type": "stream",
     "text": [
      "83/845 - Cập nhật thể loại: Gay cấn, Phiêu lưu, Hành động\n",
      "83/845 - Cập nhật ảnh: https://cinema.momocdn.net/img/19912659252706522-rMvPXy8PUjj1o8o1pzgQbdNCsvj.jpg\n"
     ]
    },
    {
     "name": "stderr",
     "output_type": "stream",
     "text": [
      "C:\\Users\\ADMIN\\AppData\\Local\\Temp\\ipykernel_7724\\373337600.py:22: FutureWarning: Series.__getitem__ treating keys as positions is deprecated. In a future version, integer keys will always be treated as labels (consistent with DataFrame behavior). To access a value by position, use `ser.iloc[pos]`\n",
      "  link = row[1]  # Cột 1 chứa link review\n"
     ]
    },
    {
     "name": "stdout",
     "output_type": "stream",
     "text": [
      "84/845 - Cập nhật thể loại: Siêu anh hùng, Phiêu lưu, Khoa học - Viễn tưởng, Hành động\n",
      "84/845 - Cập nhật ảnh: https://cinema.momocdn.net/img/15522895466740341-u2C8hDXDc6wmgSKIT5sxarNKulY.jpg\n"
     ]
    },
    {
     "name": "stderr",
     "output_type": "stream",
     "text": [
      "C:\\Users\\ADMIN\\AppData\\Local\\Temp\\ipykernel_7724\\373337600.py:22: FutureWarning: Series.__getitem__ treating keys as positions is deprecated. In a future version, integer keys will always be treated as labels (consistent with DataFrame behavior). To access a value by position, use `ser.iloc[pos]`\n",
      "  link = row[1]  # Cột 1 chứa link review\n"
     ]
    },
    {
     "name": "stdout",
     "output_type": "stream",
     "text": [
      "85/845 - Cập nhật thể loại: Chính kịch, Hài, Hành động\n",
      "85/845 - Cập nhật ảnh: https://cinema.momocdn.net/img/25292879747269816-5d1sQtAKsbVjdUuzXWoh2vKtyy7.jpg\n"
     ]
    },
    {
     "name": "stderr",
     "output_type": "stream",
     "text": [
      "C:\\Users\\ADMIN\\AppData\\Local\\Temp\\ipykernel_7724\\373337600.py:22: FutureWarning: Series.__getitem__ treating keys as positions is deprecated. In a future version, integer keys will always be treated as labels (consistent with DataFrame behavior). To access a value by position, use `ser.iloc[pos]`\n",
      "  link = row[1]  # Cột 1 chứa link review\n"
     ]
    },
    {
     "name": "stdout",
     "output_type": "stream",
     "text": [
      "86/845 - Cập nhật thể loại: Chính kịch, Gay cấn\n",
      "86/845 - Cập nhật ảnh: https://cinema.momocdn.net/img/90570419600058857-kDlnZC4bGXqxlT6HtnnexbbX1Ne.jpg\n"
     ]
    },
    {
     "name": "stderr",
     "output_type": "stream",
     "text": [
      "C:\\Users\\ADMIN\\AppData\\Local\\Temp\\ipykernel_7724\\373337600.py:22: FutureWarning: Series.__getitem__ treating keys as positions is deprecated. In a future version, integer keys will always be treated as labels (consistent with DataFrame behavior). To access a value by position, use `ser.iloc[pos]`\n",
      "  link = row[1]  # Cột 1 chứa link review\n"
     ]
    },
    {
     "name": "stdout",
     "output_type": "stream",
     "text": [
      "87/845 - Cập nhật thể loại: Gia đình, Khoa học - Viễn tưởng, Lãng mạn, Hoạt hình\n",
      "87/845 - Cập nhật ảnh: https://cinema.momocdn.net/img/11877438101025506-7fcbf26f-d0c6-4c31-ac29-c07c4a00119d-67606526460995465.jpg\n"
     ]
    },
    {
     "name": "stderr",
     "output_type": "stream",
     "text": [
      "C:\\Users\\ADMIN\\AppData\\Local\\Temp\\ipykernel_7724\\373337600.py:22: FutureWarning: Series.__getitem__ treating keys as positions is deprecated. In a future version, integer keys will always be treated as labels (consistent with DataFrame behavior). To access a value by position, use `ser.iloc[pos]`\n",
      "  link = row[1]  # Cột 1 chứa link review\n"
     ]
    },
    {
     "name": "stdout",
     "output_type": "stream",
     "text": [
      "88/845 - Cập nhật thể loại: Chính kịch, Gay cấn, Kinh dị\n",
      "88/845 - Cập nhật ảnh: https://cinema.momocdn.net/img/13903275837826673-fEpViOkfklHX62kp30PzTsMhI7v.jpg\n"
     ]
    },
    {
     "name": "stderr",
     "output_type": "stream",
     "text": [
      "C:\\Users\\ADMIN\\AppData\\Local\\Temp\\ipykernel_7724\\373337600.py:22: FutureWarning: Series.__getitem__ treating keys as positions is deprecated. In a future version, integer keys will always be treated as labels (consistent with DataFrame behavior). To access a value by position, use `ser.iloc[pos]`\n",
      "  link = row[1]  # Cột 1 chứa link review\n"
     ]
    },
    {
     "name": "stdout",
     "output_type": "stream",
     "text": [
      "89/845 - Cập nhật thể loại: Gia đình, Hài\n",
      "89/845 - Cập nhật ảnh: https://cinema.momocdn.net/img/7224213776189013-3.jpg\n"
     ]
    },
    {
     "name": "stderr",
     "output_type": "stream",
     "text": [
      "C:\\Users\\ADMIN\\AppData\\Local\\Temp\\ipykernel_7724\\373337600.py:22: FutureWarning: Series.__getitem__ treating keys as positions is deprecated. In a future version, integer keys will always be treated as labels (consistent with DataFrame behavior). To access a value by position, use `ser.iloc[pos]`\n",
      "  link = row[1]  # Cột 1 chứa link review\n"
     ]
    },
    {
     "name": "stdout",
     "output_type": "stream",
     "text": [
      "90/845 - Cập nhật thể loại: Bí ẩn, Hài, Hành động\n",
      "90/845 - Cập nhật ảnh: https://cinema.momocdn.net/img/5855239600635478-qHurP5rHZk63ZIcjegKy1M57oC7.jpg\n"
     ]
    },
    {
     "name": "stderr",
     "output_type": "stream",
     "text": [
      "C:\\Users\\ADMIN\\AppData\\Local\\Temp\\ipykernel_7724\\373337600.py:22: FutureWarning: Series.__getitem__ treating keys as positions is deprecated. In a future version, integer keys will always be treated as labels (consistent with DataFrame behavior). To access a value by position, use `ser.iloc[pos]`\n",
      "  link = row[1]  # Cột 1 chứa link review\n"
     ]
    },
    {
     "name": "stdout",
     "output_type": "stream",
     "text": [
      "91/845 - Cập nhật thể loại: Hành động\n",
      "91/845 - Cập nhật ảnh: https://homepage.momocdn.net/cinema/momo-cdn-api-220615142505-637908999050228625.jpg\n"
     ]
    },
    {
     "name": "stderr",
     "output_type": "stream",
     "text": [
      "C:\\Users\\ADMIN\\AppData\\Local\\Temp\\ipykernel_7724\\373337600.py:22: FutureWarning: Series.__getitem__ treating keys as positions is deprecated. In a future version, integer keys will always be treated as labels (consistent with DataFrame behavior). To access a value by position, use `ser.iloc[pos]`\n",
      "  link = row[1]  # Cột 1 chứa link review\n"
     ]
    },
    {
     "name": "stdout",
     "output_type": "stream",
     "text": [
      "92/845 - Cập nhật thể loại: Chính kịch, Phiêu lưu, Khoa học - Viễn tưởng, Hoạt hình\n",
      "92/845 - Cập nhật ảnh: https://cinema.momocdn.net/img/1942349943989323-ceYZCBfwbBwSpGJ6PapNVw5jqLG.jpg\n"
     ]
    },
    {
     "name": "stderr",
     "output_type": "stream",
     "text": [
      "C:\\Users\\ADMIN\\AppData\\Local\\Temp\\ipykernel_7724\\373337600.py:22: FutureWarning: Series.__getitem__ treating keys as positions is deprecated. In a future version, integer keys will always be treated as labels (consistent with DataFrame behavior). To access a value by position, use `ser.iloc[pos]`\n",
      "  link = row[1]  # Cột 1 chứa link review\n"
     ]
    },
    {
     "name": "stdout",
     "output_type": "stream",
     "text": [
      "93/845 - Cập nhật thể loại: Gay cấn, Tâm lý, Hình sự, Hành động\n",
      "93/845 - Cập nhật ảnh: https://cinema.momocdn.net/img/b178708a-2106-447e-b984-b9609d886a88-32329717452950876.jpg\n"
     ]
    },
    {
     "name": "stderr",
     "output_type": "stream",
     "text": [
      "C:\\Users\\ADMIN\\AppData\\Local\\Temp\\ipykernel_7724\\373337600.py:22: FutureWarning: Series.__getitem__ treating keys as positions is deprecated. In a future version, integer keys will always be treated as labels (consistent with DataFrame behavior). To access a value by position, use `ser.iloc[pos]`\n",
      "  link = row[1]  # Cột 1 chứa link review\n"
     ]
    },
    {
     "name": "stdout",
     "output_type": "stream",
     "text": [
      "94/845 - Cập nhật thể loại: Siêu anh hùng, Phiêu lưu, Khoa học - Viễn tưởng, Hành động\n",
      "94/845 - Cập nhật ảnh: https://homepage.momocdn.net/cinema/momo-cdn-api-220615142915-637909001556249236.jpg\n"
     ]
    },
    {
     "name": "stderr",
     "output_type": "stream",
     "text": [
      "C:\\Users\\ADMIN\\AppData\\Local\\Temp\\ipykernel_7724\\373337600.py:22: FutureWarning: Series.__getitem__ treating keys as positions is deprecated. In a future version, integer keys will always be treated as labels (consistent with DataFrame behavior). To access a value by position, use `ser.iloc[pos]`\n",
      "  link = row[1]  # Cột 1 chứa link review\n"
     ]
    },
    {
     "name": "stdout",
     "output_type": "stream",
     "text": [
      "95/845 - Cập nhật thể loại: Khoa học - Viễn tưởng, Hài, Lãng mạn\n",
      "95/845 - Cập nhật ảnh: https://cinema.momocdn.net/img/82194897270870863-2j1UQprTqpMdhJ8sImpfr8BSNNN.jpg\n"
     ]
    },
    {
     "name": "stderr",
     "output_type": "stream",
     "text": [
      "C:\\Users\\ADMIN\\AppData\\Local\\Temp\\ipykernel_7724\\373337600.py:22: FutureWarning: Series.__getitem__ treating keys as positions is deprecated. In a future version, integer keys will always be treated as labels (consistent with DataFrame behavior). To access a value by position, use `ser.iloc[pos]`\n",
      "  link = row[1]  # Cột 1 chứa link review\n"
     ]
    },
    {
     "name": "stdout",
     "output_type": "stream",
     "text": [
      "96/845 - Cập nhật thể loại: Chính kịch, Phiêu lưu, Khoa học - Viễn tưởng, Hoạt hình\n",
      "96/845 - Cập nhật ảnh: https://cinema.momocdn.net/img/25272034337597416-zw8xr67ForpLerzMSlZOFKXRhnc.jpg\n"
     ]
    },
    {
     "name": "stderr",
     "output_type": "stream",
     "text": [
      "C:\\Users\\ADMIN\\AppData\\Local\\Temp\\ipykernel_7724\\373337600.py:22: FutureWarning: Series.__getitem__ treating keys as positions is deprecated. In a future version, integer keys will always be treated as labels (consistent with DataFrame behavior). To access a value by position, use `ser.iloc[pos]`\n",
      "  link = row[1]  # Cột 1 chứa link review\n"
     ]
    },
    {
     "name": "stdout",
     "output_type": "stream",
     "text": [
      "97/845 - Cập nhật thể loại: Phiêu lưu, Khoa học - Viễn tưởng, Hành động\n",
      "97/845 - Cập nhật ảnh: https://cinema.momocdn.net/img/ebcb88b3-6989-4307-9a54-4ff5b52594d4-67601186649801711.jpg\n"
     ]
    },
    {
     "name": "stderr",
     "output_type": "stream",
     "text": [
      "C:\\Users\\ADMIN\\AppData\\Local\\Temp\\ipykernel_7724\\373337600.py:22: FutureWarning: Series.__getitem__ treating keys as positions is deprecated. In a future version, integer keys will always be treated as labels (consistent with DataFrame behavior). To access a value by position, use `ser.iloc[pos]`\n",
      "  link = row[1]  # Cột 1 chứa link review\n"
     ]
    },
    {
     "name": "stdout",
     "output_type": "stream",
     "text": [
      "98/845 - Cập nhật thể loại: Chiến tranh, Chính kịch\n",
      "98/845 - Cập nhật ảnh: https://cinema.momocdn.net/img/33735631559049367-wSjBvmoPrBNU65ifOWorsa5N1oo.jpg\n"
     ]
    },
    {
     "name": "stderr",
     "output_type": "stream",
     "text": [
      "C:\\Users\\ADMIN\\AppData\\Local\\Temp\\ipykernel_7724\\373337600.py:22: FutureWarning: Series.__getitem__ treating keys as positions is deprecated. In a future version, integer keys will always be treated as labels (consistent with DataFrame behavior). To access a value by position, use `ser.iloc[pos]`\n",
      "  link = row[1]  # Cột 1 chứa link review\n"
     ]
    },
    {
     "name": "stdout",
     "output_type": "stream",
     "text": [
      "99/845 - Cập nhật thể loại: Gay cấn, Kinh dị, Khoa học - Viễn tưởng\n",
      "99/845 - Cập nhật ảnh: https://cinema.momocdn.net/img/59074297078901601-1XyIHrP7X7rn3UBkNy9hPb9vCUf.jpg\n"
     ]
    },
    {
     "name": "stderr",
     "output_type": "stream",
     "text": [
      "C:\\Users\\ADMIN\\AppData\\Local\\Temp\\ipykernel_7724\\373337600.py:22: FutureWarning: Series.__getitem__ treating keys as positions is deprecated. In a future version, integer keys will always be treated as labels (consistent with DataFrame behavior). To access a value by position, use `ser.iloc[pos]`\n",
      "  link = row[1]  # Cột 1 chứa link review\n"
     ]
    },
    {
     "name": "stdout",
     "output_type": "stream",
     "text": [
      "100/845 - Cập nhật thể loại: Chính kịch, Gia đình, Hài\n",
      "100/845 - Cập nhật ảnh: https://cinema.momocdn.net/img/12751596225287694-kad17s590696-16866296381192068201202.jpg\n"
     ]
    },
    {
     "name": "stderr",
     "output_type": "stream",
     "text": [
      "C:\\Users\\ADMIN\\AppData\\Local\\Temp\\ipykernel_7724\\373337600.py:22: FutureWarning: Series.__getitem__ treating keys as positions is deprecated. In a future version, integer keys will always be treated as labels (consistent with DataFrame behavior). To access a value by position, use `ser.iloc[pos]`\n",
      "  link = row[1]  # Cột 1 chứa link review\n"
     ]
    },
    {
     "name": "stdout",
     "output_type": "stream",
     "text": [
      "101/845 - Cập nhật thể loại: Gay cấn, Khoa học - Viễn tưởng, Hành động\n",
      "101/845 - Cập nhật ảnh: https://cinema.momocdn.net/img/28296105441981777-tWMDdYvM22RZ1tk40fseAH0uMZs.jpg\n"
     ]
    },
    {
     "name": "stderr",
     "output_type": "stream",
     "text": [
      "C:\\Users\\ADMIN\\AppData\\Local\\Temp\\ipykernel_7724\\373337600.py:22: FutureWarning: Series.__getitem__ treating keys as positions is deprecated. In a future version, integer keys will always be treated as labels (consistent with DataFrame behavior). To access a value by position, use `ser.iloc[pos]`\n",
      "  link = row[1]  # Cột 1 chứa link review\n"
     ]
    },
    {
     "name": "stdout",
     "output_type": "stream",
     "text": [
      "102/845 - Cập nhật thể loại: Gia đình, Khoa học - Viễn tưởng, Hài\n",
      "102/845 - Cập nhật ảnh: https://cinema.momocdn.net/img/25290778447985701-oyK2a8tMn6cmzilaUmKWYqNXzay.jpg\n"
     ]
    },
    {
     "name": "stderr",
     "output_type": "stream",
     "text": [
      "C:\\Users\\ADMIN\\AppData\\Local\\Temp\\ipykernel_7724\\373337600.py:22: FutureWarning: Series.__getitem__ treating keys as positions is deprecated. In a future version, integer keys will always be treated as labels (consistent with DataFrame behavior). To access a value by position, use `ser.iloc[pos]`\n",
      "  link = row[1]  # Cột 1 chứa link review\n"
     ]
    },
    {
     "name": "stdout",
     "output_type": "stream",
     "text": [
      "103/845 - Cập nhật thể loại: Phiêu lưu, Khoa học - Viễn tưởng\n",
      "103/845 - Cập nhật ảnh: https://cinema.momocdn.net/img/15589703804107867-pLwIQMNT4s2DbyftxR5LY390Gkc.jpg\n"
     ]
    },
    {
     "name": "stderr",
     "output_type": "stream",
     "text": [
      "C:\\Users\\ADMIN\\AppData\\Local\\Temp\\ipykernel_7724\\373337600.py:22: FutureWarning: Series.__getitem__ treating keys as positions is deprecated. In a future version, integer keys will always be treated as labels (consistent with DataFrame behavior). To access a value by position, use `ser.iloc[pos]`\n",
      "  link = row[1]  # Cột 1 chứa link review\n"
     ]
    },
    {
     "name": "stdout",
     "output_type": "stream",
     "text": [
      "104/845 - Cập nhật thể loại: Gay cấn, Hình sự, Hành động\n",
      "104/845 - Cập nhật ảnh: https://cinema.momocdn.net/img/59073974781489933-JtN7Q03S3oq7A4KZ7Z3I7m3osP.jpg\n"
     ]
    },
    {
     "name": "stderr",
     "output_type": "stream",
     "text": [
      "C:\\Users\\ADMIN\\AppData\\Local\\Temp\\ipykernel_7724\\373337600.py:22: FutureWarning: Series.__getitem__ treating keys as positions is deprecated. In a future version, integer keys will always be treated as labels (consistent with DataFrame behavior). To access a value by position, use `ser.iloc[pos]`\n",
      "  link = row[1]  # Cột 1 chứa link review\n"
     ]
    },
    {
     "name": "stdout",
     "output_type": "stream",
     "text": [
      "105/845 - Cập nhật thể loại: Gay cấn, Hình sự, Hành động\n",
      "105/845 - Cập nhật ảnh: https://cinema.momocdn.net/img/96411791450331019-zHoEGiZ8webTnaPlNB7DmxAJ14B.jpg\n"
     ]
    },
    {
     "name": "stderr",
     "output_type": "stream",
     "text": [
      "C:\\Users\\ADMIN\\AppData\\Local\\Temp\\ipykernel_7724\\373337600.py:22: FutureWarning: Series.__getitem__ treating keys as positions is deprecated. In a future version, integer keys will always be treated as labels (consistent with DataFrame behavior). To access a value by position, use `ser.iloc[pos]`\n",
      "  link = row[1]  # Cột 1 chứa link review\n"
     ]
    },
    {
     "name": "stdout",
     "output_type": "stream",
     "text": [
      "106/845 - Cập nhật thể loại: Gia đình, Phiêu lưu, Khoa học - Viễn tưởng, Hành động, Hoạt hình\n",
      "106/845 - Cập nhật ảnh: https://cinema.momocdn.net/img/59079173769521049-tOtlWHAsjVEf0KpHEPj6QS504d0.jpg\n"
     ]
    },
    {
     "name": "stderr",
     "output_type": "stream",
     "text": [
      "C:\\Users\\ADMIN\\AppData\\Local\\Temp\\ipykernel_7724\\373337600.py:22: FutureWarning: Series.__getitem__ treating keys as positions is deprecated. In a future version, integer keys will always be treated as labels (consistent with DataFrame behavior). To access a value by position, use `ser.iloc[pos]`\n",
      "  link = row[1]  # Cột 1 chứa link review\n"
     ]
    },
    {
     "name": "stdout",
     "output_type": "stream",
     "text": [
      "107/845 - Cập nhật thể loại: Kinh dị\n",
      "107/845 - Cập nhật ảnh: https://cinema.momocdn.net/img/65847713776226792-Capture-2024-10-01-121543.png\n"
     ]
    },
    {
     "name": "stderr",
     "output_type": "stream",
     "text": [
      "C:\\Users\\ADMIN\\AppData\\Local\\Temp\\ipykernel_7724\\373337600.py:22: FutureWarning: Series.__getitem__ treating keys as positions is deprecated. In a future version, integer keys will always be treated as labels (consistent with DataFrame behavior). To access a value by position, use `ser.iloc[pos]`\n",
      "  link = row[1]  # Cột 1 chứa link review\n"
     ]
    },
    {
     "name": "stdout",
     "output_type": "stream",
     "text": [
      "108/845 - Cập nhật thể loại: Phiêu lưu, Hoạt hình\n",
      "108/845 - Cập nhật ảnh: https://cinema.momocdn.net/img/11990971881275636-36dc5267-5412-4ca1-8c4e-d4c3c05e9461-67608546386201736.jpg\n"
     ]
    },
    {
     "name": "stderr",
     "output_type": "stream",
     "text": [
      "C:\\Users\\ADMIN\\AppData\\Local\\Temp\\ipykernel_7724\\373337600.py:22: FutureWarning: Series.__getitem__ treating keys as positions is deprecated. In a future version, integer keys will always be treated as labels (consistent with DataFrame behavior). To access a value by position, use `ser.iloc[pos]`\n",
      "  link = row[1]  # Cột 1 chứa link review\n"
     ]
    },
    {
     "name": "stdout",
     "output_type": "stream",
     "text": [
      "109/845 - Cập nhật thể loại: Ma, Kinh dị, Hài\n",
      "109/845 - Cập nhật ảnh: https://homepage.momocdn.net/cinema/momo-cdn-api-220615142820-637909001006452760.jpg\n"
     ]
    },
    {
     "name": "stderr",
     "output_type": "stream",
     "text": [
      "C:\\Users\\ADMIN\\AppData\\Local\\Temp\\ipykernel_7724\\373337600.py:22: FutureWarning: Series.__getitem__ treating keys as positions is deprecated. In a future version, integer keys will always be treated as labels (consistent with DataFrame behavior). To access a value by position, use `ser.iloc[pos]`\n",
      "  link = row[1]  # Cột 1 chứa link review\n"
     ]
    },
    {
     "name": "stdout",
     "output_type": "stream",
     "text": [
      "110/845 - Cập nhật thể loại: Gia đình, Giả tưởng, Hoạt hình\n",
      "110/845 - Cập nhật ảnh: https://image.tmdb.org/t/p/w780/m4TUa2ciEWSlk37rOsjiSIvZDXE.jpg\n"
     ]
    },
    {
     "name": "stderr",
     "output_type": "stream",
     "text": [
      "C:\\Users\\ADMIN\\AppData\\Local\\Temp\\ipykernel_7724\\373337600.py:22: FutureWarning: Series.__getitem__ treating keys as positions is deprecated. In a future version, integer keys will always be treated as labels (consistent with DataFrame behavior). To access a value by position, use `ser.iloc[pos]`\n",
      "  link = row[1]  # Cột 1 chứa link review\n"
     ]
    },
    {
     "name": "stdout",
     "output_type": "stream",
     "text": [
      "111/845 - Cập nhật thể loại: Chính kịch, Lãng mạn\n",
      "111/845 - Cập nhật ảnh: https://cinema.momocdn.net/img/51156516328925045-wzPXobZA8yNd4zUPdFHcoPQEu3D.jpg\n"
     ]
    },
    {
     "name": "stderr",
     "output_type": "stream",
     "text": [
      "C:\\Users\\ADMIN\\AppData\\Local\\Temp\\ipykernel_7724\\373337600.py:22: FutureWarning: Series.__getitem__ treating keys as positions is deprecated. In a future version, integer keys will always be treated as labels (consistent with DataFrame behavior). To access a value by position, use `ser.iloc[pos]`\n",
      "  link = row[1]  # Cột 1 chứa link review\n"
     ]
    },
    {
     "name": "stdout",
     "output_type": "stream",
     "text": [
      "112/845 - Cập nhật thể loại: Gay cấn, Lãng mạn\n",
      "112/845 - Cập nhật ảnh: https://cinema.momocdn.net/img/ac123b0d-1659-446b-b381-65af038aafdd-11636116927911798.png\n"
     ]
    },
    {
     "name": "stderr",
     "output_type": "stream",
     "text": [
      "C:\\Users\\ADMIN\\AppData\\Local\\Temp\\ipykernel_7724\\373337600.py:22: FutureWarning: Series.__getitem__ treating keys as positions is deprecated. In a future version, integer keys will always be treated as labels (consistent with DataFrame behavior). To access a value by position, use `ser.iloc[pos]`\n",
      "  link = row[1]  # Cột 1 chứa link review\n"
     ]
    },
    {
     "name": "stdout",
     "output_type": "stream",
     "text": [
      "113/845 - Cập nhật thể loại: Gia đình, Âm Nhạc, Phiêu lưu, Hoạt hình\n",
      "113/845 - Cập nhật ảnh: https://cinema.momocdn.net/img/59079681082148167-mxfsf20XYMKA8zcyhO4VuT1z0GS.jpg\n"
     ]
    },
    {
     "name": "stderr",
     "output_type": "stream",
     "text": [
      "C:\\Users\\ADMIN\\AppData\\Local\\Temp\\ipykernel_7724\\373337600.py:22: FutureWarning: Series.__getitem__ treating keys as positions is deprecated. In a future version, integer keys will always be treated as labels (consistent with DataFrame behavior). To access a value by position, use `ser.iloc[pos]`\n",
      "  link = row[1]  # Cột 1 chứa link review\n"
     ]
    },
    {
     "name": "stdout",
     "output_type": "stream",
     "text": [
      "114/845 - Cập nhật thể loại: Khoa học - Viễn tưởng, Hành động\n",
      "114/845 - Cập nhật ảnh: https://cinema.momocdn.net/img/25901084249047144-uLhWh1pggjIiQ1DpL0DvaIgERQR.jpg\n"
     ]
    },
    {
     "name": "stderr",
     "output_type": "stream",
     "text": [
      "C:\\Users\\ADMIN\\AppData\\Local\\Temp\\ipykernel_7724\\373337600.py:22: FutureWarning: Series.__getitem__ treating keys as positions is deprecated. In a future version, integer keys will always be treated as labels (consistent with DataFrame behavior). To access a value by position, use `ser.iloc[pos]`\n",
      "  link = row[1]  # Cột 1 chứa link review\n"
     ]
    },
    {
     "name": "stdout",
     "output_type": "stream",
     "text": [
      "115/845 - Cập nhật thể loại: Gay cấn, Ma, Kinh dị\n",
      "115/845 - Cập nhật ảnh: https://cinema.momocdn.net/img/4f12d3d9-7507-4fed-b327-45c86eb5f1c1-67607586438734213.jpg\n"
     ]
    },
    {
     "name": "stderr",
     "output_type": "stream",
     "text": [
      "C:\\Users\\ADMIN\\AppData\\Local\\Temp\\ipykernel_7724\\373337600.py:22: FutureWarning: Series.__getitem__ treating keys as positions is deprecated. In a future version, integer keys will always be treated as labels (consistent with DataFrame behavior). To access a value by position, use `ser.iloc[pos]`\n",
      "  link = row[1]  # Cột 1 chứa link review\n"
     ]
    },
    {
     "name": "stdout",
     "output_type": "stream",
     "text": [
      "116/845 - Cập nhật thể loại: Gay cấn, Khoa học - Viễn tưởng, Hành động\n",
      "116/845 - Cập nhật ảnh: https://cinema.momocdn.net/img/12762105400945883-xMzru4uhEvV3khOG3efQ16Vhhyk.jpg\n"
     ]
    },
    {
     "name": "stderr",
     "output_type": "stream",
     "text": [
      "C:\\Users\\ADMIN\\AppData\\Local\\Temp\\ipykernel_7724\\373337600.py:22: FutureWarning: Series.__getitem__ treating keys as positions is deprecated. In a future version, integer keys will always be treated as labels (consistent with DataFrame behavior). To access a value by position, use `ser.iloc[pos]`\n",
      "  link = row[1]  # Cột 1 chứa link review\n"
     ]
    },
    {
     "name": "stdout",
     "output_type": "stream",
     "text": [
      "117/845 - Cập nhật thể loại: Giả tưởng, Hài, Hành động\n",
      "117/845 - Cập nhật ảnh: https://cinema.momocdn.net/img/50914060058486084-AumF0W5W50BZESZFZFOI2syebcf.jpg\n"
     ]
    },
    {
     "name": "stderr",
     "output_type": "stream",
     "text": [
      "C:\\Users\\ADMIN\\AppData\\Local\\Temp\\ipykernel_7724\\373337600.py:22: FutureWarning: Series.__getitem__ treating keys as positions is deprecated. In a future version, integer keys will always be treated as labels (consistent with DataFrame behavior). To access a value by position, use `ser.iloc[pos]`\n",
      "  link = row[1]  # Cột 1 chứa link review\n"
     ]
    },
    {
     "name": "stdout",
     "output_type": "stream",
     "text": [
      "118/845 - Cập nhật thể loại: Gia đình, Hài, Hoạt hình\n",
      "118/845 - Cập nhật ảnh: https://cinema.momocdn.net/img/57689482849185646-rg6vsCGzhNl91q8x4b51e53Te2Y.jpg\n"
     ]
    },
    {
     "name": "stderr",
     "output_type": "stream",
     "text": [
      "C:\\Users\\ADMIN\\AppData\\Local\\Temp\\ipykernel_7724\\373337600.py:22: FutureWarning: Series.__getitem__ treating keys as positions is deprecated. In a future version, integer keys will always be treated as labels (consistent with DataFrame behavior). To access a value by position, use `ser.iloc[pos]`\n",
      "  link = row[1]  # Cột 1 chứa link review\n"
     ]
    },
    {
     "name": "stdout",
     "output_type": "stream",
     "text": [
      "119/845 - Cập nhật thể loại: Siêu anh hùng, Phiêu lưu, Khoa học - Viễn tưởng, Hài\n",
      "119/845 - Cập nhật ảnh: https://cinema.momocdn.net/img/86928996194348105-p9jmVtmm29dCHDHBFrOR6WNNaeO.jpg\n"
     ]
    },
    {
     "name": "stderr",
     "output_type": "stream",
     "text": [
      "C:\\Users\\ADMIN\\AppData\\Local\\Temp\\ipykernel_7724\\373337600.py:22: FutureWarning: Series.__getitem__ treating keys as positions is deprecated. In a future version, integer keys will always be treated as labels (consistent with DataFrame behavior). To access a value by position, use `ser.iloc[pos]`\n",
      "  link = row[1]  # Cột 1 chứa link review\n"
     ]
    },
    {
     "name": "stdout",
     "output_type": "stream",
     "text": [
      "120/845 - Cập nhật thể loại: Tình cảm, Hài\n",
      "120/845 - Cập nhật ảnh: https://cinema.momocdn.net/img/31861344344647885-SANG-DEN1A6444-Large.jpg\n"
     ]
    },
    {
     "name": "stderr",
     "output_type": "stream",
     "text": [
      "C:\\Users\\ADMIN\\AppData\\Local\\Temp\\ipykernel_7724\\373337600.py:22: FutureWarning: Series.__getitem__ treating keys as positions is deprecated. In a future version, integer keys will always be treated as labels (consistent with DataFrame behavior). To access a value by position, use `ser.iloc[pos]`\n",
      "  link = row[1]  # Cột 1 chứa link review\n"
     ]
    },
    {
     "name": "stdout",
     "output_type": "stream",
     "text": [
      "121/845 - Cập nhật thể loại: Kinh dị, Hài\n",
      "121/845 - Cập nhật ảnh: https://cinema.momocdn.net/img/10178073409331796-h-01-3319.png\n"
     ]
    },
    {
     "name": "stderr",
     "output_type": "stream",
     "text": [
      "C:\\Users\\ADMIN\\AppData\\Local\\Temp\\ipykernel_7724\\373337600.py:22: FutureWarning: Series.__getitem__ treating keys as positions is deprecated. In a future version, integer keys will always be treated as labels (consistent with DataFrame behavior). To access a value by position, use `ser.iloc[pos]`\n",
      "  link = row[1]  # Cột 1 chứa link review\n"
     ]
    },
    {
     "name": "stdout",
     "output_type": "stream",
     "text": [
      "122/845 - Cập nhật thể loại: Kinh dị\n",
      "122/845 - Cập nhật ảnh: https://cinema.momocdn.net/img/35132326223926717-mIBG74mhGEJnBubhYLkCtvplcNr.jpg\n"
     ]
    },
    {
     "name": "stderr",
     "output_type": "stream",
     "text": [
      "C:\\Users\\ADMIN\\AppData\\Local\\Temp\\ipykernel_7724\\373337600.py:22: FutureWarning: Series.__getitem__ treating keys as positions is deprecated. In a future version, integer keys will always be treated as labels (consistent with DataFrame behavior). To access a value by position, use `ser.iloc[pos]`\n",
      "  link = row[1]  # Cột 1 chứa link review\n"
     ]
    },
    {
     "name": "stdout",
     "output_type": "stream",
     "text": [
      "123/845 - Cập nhật thể loại: Khoa học - Viễn tưởng, Hành động, Hoạt hình\n",
      "123/845 - Cập nhật ảnh: https://cinema.momocdn.net/img/2995739584112335-dejNqqh1jZ6QmysmT9xQQfJkMhW.jpg\n"
     ]
    },
    {
     "name": "stderr",
     "output_type": "stream",
     "text": [
      "C:\\Users\\ADMIN\\AppData\\Local\\Temp\\ipykernel_7724\\373337600.py:22: FutureWarning: Series.__getitem__ treating keys as positions is deprecated. In a future version, integer keys will always be treated as labels (consistent with DataFrame behavior). To access a value by position, use `ser.iloc[pos]`\n",
      "  link = row[1]  # Cột 1 chứa link review\n"
     ]
    },
    {
     "name": "stdout",
     "output_type": "stream",
     "text": [
      "124/845 - Cập nhật thể loại: Chính kịch, Lãng mạn\n",
      "124/845 - Cập nhật ảnh: https://cinema.momocdn.net/img/20451341142888004-2SJFhDivnnYfltnxcYecydC0buv.jpg\n"
     ]
    },
    {
     "name": "stderr",
     "output_type": "stream",
     "text": [
      "C:\\Users\\ADMIN\\AppData\\Local\\Temp\\ipykernel_7724\\373337600.py:22: FutureWarning: Series.__getitem__ treating keys as positions is deprecated. In a future version, integer keys will always be treated as labels (consistent with DataFrame behavior). To access a value by position, use `ser.iloc[pos]`\n",
      "  link = row[1]  # Cột 1 chứa link review\n"
     ]
    },
    {
     "name": "stdout",
     "output_type": "stream",
     "text": [
      "125/845 - Cập nhật thể loại: Tội phạm, Tâm lý\n",
      "125/845 - Cập nhật ảnh: https://cinema.momocdn.net/img/37472853539784570-dmG7H1FG1rgLfQA8gh6TRKt3K3I.jpg\n"
     ]
    },
    {
     "name": "stderr",
     "output_type": "stream",
     "text": [
      "C:\\Users\\ADMIN\\AppData\\Local\\Temp\\ipykernel_7724\\373337600.py:22: FutureWarning: Series.__getitem__ treating keys as positions is deprecated. In a future version, integer keys will always be treated as labels (consistent with DataFrame behavior). To access a value by position, use `ser.iloc[pos]`\n",
      "  link = row[1]  # Cột 1 chứa link review\n"
     ]
    },
    {
     "name": "stdout",
     "output_type": "stream",
     "text": [
      "126/845 - Cập nhật thể loại: Kinh dị\n",
      "126/845 - Cập nhật ảnh: https://cinema.momocdn.net/img/49928079928304712-maxresdefault%20(1\n"
     ]
    },
    {
     "name": "stderr",
     "output_type": "stream",
     "text": [
      "C:\\Users\\ADMIN\\AppData\\Local\\Temp\\ipykernel_7724\\373337600.py:22: FutureWarning: Series.__getitem__ treating keys as positions is deprecated. In a future version, integer keys will always be treated as labels (consistent with DataFrame behavior). To access a value by position, use `ser.iloc[pos]`\n",
      "  link = row[1]  # Cột 1 chứa link review\n"
     ]
    },
    {
     "name": "stdout",
     "output_type": "stream",
     "text": [
      "127/845 - Cập nhật thể loại: Chính kịch, Gay cấn, Ma\n",
      "127/845 - Cập nhật ảnh: https://cinema.momocdn.net/img/82101807833736250-2Ew994vxgJRxV5y6khfMiUiugb6.jpg\n"
     ]
    },
    {
     "name": "stderr",
     "output_type": "stream",
     "text": [
      "C:\\Users\\ADMIN\\AppData\\Local\\Temp\\ipykernel_7724\\373337600.py:22: FutureWarning: Series.__getitem__ treating keys as positions is deprecated. In a future version, integer keys will always be treated as labels (consistent with DataFrame behavior). To access a value by position, use `ser.iloc[pos]`\n",
      "  link = row[1]  # Cột 1 chứa link review\n"
     ]
    },
    {
     "name": "stdout",
     "output_type": "stream",
     "text": [
      "128/845 - Cập nhật thể loại: Gay cấn, Bí ẩn, Hành động\n",
      "128/845 - Cập nhật ảnh: https://cinema.momocdn.net/img/21563579861155221-uyCSb9pvLTL6zS10QF4exfWG17v.jpg\n"
     ]
    },
    {
     "name": "stderr",
     "output_type": "stream",
     "text": [
      "C:\\Users\\ADMIN\\AppData\\Local\\Temp\\ipykernel_7724\\373337600.py:22: FutureWarning: Series.__getitem__ treating keys as positions is deprecated. In a future version, integer keys will always be treated as labels (consistent with DataFrame behavior). To access a value by position, use `ser.iloc[pos]`\n",
      "  link = row[1]  # Cột 1 chứa link review\n"
     ]
    },
    {
     "name": "stdout",
     "output_type": "stream",
     "text": [
      "129/845 - Cập nhật thể loại: Siêu anh hùng, Khoa học - Viễn tưởng, Hành động\n",
      "129/845 - Cập nhật ảnh: https://cinema.momocdn.net/img/78933546392903256-rNkWdDlagqiL4Rguy55SMOrUDUo.jpg\n"
     ]
    },
    {
     "name": "stderr",
     "output_type": "stream",
     "text": [
      "C:\\Users\\ADMIN\\AppData\\Local\\Temp\\ipykernel_7724\\373337600.py:22: FutureWarning: Series.__getitem__ treating keys as positions is deprecated. In a future version, integer keys will always be treated as labels (consistent with DataFrame behavior). To access a value by position, use `ser.iloc[pos]`\n",
      "  link = row[1]  # Cột 1 chứa link review\n"
     ]
    },
    {
     "name": "stdout",
     "output_type": "stream",
     "text": [
      "130/845 - Cập nhật thể loại: Gay cấn, Kinh dị, Khoa học - Viễn tưởng\n",
      "130/845 - Cập nhật ảnh: https://cinema.momocdn.net/img/59077904485778723-7g7cAWKvMKnzJQCxYE4OHfx131t.jpg\n"
     ]
    },
    {
     "name": "stderr",
     "output_type": "stream",
     "text": [
      "C:\\Users\\ADMIN\\AppData\\Local\\Temp\\ipykernel_7724\\373337600.py:22: FutureWarning: Series.__getitem__ treating keys as positions is deprecated. In a future version, integer keys will always be treated as labels (consistent with DataFrame behavior). To access a value by position, use `ser.iloc[pos]`\n",
      "  link = row[1]  # Cột 1 chứa link review\n"
     ]
    },
    {
     "name": "stdout",
     "output_type": "stream",
     "text": [
      "131/845 - Cập nhật thể loại: Tâm lý\n",
      "131/845 - Cập nhật ảnh: https://cinema.momocdn.net/img/34699271597619825-s8ICQXI2kU2tSfGnL6RUJp23bbo.jpg\n"
     ]
    },
    {
     "name": "stderr",
     "output_type": "stream",
     "text": [
      "C:\\Users\\ADMIN\\AppData\\Local\\Temp\\ipykernel_7724\\373337600.py:22: FutureWarning: Series.__getitem__ treating keys as positions is deprecated. In a future version, integer keys will always be treated as labels (consistent with DataFrame behavior). To access a value by position, use `ser.iloc[pos]`\n",
      "  link = row[1]  # Cột 1 chứa link review\n"
     ]
    },
    {
     "name": "stdout",
     "output_type": "stream",
     "text": [
      "132/845 - Cập nhật thể loại: Chính kịch, Kinh dị, Khoa học - Viễn tưởng\n",
      "132/845 - Cập nhật ảnh: https://cinema.momocdn.net/img/63223136649826115-jlWk4J1sV1EHgkjhvsN7EdzGvOx.jpg\n"
     ]
    },
    {
     "name": "stderr",
     "output_type": "stream",
     "text": [
      "C:\\Users\\ADMIN\\AppData\\Local\\Temp\\ipykernel_7724\\373337600.py:22: FutureWarning: Series.__getitem__ treating keys as positions is deprecated. In a future version, integer keys will always be treated as labels (consistent with DataFrame behavior). To access a value by position, use `ser.iloc[pos]`\n",
      "  link = row[1]  # Cột 1 chứa link review\n"
     ]
    },
    {
     "name": "stdout",
     "output_type": "stream",
     "text": [
      "133/845 - Cập nhật thể loại: Kinh dị\n",
      "133/845 - Cập nhật ảnh: https://cinema.momocdn.net/img/34434884898764693-6048x4024-BH_02197.jpg\n"
     ]
    },
    {
     "name": "stderr",
     "output_type": "stream",
     "text": [
      "C:\\Users\\ADMIN\\AppData\\Local\\Temp\\ipykernel_7724\\373337600.py:22: FutureWarning: Series.__getitem__ treating keys as positions is deprecated. In a future version, integer keys will always be treated as labels (consistent with DataFrame behavior). To access a value by position, use `ser.iloc[pos]`\n",
      "  link = row[1]  # Cột 1 chứa link review\n"
     ]
    },
    {
     "name": "stdout",
     "output_type": "stream",
     "text": [
      "134/845 - Cập nhật thể loại: Ma, Kinh dị\n",
      "134/845 - Cập nhật ảnh: https://cinema.momocdn.net/img/29776981377889611-fU7knWiJ8ezVLB4gghfw4vtrxL5.jpg\n"
     ]
    },
    {
     "name": "stderr",
     "output_type": "stream",
     "text": [
      "C:\\Users\\ADMIN\\AppData\\Local\\Temp\\ipykernel_7724\\373337600.py:22: FutureWarning: Series.__getitem__ treating keys as positions is deprecated. In a future version, integer keys will always be treated as labels (consistent with DataFrame behavior). To access a value by position, use `ser.iloc[pos]`\n",
      "  link = row[1]  # Cột 1 chứa link review\n"
     ]
    },
    {
     "name": "stdout",
     "output_type": "stream",
     "text": [
      "135/845 - Cập nhật thể loại: Siêu anh hùng, Phiêu lưu, Khoa học - Viễn tưởng, Hành động\n",
      "135/845 - Cập nhật ảnh: https://homepage.momocdn.net/cinema/momo-cdn-api-220615142354-637908998345758704.jpg\n"
     ]
    },
    {
     "name": "stderr",
     "output_type": "stream",
     "text": [
      "C:\\Users\\ADMIN\\AppData\\Local\\Temp\\ipykernel_7724\\373337600.py:22: FutureWarning: Series.__getitem__ treating keys as positions is deprecated. In a future version, integer keys will always be treated as labels (consistent with DataFrame behavior). To access a value by position, use `ser.iloc[pos]`\n",
      "  link = row[1]  # Cột 1 chứa link review\n"
     ]
    },
    {
     "name": "stdout",
     "output_type": "stream",
     "text": [
      "136/845 - Cập nhật thể loại: Hài\n",
      "136/845 - Cập nhật ảnh: https://cinema.momocdn.net/img/100910094790469199-640x396-thepilot.jpg\n"
     ]
    },
    {
     "name": "stderr",
     "output_type": "stream",
     "text": [
      "C:\\Users\\ADMIN\\AppData\\Local\\Temp\\ipykernel_7724\\373337600.py:22: FutureWarning: Series.__getitem__ treating keys as positions is deprecated. In a future version, integer keys will always be treated as labels (consistent with DataFrame behavior). To access a value by position, use `ser.iloc[pos]`\n",
      "  link = row[1]  # Cột 1 chứa link review\n"
     ]
    },
    {
     "name": "stdout",
     "output_type": "stream",
     "text": [
      "137/845 - Cập nhật thể loại: Phiêu lưu, Hài\n",
      "137/845 - Cập nhật ảnh: https://cinema.momocdn.net/img/50102797001507820-%5BB%E1%BA%A2N%20%C4%90I%E1%BB%86N%20%E1%BA%A2NH%5D%20-%20Long%20Qu%C3%BD%20H%E1%BA%A1nh.jpg\n"
     ]
    },
    {
     "name": "stderr",
     "output_type": "stream",
     "text": [
      "C:\\Users\\ADMIN\\AppData\\Local\\Temp\\ipykernel_7724\\373337600.py:22: FutureWarning: Series.__getitem__ treating keys as positions is deprecated. In a future version, integer keys will always be treated as labels (consistent with DataFrame behavior). To access a value by position, use `ser.iloc[pos]`\n",
      "  link = row[1]  # Cột 1 chứa link review\n"
     ]
    },
    {
     "name": "stdout",
     "output_type": "stream",
     "text": [
      "138/845 - Cập nhật thể loại: Kinh dị, Hài, Lãng mạn\n",
      "138/845 - Cập nhật ảnh: https://cinema.momocdn.net/img/100909761370528799-y1bhcTTYLrXhVt6mbmqodrlxyaU.jpg\n"
     ]
    },
    {
     "name": "stderr",
     "output_type": "stream",
     "text": [
      "C:\\Users\\ADMIN\\AppData\\Local\\Temp\\ipykernel_7724\\373337600.py:22: FutureWarning: Series.__getitem__ treating keys as positions is deprecated. In a future version, integer keys will always be treated as labels (consistent with DataFrame behavior). To access a value by position, use `ser.iloc[pos]`\n",
      "  link = row[1]  # Cột 1 chứa link review\n"
     ]
    },
    {
     "name": "stdout",
     "output_type": "stream",
     "text": [
      "139/845 - Cập nhật thể loại: Hài, Hành động\n",
      "139/845 - Cập nhật ảnh: https://homepage.momocdn.net/cinema/momo-cdn-api-220615142932-637909001724671461.jpg\n"
     ]
    },
    {
     "name": "stderr",
     "output_type": "stream",
     "text": [
      "C:\\Users\\ADMIN\\AppData\\Local\\Temp\\ipykernel_7724\\373337600.py:22: FutureWarning: Series.__getitem__ treating keys as positions is deprecated. In a future version, integer keys will always be treated as labels (consistent with DataFrame behavior). To access a value by position, use `ser.iloc[pos]`\n",
      "  link = row[1]  # Cột 1 chứa link review\n"
     ]
    },
    {
     "name": "stdout",
     "output_type": "stream",
     "text": [
      "140/845 - Cập nhật thể loại: Gay cấn, Kinh dị\n",
      "140/845 - Cập nhật ảnh: https://cinema.momocdn.net/img/57931939042369709-l6qZSvM5bjLy9DIGj1cflIVtMKe.jpg\n"
     ]
    },
    {
     "name": "stderr",
     "output_type": "stream",
     "text": [
      "C:\\Users\\ADMIN\\AppData\\Local\\Temp\\ipykernel_7724\\373337600.py:22: FutureWarning: Series.__getitem__ treating keys as positions is deprecated. In a future version, integer keys will always be treated as labels (consistent with DataFrame behavior). To access a value by position, use `ser.iloc[pos]`\n",
      "  link = row[1]  # Cột 1 chứa link review\n"
     ]
    },
    {
     "name": "stdout",
     "output_type": "stream",
     "text": [
      "141/845 - Cập nhật thể loại: Hài\n",
      "141/845 - Cập nhật ảnh: https://cinema.momocdn.net/img/19327437806250693-elCiJakZkeqDqUb3H6eOUHmSIPK.jpg\n"
     ]
    },
    {
     "name": "stderr",
     "output_type": "stream",
     "text": [
      "C:\\Users\\ADMIN\\AppData\\Local\\Temp\\ipykernel_7724\\373337600.py:22: FutureWarning: Series.__getitem__ treating keys as positions is deprecated. In a future version, integer keys will always be treated as labels (consistent with DataFrame behavior). To access a value by position, use `ser.iloc[pos]`\n",
      "  link = row[1]  # Cột 1 chứa link review\n"
     ]
    },
    {
     "name": "stdout",
     "output_type": "stream",
     "text": [
      "142/845 - Cập nhật thể loại: Chính kịch, Gay cấn, Kinh dị\n",
      "142/845 - Cập nhật ảnh: https://cinema.momocdn.net/img/86165414062510211-hq720.jpg?size=L\n"
     ]
    },
    {
     "name": "stderr",
     "output_type": "stream",
     "text": [
      "C:\\Users\\ADMIN\\AppData\\Local\\Temp\\ipykernel_7724\\373337600.py:22: FutureWarning: Series.__getitem__ treating keys as positions is deprecated. In a future version, integer keys will always be treated as labels (consistent with DataFrame behavior). To access a value by position, use `ser.iloc[pos]`\n",
      "  link = row[1]  # Cột 1 chứa link review\n"
     ]
    },
    {
     "name": "stdout",
     "output_type": "stream",
     "text": [
      "143/845 - Cập nhật thể loại: Chính kịch, Chiến tranh, Lịch sử\n",
      "143/845 - Cập nhật ảnh: https://cinema.momocdn.net/img/91346314910670697-ycnO0cjsAROSGJKuMODgRtWsHQw.jpg\n"
     ]
    },
    {
     "name": "stderr",
     "output_type": "stream",
     "text": [
      "C:\\Users\\ADMIN\\AppData\\Local\\Temp\\ipykernel_7724\\373337600.py:22: FutureWarning: Series.__getitem__ treating keys as positions is deprecated. In a future version, integer keys will always be treated as labels (consistent with DataFrame behavior). To access a value by position, use `ser.iloc[pos]`\n",
      "  link = row[1]  # Cột 1 chứa link review\n"
     ]
    },
    {
     "name": "stdout",
     "output_type": "stream",
     "text": [
      "144/845 - Cập nhật thể loại: Chính kịch, Tội phạm, Trinh thám, Hình sự\n",
      "144/845 - Cập nhật ảnh: https://cinema.momocdn.net/img/12744284657527583-kvVEsgFbFIvgFMAo9uAcNEVY8vM.jpg\n"
     ]
    },
    {
     "name": "stderr",
     "output_type": "stream",
     "text": [
      "C:\\Users\\ADMIN\\AppData\\Local\\Temp\\ipykernel_7724\\373337600.py:22: FutureWarning: Series.__getitem__ treating keys as positions is deprecated. In a future version, integer keys will always be treated as labels (consistent with DataFrame behavior). To access a value by position, use `ser.iloc[pos]`\n",
      "  link = row[1]  # Cột 1 chứa link review\n"
     ]
    },
    {
     "name": "stdout",
     "output_type": "stream",
     "text": [
      "145/845 - Cập nhật thể loại: Hình sự, Hài, Hành động\n",
      "145/845 - Cập nhật ảnh: https://homepage.momocdn.net/cinema/momo-cdn-api-220615142511-637908999115099780.jpg\n"
     ]
    },
    {
     "name": "stderr",
     "output_type": "stream",
     "text": [
      "C:\\Users\\ADMIN\\AppData\\Local\\Temp\\ipykernel_7724\\373337600.py:22: FutureWarning: Series.__getitem__ treating keys as positions is deprecated. In a future version, integer keys will always be treated as labels (consistent with DataFrame behavior). To access a value by position, use `ser.iloc[pos]`\n",
      "  link = row[1]  # Cột 1 chứa link review\n"
     ]
    },
    {
     "name": "stdout",
     "output_type": "stream",
     "text": [
      "146/845 - Cập nhật thể loại: Ma, Kinh dị\n",
      "146/845 - Cập nhật ảnh: https://cinema.momocdn.net/img/21567011897958237-f33XdT6dwNXmXQNvQ4FuyhQrUob.jpg\n"
     ]
    },
    {
     "name": "stderr",
     "output_type": "stream",
     "text": [
      "C:\\Users\\ADMIN\\AppData\\Local\\Temp\\ipykernel_7724\\373337600.py:22: FutureWarning: Series.__getitem__ treating keys as positions is deprecated. In a future version, integer keys will always be treated as labels (consistent with DataFrame behavior). To access a value by position, use `ser.iloc[pos]`\n",
      "  link = row[1]  # Cột 1 chứa link review\n"
     ]
    },
    {
     "name": "stdout",
     "output_type": "stream",
     "text": [
      "147/845 - Cập nhật thể loại: Âm Nhạc, Tài liệu\n",
      "147/845 - Cập nhật ảnh: https://cinema.momocdn.net/img/35478154829089042-oeExCr5YpzTAEXaW7XR1HAEgIQt.jpg\n"
     ]
    },
    {
     "name": "stderr",
     "output_type": "stream",
     "text": [
      "C:\\Users\\ADMIN\\AppData\\Local\\Temp\\ipykernel_7724\\373337600.py:22: FutureWarning: Series.__getitem__ treating keys as positions is deprecated. In a future version, integer keys will always be treated as labels (consistent with DataFrame behavior). To access a value by position, use `ser.iloc[pos]`\n",
      "  link = row[1]  # Cột 1 chứa link review\n"
     ]
    },
    {
     "name": "stdout",
     "output_type": "stream",
     "text": [
      "148/845 - Cập nhật thể loại: Gia đình, Phiêu lưu, Hài, Hành động, Hoạt hình\n",
      "148/845 - Cập nhật ảnh: https://homepage.momocdn.net/cinema/momo-cdn-api-220615143047-637909002477743248.jpg\n"
     ]
    },
    {
     "name": "stderr",
     "output_type": "stream",
     "text": [
      "C:\\Users\\ADMIN\\AppData\\Local\\Temp\\ipykernel_7724\\373337600.py:22: FutureWarning: Series.__getitem__ treating keys as positions is deprecated. In a future version, integer keys will always be treated as labels (consistent with DataFrame behavior). To access a value by position, use `ser.iloc[pos]`\n",
      "  link = row[1]  # Cột 1 chứa link review\n"
     ]
    },
    {
     "name": "stdout",
     "output_type": "stream",
     "text": [
      "149/845 - Cập nhật thể loại: Gia đình, Phiêu lưu, Hài, Hoạt hình\n",
      "149/845 - Cập nhật ảnh: https://cinema.momocdn.net/img/57279364521566544-tElnmtQ6yz1PjN1kePNl8yMSb59.jpg\n"
     ]
    },
    {
     "name": "stderr",
     "output_type": "stream",
     "text": [
      "C:\\Users\\ADMIN\\AppData\\Local\\Temp\\ipykernel_7724\\373337600.py:22: FutureWarning: Series.__getitem__ treating keys as positions is deprecated. In a future version, integer keys will always be treated as labels (consistent with DataFrame behavior). To access a value by position, use `ser.iloc[pos]`\n",
      "  link = row[1]  # Cột 1 chứa link review\n"
     ]
    },
    {
     "name": "stdout",
     "output_type": "stream",
     "text": [
      "150/845 - Cập nhật thể loại: Chính kịch, Gay cấn, Khoa học - Viễn tưởng, Hành động\n",
      "150/845 - Cập nhật ảnh: https://cinema.momocdn.net/img/17498479334159640-g8kCHQzfogy1t1dE9nPBtiFkz64.jpg\n"
     ]
    },
    {
     "name": "stderr",
     "output_type": "stream",
     "text": [
      "C:\\Users\\ADMIN\\AppData\\Local\\Temp\\ipykernel_7724\\373337600.py:22: FutureWarning: Series.__getitem__ treating keys as positions is deprecated. In a future version, integer keys will always be treated as labels (consistent with DataFrame behavior). To access a value by position, use `ser.iloc[pos]`\n",
      "  link = row[1]  # Cột 1 chứa link review\n"
     ]
    },
    {
     "name": "stdout",
     "output_type": "stream",
     "text": [
      "151/845 - Cập nhật thể loại: Chính kịch, Gay cấn, Ma, Kinh dị\n",
      "151/845 - Cập nhật ảnh: https://cinema.momocdn.net/img/21565414696105550-m22VHtI3fRFjvlVbVRCGda3py3B.jpg\n"
     ]
    },
    {
     "name": "stderr",
     "output_type": "stream",
     "text": [
      "C:\\Users\\ADMIN\\AppData\\Local\\Temp\\ipykernel_7724\\373337600.py:22: FutureWarning: Series.__getitem__ treating keys as positions is deprecated. In a future version, integer keys will always be treated as labels (consistent with DataFrame behavior). To access a value by position, use `ser.iloc[pos]`\n",
      "  link = row[1]  # Cột 1 chứa link review\n"
     ]
    },
    {
     "name": "stdout",
     "output_type": "stream",
     "text": [
      "152/845 - Cập nhật thể loại: Hài, Hành động\n",
      "152/845 - Cập nhật ảnh: https://cinema.momocdn.net/img/34427365812682739-maxresdefault.jpg\n"
     ]
    },
    {
     "name": "stderr",
     "output_type": "stream",
     "text": [
      "C:\\Users\\ADMIN\\AppData\\Local\\Temp\\ipykernel_7724\\373337600.py:22: FutureWarning: Series.__getitem__ treating keys as positions is deprecated. In a future version, integer keys will always be treated as labels (consistent with DataFrame behavior). To access a value by position, use `ser.iloc[pos]`\n",
      "  link = row[1]  # Cột 1 chứa link review\n"
     ]
    },
    {
     "name": "stdout",
     "output_type": "stream",
     "text": [
      "153/845 - Cập nhật thể loại: Gay cấn, Phiêu lưu, Hành động\n",
      "153/845 - Cập nhật ảnh: https://cinema.momocdn.net/img/57281537783525880-wSlRrIQlPdbouk3z1WopwqV5dvh.jpg\n"
     ]
    },
    {
     "name": "stderr",
     "output_type": "stream",
     "text": [
      "C:\\Users\\ADMIN\\AppData\\Local\\Temp\\ipykernel_7724\\373337600.py:22: FutureWarning: Series.__getitem__ treating keys as positions is deprecated. In a future version, integer keys will always be treated as labels (consistent with DataFrame behavior). To access a value by position, use `ser.iloc[pos]`\n",
      "  link = row[1]  # Cột 1 chứa link review\n"
     ]
    },
    {
     "name": "stdout",
     "output_type": "stream",
     "text": [
      "154/845 - Cập nhật thể loại: Hành động\n",
      "154/845 - Cập nhật ảnh: https://cinema.momocdn.net/img/89885848630148318-eGPtfo4jFPq27pQWTsJgswvL8Zq.jpg\n"
     ]
    },
    {
     "name": "stderr",
     "output_type": "stream",
     "text": [
      "C:\\Users\\ADMIN\\AppData\\Local\\Temp\\ipykernel_7724\\373337600.py:22: FutureWarning: Series.__getitem__ treating keys as positions is deprecated. In a future version, integer keys will always be treated as labels (consistent with DataFrame behavior). To access a value by position, use `ser.iloc[pos]`\n",
      "  link = row[1]  # Cột 1 chứa link review\n"
     ]
    },
    {
     "name": "stdout",
     "output_type": "stream",
     "text": [
      "155/845 - Cập nhật thể loại: Tình cảm, Lãng mạn\n",
      "155/845 - Cập nhật ảnh: https://homepage.momocdn.net/cinema/momo-cdn-api-220615143001-637909002017330838.jpg\n"
     ]
    },
    {
     "name": "stderr",
     "output_type": "stream",
     "text": [
      "C:\\Users\\ADMIN\\AppData\\Local\\Temp\\ipykernel_7724\\373337600.py:22: FutureWarning: Series.__getitem__ treating keys as positions is deprecated. In a future version, integer keys will always be treated as labels (consistent with DataFrame behavior). To access a value by position, use `ser.iloc[pos]`\n",
      "  link = row[1]  # Cột 1 chứa link review\n"
     ]
    },
    {
     "name": "stdout",
     "output_type": "stream",
     "text": [
      "156/845 - Cập nhật thể loại: Kinh dị\n",
      "156/845 - Cập nhật ảnh: https://cinema.momocdn.net/img/22958356281962243-MV5BMTExZmNmYmMtYWYzZC00MTg5LTgzNjUtNjU0YTViZDcxNTkxXkEyXkFqcGdeQXVyMDIwMTg1OQ@@._V1_.jpg\n"
     ]
    },
    {
     "name": "stderr",
     "output_type": "stream",
     "text": [
      "C:\\Users\\ADMIN\\AppData\\Local\\Temp\\ipykernel_7724\\373337600.py:22: FutureWarning: Series.__getitem__ treating keys as positions is deprecated. In a future version, integer keys will always be treated as labels (consistent with DataFrame behavior). To access a value by position, use `ser.iloc[pos]`\n",
      "  link = row[1]  # Cột 1 chứa link review\n"
     ]
    },
    {
     "name": "stdout",
     "output_type": "stream",
     "text": [
      "157/845 - Cập nhật thể loại: Kinh dị\n",
      "157/845 - Cập nhật ảnh: https://cinema.momocdn.net/img/25293688450124331-teaser-nguoi-mat-troi-1693491793.jpg\n"
     ]
    },
    {
     "name": "stderr",
     "output_type": "stream",
     "text": [
      "C:\\Users\\ADMIN\\AppData\\Local\\Temp\\ipykernel_7724\\373337600.py:22: FutureWarning: Series.__getitem__ treating keys as positions is deprecated. In a future version, integer keys will always be treated as labels (consistent with DataFrame behavior). To access a value by position, use `ser.iloc[pos]`\n",
      "  link = row[1]  # Cột 1 chứa link review\n"
     ]
    },
    {
     "name": "stdout",
     "output_type": "stream",
     "text": [
      "158/845 - Cập nhật thể loại: Chính kịch, Tình cảm\n",
      "158/845 - Cập nhật ảnh: https://cinema.momocdn.net/img/59074583600710345-phim-mua-he-dep-nhat-tung-teaser-day-hoai-niem-1714768506-0.jpg\n"
     ]
    },
    {
     "name": "stderr",
     "output_type": "stream",
     "text": [
      "C:\\Users\\ADMIN\\AppData\\Local\\Temp\\ipykernel_7724\\373337600.py:22: FutureWarning: Series.__getitem__ treating keys as positions is deprecated. In a future version, integer keys will always be treated as labels (consistent with DataFrame behavior). To access a value by position, use `ser.iloc[pos]`\n",
      "  link = row[1]  # Cột 1 chứa link review\n"
     ]
    },
    {
     "name": "stdout",
     "output_type": "stream",
     "text": [
      "159/845 - Cập nhật thể loại: Bí ẩn, Khoa học - Viễn tưởng, Tình cảm, Lãng mạn\n",
      "159/845 - Cập nhật ảnh: https://cinema.momocdn.net/img/911111623966317-wPJKyDq1F9b4VtpF9dz8FPKVuS5.jpg\n"
     ]
    },
    {
     "name": "stderr",
     "output_type": "stream",
     "text": [
      "C:\\Users\\ADMIN\\AppData\\Local\\Temp\\ipykernel_7724\\373337600.py:22: FutureWarning: Series.__getitem__ treating keys as positions is deprecated. In a future version, integer keys will always be treated as labels (consistent with DataFrame behavior). To access a value by position, use `ser.iloc[pos]`\n",
      "  link = row[1]  # Cột 1 chứa link review\n"
     ]
    },
    {
     "name": "stdout",
     "output_type": "stream",
     "text": [
      "160/845 - Cập nhật thể loại: Bí ẩn, Kinh dị\n",
      "160/845 - Cập nhật ảnh: https://cinema.momocdn.net/img/4186357509197463-5Y5pz0NX7SZS9036I733F7uNcwK.jpg\n"
     ]
    },
    {
     "name": "stderr",
     "output_type": "stream",
     "text": [
      "C:\\Users\\ADMIN\\AppData\\Local\\Temp\\ipykernel_7724\\373337600.py:22: FutureWarning: Series.__getitem__ treating keys as positions is deprecated. In a future version, integer keys will always be treated as labels (consistent with DataFrame behavior). To access a value by position, use `ser.iloc[pos]`\n",
      "  link = row[1]  # Cột 1 chứa link review\n"
     ]
    },
    {
     "name": "stdout",
     "output_type": "stream",
     "text": [
      "161/845 - Cập nhật thể loại: Gay cấn, Hình sự\n",
      "161/845 - Cập nhật ảnh: https://cinema.momocdn.net/img/59072969534523187-AML4-13.jpg\n"
     ]
    },
    {
     "name": "stderr",
     "output_type": "stream",
     "text": [
      "C:\\Users\\ADMIN\\AppData\\Local\\Temp\\ipykernel_7724\\373337600.py:22: FutureWarning: Series.__getitem__ treating keys as positions is deprecated. In a future version, integer keys will always be treated as labels (consistent with DataFrame behavior). To access a value by position, use `ser.iloc[pos]`\n",
      "  link = row[1]  # Cột 1 chứa link review\n"
     ]
    },
    {
     "name": "stdout",
     "output_type": "stream",
     "text": [
      "162/845 - Cập nhật thể loại: Kinh dị\n",
      "162/845 - Cập nhật ảnh: https://cinema.momocdn.net/img/36870713860440428-640x396-quy-cai.jpg\n"
     ]
    },
    {
     "name": "stderr",
     "output_type": "stream",
     "text": [
      "C:\\Users\\ADMIN\\AppData\\Local\\Temp\\ipykernel_7724\\373337600.py:22: FutureWarning: Series.__getitem__ treating keys as positions is deprecated. In a future version, integer keys will always be treated as labels (consistent with DataFrame behavior). To access a value by position, use `ser.iloc[pos]`\n",
      "  link = row[1]  # Cột 1 chứa link review\n"
     ]
    },
    {
     "name": "stdout",
     "output_type": "stream",
     "text": [
      "163/845 - Cập nhật thể loại: Chính kịch, Hài\n",
      "163/845 - Cập nhật ảnh: https://cinema.momocdn.net/img/33649079371836432-obJgmXo6wYEYs8OuIvRgYhx7tHx.jpg\n"
     ]
    },
    {
     "name": "stderr",
     "output_type": "stream",
     "text": [
      "C:\\Users\\ADMIN\\AppData\\Local\\Temp\\ipykernel_7724\\373337600.py:22: FutureWarning: Series.__getitem__ treating keys as positions is deprecated. In a future version, integer keys will always be treated as labels (consistent with DataFrame behavior). To access a value by position, use `ser.iloc[pos]`\n",
      "  link = row[1]  # Cột 1 chứa link review\n"
     ]
    },
    {
     "name": "stdout",
     "output_type": "stream",
     "text": [
      "164/845 - Cập nhật thể loại: Gay cấn, Phiêu lưu, Hành động\n",
      "164/845 - Cập nhật ảnh: https://cinema.momocdn.net/img/22257487567325851-joDIJOaWJaKBseclpdbViWsas4m.jpg\n"
     ]
    },
    {
     "name": "stderr",
     "output_type": "stream",
     "text": [
      "C:\\Users\\ADMIN\\AppData\\Local\\Temp\\ipykernel_7724\\373337600.py:22: FutureWarning: Series.__getitem__ treating keys as positions is deprecated. In a future version, integer keys will always be treated as labels (consistent with DataFrame behavior). To access a value by position, use `ser.iloc[pos]`\n",
      "  link = row[1]  # Cột 1 chứa link review\n"
     ]
    },
    {
     "name": "stdout",
     "output_type": "stream",
     "text": [
      "165/845 - Cập nhật thể loại: Gia đình, Phiêu lưu, Hoạt hình\n",
      "165/845 - Cập nhật ảnh: https://image.tmdb.org/t/p/w780/AvIfrjJL9WRk3TziSvOZCTUHKEn.jpg\n"
     ]
    },
    {
     "name": "stderr",
     "output_type": "stream",
     "text": [
      "C:\\Users\\ADMIN\\AppData\\Local\\Temp\\ipykernel_7724\\373337600.py:22: FutureWarning: Series.__getitem__ treating keys as positions is deprecated. In a future version, integer keys will always be treated as labels (consistent with DataFrame behavior). To access a value by position, use `ser.iloc[pos]`\n",
      "  link = row[1]  # Cột 1 chứa link review\n"
     ]
    },
    {
     "name": "stdout",
     "output_type": "stream",
     "text": [
      "166/845 - Cập nhật thể loại: Gia đình, Phiêu lưu, Hài, Hoạt hình\n",
      "166/845 - Cập nhật ảnh: https://cinema.momocdn.net/img/103928525121533441-vW7lwVHkRePHzayZfoKOyYBeZqO.jpg\n"
     ]
    },
    {
     "name": "stderr",
     "output_type": "stream",
     "text": [
      "C:\\Users\\ADMIN\\AppData\\Local\\Temp\\ipykernel_7724\\373337600.py:22: FutureWarning: Series.__getitem__ treating keys as positions is deprecated. In a future version, integer keys will always be treated as labels (consistent with DataFrame behavior). To access a value by position, use `ser.iloc[pos]`\n",
      "  link = row[1]  # Cột 1 chứa link review\n"
     ]
    },
    {
     "name": "stdout",
     "output_type": "stream",
     "text": [
      "167/845 - Cập nhật thể loại: Khoa học - Viễn tưởng, Hành động\n",
      "167/845 - Cập nhật ảnh: https://cinema.momocdn.net/img/30728282161266246-dwl7raDGUHMaLlENxtE7h1qSH4h.jpg\n"
     ]
    },
    {
     "name": "stderr",
     "output_type": "stream",
     "text": [
      "C:\\Users\\ADMIN\\AppData\\Local\\Temp\\ipykernel_7724\\373337600.py:22: FutureWarning: Series.__getitem__ treating keys as positions is deprecated. In a future version, integer keys will always be treated as labels (consistent with DataFrame behavior). To access a value by position, use `ser.iloc[pos]`\n",
      "  link = row[1]  # Cột 1 chứa link review\n"
     ]
    },
    {
     "name": "stdout",
     "output_type": "stream",
     "text": [
      "168/845 - Cập nhật thể loại: Drama, Giật gân, Siêu anh hùng, Khoa học - Viễn tưởng, Hành động\n",
      "168/845 - Cập nhật ảnh: https://homepage.momocdn.net/cinema/momo-cdn-api-220615142646-637909000068817427.jpg\n"
     ]
    },
    {
     "name": "stderr",
     "output_type": "stream",
     "text": [
      "C:\\Users\\ADMIN\\AppData\\Local\\Temp\\ipykernel_7724\\373337600.py:22: FutureWarning: Series.__getitem__ treating keys as positions is deprecated. In a future version, integer keys will always be treated as labels (consistent with DataFrame behavior). To access a value by position, use `ser.iloc[pos]`\n",
      "  link = row[1]  # Cột 1 chứa link review\n"
     ]
    },
    {
     "name": "stdout",
     "output_type": "stream",
     "text": [
      "169/845 - Cập nhật thể loại: Kinh dị\n",
      "169/845 - Cập nhật ảnh: https://cinema.momocdn.net/img/45074156123189305-d5V5H0In2b0PtuvuakbJsULaDnL.jpg\n"
     ]
    },
    {
     "name": "stderr",
     "output_type": "stream",
     "text": [
      "C:\\Users\\ADMIN\\AppData\\Local\\Temp\\ipykernel_7724\\373337600.py:22: FutureWarning: Series.__getitem__ treating keys as positions is deprecated. In a future version, integer keys will always be treated as labels (consistent with DataFrame behavior). To access a value by position, use `ser.iloc[pos]`\n",
      "  link = row[1]  # Cột 1 chứa link review\n"
     ]
    },
    {
     "name": "stdout",
     "output_type": "stream",
     "text": [
      "170/845 - Cập nhật thể loại: Gay cấn, Bí ẩn, Kinh dị\n",
      "170/845 - Cập nhật ảnh: https://image.tmdb.org/t/p/w780/2M8AvyJZ78b2cZJa7tyPG3ZdGAX.jpg\n"
     ]
    },
    {
     "name": "stderr",
     "output_type": "stream",
     "text": [
      "C:\\Users\\ADMIN\\AppData\\Local\\Temp\\ipykernel_7724\\373337600.py:22: FutureWarning: Series.__getitem__ treating keys as positions is deprecated. In a future version, integer keys will always be treated as labels (consistent with DataFrame behavior). To access a value by position, use `ser.iloc[pos]`\n",
      "  link = row[1]  # Cột 1 chứa link review\n"
     ]
    },
    {
     "name": "stdout",
     "output_type": "stream",
     "text": [
      "171/845 - Cập nhật thể loại: Âm Nhạc, Tài liệu\n",
      "171/845 - Cập nhật ảnh: https://cinema.momocdn.net/img/100746587147669902-1aBRILIlhTTmgbLW7x8X2lf5lxG.jpg\n"
     ]
    },
    {
     "name": "stderr",
     "output_type": "stream",
     "text": [
      "C:\\Users\\ADMIN\\AppData\\Local\\Temp\\ipykernel_7724\\373337600.py:22: FutureWarning: Series.__getitem__ treating keys as positions is deprecated. In a future version, integer keys will always be treated as labels (consistent with DataFrame behavior). To access a value by position, use `ser.iloc[pos]`\n",
      "  link = row[1]  # Cột 1 chứa link review\n"
     ]
    },
    {
     "name": "stdout",
     "output_type": "stream",
     "text": [
      "172/845 - Cập nhật thể loại: Siêu anh hùng, Khoa học - Viễn tưởng, Hành động, Hoạt hình\n",
      "172/845 - Cập nhật ảnh: https://homepage.momocdn.net/cinema/momo-upload-api-230921101114-638308878743051069.jpg\n"
     ]
    },
    {
     "name": "stderr",
     "output_type": "stream",
     "text": [
      "C:\\Users\\ADMIN\\AppData\\Local\\Temp\\ipykernel_7724\\373337600.py:22: FutureWarning: Series.__getitem__ treating keys as positions is deprecated. In a future version, integer keys will always be treated as labels (consistent with DataFrame behavior). To access a value by position, use `ser.iloc[pos]`\n",
      "  link = row[1]  # Cột 1 chứa link review\n"
     ]
    },
    {
     "name": "stdout",
     "output_type": "stream",
     "text": [
      "173/845 - Cập nhật thể loại: Siêu anh hùng, Phiêu lưu, Khoa học - Viễn tưởng, Hành động\n",
      "173/845 - Cập nhật ảnh: https://homepage.momocdn.net/cinema/momo-upload-api-230525153955-638206259951368997.jpg\n"
     ]
    },
    {
     "name": "stderr",
     "output_type": "stream",
     "text": [
      "C:\\Users\\ADMIN\\AppData\\Local\\Temp\\ipykernel_7724\\373337600.py:22: FutureWarning: Series.__getitem__ treating keys as positions is deprecated. In a future version, integer keys will always be treated as labels (consistent with DataFrame behavior). To access a value by position, use `ser.iloc[pos]`\n",
      "  link = row[1]  # Cột 1 chứa link review\n"
     ]
    },
    {
     "name": "stdout",
     "output_type": "stream",
     "text": [
      "174/845 - Cập nhật thể loại: Bí ẩn, Gay cấn\n",
      "174/845 - Cập nhật ảnh: https://cinema.momocdn.net/img/96786332638856732-865kW14mrLrKgGMMq6ATbBIxnLX.jpg\n"
     ]
    },
    {
     "name": "stderr",
     "output_type": "stream",
     "text": [
      "C:\\Users\\ADMIN\\AppData\\Local\\Temp\\ipykernel_7724\\373337600.py:22: FutureWarning: Series.__getitem__ treating keys as positions is deprecated. In a future version, integer keys will always be treated as labels (consistent with DataFrame behavior). To access a value by position, use `ser.iloc[pos]`\n",
      "  link = row[1]  # Cột 1 chứa link review\n"
     ]
    },
    {
     "name": "stdout",
     "output_type": "stream",
     "text": [
      "175/845 - Cập nhật thể loại: Âm Nhạc, Tài liệu\n",
      "175/845 - Cập nhật ảnh: https://cinema.momocdn.net/img/108637838532253755-Capture-2024-10-05-231148.png\n"
     ]
    },
    {
     "name": "stderr",
     "output_type": "stream",
     "text": [
      "C:\\Users\\ADMIN\\AppData\\Local\\Temp\\ipykernel_7724\\373337600.py:22: FutureWarning: Series.__getitem__ treating keys as positions is deprecated. In a future version, integer keys will always be treated as labels (consistent with DataFrame behavior). To access a value by position, use `ser.iloc[pos]`\n",
      "  link = row[1]  # Cột 1 chứa link review\n"
     ]
    },
    {
     "name": "stdout",
     "output_type": "stream",
     "text": [
      "176/845 - Cập nhật thể loại: Gay cấn, Kinh dị, Hài\n",
      "176/845 - Cập nhật ảnh: https://cinema.momocdn.net/img/51610849884337500-ySgY4jBvZ6qchrxKnBg4M8tZp8V.jpg\n"
     ]
    },
    {
     "name": "stderr",
     "output_type": "stream",
     "text": [
      "C:\\Users\\ADMIN\\AppData\\Local\\Temp\\ipykernel_7724\\373337600.py:22: FutureWarning: Series.__getitem__ treating keys as positions is deprecated. In a future version, integer keys will always be treated as labels (consistent with DataFrame behavior). To access a value by position, use `ser.iloc[pos]`\n",
      "  link = row[1]  # Cột 1 chứa link review\n"
     ]
    },
    {
     "name": "stdout",
     "output_type": "stream",
     "text": [
      "177/845 - Cập nhật thể loại: Hoạt hình\n",
      "177/845 - Cập nhật ảnh: https://cinema.momocdn.net/img/15522409287692295-t4xUXeAFAMw0gtMNQ4y3R60KiNr.jpg\n"
     ]
    },
    {
     "name": "stderr",
     "output_type": "stream",
     "text": [
      "C:\\Users\\ADMIN\\AppData\\Local\\Temp\\ipykernel_7724\\373337600.py:22: FutureWarning: Series.__getitem__ treating keys as positions is deprecated. In a future version, integer keys will always be treated as labels (consistent with DataFrame behavior). To access a value by position, use `ser.iloc[pos]`\n",
      "  link = row[1]  # Cột 1 chứa link review\n"
     ]
    },
    {
     "name": "stdout",
     "output_type": "stream",
     "text": [
      "178/845 - Cập nhật thể loại: Chính kịch, Giả tưởng, Lãng mạn\n",
      "178/845 - Cập nhật ảnh: https://cinema.momocdn.net/img/76909638045352144-ljNVBysYnPCwLqP3HXL7T1thZxu.jpg\n"
     ]
    },
    {
     "name": "stderr",
     "output_type": "stream",
     "text": [
      "C:\\Users\\ADMIN\\AppData\\Local\\Temp\\ipykernel_7724\\373337600.py:22: FutureWarning: Series.__getitem__ treating keys as positions is deprecated. In a future version, integer keys will always be treated as labels (consistent with DataFrame behavior). To access a value by position, use `ser.iloc[pos]`\n",
      "  link = row[1]  # Cột 1 chứa link review\n"
     ]
    },
    {
     "name": "stdout",
     "output_type": "stream",
     "text": [
      "179/845 - Cập nhật thể loại: Gay cấn, Hành động\n",
      "179/845 - Cập nhật ảnh: https://cinema.momocdn.net/img/14dae43f-d29d-4fb5-bdaf-fcfbdfdc736c-67606546448802114.jpg\n"
     ]
    },
    {
     "name": "stderr",
     "output_type": "stream",
     "text": [
      "C:\\Users\\ADMIN\\AppData\\Local\\Temp\\ipykernel_7724\\373337600.py:22: FutureWarning: Series.__getitem__ treating keys as positions is deprecated. In a future version, integer keys will always be treated as labels (consistent with DataFrame behavior). To access a value by position, use `ser.iloc[pos]`\n",
      "  link = row[1]  # Cột 1 chứa link review\n"
     ]
    },
    {
     "name": "stdout",
     "output_type": "stream",
     "text": [
      "180/845 - Cập nhật thể loại: Phiêu lưu, Hài, Hành động\n",
      "180/845 - Cập nhật ảnh: https://cinema.momocdn.net/img/76648897702403338-Thumb-Main-1920x1080.jpg\n"
     ]
    },
    {
     "name": "stderr",
     "output_type": "stream",
     "text": [
      "C:\\Users\\ADMIN\\AppData\\Local\\Temp\\ipykernel_7724\\373337600.py:22: FutureWarning: Series.__getitem__ treating keys as positions is deprecated. In a future version, integer keys will always be treated as labels (consistent with DataFrame behavior). To access a value by position, use `ser.iloc[pos]`\n",
      "  link = row[1]  # Cột 1 chứa link review\n"
     ]
    },
    {
     "name": "stdout",
     "output_type": "stream",
     "text": [
      "181/845 - Cập nhật thể loại: Chính kịch, Gay cấn, Gia đình\n",
      "181/845 - Cập nhật ảnh: https://cinema.momocdn.net/img/ae32de80-cdee-42ce-b262-3c58bcc496c6-4276320182401649.png\n"
     ]
    },
    {
     "name": "stderr",
     "output_type": "stream",
     "text": [
      "C:\\Users\\ADMIN\\AppData\\Local\\Temp\\ipykernel_7724\\373337600.py:22: FutureWarning: Series.__getitem__ treating keys as positions is deprecated. In a future version, integer keys will always be treated as labels (consistent with DataFrame behavior). To access a value by position, use `ser.iloc[pos]`\n",
      "  link = row[1]  # Cột 1 chứa link review\n"
     ]
    },
    {
     "name": "stdout",
     "output_type": "stream",
     "text": [
      "182/845 - Cập nhật thể loại: Ma, Kinh dị, Hài\n",
      "182/845 - Cập nhật ảnh: https://homepage.momocdn.net/cinema/momo-cdn-api-220615142817-637909000974096073.jpg\n"
     ]
    },
    {
     "name": "stderr",
     "output_type": "stream",
     "text": [
      "C:\\Users\\ADMIN\\AppData\\Local\\Temp\\ipykernel_7724\\373337600.py:22: FutureWarning: Series.__getitem__ treating keys as positions is deprecated. In a future version, integer keys will always be treated as labels (consistent with DataFrame behavior). To access a value by position, use `ser.iloc[pos]`\n",
      "  link = row[1]  # Cột 1 chứa link review\n"
     ]
    },
    {
     "name": "stdout",
     "output_type": "stream",
     "text": [
      "183/845 - Cập nhật thể loại: Chính kịch, Chiến tranh, Hoạt hình\n",
      "183/845 - Cập nhật ảnh: https://cinema.momocdn.net/img/6039001166467941-gwj4R8Uy1GwejKqfofREKI9Jh7L.jpg\n"
     ]
    },
    {
     "name": "stderr",
     "output_type": "stream",
     "text": [
      "C:\\Users\\ADMIN\\AppData\\Local\\Temp\\ipykernel_7724\\373337600.py:22: FutureWarning: Series.__getitem__ treating keys as positions is deprecated. In a future version, integer keys will always be treated as labels (consistent with DataFrame behavior). To access a value by position, use `ser.iloc[pos]`\n",
      "  link = row[1]  # Cột 1 chứa link review\n"
     ]
    },
    {
     "name": "stdout",
     "output_type": "stream",
     "text": [
      "184/845 - Cập nhật thể loại: Gia đình, Phiêu lưu, Khoa học - Viễn tưởng, Lãng mạn\n",
      "184/845 - Cập nhật ảnh: https://homepage.momocdn.net/cinema/momo-upload-api-230525153835-638206259158073109.jpg\n"
     ]
    },
    {
     "name": "stderr",
     "output_type": "stream",
     "text": [
      "C:\\Users\\ADMIN\\AppData\\Local\\Temp\\ipykernel_7724\\373337600.py:22: FutureWarning: Series.__getitem__ treating keys as positions is deprecated. In a future version, integer keys will always be treated as labels (consistent with DataFrame behavior). To access a value by position, use `ser.iloc[pos]`\n",
      "  link = row[1]  # Cột 1 chứa link review\n"
     ]
    },
    {
     "name": "stdout",
     "output_type": "stream",
     "text": [
      "185/845 - Cập nhật thể loại: Chính kịch, Gay cấn\n",
      "185/845 - Cập nhật ảnh: https://cinema.momocdn.net/img/103245124976517528-1NqF5Gg1Hqk9grmTqiHLWdu91lc.jpg\n"
     ]
    },
    {
     "name": "stderr",
     "output_type": "stream",
     "text": [
      "C:\\Users\\ADMIN\\AppData\\Local\\Temp\\ipykernel_7724\\373337600.py:22: FutureWarning: Series.__getitem__ treating keys as positions is deprecated. In a future version, integer keys will always be treated as labels (consistent with DataFrame behavior). To access a value by position, use `ser.iloc[pos]`\n",
      "  link = row[1]  # Cột 1 chứa link review\n"
     ]
    },
    {
     "name": "stdout",
     "output_type": "stream",
     "text": [
      "186/845 - Cập nhật thể loại: Bí ẩn, Kinh dị\n",
      "186/845 - Cập nhật ảnh: https://image.tmdb.org/t/p/w780/cvHHTuhTPBnpdar2LRDQrrYn2hg.jpg\n"
     ]
    },
    {
     "name": "stderr",
     "output_type": "stream",
     "text": [
      "C:\\Users\\ADMIN\\AppData\\Local\\Temp\\ipykernel_7724\\373337600.py:22: FutureWarning: Series.__getitem__ treating keys as positions is deprecated. In a future version, integer keys will always be treated as labels (consistent with DataFrame behavior). To access a value by position, use `ser.iloc[pos]`\n",
      "  link = row[1]  # Cột 1 chứa link review\n"
     ]
    },
    {
     "name": "stdout",
     "output_type": "stream",
     "text": [
      "187/845 - Cập nhật thể loại: Siêu anh hùng, Phiêu lưu, Khoa học - Viễn tưởng, Hành động\n",
      "187/845 - Cập nhật ảnh: https://cinema.momocdn.net/img/78932088735399512-jfD92h1JMirOJqgSfc1qnSbnEv2.jpg\n"
     ]
    },
    {
     "name": "stderr",
     "output_type": "stream",
     "text": [
      "C:\\Users\\ADMIN\\AppData\\Local\\Temp\\ipykernel_7724\\373337600.py:22: FutureWarning: Series.__getitem__ treating keys as positions is deprecated. In a future version, integer keys will always be treated as labels (consistent with DataFrame behavior). To access a value by position, use `ser.iloc[pos]`\n",
      "  link = row[1]  # Cột 1 chứa link review\n"
     ]
    },
    {
     "name": "stdout",
     "output_type": "stream",
     "text": [
      "188/845 - Cập nhật thể loại: Gia đình, Khoa học - Viễn tưởng, Hài, Hoạt hình\n",
      "188/845 - Cập nhật ảnh: https://homepage.momocdn.net/cinema/momo-cdn-api-220615142915-637909001559812979.jpg\n"
     ]
    },
    {
     "name": "stderr",
     "output_type": "stream",
     "text": [
      "C:\\Users\\ADMIN\\AppData\\Local\\Temp\\ipykernel_7724\\373337600.py:22: FutureWarning: Series.__getitem__ treating keys as positions is deprecated. In a future version, integer keys will always be treated as labels (consistent with DataFrame behavior). To access a value by position, use `ser.iloc[pos]`\n",
      "  link = row[1]  # Cột 1 chứa link review\n"
     ]
    },
    {
     "name": "stdout",
     "output_type": "stream",
     "text": [
      "189/845 - Cập nhật thể loại: Chính kịch, Phiêu lưu, Khoa học - Viễn tưởng, Hành động, Hoạt hình\n",
      "189/845 - Cập nhật ảnh: https://cinema.momocdn.net/img/f10f4ad3-219f-46b2-a25a-33e9afb4faa8-4242000253812410.png\n"
     ]
    },
    {
     "name": "stderr",
     "output_type": "stream",
     "text": [
      "C:\\Users\\ADMIN\\AppData\\Local\\Temp\\ipykernel_7724\\373337600.py:22: FutureWarning: Series.__getitem__ treating keys as positions is deprecated. In a future version, integer keys will always be treated as labels (consistent with DataFrame behavior). To access a value by position, use `ser.iloc[pos]`\n",
      "  link = row[1]  # Cột 1 chứa link review\n"
     ]
    },
    {
     "name": "stdout",
     "output_type": "stream",
     "text": [
      "190/845 - Cập nhật thể loại: Ma, Kinh dị\n",
      "190/845 - Cập nhật ảnh: https://cinema.momocdn.net/img/307928999955560-vong-nhi-4-7036.jpg\n"
     ]
    },
    {
     "name": "stderr",
     "output_type": "stream",
     "text": [
      "C:\\Users\\ADMIN\\AppData\\Local\\Temp\\ipykernel_7724\\373337600.py:22: FutureWarning: Series.__getitem__ treating keys as positions is deprecated. In a future version, integer keys will always be treated as labels (consistent with DataFrame behavior). To access a value by position, use `ser.iloc[pos]`\n",
      "  link = row[1]  # Cột 1 chứa link review\n"
     ]
    },
    {
     "name": "stdout",
     "output_type": "stream",
     "text": [
      "191/845 - Cập nhật thể loại: Chính kịch\n",
      "191/845 - Cập nhật ảnh: https://cinema.momocdn.net/img/100233651998846310-uTZju1zwQ7KeKe2VbTRIjerhED3.jpg\n"
     ]
    },
    {
     "name": "stderr",
     "output_type": "stream",
     "text": [
      "C:\\Users\\ADMIN\\AppData\\Local\\Temp\\ipykernel_7724\\373337600.py:22: FutureWarning: Series.__getitem__ treating keys as positions is deprecated. In a future version, integer keys will always be treated as labels (consistent with DataFrame behavior). To access a value by position, use `ser.iloc[pos]`\n",
      "  link = row[1]  # Cột 1 chứa link review\n"
     ]
    },
    {
     "name": "stdout",
     "output_type": "stream",
     "text": [
      "192/845 - Cập nhật thể loại: Chính kịch, Gay cấn, Kinh dị, Hành động\n",
      "192/845 - Cập nhật ảnh: https://cinema.momocdn.net/img/92295111527236907-fullsizephoto1582161.jpg\n"
     ]
    },
    {
     "name": "stderr",
     "output_type": "stream",
     "text": [
      "C:\\Users\\ADMIN\\AppData\\Local\\Temp\\ipykernel_7724\\373337600.py:22: FutureWarning: Series.__getitem__ treating keys as positions is deprecated. In a future version, integer keys will always be treated as labels (consistent with DataFrame behavior). To access a value by position, use `ser.iloc[pos]`\n",
      "  link = row[1]  # Cột 1 chứa link review\n"
     ]
    },
    {
     "name": "stdout",
     "output_type": "stream",
     "text": [
      "193/845 - Cập nhật thể loại: Gia đình, Phiêu lưu, Hài, Hành động, Hoạt hình\n",
      "193/845 - Cập nhật ảnh: https://cinema.momocdn.net/img/57282059092849670-kl7VTxjOH75yxtpyEwluX0BlSkP.jpg\n"
     ]
    },
    {
     "name": "stderr",
     "output_type": "stream",
     "text": [
      "C:\\Users\\ADMIN\\AppData\\Local\\Temp\\ipykernel_7724\\373337600.py:22: FutureWarning: Series.__getitem__ treating keys as positions is deprecated. In a future version, integer keys will always be treated as labels (consistent with DataFrame behavior). To access a value by position, use `ser.iloc[pos]`\n",
      "  link = row[1]  # Cột 1 chứa link review\n"
     ]
    },
    {
     "name": "stdout",
     "output_type": "stream",
     "text": [
      "194/845 - Cập nhật thể loại: Siêu anh hùng, Khoa học - Viễn tưởng, Hài, Hành động\n",
      "194/845 - Cập nhật ảnh: https://homepage.momocdn.net/cinema/momo-cdn-api-220615143034-637909002345192612.jpg\n"
     ]
    },
    {
     "name": "stderr",
     "output_type": "stream",
     "text": [
      "C:\\Users\\ADMIN\\AppData\\Local\\Temp\\ipykernel_7724\\373337600.py:22: FutureWarning: Series.__getitem__ treating keys as positions is deprecated. In a future version, integer keys will always be treated as labels (consistent with DataFrame behavior). To access a value by position, use `ser.iloc[pos]`\n",
      "  link = row[1]  # Cột 1 chứa link review\n"
     ]
    },
    {
     "name": "stdout",
     "output_type": "stream",
     "text": [
      "195/845 - Cập nhật thể loại: Chính kịch, Gay cấn, Bí ẩn, Kinh dị, Hình sự\n",
      "195/845 - Cập nhật ảnh: https://cinema.momocdn.net/img/103830027670265112-1V3nxNu6xwxOFQdMsCM699OsJCK.jpg\n"
     ]
    },
    {
     "name": "stderr",
     "output_type": "stream",
     "text": [
      "C:\\Users\\ADMIN\\AppData\\Local\\Temp\\ipykernel_7724\\373337600.py:22: FutureWarning: Series.__getitem__ treating keys as positions is deprecated. In a future version, integer keys will always be treated as labels (consistent with DataFrame behavior). To access a value by position, use `ser.iloc[pos]`\n",
      "  link = row[1]  # Cột 1 chứa link review\n"
     ]
    },
    {
     "name": "stdout",
     "output_type": "stream",
     "text": [
      "196/845 - Cập nhật thể loại: Gia đình, Âm Nhạc, Khoa học - Viễn tưởng, Hoạt hình\n",
      "196/845 - Cập nhật ảnh: https://cinema.momocdn.net/img/15591454343936610-mEcCz4Nzw57wJIXo6g69q9NUQih.jpg\n"
     ]
    },
    {
     "name": "stderr",
     "output_type": "stream",
     "text": [
      "C:\\Users\\ADMIN\\AppData\\Local\\Temp\\ipykernel_7724\\373337600.py:22: FutureWarning: Series.__getitem__ treating keys as positions is deprecated. In a future version, integer keys will always be treated as labels (consistent with DataFrame behavior). To access a value by position, use `ser.iloc[pos]`\n",
      "  link = row[1]  # Cột 1 chứa link review\n"
     ]
    },
    {
     "name": "stdout",
     "output_type": "stream",
     "text": [
      "197/845 - Cập nhật thể loại: Chính kịch, Gia đình, Hoạt hình\n",
      "197/845 - Cập nhật ảnh: https://image.tmdb.org/t/p/w780/fjwQVlYKN31aV9ns8PdIeZJIFaR.jpg\n"
     ]
    },
    {
     "name": "stderr",
     "output_type": "stream",
     "text": [
      "C:\\Users\\ADMIN\\AppData\\Local\\Temp\\ipykernel_7724\\373337600.py:22: FutureWarning: Series.__getitem__ treating keys as positions is deprecated. In a future version, integer keys will always be treated as labels (consistent with DataFrame behavior). To access a value by position, use `ser.iloc[pos]`\n",
      "  link = row[1]  # Cột 1 chứa link review\n"
     ]
    },
    {
     "name": "stdout",
     "output_type": "stream",
     "text": [
      "198/845 - Cập nhật thể loại: Gay cấn, Ma, Kinh dị\n",
      "198/845 - Cập nhật ảnh: https://homepage.momocdn.net/cinema/momo-cdn-api-220615142931-637909001715889886.jpg\n"
     ]
    },
    {
     "name": "stderr",
     "output_type": "stream",
     "text": [
      "C:\\Users\\ADMIN\\AppData\\Local\\Temp\\ipykernel_7724\\373337600.py:22: FutureWarning: Series.__getitem__ treating keys as positions is deprecated. In a future version, integer keys will always be treated as labels (consistent with DataFrame behavior). To access a value by position, use `ser.iloc[pos]`\n",
      "  link = row[1]  # Cột 1 chứa link review\n"
     ]
    },
    {
     "name": "stdout",
     "output_type": "stream",
     "text": [
      "199/845 - Cập nhật thể loại: Chính kịch, Gay cấn, Hình sự\n",
      "199/845 - Cập nhật ảnh: https://cinema.momocdn.net/img/20453879930780128-1DXD1dMkd0H764jFdfJbL7ItJLD.jpg\n"
     ]
    },
    {
     "name": "stderr",
     "output_type": "stream",
     "text": [
      "C:\\Users\\ADMIN\\AppData\\Local\\Temp\\ipykernel_7724\\373337600.py:22: FutureWarning: Series.__getitem__ treating keys as positions is deprecated. In a future version, integer keys will always be treated as labels (consistent with DataFrame behavior). To access a value by position, use `ser.iloc[pos]`\n",
      "  link = row[1]  # Cột 1 chứa link review\n"
     ]
    },
    {
     "name": "stdout",
     "output_type": "stream",
     "text": [
      "200/845 - Cập nhật thể loại: Hoạt hình, Tài liệu\n",
      "200/845 - Cập nhật ảnh: https://cinema.momocdn.net/img/57045941464242605-Capture-2024-10-03-225908.png\n"
     ]
    },
    {
     "name": "stderr",
     "output_type": "stream",
     "text": [
      "C:\\Users\\ADMIN\\AppData\\Local\\Temp\\ipykernel_7724\\373337600.py:22: FutureWarning: Series.__getitem__ treating keys as positions is deprecated. In a future version, integer keys will always be treated as labels (consistent with DataFrame behavior). To access a value by position, use `ser.iloc[pos]`\n",
      "  link = row[1]  # Cột 1 chứa link review\n"
     ]
    },
    {
     "name": "stdout",
     "output_type": "stream",
     "text": [
      "201/845 - Cập nhật thể loại: Siêu anh hùng, Phiêu lưu, Khoa học - Viễn tưởng, Hành động\n",
      "201/845 - Cập nhật ảnh: https://homepage.momocdn.net/cinema/momo-upload-api-230802110015-638265708150331533.jpg\n"
     ]
    },
    {
     "name": "stderr",
     "output_type": "stream",
     "text": [
      "C:\\Users\\ADMIN\\AppData\\Local\\Temp\\ipykernel_7724\\373337600.py:22: FutureWarning: Series.__getitem__ treating keys as positions is deprecated. In a future version, integer keys will always be treated as labels (consistent with DataFrame behavior). To access a value by position, use `ser.iloc[pos]`\n",
      "  link = row[1]  # Cột 1 chứa link review\n"
     ]
    },
    {
     "name": "stdout",
     "output_type": "stream",
     "text": [
      "202/845 - Cập nhật thể loại: Phiêu lưu, Khoa học - Viễn tưởng, Hành động\n",
      "202/845 - Cập nhật ảnh: https://cinema.momocdn.net/img/29183200873337723-nJz0Se2rVC45pogaeYwy3ZZBTuN.jpg\n"
     ]
    },
    {
     "name": "stderr",
     "output_type": "stream",
     "text": [
      "C:\\Users\\ADMIN\\AppData\\Local\\Temp\\ipykernel_7724\\373337600.py:22: FutureWarning: Series.__getitem__ treating keys as positions is deprecated. In a future version, integer keys will always be treated as labels (consistent with DataFrame behavior). To access a value by position, use `ser.iloc[pos]`\n",
      "  link = row[1]  # Cột 1 chứa link review\n"
     ]
    },
    {
     "name": "stdout",
     "output_type": "stream",
     "text": [
      "203/845 - Cập nhật thể loại: Gay cấn, Phiêu lưu, Hành động\n",
      "203/845 - Cập nhật ảnh: https://cinema.momocdn.net/img/7c75f013-ead2-4b3c-963a-fb2cac97ec50-32334497063551737.jpg\n"
     ]
    },
    {
     "name": "stderr",
     "output_type": "stream",
     "text": [
      "C:\\Users\\ADMIN\\AppData\\Local\\Temp\\ipykernel_7724\\373337600.py:22: FutureWarning: Series.__getitem__ treating keys as positions is deprecated. In a future version, integer keys will always be treated as labels (consistent with DataFrame behavior). To access a value by position, use `ser.iloc[pos]`\n",
      "  link = row[1]  # Cột 1 chứa link review\n"
     ]
    },
    {
     "name": "stdout",
     "output_type": "stream",
     "text": [
      "204/845 - Cập nhật thể loại: Phiêu lưu, Khoa học - Viễn tưởng, Hành động, Hoạt hình\n",
      "204/845 - Cập nhật ảnh: https://cinema.momocdn.net/img/85633944391912277-54PmeEzQMvpojpJBku61ZGQnWUX.jpg\n"
     ]
    },
    {
     "name": "stderr",
     "output_type": "stream",
     "text": [
      "C:\\Users\\ADMIN\\AppData\\Local\\Temp\\ipykernel_7724\\373337600.py:22: FutureWarning: Series.__getitem__ treating keys as positions is deprecated. In a future version, integer keys will always be treated as labels (consistent with DataFrame behavior). To access a value by position, use `ser.iloc[pos]`\n",
      "  link = row[1]  # Cột 1 chứa link review\n"
     ]
    },
    {
     "name": "stdout",
     "output_type": "stream",
     "text": [
      "205/845 - Cập nhật thể loại: Gay cấn, Kinh dị, Giả tưởng\n",
      "205/845 - Cập nhật ảnh: https://cinema.momocdn.net/img/103932225762398377-w2BRJ9rl0Q1H2xpRNLByKZacr4L.jpg\n"
     ]
    },
    {
     "name": "stderr",
     "output_type": "stream",
     "text": [
      "C:\\Users\\ADMIN\\AppData\\Local\\Temp\\ipykernel_7724\\373337600.py:22: FutureWarning: Series.__getitem__ treating keys as positions is deprecated. In a future version, integer keys will always be treated as labels (consistent with DataFrame behavior). To access a value by position, use `ser.iloc[pos]`\n",
      "  link = row[1]  # Cột 1 chứa link review\n"
     ]
    },
    {
     "name": "stdout",
     "output_type": "stream",
     "text": [
      "206/845 - Cập nhật thể loại: Hình sự, Hài, Hành động\n",
      "206/845 - Cập nhật ảnh: https://cinema.momocdn.net/img/85815704642097333-xov3ufX4ZRyw2pSF3XLNjtvZPw4.jpg\n"
     ]
    },
    {
     "name": "stderr",
     "output_type": "stream",
     "text": [
      "C:\\Users\\ADMIN\\AppData\\Local\\Temp\\ipykernel_7724\\373337600.py:22: FutureWarning: Series.__getitem__ treating keys as positions is deprecated. In a future version, integer keys will always be treated as labels (consistent with DataFrame behavior). To access a value by position, use `ser.iloc[pos]`\n",
      "  link = row[1]  # Cột 1 chứa link review\n"
     ]
    },
    {
     "name": "stdout",
     "output_type": "stream",
     "text": [
      "207/845 - Cập nhật thể loại: Kinh dị\n",
      "207/845 - Cập nhật ảnh: https://cinema.momocdn.net/img/100910579312600155-640x396-ncq.jpg\n"
     ]
    },
    {
     "name": "stderr",
     "output_type": "stream",
     "text": [
      "C:\\Users\\ADMIN\\AppData\\Local\\Temp\\ipykernel_7724\\373337600.py:22: FutureWarning: Series.__getitem__ treating keys as positions is deprecated. In a future version, integer keys will always be treated as labels (consistent with DataFrame behavior). To access a value by position, use `ser.iloc[pos]`\n",
      "  link = row[1]  # Cột 1 chứa link review\n"
     ]
    },
    {
     "name": "stdout",
     "output_type": "stream",
     "text": [
      "208/845 - Cập nhật thể loại: Phiêu lưu, Khoa học - Viễn tưởng, Hành động, Hoạt hình\n",
      "208/845 - Cập nhật ảnh: https://homepage.momocdn.net/cinema/momo-cdn-api-220615142923-637909001637306000.jpg\n"
     ]
    },
    {
     "name": "stderr",
     "output_type": "stream",
     "text": [
      "C:\\Users\\ADMIN\\AppData\\Local\\Temp\\ipykernel_7724\\373337600.py:22: FutureWarning: Series.__getitem__ treating keys as positions is deprecated. In a future version, integer keys will always be treated as labels (consistent with DataFrame behavior). To access a value by position, use `ser.iloc[pos]`\n",
      "  link = row[1]  # Cột 1 chứa link review\n"
     ]
    },
    {
     "name": "stdout",
     "output_type": "stream",
     "text": [
      "209/845 - Cập nhật thể loại: Tình cảm, Hài\n",
      "209/845 - Cập nhật ảnh: https://cinema.momocdn.net/img/33649793532694854-1280wx720h.jpg\n"
     ]
    },
    {
     "name": "stderr",
     "output_type": "stream",
     "text": [
      "C:\\Users\\ADMIN\\AppData\\Local\\Temp\\ipykernel_7724\\373337600.py:22: FutureWarning: Series.__getitem__ treating keys as positions is deprecated. In a future version, integer keys will always be treated as labels (consistent with DataFrame behavior). To access a value by position, use `ser.iloc[pos]`\n",
      "  link = row[1]  # Cột 1 chứa link review\n"
     ]
    },
    {
     "name": "stdout",
     "output_type": "stream",
     "text": [
      "210/845 - Cập nhật thể loại: Gay cấn, Kinh dị\n",
      "210/845 - Cập nhật ảnh: https://image.tmdb.org/t/p/w780/1LSMstNHwJnJD7tpnb8gZcgGNQR.jpg\n"
     ]
    },
    {
     "name": "stderr",
     "output_type": "stream",
     "text": [
      "C:\\Users\\ADMIN\\AppData\\Local\\Temp\\ipykernel_7724\\373337600.py:22: FutureWarning: Series.__getitem__ treating keys as positions is deprecated. In a future version, integer keys will always be treated as labels (consistent with DataFrame behavior). To access a value by position, use `ser.iloc[pos]`\n",
      "  link = row[1]  # Cột 1 chứa link review\n"
     ]
    },
    {
     "name": "stdout",
     "output_type": "stream",
     "text": [
      "211/845 - Cập nhật thể loại: Chính kịch, Gay cấn, Bí ẩn\n",
      "211/845 - Cập nhật ảnh: https://cinema.momocdn.net/img/1869846491636635-dhfU1d6V25BGEHDAoPrERQFmsl2.jpg\n"
     ]
    },
    {
     "name": "stderr",
     "output_type": "stream",
     "text": [
      "C:\\Users\\ADMIN\\AppData\\Local\\Temp\\ipykernel_7724\\373337600.py:22: FutureWarning: Series.__getitem__ treating keys as positions is deprecated. In a future version, integer keys will always be treated as labels (consistent with DataFrame behavior). To access a value by position, use `ser.iloc[pos]`\n",
      "  link = row[1]  # Cột 1 chứa link review\n"
     ]
    },
    {
     "name": "stdout",
     "output_type": "stream",
     "text": [
      "212/845 - Cập nhật thể loại: Gia đình, Giả tưởng, Hài, Hoạt hình\n",
      "212/845 - Cập nhật ảnh: https://cinema.momocdn.net/img/57931658546448504-FzntbxhtPGp5gVmie16ry3k7Ow.jpg\n"
     ]
    },
    {
     "name": "stderr",
     "output_type": "stream",
     "text": [
      "C:\\Users\\ADMIN\\AppData\\Local\\Temp\\ipykernel_7724\\373337600.py:22: FutureWarning: Series.__getitem__ treating keys as positions is deprecated. In a future version, integer keys will always be treated as labels (consistent with DataFrame behavior). To access a value by position, use `ser.iloc[pos]`\n",
      "  link = row[1]  # Cột 1 chứa link review\n"
     ]
    },
    {
     "name": "stdout",
     "output_type": "stream",
     "text": [
      "213/845 - Cập nhật thể loại: Chính kịch, Phiêu lưu, Hành động\n",
      "213/845 - Cập nhật ảnh: https://cinema.momocdn.net/img/59075876829131350-eLlglZsphAtqknkMsS39gswYaRn.jpg\n"
     ]
    },
    {
     "name": "stderr",
     "output_type": "stream",
     "text": [
      "C:\\Users\\ADMIN\\AppData\\Local\\Temp\\ipykernel_7724\\373337600.py:22: FutureWarning: Series.__getitem__ treating keys as positions is deprecated. In a future version, integer keys will always be treated as labels (consistent with DataFrame behavior). To access a value by position, use `ser.iloc[pos]`\n",
      "  link = row[1]  # Cột 1 chứa link review\n"
     ]
    },
    {
     "name": "stdout",
     "output_type": "stream",
     "text": [
      "214/845 - Cập nhật thể loại: Gay cấn, Kinh dị\n",
      "214/845 - Cập nhật ảnh: https://cinema.momocdn.net/img/22256683797545579-whB2PJfxrDWwwksprliJTjYbcZJ.jpg\n"
     ]
    },
    {
     "name": "stderr",
     "output_type": "stream",
     "text": [
      "C:\\Users\\ADMIN\\AppData\\Local\\Temp\\ipykernel_7724\\373337600.py:22: FutureWarning: Series.__getitem__ treating keys as positions is deprecated. In a future version, integer keys will always be treated as labels (consistent with DataFrame behavior). To access a value by position, use `ser.iloc[pos]`\n",
      "  link = row[1]  # Cột 1 chứa link review\n"
     ]
    },
    {
     "name": "stdout",
     "output_type": "stream",
     "text": [
      "215/845 - Cập nhật thể loại: Ma, Kinh dị\n",
      "215/845 - Cập nhật ảnh: https://cinema.momocdn.net/img/9bc5e042-cebf-492c-8b33-56151a69fd04-67607886538841908.jpg\n"
     ]
    },
    {
     "name": "stderr",
     "output_type": "stream",
     "text": [
      "C:\\Users\\ADMIN\\AppData\\Local\\Temp\\ipykernel_7724\\373337600.py:22: FutureWarning: Series.__getitem__ treating keys as positions is deprecated. In a future version, integer keys will always be treated as labels (consistent with DataFrame behavior). To access a value by position, use `ser.iloc[pos]`\n",
      "  link = row[1]  # Cột 1 chứa link review\n"
     ]
    },
    {
     "name": "stdout",
     "output_type": "stream",
     "text": [
      "216/845 - Cập nhật thể loại: Phiêu lưu, Khoa học - Viễn tưởng, Hành động\n",
      "216/845 - Cập nhật ảnh: https://cinema.momocdn.net/img/12752509469135543-cHmNFjMPNY7lt8BiMD95rAfHMZu.jpg\n"
     ]
    },
    {
     "name": "stderr",
     "output_type": "stream",
     "text": [
      "C:\\Users\\ADMIN\\AppData\\Local\\Temp\\ipykernel_7724\\373337600.py:22: FutureWarning: Series.__getitem__ treating keys as positions is deprecated. In a future version, integer keys will always be treated as labels (consistent with DataFrame behavior). To access a value by position, use `ser.iloc[pos]`\n",
      "  link = row[1]  # Cột 1 chứa link review\n"
     ]
    },
    {
     "name": "stdout",
     "output_type": "stream",
     "text": [
      "217/845 - Cập nhật thể loại: Tình cảm, Hài, Lãng mạn\n",
      "217/845 - Cập nhật ảnh: https://cinema.momocdn.net/img/27194122555873293-9Rpzr3ViIcoPSDPdCy2pYFhRMqz.jpg\n"
     ]
    },
    {
     "name": "stderr",
     "output_type": "stream",
     "text": [
      "C:\\Users\\ADMIN\\AppData\\Local\\Temp\\ipykernel_7724\\373337600.py:22: FutureWarning: Series.__getitem__ treating keys as positions is deprecated. In a future version, integer keys will always be treated as labels (consistent with DataFrame behavior). To access a value by position, use `ser.iloc[pos]`\n",
      "  link = row[1]  # Cột 1 chứa link review\n"
     ]
    },
    {
     "name": "stdout",
     "output_type": "stream",
     "text": [
      "218/845 - Cập nhật thể loại: Chính kịch, Hài, Hoạt hình, Thể thao\n",
      "218/845 - Cập nhật ảnh: https://cinema.momocdn.net/img/6606965690142411-zjpYDQlhvrAaohKRShu522sKJ87.jpg\n"
     ]
    },
    {
     "name": "stderr",
     "output_type": "stream",
     "text": [
      "C:\\Users\\ADMIN\\AppData\\Local\\Temp\\ipykernel_7724\\373337600.py:22: FutureWarning: Series.__getitem__ treating keys as positions is deprecated. In a future version, integer keys will always be treated as labels (consistent with DataFrame behavior). To access a value by position, use `ser.iloc[pos]`\n",
      "  link = row[1]  # Cột 1 chứa link review\n"
     ]
    },
    {
     "name": "stdout",
     "output_type": "stream",
     "text": [
      "219/845 - Cập nhật thể loại: Ma, Kinh dị\n",
      "219/845 - Cập nhật ảnh: https://image.tmdb.org/t/p/w780/rzN3ZrvRnN6gqGf4YNRuy6gIUg9.jpg\n"
     ]
    },
    {
     "name": "stderr",
     "output_type": "stream",
     "text": [
      "C:\\Users\\ADMIN\\AppData\\Local\\Temp\\ipykernel_7724\\373337600.py:22: FutureWarning: Series.__getitem__ treating keys as positions is deprecated. In a future version, integer keys will always be treated as labels (consistent with DataFrame behavior). To access a value by position, use `ser.iloc[pos]`\n",
      "  link = row[1]  # Cột 1 chứa link review\n"
     ]
    },
    {
     "name": "stdout",
     "output_type": "stream",
     "text": [
      "220/845 - Cập nhật thể loại: Phiêu lưu, Hành động\n",
      "220/845 - Cập nhật ảnh: https://cinema.momocdn.net/img/51740683338487232-8mjYwWT50GkRrrRdyHzJorfEfcl.jpg\n"
     ]
    },
    {
     "name": "stderr",
     "output_type": "stream",
     "text": [
      "C:\\Users\\ADMIN\\AppData\\Local\\Temp\\ipykernel_7724\\373337600.py:22: FutureWarning: Series.__getitem__ treating keys as positions is deprecated. In a future version, integer keys will always be treated as labels (consistent with DataFrame behavior). To access a value by position, use `ser.iloc[pos]`\n",
      "  link = row[1]  # Cột 1 chứa link review\n"
     ]
    },
    {
     "name": "stdout",
     "output_type": "stream",
     "text": [
      "221/845 - Cập nhật thể loại: Chính kịch\n",
      "221/845 - Cập nhật ảnh: https://cinema.momocdn.net/img/3523339645022618-eSSZgM4vMcA4XK2FPptLa9NFsAs.jpg\n"
     ]
    },
    {
     "name": "stderr",
     "output_type": "stream",
     "text": [
      "C:\\Users\\ADMIN\\AppData\\Local\\Temp\\ipykernel_7724\\373337600.py:22: FutureWarning: Series.__getitem__ treating keys as positions is deprecated. In a future version, integer keys will always be treated as labels (consistent with DataFrame behavior). To access a value by position, use `ser.iloc[pos]`\n",
      "  link = row[1]  # Cột 1 chứa link review\n"
     ]
    },
    {
     "name": "stdout",
     "output_type": "stream",
     "text": [
      "222/845 - Cập nhật thể loại: Chính kịch, Âm Nhạc, Tài liệu\n",
      "222/845 - Cập nhật ảnh: https://cinema.momocdn.net/img/4185682583905222-tri-am-the-movie-nguoi-giu-thoi-gian-700.jpg\n"
     ]
    },
    {
     "name": "stderr",
     "output_type": "stream",
     "text": [
      "C:\\Users\\ADMIN\\AppData\\Local\\Temp\\ipykernel_7724\\373337600.py:22: FutureWarning: Series.__getitem__ treating keys as positions is deprecated. In a future version, integer keys will always be treated as labels (consistent with DataFrame behavior). To access a value by position, use `ser.iloc[pos]`\n",
      "  link = row[1]  # Cột 1 chứa link review\n"
     ]
    },
    {
     "name": "stdout",
     "output_type": "stream",
     "text": [
      "223/845 - Cập nhật thể loại: Gay cấn, Kinh dị\n",
      "223/845 - Cập nhật ảnh: https://cinema.momocdn.net/img/1778205748608189-jBDPhmB0LJ6fYTRatzqOsWp8lJw.jpg\n"
     ]
    },
    {
     "name": "stderr",
     "output_type": "stream",
     "text": [
      "C:\\Users\\ADMIN\\AppData\\Local\\Temp\\ipykernel_7724\\373337600.py:22: FutureWarning: Series.__getitem__ treating keys as positions is deprecated. In a future version, integer keys will always be treated as labels (consistent with DataFrame behavior). To access a value by position, use `ser.iloc[pos]`\n",
      "  link = row[1]  # Cột 1 chứa link review\n"
     ]
    },
    {
     "name": "stdout",
     "output_type": "stream",
     "text": [
      "224/845 - Cập nhật thể loại: Ma, Kinh dị\n",
      "224/845 - Cập nhật ảnh: https://cinema.momocdn.net/img/25293269535404629-siSlEv6zRUU1kUSKfPoK2zWDQIK.jpg\n"
     ]
    },
    {
     "name": "stderr",
     "output_type": "stream",
     "text": [
      "C:\\Users\\ADMIN\\AppData\\Local\\Temp\\ipykernel_7724\\373337600.py:22: FutureWarning: Series.__getitem__ treating keys as positions is deprecated. In a future version, integer keys will always be treated as labels (consistent with DataFrame behavior). To access a value by position, use `ser.iloc[pos]`\n",
      "  link = row[1]  # Cột 1 chứa link review\n"
     ]
    },
    {
     "name": "stdout",
     "output_type": "stream",
     "text": [
      "225/845 - Cập nhật thể loại: Thảm hoạ\n",
      "225/845 - Cập nhật ảnh: https://cinema.momocdn.net/img/18545612816021684-posterofficial-1692413263406628096248-18-0-693-1080-crop-16924134844361146234724.jpg\n"
     ]
    },
    {
     "name": "stderr",
     "output_type": "stream",
     "text": [
      "C:\\Users\\ADMIN\\AppData\\Local\\Temp\\ipykernel_7724\\373337600.py:22: FutureWarning: Series.__getitem__ treating keys as positions is deprecated. In a future version, integer keys will always be treated as labels (consistent with DataFrame behavior). To access a value by position, use `ser.iloc[pos]`\n",
      "  link = row[1]  # Cột 1 chứa link review\n"
     ]
    },
    {
     "name": "stdout",
     "output_type": "stream",
     "text": [
      "226/845 - Cập nhật thể loại: Tâm lý, Hài, Lãng mạn\n",
      "226/845 - Cập nhật ảnh: https://homepage.momocdn.net/cinema/momo-cdn-api-220615135321-637908980013854990.jpg\n"
     ]
    },
    {
     "name": "stderr",
     "output_type": "stream",
     "text": [
      "C:\\Users\\ADMIN\\AppData\\Local\\Temp\\ipykernel_7724\\373337600.py:22: FutureWarning: Series.__getitem__ treating keys as positions is deprecated. In a future version, integer keys will always be treated as labels (consistent with DataFrame behavior). To access a value by position, use `ser.iloc[pos]`\n",
      "  link = row[1]  # Cột 1 chứa link review\n"
     ]
    },
    {
     "name": "stdout",
     "output_type": "stream",
     "text": [
      "227/845 - Cập nhật thể loại: Kinh dị\n",
      "227/845 - Cập nhật ảnh: https://homepage.momocdn.net/cinema/momo-cdn-api-220624113003-637916670036729145.jpg\n"
     ]
    },
    {
     "name": "stderr",
     "output_type": "stream",
     "text": [
      "C:\\Users\\ADMIN\\AppData\\Local\\Temp\\ipykernel_7724\\373337600.py:22: FutureWarning: Series.__getitem__ treating keys as positions is deprecated. In a future version, integer keys will always be treated as labels (consistent with DataFrame behavior). To access a value by position, use `ser.iloc[pos]`\n",
      "  link = row[1]  # Cột 1 chứa link review\n"
     ]
    },
    {
     "name": "stdout",
     "output_type": "stream",
     "text": [
      "228/845 - Cập nhật thể loại: Bí ẩn, Gay cấn\n",
      "228/845 - Cập nhật ảnh: https://cinema.momocdn.net/img/81744626251182171-hc8U8eNUqbuGTsIHWFrwwxh4yPd.jpg\n"
     ]
    },
    {
     "name": "stderr",
     "output_type": "stream",
     "text": [
      "C:\\Users\\ADMIN\\AppData\\Local\\Temp\\ipykernel_7724\\373337600.py:22: FutureWarning: Series.__getitem__ treating keys as positions is deprecated. In a future version, integer keys will always be treated as labels (consistent with DataFrame behavior). To access a value by position, use `ser.iloc[pos]`\n",
      "  link = row[1]  # Cột 1 chứa link review\n"
     ]
    },
    {
     "name": "stdout",
     "output_type": "stream",
     "text": [
      "229/845 - Cập nhật thể loại: Gay cấn, Kinh dị\n",
      "229/845 - Cập nhật ảnh: https://cinema.momocdn.net/img/59078933710903969-5jYHS05uc6LlqnH7RPCEGENFP2z.jpg\n"
     ]
    },
    {
     "name": "stderr",
     "output_type": "stream",
     "text": [
      "C:\\Users\\ADMIN\\AppData\\Local\\Temp\\ipykernel_7724\\373337600.py:22: FutureWarning: Series.__getitem__ treating keys as positions is deprecated. In a future version, integer keys will always be treated as labels (consistent with DataFrame behavior). To access a value by position, use `ser.iloc[pos]`\n",
      "  link = row[1]  # Cột 1 chứa link review\n"
     ]
    },
    {
     "name": "stdout",
     "output_type": "stream",
     "text": [
      "230/845 - Cập nhật thể loại: Siêu anh hùng, Khoa học - Viễn tưởng, Hành động\n",
      "230/845 - Cập nhật ảnh: https://cinema.momocdn.net/img/12074703954848139-5914585749257504-mJ4ypfXnU6Ke15gf4MWwSjIHoHs.jpg\n"
     ]
    },
    {
     "name": "stderr",
     "output_type": "stream",
     "text": [
      "C:\\Users\\ADMIN\\AppData\\Local\\Temp\\ipykernel_7724\\373337600.py:22: FutureWarning: Series.__getitem__ treating keys as positions is deprecated. In a future version, integer keys will always be treated as labels (consistent with DataFrame behavior). To access a value by position, use `ser.iloc[pos]`\n",
      "  link = row[1]  # Cột 1 chứa link review\n"
     ]
    },
    {
     "name": "stdout",
     "output_type": "stream",
     "text": [
      "231/845 - Cập nhật thể loại: Siêu anh hùng, Khoa học - Viễn tưởng, Hài, Hành động\n",
      "231/845 - Cập nhật ảnh: https://cinema.momocdn.net/img/78933142712121817-lKoIpmbmd9vcjwgkmnVRp8YZEe3.jpg\n"
     ]
    },
    {
     "name": "stderr",
     "output_type": "stream",
     "text": [
      "C:\\Users\\ADMIN\\AppData\\Local\\Temp\\ipykernel_7724\\373337600.py:22: FutureWarning: Series.__getitem__ treating keys as positions is deprecated. In a future version, integer keys will always be treated as labels (consistent with DataFrame behavior). To access a value by position, use `ser.iloc[pos]`\n",
      "  link = row[1]  # Cột 1 chứa link review\n"
     ]
    },
    {
     "name": "stdout",
     "output_type": "stream",
     "text": [
      "232/845 - Cập nhật thể loại: Gia đình, Âm Nhạc, Phiêu lưu, Khoa học - Viễn tưởng, Hài, Hoạt hình\n",
      "232/845 - Cập nhật ảnh: https://homepage.momocdn.net/cinema/momo-cdn-api-220615142436-637908998764815296.jpg\n"
     ]
    },
    {
     "name": "stderr",
     "output_type": "stream",
     "text": [
      "C:\\Users\\ADMIN\\AppData\\Local\\Temp\\ipykernel_7724\\373337600.py:22: FutureWarning: Series.__getitem__ treating keys as positions is deprecated. In a future version, integer keys will always be treated as labels (consistent with DataFrame behavior). To access a value by position, use `ser.iloc[pos]`\n",
      "  link = row[1]  # Cột 1 chứa link review\n"
     ]
    },
    {
     "name": "stdout",
     "output_type": "stream",
     "text": [
      "233/845 - Cập nhật thể loại: Phiêu lưu, Khoa học - Viễn tưởng, Hành động\n",
      "233/845 - Cập nhật ảnh: https://homepage.momocdn.net/cinema/momo-cdn-api-220615142814-637909000947870630.jpg\n"
     ]
    },
    {
     "name": "stderr",
     "output_type": "stream",
     "text": [
      "C:\\Users\\ADMIN\\AppData\\Local\\Temp\\ipykernel_7724\\373337600.py:22: FutureWarning: Series.__getitem__ treating keys as positions is deprecated. In a future version, integer keys will always be treated as labels (consistent with DataFrame behavior). To access a value by position, use `ser.iloc[pos]`\n",
      "  link = row[1]  # Cột 1 chứa link review\n"
     ]
    },
    {
     "name": "stdout",
     "output_type": "stream",
     "text": [
      "234/845 - Cập nhật thể loại: Gay cấn, Kinh dị\n",
      "234/845 - Cập nhật ảnh: https://cinema.momocdn.net/img/16299530772843579-ksPPn1SI3AhGy4WHpQfoHFVXwwe.jpg\n"
     ]
    },
    {
     "name": "stderr",
     "output_type": "stream",
     "text": [
      "C:\\Users\\ADMIN\\AppData\\Local\\Temp\\ipykernel_7724\\373337600.py:22: FutureWarning: Series.__getitem__ treating keys as positions is deprecated. In a future version, integer keys will always be treated as labels (consistent with DataFrame behavior). To access a value by position, use `ser.iloc[pos]`\n",
      "  link = row[1]  # Cột 1 chứa link review\n"
     ]
    },
    {
     "name": "stdout",
     "output_type": "stream",
     "text": [
      "235/845 - Cập nhật thể loại: Gay cấn, Phiêu lưu, Khoa học - Viễn tưởng, Hành động\n",
      "235/845 - Cập nhật ảnh: https://homepage.momocdn.net/cinema/momo-cdn-api-220615143049-637909002493728824.jpg\n"
     ]
    },
    {
     "name": "stderr",
     "output_type": "stream",
     "text": [
      "C:\\Users\\ADMIN\\AppData\\Local\\Temp\\ipykernel_7724\\373337600.py:22: FutureWarning: Series.__getitem__ treating keys as positions is deprecated. In a future version, integer keys will always be treated as labels (consistent with DataFrame behavior). To access a value by position, use `ser.iloc[pos]`\n",
      "  link = row[1]  # Cột 1 chứa link review\n"
     ]
    },
    {
     "name": "stdout",
     "output_type": "stream",
     "text": [
      "236/845 - Cập nhật thể loại: Chính kịch, Hoạt hình\n",
      "236/845 - Cập nhật ảnh: https://cinema.momocdn.net/img/76660972645367515-ferCaHqwvh1r5SiIfToT9qZHNaL.jpg\n"
     ]
    },
    {
     "name": "stderr",
     "output_type": "stream",
     "text": [
      "C:\\Users\\ADMIN\\AppData\\Local\\Temp\\ipykernel_7724\\373337600.py:22: FutureWarning: Series.__getitem__ treating keys as positions is deprecated. In a future version, integer keys will always be treated as labels (consistent with DataFrame behavior). To access a value by position, use `ser.iloc[pos]`\n",
      "  link = row[1]  # Cột 1 chứa link review\n"
     ]
    },
    {
     "name": "stdout",
     "output_type": "stream",
     "text": [
      "237/845 - Cập nhật thể loại: Bí ẩn, Phiêu lưu, Khoa học - Viễn tưởng\n",
      "237/845 - Cập nhật ảnh: https://homepage.momocdn.net/cinema/momo-cdn-api-220615142730-637909000506582830.jpg\n"
     ]
    },
    {
     "name": "stderr",
     "output_type": "stream",
     "text": [
      "C:\\Users\\ADMIN\\AppData\\Local\\Temp\\ipykernel_7724\\373337600.py:22: FutureWarning: Series.__getitem__ treating keys as positions is deprecated. In a future version, integer keys will always be treated as labels (consistent with DataFrame behavior). To access a value by position, use `ser.iloc[pos]`\n",
      "  link = row[1]  # Cột 1 chứa link review\n"
     ]
    },
    {
     "name": "stdout",
     "output_type": "stream",
     "text": [
      "238/845 - Cập nhật thể loại: Hài, Lãng mạn\n",
      "238/845 - Cập nhật ảnh: https://homepage.momocdn.net/cinema/momo-cdn-api-220615142425-637908998655957681.jpg\n"
     ]
    },
    {
     "name": "stderr",
     "output_type": "stream",
     "text": [
      "C:\\Users\\ADMIN\\AppData\\Local\\Temp\\ipykernel_7724\\373337600.py:22: FutureWarning: Series.__getitem__ treating keys as positions is deprecated. In a future version, integer keys will always be treated as labels (consistent with DataFrame behavior). To access a value by position, use `ser.iloc[pos]`\n",
      "  link = row[1]  # Cột 1 chứa link review\n"
     ]
    },
    {
     "name": "stdout",
     "output_type": "stream",
     "text": [
      "239/845 - Cập nhật thể loại: Chính kịch\n",
      "239/845 - Cập nhật ảnh: https://image.tmdb.org/t/p/w780/N3pqL3tOaG3cVGv1DMEwKulzdC.jpg\n"
     ]
    },
    {
     "name": "stderr",
     "output_type": "stream",
     "text": [
      "C:\\Users\\ADMIN\\AppData\\Local\\Temp\\ipykernel_7724\\373337600.py:22: FutureWarning: Series.__getitem__ treating keys as positions is deprecated. In a future version, integer keys will always be treated as labels (consistent with DataFrame behavior). To access a value by position, use `ser.iloc[pos]`\n",
      "  link = row[1]  # Cột 1 chứa link review\n"
     ]
    },
    {
     "name": "stdout",
     "output_type": "stream",
     "text": [
      "240/845 - Cập nhật thể loại: Gay cấn, Kinh dị\n",
      "240/845 - Cập nhật ảnh: https://cinema.momocdn.net/img/33661626958971318-mKABkaVXweZXWUrGfhvONnm5m1m.jpg\n"
     ]
    },
    {
     "name": "stderr",
     "output_type": "stream",
     "text": [
      "C:\\Users\\ADMIN\\AppData\\Local\\Temp\\ipykernel_7724\\373337600.py:22: FutureWarning: Series.__getitem__ treating keys as positions is deprecated. In a future version, integer keys will always be treated as labels (consistent with DataFrame behavior). To access a value by position, use `ser.iloc[pos]`\n",
      "  link = row[1]  # Cột 1 chứa link review\n"
     ]
    },
    {
     "name": "stdout",
     "output_type": "stream",
     "text": [
      "241/845 - Cập nhật thể loại: Kinh dị, Phiêu lưu\n",
      "241/845 - Cập nhật ảnh: https://homepage.momocdn.net/cinema/momo-cdn-api-220615142229-637908997497368698.jpg\n"
     ]
    },
    {
     "name": "stderr",
     "output_type": "stream",
     "text": [
      "C:\\Users\\ADMIN\\AppData\\Local\\Temp\\ipykernel_7724\\373337600.py:22: FutureWarning: Series.__getitem__ treating keys as positions is deprecated. In a future version, integer keys will always be treated as labels (consistent with DataFrame behavior). To access a value by position, use `ser.iloc[pos]`\n",
      "  link = row[1]  # Cột 1 chứa link review\n"
     ]
    },
    {
     "name": "stdout",
     "output_type": "stream",
     "text": [
      "242/845 - Cập nhật thể loại: Gay cấn, Kinh dị\n",
      "242/845 - Cập nhật ảnh: https://cinema.momocdn.net/img/80187507856383526-co-gi-moi-o-phim-zombie-dau-tien-tai-viet-nam-lost-in-mekong-delta-9dd-6275603.png\n"
     ]
    },
    {
     "name": "stderr",
     "output_type": "stream",
     "text": [
      "C:\\Users\\ADMIN\\AppData\\Local\\Temp\\ipykernel_7724\\373337600.py:22: FutureWarning: Series.__getitem__ treating keys as positions is deprecated. In a future version, integer keys will always be treated as labels (consistent with DataFrame behavior). To access a value by position, use `ser.iloc[pos]`\n",
      "  link = row[1]  # Cột 1 chứa link review\n"
     ]
    },
    {
     "name": "stdout",
     "output_type": "stream",
     "text": [
      "243/845 - Cập nhật thể loại: Gia đình, Hài, Hoạt hình\n",
      "243/845 - Cập nhật ảnh: https://cinema.momocdn.net/img/20013130993837262-fwXeTKmJvlv7kbH8QDmbykGfMeK.jpg\n"
     ]
    },
    {
     "name": "stderr",
     "output_type": "stream",
     "text": [
      "C:\\Users\\ADMIN\\AppData\\Local\\Temp\\ipykernel_7724\\373337600.py:22: FutureWarning: Series.__getitem__ treating keys as positions is deprecated. In a future version, integer keys will always be treated as labels (consistent with DataFrame behavior). To access a value by position, use `ser.iloc[pos]`\n",
      "  link = row[1]  # Cột 1 chứa link review\n"
     ]
    },
    {
     "name": "stdout",
     "output_type": "stream",
     "text": [
      "244/845 - Cập nhật thể loại: Bí ẩn, Hình sự, Hành động, Hoạt hình\n",
      "244/845 - Cập nhật ảnh: https://homepage.momocdn.net/cinema/momo-cdn-api-220615143142-637909003020510101.jpg\n"
     ]
    },
    {
     "name": "stderr",
     "output_type": "stream",
     "text": [
      "C:\\Users\\ADMIN\\AppData\\Local\\Temp\\ipykernel_7724\\373337600.py:22: FutureWarning: Series.__getitem__ treating keys as positions is deprecated. In a future version, integer keys will always be treated as labels (consistent with DataFrame behavior). To access a value by position, use `ser.iloc[pos]`\n",
      "  link = row[1]  # Cột 1 chứa link review\n"
     ]
    },
    {
     "name": "stdout",
     "output_type": "stream",
     "text": [
      "245/845 - Cập nhật thể loại: Chiến tranh, Kinh dị, Hài, Lãng mạn\n",
      "245/845 - Cập nhật ảnh: https://image.tmdb.org/t/p/w780/5gfPmQ4hHjyuRZ0HK0wwbRcNnfy.jpg\n"
     ]
    },
    {
     "name": "stderr",
     "output_type": "stream",
     "text": [
      "C:\\Users\\ADMIN\\AppData\\Local\\Temp\\ipykernel_7724\\373337600.py:22: FutureWarning: Series.__getitem__ treating keys as positions is deprecated. In a future version, integer keys will always be treated as labels (consistent with DataFrame behavior). To access a value by position, use `ser.iloc[pos]`\n",
      "  link = row[1]  # Cột 1 chứa link review\n"
     ]
    },
    {
     "name": "stdout",
     "output_type": "stream",
     "text": [
      "246/845 - Cập nhật thể loại: Bí ẩn, Ma, Kinh dị\n",
      "246/845 - Cập nhật ảnh: https://cinema.momocdn.net/img/29776348194868010-cCBVpqqFHavVJofPCTHFfQWTuV2.jpg\n"
     ]
    },
    {
     "name": "stderr",
     "output_type": "stream",
     "text": [
      "C:\\Users\\ADMIN\\AppData\\Local\\Temp\\ipykernel_7724\\373337600.py:22: FutureWarning: Series.__getitem__ treating keys as positions is deprecated. In a future version, integer keys will always be treated as labels (consistent with DataFrame behavior). To access a value by position, use `ser.iloc[pos]`\n",
      "  link = row[1]  # Cột 1 chứa link review\n"
     ]
    },
    {
     "name": "stdout",
     "output_type": "stream",
     "text": [
      "247/845 - Cập nhật thể loại: Chính kịch, Tình cảm, Lãng mạn\n",
      "247/845 - Cập nhật ảnh: https://cinema.momocdn.net/img/83315402615938101-wiJJkVqJbt9a696NUDzc1gq0t1w.jpg\n"
     ]
    },
    {
     "name": "stderr",
     "output_type": "stream",
     "text": [
      "C:\\Users\\ADMIN\\AppData\\Local\\Temp\\ipykernel_7724\\373337600.py:22: FutureWarning: Series.__getitem__ treating keys as positions is deprecated. In a future version, integer keys will always be treated as labels (consistent with DataFrame behavior). To access a value by position, use `ser.iloc[pos]`\n",
      "  link = row[1]  # Cột 1 chứa link review\n"
     ]
    },
    {
     "name": "stdout",
     "output_type": "stream",
     "text": [
      "248/845 - Cập nhật thể loại: Gia đình, Âm Nhạc, Hài, Hoạt hình\n",
      "248/845 - Cập nhật ảnh: https://cinema.momocdn.net/img/12753097886498485-kueIokSk4iVasBCI83ntzIvIhMH.jpg\n"
     ]
    },
    {
     "name": "stderr",
     "output_type": "stream",
     "text": [
      "C:\\Users\\ADMIN\\AppData\\Local\\Temp\\ipykernel_7724\\373337600.py:22: FutureWarning: Series.__getitem__ treating keys as positions is deprecated. In a future version, integer keys will always be treated as labels (consistent with DataFrame behavior). To access a value by position, use `ser.iloc[pos]`\n",
      "  link = row[1]  # Cột 1 chứa link review\n"
     ]
    },
    {
     "name": "stdout",
     "output_type": "stream",
     "text": [
      "249/845 - Cập nhật thể loại: Kinh dị, Khoa học - Viễn tưởng, Hành động\n",
      "249/845 - Cập nhật ảnh: https://homepage.momocdn.net/cinema/momo-cdn-api-220615142904-637909001446321279.jpg\n"
     ]
    },
    {
     "name": "stderr",
     "output_type": "stream",
     "text": [
      "C:\\Users\\ADMIN\\AppData\\Local\\Temp\\ipykernel_7724\\373337600.py:22: FutureWarning: Series.__getitem__ treating keys as positions is deprecated. In a future version, integer keys will always be treated as labels (consistent with DataFrame behavior). To access a value by position, use `ser.iloc[pos]`\n",
      "  link = row[1]  # Cột 1 chứa link review\n"
     ]
    },
    {
     "name": "stdout",
     "output_type": "stream",
     "text": [
      "250/845 - Cập nhật thể loại: Phiêu lưu, Khoa học - Viễn tưởng, Hành động\n",
      "250/845 - Cập nhật ảnh: https://cinema.momocdn.net/img/25379668322107554-9DeGfFIqjph5CBFVQrD6wv9S7rR.jpg\n"
     ]
    },
    {
     "name": "stderr",
     "output_type": "stream",
     "text": [
      "C:\\Users\\ADMIN\\AppData\\Local\\Temp\\ipykernel_7724\\373337600.py:22: FutureWarning: Series.__getitem__ treating keys as positions is deprecated. In a future version, integer keys will always be treated as labels (consistent with DataFrame behavior). To access a value by position, use `ser.iloc[pos]`\n",
      "  link = row[1]  # Cột 1 chứa link review\n"
     ]
    },
    {
     "name": "stdout",
     "output_type": "stream",
     "text": [
      "251/845 - Cập nhật thể loại: Hài, Hành động\n",
      "251/845 - Cập nhật ảnh: https://cinema.momocdn.net/img/1952e8cb-5b1b-4ac8-854f-404cafc9c99a-4256160202198588.png\n"
     ]
    },
    {
     "name": "stderr",
     "output_type": "stream",
     "text": [
      "C:\\Users\\ADMIN\\AppData\\Local\\Temp\\ipykernel_7724\\373337600.py:22: FutureWarning: Series.__getitem__ treating keys as positions is deprecated. In a future version, integer keys will always be treated as labels (consistent with DataFrame behavior). To access a value by position, use `ser.iloc[pos]`\n",
      "  link = row[1]  # Cột 1 chứa link review\n"
     ]
    },
    {
     "name": "stdout",
     "output_type": "stream",
     "text": [
      "252/845 - Cập nhật thể loại: Hài\n",
      "252/845 - Cập nhật ảnh: https://homepage.momocdn.net/cinema/momo-upload-api-230404153312-638162191929332477.jpeg\n"
     ]
    },
    {
     "name": "stderr",
     "output_type": "stream",
     "text": [
      "C:\\Users\\ADMIN\\AppData\\Local\\Temp\\ipykernel_7724\\373337600.py:22: FutureWarning: Series.__getitem__ treating keys as positions is deprecated. In a future version, integer keys will always be treated as labels (consistent with DataFrame behavior). To access a value by position, use `ser.iloc[pos]`\n",
      "  link = row[1]  # Cột 1 chứa link review\n"
     ]
    },
    {
     "name": "stdout",
     "output_type": "stream",
     "text": [
      "253/845 - Cập nhật thể loại: Phiêu lưu, Giả tưởng, Hài\n",
      "253/845 - Cập nhật ảnh: https://cinema.momocdn.net/img/35133717626778408-8uE04zwjNSwMCEDklVmFVL3hZyM.jpg\n"
     ]
    },
    {
     "name": "stderr",
     "output_type": "stream",
     "text": [
      "C:\\Users\\ADMIN\\AppData\\Local\\Temp\\ipykernel_7724\\373337600.py:22: FutureWarning: Series.__getitem__ treating keys as positions is deprecated. In a future version, integer keys will always be treated as labels (consistent with DataFrame behavior). To access a value by position, use `ser.iloc[pos]`\n",
      "  link = row[1]  # Cột 1 chứa link review\n"
     ]
    },
    {
     "name": "stdout",
     "output_type": "stream",
     "text": [
      "254/845 - Cập nhật thể loại: Ma, Kinh dị\n",
      "254/845 - Cập nhật ảnh: https://cinema.momocdn.net/img/86859449221271820-qXelLqhJxs9eCyH6lMaEKuOMfJ5.jpg\n"
     ]
    },
    {
     "name": "stderr",
     "output_type": "stream",
     "text": [
      "C:\\Users\\ADMIN\\AppData\\Local\\Temp\\ipykernel_7724\\373337600.py:22: FutureWarning: Series.__getitem__ treating keys as positions is deprecated. In a future version, integer keys will always be treated as labels (consistent with DataFrame behavior). To access a value by position, use `ser.iloc[pos]`\n",
      "  link = row[1]  # Cột 1 chứa link review\n"
     ]
    },
    {
     "name": "stdout",
     "output_type": "stream",
     "text": [
      "255/845 - Cập nhật thể loại: Kinh dị, Khoa học - Viễn tưởng\n",
      "255/845 - Cập nhật ảnh: https://cinema.momocdn.net/img/85815110347495274-m3gan.jpg\n"
     ]
    },
    {
     "name": "stderr",
     "output_type": "stream",
     "text": [
      "C:\\Users\\ADMIN\\AppData\\Local\\Temp\\ipykernel_7724\\373337600.py:22: FutureWarning: Series.__getitem__ treating keys as positions is deprecated. In a future version, integer keys will always be treated as labels (consistent with DataFrame behavior). To access a value by position, use `ser.iloc[pos]`\n",
      "  link = row[1]  # Cột 1 chứa link review\n"
     ]
    },
    {
     "name": "stdout",
     "output_type": "stream",
     "text": [
      "256/845 - Cập nhật thể loại: Gay cấn\n",
      "256/845 - Cập nhật ảnh: https://cinema.momocdn.net/img/19824366382506001-elqCaVi6Amkx5hzPsJ3Km5Ru3Yg.jpg\n"
     ]
    },
    {
     "name": "stderr",
     "output_type": "stream",
     "text": [
      "C:\\Users\\ADMIN\\AppData\\Local\\Temp\\ipykernel_7724\\373337600.py:22: FutureWarning: Series.__getitem__ treating keys as positions is deprecated. In a future version, integer keys will always be treated as labels (consistent with DataFrame behavior). To access a value by position, use `ser.iloc[pos]`\n",
      "  link = row[1]  # Cột 1 chứa link review\n"
     ]
    },
    {
     "name": "stdout",
     "output_type": "stream",
     "text": [
      "257/845 - Cập nhật thể loại: Chính kịch, Gay cấn, Hành động\n",
      "257/845 - Cập nhật ảnh: https://homepage.momocdn.net/cinema/momo-cdn-api-220615143102-637909002629241877.jpg\n"
     ]
    },
    {
     "name": "stderr",
     "output_type": "stream",
     "text": [
      "C:\\Users\\ADMIN\\AppData\\Local\\Temp\\ipykernel_7724\\373337600.py:22: FutureWarning: Series.__getitem__ treating keys as positions is deprecated. In a future version, integer keys will always be treated as labels (consistent with DataFrame behavior). To access a value by position, use `ser.iloc[pos]`\n",
      "  link = row[1]  # Cột 1 chứa link review\n"
     ]
    },
    {
     "name": "stdout",
     "output_type": "stream",
     "text": [
      "258/845 - Cập nhật thể loại: Chính kịch, Lãng mạn\n",
      "258/845 - Cập nhật ảnh: https://cinema.momocdn.net/img/34880732656974055-nonn5GP1FcoqbQRuUWV7zOU8VLJ.jpg\n"
     ]
    },
    {
     "name": "stderr",
     "output_type": "stream",
     "text": [
      "C:\\Users\\ADMIN\\AppData\\Local\\Temp\\ipykernel_7724\\373337600.py:22: FutureWarning: Series.__getitem__ treating keys as positions is deprecated. In a future version, integer keys will always be treated as labels (consistent with DataFrame behavior). To access a value by position, use `ser.iloc[pos]`\n",
      "  link = row[1]  # Cột 1 chứa link review\n"
     ]
    },
    {
     "name": "stdout",
     "output_type": "stream",
     "text": [
      "259/845 - Cập nhật thể loại: Chính kịch, Gay cấn\n",
      "259/845 - Cập nhật ảnh: https://cinema.momocdn.net/img/18544496578355043-ewlNu82GwEI0PKeEEGL0dU5dMb3.jpg\n"
     ]
    },
    {
     "name": "stderr",
     "output_type": "stream",
     "text": [
      "C:\\Users\\ADMIN\\AppData\\Local\\Temp\\ipykernel_7724\\373337600.py:22: FutureWarning: Series.__getitem__ treating keys as positions is deprecated. In a future version, integer keys will always be treated as labels (consistent with DataFrame behavior). To access a value by position, use `ser.iloc[pos]`\n",
      "  link = row[1]  # Cột 1 chứa link review\n"
     ]
    },
    {
     "name": "stdout",
     "output_type": "stream",
     "text": [
      "260/845 - Cập nhật thể loại: Chính kịch, Gay cấn, Kinh dị\n",
      "260/845 - Cập nhật ảnh: https://cinema.momocdn.net/img/16196420912432153-sKdDC38FHuPvEsRgIzMEQE6ydol.jpg\n"
     ]
    },
    {
     "name": "stderr",
     "output_type": "stream",
     "text": [
      "C:\\Users\\ADMIN\\AppData\\Local\\Temp\\ipykernel_7724\\373337600.py:22: FutureWarning: Series.__getitem__ treating keys as positions is deprecated. In a future version, integer keys will always be treated as labels (consistent with DataFrame behavior). To access a value by position, use `ser.iloc[pos]`\n",
      "  link = row[1]  # Cột 1 chứa link review\n"
     ]
    },
    {
     "name": "stdout",
     "output_type": "stream",
     "text": [
      "261/845 - Cập nhật thể loại: Gia đình, Phiêu lưu, Hài, Hoạt hình\n",
      "261/845 - Cập nhật ảnh: https://cinema.momocdn.net/img/90491023891402651-tts9ZQimnTsWdR4bV6CNzY2AUkk.jpg\n"
     ]
    },
    {
     "name": "stderr",
     "output_type": "stream",
     "text": [
      "C:\\Users\\ADMIN\\AppData\\Local\\Temp\\ipykernel_7724\\373337600.py:22: FutureWarning: Series.__getitem__ treating keys as positions is deprecated. In a future version, integer keys will always be treated as labels (consistent with DataFrame behavior). To access a value by position, use `ser.iloc[pos]`\n",
      "  link = row[1]  # Cột 1 chứa link review\n"
     ]
    },
    {
     "name": "stdout",
     "output_type": "stream",
     "text": [
      "262/845 - Cập nhật thể loại: Ma, Kinh dị\n",
      "262/845 - Cập nhật ảnh: https://cinema.momocdn.net/img/82694096514501992-q2hP45VWmimdiJzkrS7NCgc4n3e.jpg\n"
     ]
    },
    {
     "name": "stderr",
     "output_type": "stream",
     "text": [
      "C:\\Users\\ADMIN\\AppData\\Local\\Temp\\ipykernel_7724\\373337600.py:22: FutureWarning: Series.__getitem__ treating keys as positions is deprecated. In a future version, integer keys will always be treated as labels (consistent with DataFrame behavior). To access a value by position, use `ser.iloc[pos]`\n",
      "  link = row[1]  # Cột 1 chứa link review\n"
     ]
    },
    {
     "name": "stdout",
     "output_type": "stream",
     "text": [
      "263/845 - Cập nhật thể loại: Hài\n",
      "263/845 - Cập nhật ảnh: https://homepage.momocdn.net/cinema/momo-cdn-api-220615143000-637909002003525954.jpg\n"
     ]
    },
    {
     "name": "stderr",
     "output_type": "stream",
     "text": [
      "C:\\Users\\ADMIN\\AppData\\Local\\Temp\\ipykernel_7724\\373337600.py:22: FutureWarning: Series.__getitem__ treating keys as positions is deprecated. In a future version, integer keys will always be treated as labels (consistent with DataFrame behavior). To access a value by position, use `ser.iloc[pos]`\n",
      "  link = row[1]  # Cột 1 chứa link review\n"
     ]
    },
    {
     "name": "stdout",
     "output_type": "stream",
     "text": [
      "264/845 - Cập nhật thể loại: Gay cấn, Siêu anh hùng, Hành động\n",
      "264/845 - Cập nhật ảnh: https://cinema.momocdn.net/img/22256305989032007-zWt4605lboHRBVNvRDBKwtZo2mf.jpg\n"
     ]
    },
    {
     "name": "stderr",
     "output_type": "stream",
     "text": [
      "C:\\Users\\ADMIN\\AppData\\Local\\Temp\\ipykernel_7724\\373337600.py:22: FutureWarning: Series.__getitem__ treating keys as positions is deprecated. In a future version, integer keys will always be treated as labels (consistent with DataFrame behavior). To access a value by position, use `ser.iloc[pos]`\n",
      "  link = row[1]  # Cột 1 chứa link review\n"
     ]
    },
    {
     "name": "stdout",
     "output_type": "stream",
     "text": [
      "265/845 - Cập nhật thể loại: Phiêu lưu, Khoa học - Viễn tưởng, Hài\n",
      "265/845 - Cập nhật ảnh: https://cinema.momocdn.net/img/7049991933204864-fh7aM10THQzivGU7kAkgKrgzot4.jpg\n"
     ]
    },
    {
     "name": "stderr",
     "output_type": "stream",
     "text": [
      "C:\\Users\\ADMIN\\AppData\\Local\\Temp\\ipykernel_7724\\373337600.py:22: FutureWarning: Series.__getitem__ treating keys as positions is deprecated. In a future version, integer keys will always be treated as labels (consistent with DataFrame behavior). To access a value by position, use `ser.iloc[pos]`\n",
      "  link = row[1]  # Cột 1 chứa link review\n"
     ]
    },
    {
     "name": "stdout",
     "output_type": "stream",
     "text": [
      "266/845 - Cập nhật thể loại: Chính kịch, Gay cấn, Kinh dị\n",
      "266/845 - Cập nhật ảnh: https://cinema.momocdn.net/img/103828237886807441-fNdC4JaelTmDV6yQkebvmU11pX5.jpg\n"
     ]
    },
    {
     "name": "stderr",
     "output_type": "stream",
     "text": [
      "C:\\Users\\ADMIN\\AppData\\Local\\Temp\\ipykernel_7724\\373337600.py:22: FutureWarning: Series.__getitem__ treating keys as positions is deprecated. In a future version, integer keys will always be treated as labels (consistent with DataFrame behavior). To access a value by position, use `ser.iloc[pos]`\n",
      "  link = row[1]  # Cột 1 chứa link review\n"
     ]
    },
    {
     "name": "stdout",
     "output_type": "stream",
     "text": [
      "267/845 - Cập nhật thể loại: Chính kịch, Trinh thám, Hình sự, Hành động\n",
      "267/845 - Cập nhật ảnh: https://cinema.momocdn.net/img/15679894860146413-2a9DvjXQQezV0sWqJbIN2mDLgZZ.jpg\n"
     ]
    },
    {
     "name": "stderr",
     "output_type": "stream",
     "text": [
      "C:\\Users\\ADMIN\\AppData\\Local\\Temp\\ipykernel_7724\\373337600.py:22: FutureWarning: Series.__getitem__ treating keys as positions is deprecated. In a future version, integer keys will always be treated as labels (consistent with DataFrame behavior). To access a value by position, use `ser.iloc[pos]`\n",
      "  link = row[1]  # Cột 1 chứa link review\n"
     ]
    },
    {
     "name": "stdout",
     "output_type": "stream",
     "text": [
      "268/845 - Cập nhật thể loại: Gay cấn, Kinh dị, Hài\n",
      "268/845 - Cập nhật ảnh: https://cinema.momocdn.net/img/76654297896061832-uUJHyDdyNhq10HrvierKPYaYApI.jpg\n"
     ]
    },
    {
     "name": "stderr",
     "output_type": "stream",
     "text": [
      "C:\\Users\\ADMIN\\AppData\\Local\\Temp\\ipykernel_7724\\373337600.py:22: FutureWarning: Series.__getitem__ treating keys as positions is deprecated. In a future version, integer keys will always be treated as labels (consistent with DataFrame behavior). To access a value by position, use `ser.iloc[pos]`\n",
      "  link = row[1]  # Cột 1 chứa link review\n"
     ]
    },
    {
     "name": "stdout",
     "output_type": "stream",
     "text": [
      "269/845 - Cập nhật thể loại: Bí ẩn, Giả tưởng\n",
      "269/845 - Cập nhật ảnh: https://cinema.momocdn.net/img/53202041313001693-2HaDFdv70Dl31i3UeyCAHYHPVtF.jpg\n"
     ]
    },
    {
     "name": "stderr",
     "output_type": "stream",
     "text": [
      "C:\\Users\\ADMIN\\AppData\\Local\\Temp\\ipykernel_7724\\373337600.py:22: FutureWarning: Series.__getitem__ treating keys as positions is deprecated. In a future version, integer keys will always be treated as labels (consistent with DataFrame behavior). To access a value by position, use `ser.iloc[pos]`\n",
      "  link = row[1]  # Cột 1 chứa link review\n"
     ]
    },
    {
     "name": "stdout",
     "output_type": "stream",
     "text": [
      "270/845 - Cập nhật thể loại: Phiêu lưu, Khoa học - Viễn tưởng, Hoạt hình\n",
      "270/845 - Cập nhật ảnh: https://homepage.momocdn.net/cinema/momo-cdn-api-220615142622-637908999823811720.jpg\n"
     ]
    },
    {
     "name": "stderr",
     "output_type": "stream",
     "text": [
      "C:\\Users\\ADMIN\\AppData\\Local\\Temp\\ipykernel_7724\\373337600.py:22: FutureWarning: Series.__getitem__ treating keys as positions is deprecated. In a future version, integer keys will always be treated as labels (consistent with DataFrame behavior). To access a value by position, use `ser.iloc[pos]`\n",
      "  link = row[1]  # Cột 1 chứa link review\n"
     ]
    },
    {
     "name": "stdout",
     "output_type": "stream",
     "text": [
      "271/845 - Cập nhật thể loại: Gay cấn, Ma, Kinh dị\n",
      "271/845 - Cập nhật ảnh: https://homepage.momocdn.net/cinema/momo-upload-api-230706144307-638242513872383446.jpeg\n"
     ]
    },
    {
     "name": "stderr",
     "output_type": "stream",
     "text": [
      "C:\\Users\\ADMIN\\AppData\\Local\\Temp\\ipykernel_7724\\373337600.py:22: FutureWarning: Series.__getitem__ treating keys as positions is deprecated. In a future version, integer keys will always be treated as labels (consistent with DataFrame behavior). To access a value by position, use `ser.iloc[pos]`\n",
      "  link = row[1]  # Cột 1 chứa link review\n"
     ]
    },
    {
     "name": "stdout",
     "output_type": "stream",
     "text": [
      "272/845 - Cập nhật thể loại: Chính kịch, Hoạt hình\n",
      "272/845 - Cập nhật ảnh: https://cinema.momocdn.net/img/59073828641482875-bh257IZbvCcK8pjqgMaRSx9Tfzk.jpg\n"
     ]
    },
    {
     "name": "stderr",
     "output_type": "stream",
     "text": [
      "C:\\Users\\ADMIN\\AppData\\Local\\Temp\\ipykernel_7724\\373337600.py:22: FutureWarning: Series.__getitem__ treating keys as positions is deprecated. In a future version, integer keys will always be treated as labels (consistent with DataFrame behavior). To access a value by position, use `ser.iloc[pos]`\n",
      "  link = row[1]  # Cột 1 chứa link review\n"
     ]
    },
    {
     "name": "stdout",
     "output_type": "stream",
     "text": [
      "273/845 - Cập nhật thể loại: Chính kịch, Bí ẩn, Lãng mạn\n",
      "273/845 - Cập nhật ảnh: https://cinema.momocdn.net/img/59071763717371363-ryGO7obdOjmNs216MGEYEZqbFi0.jpg\n"
     ]
    },
    {
     "name": "stderr",
     "output_type": "stream",
     "text": [
      "C:\\Users\\ADMIN\\AppData\\Local\\Temp\\ipykernel_7724\\373337600.py:22: FutureWarning: Series.__getitem__ treating keys as positions is deprecated. In a future version, integer keys will always be treated as labels (consistent with DataFrame behavior). To access a value by position, use `ser.iloc[pos]`\n",
      "  link = row[1]  # Cột 1 chứa link review\n"
     ]
    },
    {
     "name": "stdout",
     "output_type": "stream",
     "text": [
      "274/845 - Cập nhật thể loại: Phiêu lưu, Hài, Hành động\n",
      "274/845 - Cập nhật ảnh: https://cinema.momocdn.net/img/21565817925258389-640wx396h_2_.jpg\n"
     ]
    },
    {
     "name": "stderr",
     "output_type": "stream",
     "text": [
      "C:\\Users\\ADMIN\\AppData\\Local\\Temp\\ipykernel_7724\\373337600.py:22: FutureWarning: Series.__getitem__ treating keys as positions is deprecated. In a future version, integer keys will always be treated as labels (consistent with DataFrame behavior). To access a value by position, use `ser.iloc[pos]`\n",
      "  link = row[1]  # Cột 1 chứa link review\n"
     ]
    },
    {
     "name": "stdout",
     "output_type": "stream",
     "text": [
      "275/845 - Cập nhật thể loại: Gia đình, Phiêu lưu, Giả tưởng, Hài\n",
      "275/845 - Cập nhật ảnh: https://cinema.momocdn.net/img/59076567542319758-wjxKcyLdYaxFV0wzR04g37gnjnh.jpg\n"
     ]
    },
    {
     "name": "stderr",
     "output_type": "stream",
     "text": [
      "C:\\Users\\ADMIN\\AppData\\Local\\Temp\\ipykernel_7724\\373337600.py:22: FutureWarning: Series.__getitem__ treating keys as positions is deprecated. In a future version, integer keys will always be treated as labels (consistent with DataFrame behavior). To access a value by position, use `ser.iloc[pos]`\n",
      "  link = row[1]  # Cột 1 chứa link review\n"
     ]
    },
    {
     "name": "stdout",
     "output_type": "stream",
     "text": [
      "276/845 - Cập nhật thể loại: Âm Nhạc, Tài liệu\n",
      "276/845 - Cập nhật ảnh: https://cinema.momocdn.net/img/19913985344120558-f5FjEf3u4ybAKfqUainQwJhZPy2.jpg\n"
     ]
    },
    {
     "name": "stderr",
     "output_type": "stream",
     "text": [
      "C:\\Users\\ADMIN\\AppData\\Local\\Temp\\ipykernel_7724\\373337600.py:22: FutureWarning: Series.__getitem__ treating keys as positions is deprecated. In a future version, integer keys will always be treated as labels (consistent with DataFrame behavior). To access a value by position, use `ser.iloc[pos]`\n",
      "  link = row[1]  # Cột 1 chứa link review\n"
     ]
    },
    {
     "name": "stdout",
     "output_type": "stream",
     "text": [
      "277/845 - Cập nhật thể loại: Gia đình, Kinh dị, Hài\n",
      "277/845 - Cập nhật ảnh: https://cinema.momocdn.net/img/12743744540886238-Als2QyqbLgT5G3rwTGJta8QQfqP.jpg\n"
     ]
    },
    {
     "name": "stderr",
     "output_type": "stream",
     "text": [
      "C:\\Users\\ADMIN\\AppData\\Local\\Temp\\ipykernel_7724\\373337600.py:22: FutureWarning: Series.__getitem__ treating keys as positions is deprecated. In a future version, integer keys will always be treated as labels (consistent with DataFrame behavior). To access a value by position, use `ser.iloc[pos]`\n",
      "  link = row[1]  # Cột 1 chứa link review\n"
     ]
    },
    {
     "name": "stdout",
     "output_type": "stream",
     "text": [
      "278/845 - Cập nhật thể loại: Kinh dị, Hài\n",
      "278/845 - Cập nhật ảnh: https://homepage.momocdn.net/cinema/momo-cdn-api-220615143021-637909002218393176.jpg\n"
     ]
    },
    {
     "name": "stderr",
     "output_type": "stream",
     "text": [
      "C:\\Users\\ADMIN\\AppData\\Local\\Temp\\ipykernel_7724\\373337600.py:22: FutureWarning: Series.__getitem__ treating keys as positions is deprecated. In a future version, integer keys will always be treated as labels (consistent with DataFrame behavior). To access a value by position, use `ser.iloc[pos]`\n",
      "  link = row[1]  # Cột 1 chứa link review\n"
     ]
    },
    {
     "name": "stdout",
     "output_type": "stream",
     "text": [
      "279/845 - Cập nhật thể loại: Siêu anh hùng, Phiêu lưu, Khoa học - Viễn tưởng, Hành động\n",
      "279/845 - Cập nhật ảnh: https://homepage.momocdn.net/cinema/momo-cdn-api-220615142648-637909000086832512.jpg\n"
     ]
    },
    {
     "name": "stderr",
     "output_type": "stream",
     "text": [
      "C:\\Users\\ADMIN\\AppData\\Local\\Temp\\ipykernel_7724\\373337600.py:22: FutureWarning: Series.__getitem__ treating keys as positions is deprecated. In a future version, integer keys will always be treated as labels (consistent with DataFrame behavior). To access a value by position, use `ser.iloc[pos]`\n",
      "  link = row[1]  # Cột 1 chứa link review\n"
     ]
    },
    {
     "name": "stdout",
     "output_type": "stream",
     "text": [
      "280/845 - Cập nhật thể loại: Gay cấn, Khoa học - Viễn tưởng, Hành động\n",
      "280/845 - Cập nhật ảnh: https://homepage.momocdn.net/cinema/momo-cdn-api-220615135331-637908980115816738.jpg\n"
     ]
    },
    {
     "name": "stderr",
     "output_type": "stream",
     "text": [
      "C:\\Users\\ADMIN\\AppData\\Local\\Temp\\ipykernel_7724\\373337600.py:22: FutureWarning: Series.__getitem__ treating keys as positions is deprecated. In a future version, integer keys will always be treated as labels (consistent with DataFrame behavior). To access a value by position, use `ser.iloc[pos]`\n",
      "  link = row[1]  # Cột 1 chứa link review\n"
     ]
    },
    {
     "name": "stdout",
     "output_type": "stream",
     "text": [
      "281/845 - Cập nhật thể loại: Ma, Kinh dị, Hài\n",
      "281/845 - Cập nhật ảnh: https://homepage.momocdn.net/cinema/momo-cdn-api-220615143109-637909002693653405.jpg\n"
     ]
    },
    {
     "name": "stderr",
     "output_type": "stream",
     "text": [
      "C:\\Users\\ADMIN\\AppData\\Local\\Temp\\ipykernel_7724\\373337600.py:22: FutureWarning: Series.__getitem__ treating keys as positions is deprecated. In a future version, integer keys will always be treated as labels (consistent with DataFrame behavior). To access a value by position, use `ser.iloc[pos]`\n",
      "  link = row[1]  # Cột 1 chứa link review\n"
     ]
    },
    {
     "name": "stdout",
     "output_type": "stream",
     "text": [
      "282/845 - Cập nhật thể loại: Kinh dị\n",
      "282/845 - Cập nhật ảnh: https://cinema.momocdn.net/img/34884875700419697-16x9.jpg\n"
     ]
    },
    {
     "name": "stderr",
     "output_type": "stream",
     "text": [
      "C:\\Users\\ADMIN\\AppData\\Local\\Temp\\ipykernel_7724\\373337600.py:22: FutureWarning: Series.__getitem__ treating keys as positions is deprecated. In a future version, integer keys will always be treated as labels (consistent with DataFrame behavior). To access a value by position, use `ser.iloc[pos]`\n",
      "  link = row[1]  # Cột 1 chứa link review\n"
     ]
    },
    {
     "name": "stdout",
     "output_type": "stream",
     "text": [
      "283/845 - Cập nhật thể loại: Gay cấn, Kinh dị\n",
      "283/845 - Cập nhật ảnh: https://cinema.momocdn.net/img/32118020697834098-klb3yODwKMRle19EcvdeSatEZL7.jpg\n"
     ]
    },
    {
     "name": "stderr",
     "output_type": "stream",
     "text": [
      "C:\\Users\\ADMIN\\AppData\\Local\\Temp\\ipykernel_7724\\373337600.py:22: FutureWarning: Series.__getitem__ treating keys as positions is deprecated. In a future version, integer keys will always be treated as labels (consistent with DataFrame behavior). To access a value by position, use `ser.iloc[pos]`\n",
      "  link = row[1]  # Cột 1 chứa link review\n"
     ]
    },
    {
     "name": "stdout",
     "output_type": "stream",
     "text": [
      "284/845 - Cập nhật thể loại: Phiêu lưu, Khoa học - Viễn tưởng, Hành động\n",
      "284/845 - Cập nhật ảnh: https://homepage.momocdn.net/cinema/momo-upload-api-220615151719-637909030397855911.jpg\n"
     ]
    },
    {
     "name": "stderr",
     "output_type": "stream",
     "text": [
      "C:\\Users\\ADMIN\\AppData\\Local\\Temp\\ipykernel_7724\\373337600.py:22: FutureWarning: Series.__getitem__ treating keys as positions is deprecated. In a future version, integer keys will always be treated as labels (consistent with DataFrame behavior). To access a value by position, use `ser.iloc[pos]`\n",
      "  link = row[1]  # Cột 1 chứa link review\n"
     ]
    },
    {
     "name": "stdout",
     "output_type": "stream",
     "text": [
      "285/845 - Cập nhật thể loại: Chính kịch, Khoa học - Viễn tưởng, Hành động\n",
      "285/845 - Cập nhật ảnh: https://cinema.momocdn.net/img/36684060595357007-l02SyGL4QaRAy000ZY28IlSiBOx.jpg\n"
     ]
    },
    {
     "name": "stderr",
     "output_type": "stream",
     "text": [
      "C:\\Users\\ADMIN\\AppData\\Local\\Temp\\ipykernel_7724\\373337600.py:22: FutureWarning: Series.__getitem__ treating keys as positions is deprecated. In a future version, integer keys will always be treated as labels (consistent with DataFrame behavior). To access a value by position, use `ser.iloc[pos]`\n",
      "  link = row[1]  # Cột 1 chứa link review\n"
     ]
    },
    {
     "name": "stdout",
     "output_type": "stream",
     "text": [
      "286/845 - Cập nhật thể loại: Chính kịch, Gay cấn, Tâm lý\n",
      "286/845 - Cập nhật ảnh: https://cinema.momocdn.net/img/13270283534455600-d51iFMkUTpWl9c2tjCXDO7nt8pA.jpg\n"
     ]
    },
    {
     "name": "stderr",
     "output_type": "stream",
     "text": [
      "C:\\Users\\ADMIN\\AppData\\Local\\Temp\\ipykernel_7724\\373337600.py:22: FutureWarning: Series.__getitem__ treating keys as positions is deprecated. In a future version, integer keys will always be treated as labels (consistent with DataFrame behavior). To access a value by position, use `ser.iloc[pos]`\n",
      "  link = row[1]  # Cột 1 chứa link review\n"
     ]
    },
    {
     "name": "stdout",
     "output_type": "stream",
     "text": [
      "287/845 - Cập nhật thể loại: Tội phạm, Tâm lý, Hành động\n",
      "287/845 - Cập nhật ảnh: https://cinema.momocdn.net/img/108639439927406933-Capture-2024-10-05-234345.png\n"
     ]
    },
    {
     "name": "stderr",
     "output_type": "stream",
     "text": [
      "C:\\Users\\ADMIN\\AppData\\Local\\Temp\\ipykernel_7724\\373337600.py:22: FutureWarning: Series.__getitem__ treating keys as positions is deprecated. In a future version, integer keys will always be treated as labels (consistent with DataFrame behavior). To access a value by position, use `ser.iloc[pos]`\n",
      "  link = row[1]  # Cột 1 chứa link review\n"
     ]
    },
    {
     "name": "stdout",
     "output_type": "stream",
     "text": [
      "288/845 - Cập nhật thể loại: Tâm lý, Kinh dị\n",
      "288/845 - Cập nhật ảnh: https://cinema.momocdn.net/img/19913476282457651-ngoc-phuoc-16891609463091409330535.jpg\n"
     ]
    },
    {
     "name": "stderr",
     "output_type": "stream",
     "text": [
      "C:\\Users\\ADMIN\\AppData\\Local\\Temp\\ipykernel_7724\\373337600.py:22: FutureWarning: Series.__getitem__ treating keys as positions is deprecated. In a future version, integer keys will always be treated as labels (consistent with DataFrame behavior). To access a value by position, use `ser.iloc[pos]`\n",
      "  link = row[1]  # Cột 1 chứa link review\n"
     ]
    },
    {
     "name": "stdout",
     "output_type": "stream",
     "text": [
      "289/845 - Cập nhật thể loại: Kinh dị\n",
      "289/845 - Cập nhật ảnh: https://cinema.momocdn.net/img/9745238633977715-njYfxaWy19nMMavhq7qPkHccA3u.jpg\n"
     ]
    },
    {
     "name": "stderr",
     "output_type": "stream",
     "text": [
      "C:\\Users\\ADMIN\\AppData\\Local\\Temp\\ipykernel_7724\\373337600.py:22: FutureWarning: Series.__getitem__ treating keys as positions is deprecated. In a future version, integer keys will always be treated as labels (consistent with DataFrame behavior). To access a value by position, use `ser.iloc[pos]`\n",
      "  link = row[1]  # Cột 1 chứa link review\n"
     ]
    },
    {
     "name": "stdout",
     "output_type": "stream",
     "text": [
      "290/845 - Cập nhật thể loại: Âm Nhạc, Hài, Hoạt hình\n",
      "290/845 - Cập nhật ảnh: https://cinema.momocdn.net/img/32108358298571898-9QTmkyEZzI4EiDo2iGf70STcX0k.jpg\n"
     ]
    },
    {
     "name": "stderr",
     "output_type": "stream",
     "text": [
      "C:\\Users\\ADMIN\\AppData\\Local\\Temp\\ipykernel_7724\\373337600.py:22: FutureWarning: Series.__getitem__ treating keys as positions is deprecated. In a future version, integer keys will always be treated as labels (consistent with DataFrame behavior). To access a value by position, use `ser.iloc[pos]`\n",
      "  link = row[1]  # Cột 1 chứa link review\n"
     ]
    },
    {
     "name": "stdout",
     "output_type": "stream",
     "text": [
      "291/845 - Cập nhật thể loại: Kinh dị\n",
      "291/845 - Cập nhật ảnh: https://cinema.momocdn.net/img/29777856526083750-640x396_7_.jpg\n"
     ]
    },
    {
     "name": "stderr",
     "output_type": "stream",
     "text": [
      "C:\\Users\\ADMIN\\AppData\\Local\\Temp\\ipykernel_7724\\373337600.py:22: FutureWarning: Series.__getitem__ treating keys as positions is deprecated. In a future version, integer keys will always be treated as labels (consistent with DataFrame behavior). To access a value by position, use `ser.iloc[pos]`\n",
      "  link = row[1]  # Cột 1 chứa link review\n"
     ]
    },
    {
     "name": "stdout",
     "output_type": "stream",
     "text": [
      "292/845 - Cập nhật thể loại: Ma, Kinh dị\n",
      "292/845 - Cập nhật ảnh: https://cinema.momocdn.net/img/81594635093129802-4DDKUnw63RXdz9MOm3bTkbaMwV5.jpg\n"
     ]
    },
    {
     "name": "stderr",
     "output_type": "stream",
     "text": [
      "C:\\Users\\ADMIN\\AppData\\Local\\Temp\\ipykernel_7724\\373337600.py:22: FutureWarning: Series.__getitem__ treating keys as positions is deprecated. In a future version, integer keys will always be treated as labels (consistent with DataFrame behavior). To access a value by position, use `ser.iloc[pos]`\n",
      "  link = row[1]  # Cột 1 chứa link review\n"
     ]
    },
    {
     "name": "stdout",
     "output_type": "stream",
     "text": [
      "293/845 - Cập nhật thể loại: Kinh dị\n",
      "293/845 - Cập nhật ảnh: https://image.tmdb.org/t/p/w780/vriMtND9PhI7lBQI6n0yUsJ6msP.jpg\n"
     ]
    },
    {
     "name": "stderr",
     "output_type": "stream",
     "text": [
      "C:\\Users\\ADMIN\\AppData\\Local\\Temp\\ipykernel_7724\\373337600.py:22: FutureWarning: Series.__getitem__ treating keys as positions is deprecated. In a future version, integer keys will always be treated as labels (consistent with DataFrame behavior). To access a value by position, use `ser.iloc[pos]`\n",
      "  link = row[1]  # Cột 1 chứa link review\n"
     ]
    },
    {
     "name": "stdout",
     "output_type": "stream",
     "text": [
      "294/845 - Cập nhật thể loại: Gia đình, Hài\n",
      "294/845 - Cập nhật ảnh: https://cinema.momocdn.net/img/76224770258799028-nqp5699-3475.jpg\n"
     ]
    },
    {
     "name": "stderr",
     "output_type": "stream",
     "text": [
      "C:\\Users\\ADMIN\\AppData\\Local\\Temp\\ipykernel_7724\\373337600.py:22: FutureWarning: Series.__getitem__ treating keys as positions is deprecated. In a future version, integer keys will always be treated as labels (consistent with DataFrame behavior). To access a value by position, use `ser.iloc[pos]`\n",
      "  link = row[1]  # Cột 1 chứa link review\n"
     ]
    },
    {
     "name": "stdout",
     "output_type": "stream",
     "text": [
      "295/845 - Cập nhật thể loại: Gay cấn, Kinh dị, Hình sự\n",
      "295/845 - Cập nhật ảnh: https://cinema.momocdn.net/img/76228489181137515-lkmkNVFGsRVKZs1MqKbE6zabXc4.jpg\n"
     ]
    },
    {
     "name": "stderr",
     "output_type": "stream",
     "text": [
      "C:\\Users\\ADMIN\\AppData\\Local\\Temp\\ipykernel_7724\\373337600.py:22: FutureWarning: Series.__getitem__ treating keys as positions is deprecated. In a future version, integer keys will always be treated as labels (consistent with DataFrame behavior). To access a value by position, use `ser.iloc[pos]`\n",
      "  link = row[1]  # Cột 1 chứa link review\n"
     ]
    },
    {
     "name": "stdout",
     "output_type": "stream",
     "text": [
      "296/845 - Cập nhật thể loại: Chiến tranh, Lịch sử, Tài liệu\n",
      "296/845 - Cập nhật ảnh: https://cinema.momocdn.net/img/25888959510939806-wOYDsD7WIKsz5DtrnjsvCcEyFJa.jpg\n"
     ]
    },
    {
     "name": "stderr",
     "output_type": "stream",
     "text": [
      "C:\\Users\\ADMIN\\AppData\\Local\\Temp\\ipykernel_7724\\373337600.py:22: FutureWarning: Series.__getitem__ treating keys as positions is deprecated. In a future version, integer keys will always be treated as labels (consistent with DataFrame behavior). To access a value by position, use `ser.iloc[pos]`\n",
      "  link = row[1]  # Cột 1 chứa link review\n"
     ]
    },
    {
     "name": "stdout",
     "output_type": "stream",
     "text": [
      "297/845 - Cập nhật thể loại: Chính kịch, Hình sự\n",
      "297/845 - Cập nhật ảnh: https://cinema.momocdn.net/img/14495305120223264-89i65Rst6hO0kbx1GFjqp4F6hH8.jpg\n"
     ]
    },
    {
     "name": "stderr",
     "output_type": "stream",
     "text": [
      "C:\\Users\\ADMIN\\AppData\\Local\\Temp\\ipykernel_7724\\373337600.py:22: FutureWarning: Series.__getitem__ treating keys as positions is deprecated. In a future version, integer keys will always be treated as labels (consistent with DataFrame behavior). To access a value by position, use `ser.iloc[pos]`\n",
      "  link = row[1]  # Cột 1 chứa link review\n"
     ]
    },
    {
     "name": "stdout",
     "output_type": "stream",
     "text": [
      "298/845 - Cập nhật thể loại: Gia đình, Bí ẩn, Giật gân\n",
      "298/845 - Cập nhật ảnh: https://cinema.momocdn.net/img/89434526903419766-Hanh-phuc-mau-review.png\n"
     ]
    },
    {
     "name": "stderr",
     "output_type": "stream",
     "text": [
      "C:\\Users\\ADMIN\\AppData\\Local\\Temp\\ipykernel_7724\\373337600.py:22: FutureWarning: Series.__getitem__ treating keys as positions is deprecated. In a future version, integer keys will always be treated as labels (consistent with DataFrame behavior). To access a value by position, use `ser.iloc[pos]`\n",
      "  link = row[1]  # Cột 1 chứa link review\n"
     ]
    },
    {
     "name": "stdout",
     "output_type": "stream",
     "text": [
      "299/845 - Cập nhật thể loại: Gay cấn, Kinh dị, Hành động\n",
      "299/845 - Cập nhật ảnh: https://cinema.momocdn.net/img/31342277091538500-mDeUmPe4MF35WWlAqj4QFX5UauJ.jpg\n"
     ]
    },
    {
     "name": "stderr",
     "output_type": "stream",
     "text": [
      "C:\\Users\\ADMIN\\AppData\\Local\\Temp\\ipykernel_7724\\373337600.py:22: FutureWarning: Series.__getitem__ treating keys as positions is deprecated. In a future version, integer keys will always be treated as labels (consistent with DataFrame behavior). To access a value by position, use `ser.iloc[pos]`\n",
      "  link = row[1]  # Cột 1 chứa link review\n"
     ]
    },
    {
     "name": "stdout",
     "output_type": "stream",
     "text": [
      "300/845 - Cập nhật thể loại: Gay cấn, Khoa học - Viễn tưởng, Hành động\n",
      "300/845 - Cập nhật ảnh: https://cinema.momocdn.net/img/2906166870445402-jXf9hWuLxBilWqUmWlMg542IOpi.jpg\n"
     ]
    },
    {
     "name": "stderr",
     "output_type": "stream",
     "text": [
      "C:\\Users\\ADMIN\\AppData\\Local\\Temp\\ipykernel_7724\\373337600.py:22: FutureWarning: Series.__getitem__ treating keys as positions is deprecated. In a future version, integer keys will always be treated as labels (consistent with DataFrame behavior). To access a value by position, use `ser.iloc[pos]`\n",
      "  link = row[1]  # Cột 1 chứa link review\n"
     ]
    },
    {
     "name": "stdout",
     "output_type": "stream",
     "text": [
      "301/845 - Cập nhật thể loại: Âm Nhạc, Tài liệu\n",
      "301/845 - Cập nhật ảnh: https://cinema.momocdn.net/img/25890223979920645-tcPgWtAGHdrU1PYTRV1hx2w1KfO.jpg\n"
     ]
    },
    {
     "name": "stderr",
     "output_type": "stream",
     "text": [
      "C:\\Users\\ADMIN\\AppData\\Local\\Temp\\ipykernel_7724\\373337600.py:22: FutureWarning: Series.__getitem__ treating keys as positions is deprecated. In a future version, integer keys will always be treated as labels (consistent with DataFrame behavior). To access a value by position, use `ser.iloc[pos]`\n",
      "  link = row[1]  # Cột 1 chứa link review\n"
     ]
    },
    {
     "name": "stdout",
     "output_type": "stream",
     "text": [
      "302/845 - Cập nhật thể loại: Gia đình, Âm Nhạc, Hài, Hoạt hình\n",
      "302/845 - Cập nhật ảnh: https://homepage.momocdn.net/cinema/momo-cdn-api-220615142749-637909000694778486.jpg\n"
     ]
    },
    {
     "name": "stderr",
     "output_type": "stream",
     "text": [
      "C:\\Users\\ADMIN\\AppData\\Local\\Temp\\ipykernel_7724\\373337600.py:22: FutureWarning: Series.__getitem__ treating keys as positions is deprecated. In a future version, integer keys will always be treated as labels (consistent with DataFrame behavior). To access a value by position, use `ser.iloc[pos]`\n",
      "  link = row[1]  # Cột 1 chứa link review\n"
     ]
    },
    {
     "name": "stdout",
     "output_type": "stream",
     "text": [
      "303/845 - Cập nhật thể loại: Chính kịch, Hài\n",
      "303/845 - Cập nhật ảnh: https://cinema.momocdn.net/img/21642018993759174-uId66x2NKI9gBbcpGDi1krtN3pz.jpg\n"
     ]
    },
    {
     "name": "stderr",
     "output_type": "stream",
     "text": [
      "C:\\Users\\ADMIN\\AppData\\Local\\Temp\\ipykernel_7724\\373337600.py:22: FutureWarning: Series.__getitem__ treating keys as positions is deprecated. In a future version, integer keys will always be treated as labels (consistent with DataFrame behavior). To access a value by position, use `ser.iloc[pos]`\n",
      "  link = row[1]  # Cột 1 chứa link review\n"
     ]
    },
    {
     "name": "stdout",
     "output_type": "stream",
     "text": [
      "304/845 - Cập nhật thể loại: Chính kịch, Gay cấn, Kinh dị, Khoa học - Viễn tưởng\n",
      "304/845 - Cập nhật ảnh: https://cinema.momocdn.net/img/83315676653104853-cvHEMN1NW2Re02kH90847YML2gu.jpg\n"
     ]
    },
    {
     "name": "stderr",
     "output_type": "stream",
     "text": [
      "C:\\Users\\ADMIN\\AppData\\Local\\Temp\\ipykernel_7724\\373337600.py:22: FutureWarning: Series.__getitem__ treating keys as positions is deprecated. In a future version, integer keys will always be treated as labels (consistent with DataFrame behavior). To access a value by position, use `ser.iloc[pos]`\n",
      "  link = row[1]  # Cột 1 chứa link review\n"
     ]
    },
    {
     "name": "stdout",
     "output_type": "stream",
     "text": [
      "305/845 - Cập nhật thể loại: Chính kịch, Gia đình, Giả tưởng, Hài, Hoạt hình\n",
      "305/845 - Cập nhật ảnh: https://cinema.momocdn.net/img/112407547746226929-oZMpjEvO19ILidHNmRn1QTkXgpQ.jpg\n"
     ]
    },
    {
     "name": "stderr",
     "output_type": "stream",
     "text": [
      "C:\\Users\\ADMIN\\AppData\\Local\\Temp\\ipykernel_7724\\373337600.py:22: FutureWarning: Series.__getitem__ treating keys as positions is deprecated. In a future version, integer keys will always be treated as labels (consistent with DataFrame behavior). To access a value by position, use `ser.iloc[pos]`\n",
      "  link = row[1]  # Cột 1 chứa link review\n"
     ]
    },
    {
     "name": "stdout",
     "output_type": "stream",
     "text": [
      "306/845 - Cập nhật thể loại: Gia đình, Âm Nhạc, Hài, Hoạt hình\n",
      "306/845 - Cập nhật ảnh: https://homepage.momocdn.net/cinema/momo-cdn-api-220615142813-637909000933682839.jpg\n"
     ]
    },
    {
     "name": "stderr",
     "output_type": "stream",
     "text": [
      "C:\\Users\\ADMIN\\AppData\\Local\\Temp\\ipykernel_7724\\373337600.py:22: FutureWarning: Series.__getitem__ treating keys as positions is deprecated. In a future version, integer keys will always be treated as labels (consistent with DataFrame behavior). To access a value by position, use `ser.iloc[pos]`\n",
      "  link = row[1]  # Cột 1 chứa link review\n"
     ]
    },
    {
     "name": "stdout",
     "output_type": "stream",
     "text": [
      "307/845 - Cập nhật thể loại: Gia đình, Phiêu lưu, Hài, Hoạt hình\n",
      "307/845 - Cập nhật ảnh: https://image.tmdb.org/t/p/w780/ownr1JeuYB4Xnlcl2la88c3CE3z.jpg\n"
     ]
    },
    {
     "name": "stderr",
     "output_type": "stream",
     "text": [
      "C:\\Users\\ADMIN\\AppData\\Local\\Temp\\ipykernel_7724\\373337600.py:22: FutureWarning: Series.__getitem__ treating keys as positions is deprecated. In a future version, integer keys will always be treated as labels (consistent with DataFrame behavior). To access a value by position, use `ser.iloc[pos]`\n",
      "  link = row[1]  # Cột 1 chứa link review\n"
     ]
    },
    {
     "name": "stdout",
     "output_type": "stream",
     "text": [
      "308/845 - Cập nhật thể loại: Gay cấn\n",
      "308/845 - Cập nhật ảnh: https://cinema.momocdn.net/img/36871373869124817-hakdpttJbkr1hqyfiZZngu6TeIV.jpg\n"
     ]
    },
    {
     "name": "stderr",
     "output_type": "stream",
     "text": [
      "C:\\Users\\ADMIN\\AppData\\Local\\Temp\\ipykernel_7724\\373337600.py:22: FutureWarning: Series.__getitem__ treating keys as positions is deprecated. In a future version, integer keys will always be treated as labels (consistent with DataFrame behavior). To access a value by position, use `ser.iloc[pos]`\n",
      "  link = row[1]  # Cột 1 chứa link review\n"
     ]
    },
    {
     "name": "stdout",
     "output_type": "stream",
     "text": [
      "309/845 - Cập nhật thể loại: Gay cấn, Bí ẩn, Kinh dị\n",
      "309/845 - Cập nhật ảnh: https://cinema.momocdn.net/img/44792013192883368-oZDRuGHhe5uY8wBqFJcJZT9kdvJ.jpg\n"
     ]
    },
    {
     "name": "stderr",
     "output_type": "stream",
     "text": [
      "C:\\Users\\ADMIN\\AppData\\Local\\Temp\\ipykernel_7724\\373337600.py:22: FutureWarning: Series.__getitem__ treating keys as positions is deprecated. In a future version, integer keys will always be treated as labels (consistent with DataFrame behavior). To access a value by position, use `ser.iloc[pos]`\n",
      "  link = row[1]  # Cột 1 chứa link review\n"
     ]
    },
    {
     "name": "stdout",
     "output_type": "stream",
     "text": [
      "310/845 - Cập nhật thể loại: Bí ẩn, Kinh dị\n",
      "310/845 - Cập nhật ảnh: https://cinema.momocdn.net/img/51587684845048445-srdnVUKIlRtPKSNGGQsezrn2PtP.jpg\n"
     ]
    },
    {
     "name": "stderr",
     "output_type": "stream",
     "text": [
      "C:\\Users\\ADMIN\\AppData\\Local\\Temp\\ipykernel_7724\\373337600.py:22: FutureWarning: Series.__getitem__ treating keys as positions is deprecated. In a future version, integer keys will always be treated as labels (consistent with DataFrame behavior). To access a value by position, use `ser.iloc[pos]`\n",
      "  link = row[1]  # Cột 1 chứa link review\n"
     ]
    },
    {
     "name": "stdout",
     "output_type": "stream",
     "text": [
      "311/845 - Cập nhật thể loại: Phiêu lưu, Khoa học - Viễn tưởng, Hành động\n",
      "311/845 - Cập nhật ảnh: https://homepage.momocdn.net/cinema/momo-cdn-api-220615142416-637908998565489489.jpg\n"
     ]
    },
    {
     "name": "stderr",
     "output_type": "stream",
     "text": [
      "C:\\Users\\ADMIN\\AppData\\Local\\Temp\\ipykernel_7724\\373337600.py:22: FutureWarning: Series.__getitem__ treating keys as positions is deprecated. In a future version, integer keys will always be treated as labels (consistent with DataFrame behavior). To access a value by position, use `ser.iloc[pos]`\n",
      "  link = row[1]  # Cột 1 chứa link review\n"
     ]
    },
    {
     "name": "stdout",
     "output_type": "stream",
     "text": [
      "312/845 - Cập nhật thể loại: Chính kịch, Chiến tranh, Lịch sử, Hành động\n",
      "312/845 - Cập nhật ảnh: https://cinema.momocdn.net/img/30726537367720960-jixQ4CzR3fJIseAwoDozZCxWqOE.jpg\n"
     ]
    },
    {
     "name": "stderr",
     "output_type": "stream",
     "text": [
      "C:\\Users\\ADMIN\\AppData\\Local\\Temp\\ipykernel_7724\\373337600.py:22: FutureWarning: Series.__getitem__ treating keys as positions is deprecated. In a future version, integer keys will always be treated as labels (consistent with DataFrame behavior). To access a value by position, use `ser.iloc[pos]`\n",
      "  link = row[1]  # Cột 1 chứa link review\n"
     ]
    },
    {
     "name": "stdout",
     "output_type": "stream",
     "text": [
      "313/845 - Cập nhật thể loại: Ma, Kinh dị\n",
      "313/845 - Cập nhật ảnh: https://cinema.momocdn.net/img/2992441914573562-rvFeNpYimvtEEZgkhiBfXJA5oTf.jpg\n"
     ]
    },
    {
     "name": "stderr",
     "output_type": "stream",
     "text": [
      "C:\\Users\\ADMIN\\AppData\\Local\\Temp\\ipykernel_7724\\373337600.py:22: FutureWarning: Series.__getitem__ treating keys as positions is deprecated. In a future version, integer keys will always be treated as labels (consistent with DataFrame behavior). To access a value by position, use `ser.iloc[pos]`\n",
      "  link = row[1]  # Cột 1 chứa link review\n"
     ]
    },
    {
     "name": "stdout",
     "output_type": "stream",
     "text": [
      "314/845 - Cập nhật thể loại: Phiêu lưu, Khoa học - Viễn tưởng, Hành động\n",
      "314/845 - Cập nhật ảnh: https://cinema.momocdn.net/img/81593612680059158-sfw4m2tOgQRzhF6VXxaXGfd1vX.jpg\n"
     ]
    },
    {
     "name": "stderr",
     "output_type": "stream",
     "text": [
      "C:\\Users\\ADMIN\\AppData\\Local\\Temp\\ipykernel_7724\\373337600.py:22: FutureWarning: Series.__getitem__ treating keys as positions is deprecated. In a future version, integer keys will always be treated as labels (consistent with DataFrame behavior). To access a value by position, use `ser.iloc[pos]`\n",
      "  link = row[1]  # Cột 1 chứa link review\n"
     ]
    },
    {
     "name": "stdout",
     "output_type": "stream",
     "text": [
      "315/845 - Cập nhật thể loại: Chính kịch, Khoa học - Viễn tưởng, Tình cảm, Hoạt hình\n",
      "315/845 - Cập nhật ảnh: https://cinema.momocdn.net/img/26477720372323435-9ija3FGgnpqNfIXlaeQ7Tp8gITY.jpg\n"
     ]
    },
    {
     "name": "stderr",
     "output_type": "stream",
     "text": [
      "C:\\Users\\ADMIN\\AppData\\Local\\Temp\\ipykernel_7724\\373337600.py:22: FutureWarning: Series.__getitem__ treating keys as positions is deprecated. In a future version, integer keys will always be treated as labels (consistent with DataFrame behavior). To access a value by position, use `ser.iloc[pos]`\n",
      "  link = row[1]  # Cột 1 chứa link review\n"
     ]
    },
    {
     "name": "stdout",
     "output_type": "stream",
     "text": [
      "316/845 - Cập nhật thể loại: Bí ẩn, Tâm lý, Kinh dị\n",
      "316/845 - Cập nhật ảnh: https://cinema.momocdn.net/img/21570033896460887-8kgfR6KwCwc6WA2AY1wqBXkYpEy.jpg\n"
     ]
    },
    {
     "name": "stderr",
     "output_type": "stream",
     "text": [
      "C:\\Users\\ADMIN\\AppData\\Local\\Temp\\ipykernel_7724\\373337600.py:22: FutureWarning: Series.__getitem__ treating keys as positions is deprecated. In a future version, integer keys will always be treated as labels (consistent with DataFrame behavior). To access a value by position, use `ser.iloc[pos]`\n",
      "  link = row[1]  # Cột 1 chứa link review\n"
     ]
    },
    {
     "name": "stdout",
     "output_type": "stream",
     "text": [
      "317/845 - Cập nhật thể loại: Tài liệu\n",
      "317/845 - Cập nhật ảnh: https://cinema.momocdn.net/img/4386653703251360-seTn1MqKEArbwnqQLVq5HUCjlNz.jpg\n"
     ]
    },
    {
     "name": "stderr",
     "output_type": "stream",
     "text": [
      "C:\\Users\\ADMIN\\AppData\\Local\\Temp\\ipykernel_7724\\373337600.py:22: FutureWarning: Series.__getitem__ treating keys as positions is deprecated. In a future version, integer keys will always be treated as labels (consistent with DataFrame behavior). To access a value by position, use `ser.iloc[pos]`\n",
      "  link = row[1]  # Cột 1 chứa link review\n"
     ]
    },
    {
     "name": "stdout",
     "output_type": "stream",
     "text": [
      "318/845 - Cập nhật thể loại: Gay cấn, Giật gân, Kinh dị\n",
      "318/845 - Cập nhật ảnh: https://cinema.momocdn.net/img/31244241095295075-pGVvtVPz7Hwe9MTAtMdLMHnjFGi.jpg\n"
     ]
    },
    {
     "name": "stderr",
     "output_type": "stream",
     "text": [
      "C:\\Users\\ADMIN\\AppData\\Local\\Temp\\ipykernel_7724\\373337600.py:22: FutureWarning: Series.__getitem__ treating keys as positions is deprecated. In a future version, integer keys will always be treated as labels (consistent with DataFrame behavior). To access a value by position, use `ser.iloc[pos]`\n",
      "  link = row[1]  # Cột 1 chứa link review\n"
     ]
    },
    {
     "name": "stdout",
     "output_type": "stream",
     "text": [
      "319/845 - Cập nhật thể loại: Chính kịch, Tâm lý\n",
      "319/845 - Cập nhật ảnh: https://cinema.momocdn.net/img/15010783549222253-vAsxVpXP53cMSsD9u4EekQKz4ur.jpg\n"
     ]
    },
    {
     "name": "stderr",
     "output_type": "stream",
     "text": [
      "C:\\Users\\ADMIN\\AppData\\Local\\Temp\\ipykernel_7724\\373337600.py:22: FutureWarning: Series.__getitem__ treating keys as positions is deprecated. In a future version, integer keys will always be treated as labels (consistent with DataFrame behavior). To access a value by position, use `ser.iloc[pos]`\n",
      "  link = row[1]  # Cột 1 chứa link review\n"
     ]
    },
    {
     "name": "stdout",
     "output_type": "stream",
     "text": [
      "320/845 - Cập nhật thể loại: Chính kịch\n",
      "320/845 - Cập nhật ảnh: https://image.tmdb.org/t/p/w780/xqdtTCl1xoLgWnzFCBQ0vv4iSmR.jpg\n"
     ]
    },
    {
     "name": "stderr",
     "output_type": "stream",
     "text": [
      "C:\\Users\\ADMIN\\AppData\\Local\\Temp\\ipykernel_7724\\373337600.py:22: FutureWarning: Series.__getitem__ treating keys as positions is deprecated. In a future version, integer keys will always be treated as labels (consistent with DataFrame behavior). To access a value by position, use `ser.iloc[pos]`\n",
      "  link = row[1]  # Cột 1 chứa link review\n"
     ]
    },
    {
     "name": "stdout",
     "output_type": "stream",
     "text": [
      "321/845 - Cập nhật thể loại: Gia đình, Phiêu lưu, Hài, Hoạt hình\n",
      "321/845 - Cập nhật ảnh: https://cinema.momocdn.net/img/57932034131954815-wRPUgBgwnWwNqpw7lhqeIE2suxG.jpg\n"
     ]
    },
    {
     "name": "stderr",
     "output_type": "stream",
     "text": [
      "C:\\Users\\ADMIN\\AppData\\Local\\Temp\\ipykernel_7724\\373337600.py:22: FutureWarning: Series.__getitem__ treating keys as positions is deprecated. In a future version, integer keys will always be treated as labels (consistent with DataFrame behavior). To access a value by position, use `ser.iloc[pos]`\n",
      "  link = row[1]  # Cột 1 chứa link review\n"
     ]
    },
    {
     "name": "stdout",
     "output_type": "stream",
     "text": [
      "322/845 - Cập nhật thể loại: Drama, Phiêu lưu, Hành động\n",
      "322/845 - Cập nhật ảnh: https://homepage.momocdn.net/cinema/momo-cdn-api-220615142645-637909000055362076.jpg\n"
     ]
    },
    {
     "name": "stderr",
     "output_type": "stream",
     "text": [
      "C:\\Users\\ADMIN\\AppData\\Local\\Temp\\ipykernel_7724\\373337600.py:22: FutureWarning: Series.__getitem__ treating keys as positions is deprecated. In a future version, integer keys will always be treated as labels (consistent with DataFrame behavior). To access a value by position, use `ser.iloc[pos]`\n",
      "  link = row[1]  # Cột 1 chứa link review\n"
     ]
    },
    {
     "name": "stdout",
     "output_type": "stream",
     "text": [
      "323/845 - Cập nhật thể loại: Chính kịch, Tâm lý, Tình cảm, Lãng mạn\n",
      "323/845 - Cập nhật ảnh: https://cinema.momocdn.net/img/16195833438422373-4uij4drUitClyXihCyQJSklXvvv.jpg\n"
     ]
    },
    {
     "name": "stderr",
     "output_type": "stream",
     "text": [
      "C:\\Users\\ADMIN\\AppData\\Local\\Temp\\ipykernel_7724\\373337600.py:22: FutureWarning: Series.__getitem__ treating keys as positions is deprecated. In a future version, integer keys will always be treated as labels (consistent with DataFrame behavior). To access a value by position, use `ser.iloc[pos]`\n",
      "  link = row[1]  # Cột 1 chứa link review\n"
     ]
    },
    {
     "name": "stdout",
     "output_type": "stream",
     "text": [
      "324/845 - Cập nhật thể loại: Chiến tranh, Lãng mạn\n",
      "324/845 - Cập nhật ảnh: https://cinema.momocdn.net/img/100220139960736587-640x396-lilyhill.jpg\n"
     ]
    },
    {
     "name": "stderr",
     "output_type": "stream",
     "text": [
      "C:\\Users\\ADMIN\\AppData\\Local\\Temp\\ipykernel_7724\\373337600.py:22: FutureWarning: Series.__getitem__ treating keys as positions is deprecated. In a future version, integer keys will always be treated as labels (consistent with DataFrame behavior). To access a value by position, use `ser.iloc[pos]`\n",
      "  link = row[1]  # Cột 1 chứa link review\n"
     ]
    },
    {
     "name": "stdout",
     "output_type": "stream",
     "text": [
      "325/845 - Cập nhật thể loại: Gay cấn, Hình sự\n",
      "325/845 - Cập nhật ảnh: https://cinema.momocdn.net/img/44806037386522092-lVJU5ymNPhxBFEnscvOJ9GrIkjv.jpg\n"
     ]
    },
    {
     "name": "stderr",
     "output_type": "stream",
     "text": [
      "C:\\Users\\ADMIN\\AppData\\Local\\Temp\\ipykernel_7724\\373337600.py:22: FutureWarning: Series.__getitem__ treating keys as positions is deprecated. In a future version, integer keys will always be treated as labels (consistent with DataFrame behavior). To access a value by position, use `ser.iloc[pos]`\n",
      "  link = row[1]  # Cột 1 chứa link review\n"
     ]
    },
    {
     "name": "stdout",
     "output_type": "stream",
     "text": [
      "326/845 - Cập nhật thể loại: Chính kịch, Gay cấn, Thảm hoạ\n",
      "326/845 - Cập nhật ảnh: https://cinema.momocdn.net/img/30727319119663216-418498895_800449032121869_2696795144207557101_n.jpg\n"
     ]
    },
    {
     "name": "stderr",
     "output_type": "stream",
     "text": [
      "C:\\Users\\ADMIN\\AppData\\Local\\Temp\\ipykernel_7724\\373337600.py:22: FutureWarning: Series.__getitem__ treating keys as positions is deprecated. In a future version, integer keys will always be treated as labels (consistent with DataFrame behavior). To access a value by position, use `ser.iloc[pos]`\n",
      "  link = row[1]  # Cột 1 chứa link review\n"
     ]
    },
    {
     "name": "stdout",
     "output_type": "stream",
     "text": [
      "327/845 - Cập nhật thể loại: Kinh dị, Lãng mạn\n",
      "327/845 - Cập nhật ảnh: https://cinema.momocdn.net/img/19913160413475640-k68T0FOm1UnhBmyrlt5JK0FbMYD.jpg\n"
     ]
    },
    {
     "name": "stderr",
     "output_type": "stream",
     "text": [
      "C:\\Users\\ADMIN\\AppData\\Local\\Temp\\ipykernel_7724\\373337600.py:22: FutureWarning: Series.__getitem__ treating keys as positions is deprecated. In a future version, integer keys will always be treated as labels (consistent with DataFrame behavior). To access a value by position, use `ser.iloc[pos]`\n",
      "  link = row[1]  # Cột 1 chứa link review\n"
     ]
    },
    {
     "name": "stdout",
     "output_type": "stream",
     "text": [
      "328/845 - Cập nhật thể loại: Gay cấn, Bí ẩn, Kinh dị\n",
      "328/845 - Cập nhật ảnh: https://cinema.momocdn.net/img/14494932033485590-Ahap9ldDXgC8XIQpabZrznXvRzv.jpg\n"
     ]
    },
    {
     "name": "stderr",
     "output_type": "stream",
     "text": [
      "C:\\Users\\ADMIN\\AppData\\Local\\Temp\\ipykernel_7724\\373337600.py:22: FutureWarning: Series.__getitem__ treating keys as positions is deprecated. In a future version, integer keys will always be treated as labels (consistent with DataFrame behavior). To access a value by position, use `ser.iloc[pos]`\n",
      "  link = row[1]  # Cột 1 chứa link review\n"
     ]
    },
    {
     "name": "stdout",
     "output_type": "stream",
     "text": [
      "329/845 - Cập nhật thể loại: Bí ẩn, Kinh dị\n",
      "329/845 - Cập nhật ảnh: https://cinema.momocdn.net/img/51599944804815405-2V0Ka1r9cuui7ZoUNFXfnxsAfm2.jpg\n"
     ]
    },
    {
     "name": "stderr",
     "output_type": "stream",
     "text": [
      "C:\\Users\\ADMIN\\AppData\\Local\\Temp\\ipykernel_7724\\373337600.py:22: FutureWarning: Series.__getitem__ treating keys as positions is deprecated. In a future version, integer keys will always be treated as labels (consistent with DataFrame behavior). To access a value by position, use `ser.iloc[pos]`\n",
      "  link = row[1]  # Cột 1 chứa link review\n"
     ]
    },
    {
     "name": "stdout",
     "output_type": "stream",
     "text": [
      "330/845 - Cập nhật thể loại: Chính kịch, Gia đình, Hoạt hình\n",
      "330/845 - Cập nhật ảnh: https://image.tmdb.org/t/p/w780/b0UjEy4bsJObR0ulfASaiWTcodO.jpg\n"
     ]
    },
    {
     "name": "stderr",
     "output_type": "stream",
     "text": [
      "C:\\Users\\ADMIN\\AppData\\Local\\Temp\\ipykernel_7724\\373337600.py:22: FutureWarning: Series.__getitem__ treating keys as positions is deprecated. In a future version, integer keys will always be treated as labels (consistent with DataFrame behavior). To access a value by position, use `ser.iloc[pos]`\n",
      "  link = row[1]  # Cột 1 chứa link review\n"
     ]
    },
    {
     "name": "stdout",
     "output_type": "stream",
     "text": [
      "331/845 - Cập nhật thể loại: Gay cấn, Hình sự\n",
      "331/845 - Cập nhật ảnh: https://cinema.momocdn.net/img/14898924028107392-7HZILeRJhSAaN0sJl3vVW06Ck53.jpg\n"
     ]
    },
    {
     "name": "stderr",
     "output_type": "stream",
     "text": [
      "C:\\Users\\ADMIN\\AppData\\Local\\Temp\\ipykernel_7724\\373337600.py:22: FutureWarning: Series.__getitem__ treating keys as positions is deprecated. In a future version, integer keys will always be treated as labels (consistent with DataFrame behavior). To access a value by position, use `ser.iloc[pos]`\n",
      "  link = row[1]  # Cột 1 chứa link review\n"
     ]
    },
    {
     "name": "stdout",
     "output_type": "stream",
     "text": [
      "332/845 - Cập nhật thể loại: Ma, Kinh dị\n",
      "332/845 - Cập nhật ảnh: https://cinema.momocdn.net/img/89450032937632229-85iX98ZuyDKBVJLgeEFmdCQ8Pps.jpg\n"
     ]
    },
    {
     "name": "stderr",
     "output_type": "stream",
     "text": [
      "C:\\Users\\ADMIN\\AppData\\Local\\Temp\\ipykernel_7724\\373337600.py:22: FutureWarning: Series.__getitem__ treating keys as positions is deprecated. In a future version, integer keys will always be treated as labels (consistent with DataFrame behavior). To access a value by position, use `ser.iloc[pos]`\n",
      "  link = row[1]  # Cột 1 chứa link review\n"
     ]
    },
    {
     "name": "stdout",
     "output_type": "stream",
     "text": [
      "333/845 - Cập nhật thể loại: Gay cấn, Bí ẩn, Trinh thám, Hình sự\n",
      "333/845 - Cập nhật ảnh: https://homepage.momocdn.net/cinema/momo-cdn-api-220615142746-637909000665362304.jpg\n"
     ]
    },
    {
     "name": "stderr",
     "output_type": "stream",
     "text": [
      "C:\\Users\\ADMIN\\AppData\\Local\\Temp\\ipykernel_7724\\373337600.py:22: FutureWarning: Series.__getitem__ treating keys as positions is deprecated. In a future version, integer keys will always be treated as labels (consistent with DataFrame behavior). To access a value by position, use `ser.iloc[pos]`\n",
      "  link = row[1]  # Cột 1 chứa link review\n"
     ]
    },
    {
     "name": "stdout",
     "output_type": "stream",
     "text": [
      "334/845 - Cập nhật thể loại: Bí ẩn, Chính kịch\n",
      "334/845 - Cập nhật ảnh: https://homepage.momocdn.net/cinema/momo-cdn-api-220615143140-637909003004596087.jpg\n"
     ]
    },
    {
     "name": "stderr",
     "output_type": "stream",
     "text": [
      "C:\\Users\\ADMIN\\AppData\\Local\\Temp\\ipykernel_7724\\373337600.py:22: FutureWarning: Series.__getitem__ treating keys as positions is deprecated. In a future version, integer keys will always be treated as labels (consistent with DataFrame behavior). To access a value by position, use `ser.iloc[pos]`\n",
      "  link = row[1]  # Cột 1 chứa link review\n"
     ]
    },
    {
     "name": "stdout",
     "output_type": "stream",
     "text": [
      "335/845 - Cập nhật thể loại: Chính kịch, Gia đình, Phiêu lưu, Hoạt hình\n",
      "335/845 - Cập nhật ảnh: https://image.tmdb.org/t/p/w780/uIF0sIkLTc7BHB0WZ6Cl0dDwd5z.jpg\n"
     ]
    },
    {
     "name": "stderr",
     "output_type": "stream",
     "text": [
      "C:\\Users\\ADMIN\\AppData\\Local\\Temp\\ipykernel_7724\\373337600.py:22: FutureWarning: Series.__getitem__ treating keys as positions is deprecated. In a future version, integer keys will always be treated as labels (consistent with DataFrame behavior). To access a value by position, use `ser.iloc[pos]`\n",
      "  link = row[1]  # Cột 1 chứa link review\n"
     ]
    },
    {
     "name": "stdout",
     "output_type": "stream",
     "text": [
      "336/845 - Cập nhật thể loại: Chính kịch, Gia đình, Giả tưởng, Hài, Hoạt hình\n",
      "336/845 - Cập nhật ảnh: https://cinema.momocdn.net/img/35217511834906838-h47vT6X82WlHoAcQpyhPW6I3gSj.jpg\n"
     ]
    },
    {
     "name": "stderr",
     "output_type": "stream",
     "text": [
      "C:\\Users\\ADMIN\\AppData\\Local\\Temp\\ipykernel_7724\\373337600.py:22: FutureWarning: Series.__getitem__ treating keys as positions is deprecated. In a future version, integer keys will always be treated as labels (consistent with DataFrame behavior). To access a value by position, use `ser.iloc[pos]`\n",
      "  link = row[1]  # Cột 1 chứa link review\n"
     ]
    },
    {
     "name": "stdout",
     "output_type": "stream",
     "text": [
      "337/845 - Cập nhật thể loại: Chính kịch, Ma, Kinh dị, Khoa học - Viễn tưởng\n",
      "337/845 - Cập nhật ảnh: https://cinema.momocdn.net/img/7391179876377590-y5FnpKxnKXiMt7zoyc0fzBnTa3W.jpg\n"
     ]
    },
    {
     "name": "stderr",
     "output_type": "stream",
     "text": [
      "C:\\Users\\ADMIN\\AppData\\Local\\Temp\\ipykernel_7724\\373337600.py:22: FutureWarning: Series.__getitem__ treating keys as positions is deprecated. In a future version, integer keys will always be treated as labels (consistent with DataFrame behavior). To access a value by position, use `ser.iloc[pos]`\n",
      "  link = row[1]  # Cột 1 chứa link review\n"
     ]
    },
    {
     "name": "stdout",
     "output_type": "stream",
     "text": [
      "338/845 - Cập nhật thể loại: Phiêu lưu, Khoa học - Viễn tưởng, Hoạt hình\n",
      "338/845 - Cập nhật ảnh: https://cinema.momocdn.net/img/2297702185083792-qAatLCuRhvLyNJbH5IGmxLyU3tx.jpg\n"
     ]
    },
    {
     "name": "stderr",
     "output_type": "stream",
     "text": [
      "C:\\Users\\ADMIN\\AppData\\Local\\Temp\\ipykernel_7724\\373337600.py:22: FutureWarning: Series.__getitem__ treating keys as positions is deprecated. In a future version, integer keys will always be treated as labels (consistent with DataFrame behavior). To access a value by position, use `ser.iloc[pos]`\n",
      "  link = row[1]  # Cột 1 chứa link review\n"
     ]
    },
    {
     "name": "stdout",
     "output_type": "stream",
     "text": [
      "339/845 - Cập nhật thể loại: Chính kịch\n",
      "339/845 - Cập nhật ảnh: https://cinema.momocdn.net/img/57964839630367756-7ntvtqf2P9C4NECzkf9UOK0S0Jp.jpg\n"
     ]
    },
    {
     "name": "stderr",
     "output_type": "stream",
     "text": [
      "C:\\Users\\ADMIN\\AppData\\Local\\Temp\\ipykernel_7724\\373337600.py:22: FutureWarning: Series.__getitem__ treating keys as positions is deprecated. In a future version, integer keys will always be treated as labels (consistent with DataFrame behavior). To access a value by position, use `ser.iloc[pos]`\n",
      "  link = row[1]  # Cột 1 chứa link review\n"
     ]
    },
    {
     "name": "stdout",
     "output_type": "stream",
     "text": [
      "340/845 - Cập nhật thể loại: Chính kịch, Lãng mạn\n",
      "340/845 - Cập nhật ảnh: https://cinema.momocdn.net/img/397109910465032-yDI6D5ZQh67YU4r2ms8qcSbAviZ.jpg\n"
     ]
    },
    {
     "name": "stderr",
     "output_type": "stream",
     "text": [
      "C:\\Users\\ADMIN\\AppData\\Local\\Temp\\ipykernel_7724\\373337600.py:22: FutureWarning: Series.__getitem__ treating keys as positions is deprecated. In a future version, integer keys will always be treated as labels (consistent with DataFrame behavior). To access a value by position, use `ser.iloc[pos]`\n",
      "  link = row[1]  # Cột 1 chứa link review\n"
     ]
    },
    {
     "name": "stdout",
     "output_type": "stream",
     "text": [
      "341/845 - Cập nhật thể loại: Kinh dị, Giả tưởng\n",
      "341/845 - Cập nhật ảnh: https://cinema.momocdn.net/img/53204152079999654-fCcQODM4uk3SERDjmXDxls0pMIp.jpg\n"
     ]
    },
    {
     "name": "stderr",
     "output_type": "stream",
     "text": [
      "C:\\Users\\ADMIN\\AppData\\Local\\Temp\\ipykernel_7724\\373337600.py:22: FutureWarning: Series.__getitem__ treating keys as positions is deprecated. In a future version, integer keys will always be treated as labels (consistent with DataFrame behavior). To access a value by position, use `ser.iloc[pos]`\n",
      "  link = row[1]  # Cột 1 chứa link review\n"
     ]
    },
    {
     "name": "stdout",
     "output_type": "stream",
     "text": [
      "342/845 - Cập nhật thể loại: Chính kịch, Lãng mạn\n",
      "342/845 - Cập nhật ảnh: https://cinema.momocdn.net/img/34862271790817410-mhZqit1tbYLE1Dmrp1CIIqk4Xgu.jpg\n"
     ]
    },
    {
     "name": "stderr",
     "output_type": "stream",
     "text": [
      "C:\\Users\\ADMIN\\AppData\\Local\\Temp\\ipykernel_7724\\373337600.py:22: FutureWarning: Series.__getitem__ treating keys as positions is deprecated. In a future version, integer keys will always be treated as labels (consistent with DataFrame behavior). To access a value by position, use `ser.iloc[pos]`\n",
      "  link = row[1]  # Cột 1 chứa link review\n"
     ]
    },
    {
     "name": "stdout",
     "output_type": "stream",
     "text": [
      "343/845 - Cập nhật thể loại: Gia đình, Hài, Hành động\n",
      "343/845 - Cập nhật ảnh: https://cinema.momocdn.net/img/79669879927822392-irDiMv0ddrr2evxntiEje9B1t1U.jpg\n"
     ]
    },
    {
     "name": "stderr",
     "output_type": "stream",
     "text": [
      "C:\\Users\\ADMIN\\AppData\\Local\\Temp\\ipykernel_7724\\373337600.py:22: FutureWarning: Series.__getitem__ treating keys as positions is deprecated. In a future version, integer keys will always be treated as labels (consistent with DataFrame behavior). To access a value by position, use `ser.iloc[pos]`\n",
      "  link = row[1]  # Cột 1 chứa link review\n"
     ]
    },
    {
     "name": "stdout",
     "output_type": "stream",
     "text": [
      "344/845 - Cập nhật thể loại: Gia đình, Phiêu lưu, Khoa học - Viễn tưởng, Hoạt hình\n",
      "344/845 - Cập nhật ảnh: https://homepage.momocdn.net/cinema/momo-cdn-api-220615142510-637908999106739783.jpg\n"
     ]
    },
    {
     "name": "stderr",
     "output_type": "stream",
     "text": [
      "C:\\Users\\ADMIN\\AppData\\Local\\Temp\\ipykernel_7724\\373337600.py:22: FutureWarning: Series.__getitem__ treating keys as positions is deprecated. In a future version, integer keys will always be treated as labels (consistent with DataFrame behavior). To access a value by position, use `ser.iloc[pos]`\n",
      "  link = row[1]  # Cột 1 chứa link review\n"
     ]
    },
    {
     "name": "stdout",
     "output_type": "stream",
     "text": [
      "345/845 - Cập nhật thể loại: Kinh dị\n",
      "345/845 - Cập nhật ảnh: https://cinema.momocdn.net/img/34859193406172426-b0Nu33h597j4CO3LW2RaKFSRdpy.jpg\n"
     ]
    },
    {
     "name": "stderr",
     "output_type": "stream",
     "text": [
      "C:\\Users\\ADMIN\\AppData\\Local\\Temp\\ipykernel_7724\\373337600.py:22: FutureWarning: Series.__getitem__ treating keys as positions is deprecated. In a future version, integer keys will always be treated as labels (consistent with DataFrame behavior). To access a value by position, use `ser.iloc[pos]`\n",
      "  link = row[1]  # Cột 1 chứa link review\n"
     ]
    },
    {
     "name": "stdout",
     "output_type": "stream",
     "text": [
      "346/845 - Cập nhật thể loại: Kinh dị\n",
      "346/845 - Cập nhật ảnh: https://cinema.momocdn.net/img/31246033025208148-thapcuongthibanner.jpeg?size=L\n"
     ]
    },
    {
     "name": "stderr",
     "output_type": "stream",
     "text": [
      "C:\\Users\\ADMIN\\AppData\\Local\\Temp\\ipykernel_7724\\373337600.py:22: FutureWarning: Series.__getitem__ treating keys as positions is deprecated. In a future version, integer keys will always be treated as labels (consistent with DataFrame behavior). To access a value by position, use `ser.iloc[pos]`\n",
      "  link = row[1]  # Cột 1 chứa link review\n"
     ]
    },
    {
     "name": "stdout",
     "output_type": "stream",
     "text": [
      "347/845 - Cập nhật thể loại: Chính kịch, Bí ẩn, Lịch sử\n",
      "347/845 - Cập nhật ảnh: https://cinema.momocdn.net/img/20452099771429194-kmOF2tZo88FBJBFE1cUUOLnDWii.jpg\n"
     ]
    },
    {
     "name": "stderr",
     "output_type": "stream",
     "text": [
      "C:\\Users\\ADMIN\\AppData\\Local\\Temp\\ipykernel_7724\\373337600.py:22: FutureWarning: Series.__getitem__ treating keys as positions is deprecated. In a future version, integer keys will always be treated as labels (consistent with DataFrame behavior). To access a value by position, use `ser.iloc[pos]`\n",
      "  link = row[1]  # Cột 1 chứa link review\n"
     ]
    },
    {
     "name": "stdout",
     "output_type": "stream",
     "text": [
      "348/845 - Cập nhật thể loại: Kinh dị, Phiêu lưu\n",
      "348/845 - Cập nhật ảnh: https://homepage.momocdn.net/cinema/momo-upload-api-230404153209-638162191294383925.jpeg\n"
     ]
    },
    {
     "name": "stderr",
     "output_type": "stream",
     "text": [
      "C:\\Users\\ADMIN\\AppData\\Local\\Temp\\ipykernel_7724\\373337600.py:22: FutureWarning: Series.__getitem__ treating keys as positions is deprecated. In a future version, integer keys will always be treated as labels (consistent with DataFrame behavior). To access a value by position, use `ser.iloc[pos]`\n",
      "  link = row[1]  # Cột 1 chứa link review\n"
     ]
    },
    {
     "name": "stdout",
     "output_type": "stream",
     "text": [
      "349/845 - Cập nhật thể loại: Gia đình, Hành động, Hoạt hình\n",
      "349/845 - Cập nhật ảnh: https://homepage.momocdn.net/cinema/momo-cdn-api-220615142925-637909001651149340.jpg\n"
     ]
    },
    {
     "name": "stderr",
     "output_type": "stream",
     "text": [
      "C:\\Users\\ADMIN\\AppData\\Local\\Temp\\ipykernel_7724\\373337600.py:22: FutureWarning: Series.__getitem__ treating keys as positions is deprecated. In a future version, integer keys will always be treated as labels (consistent with DataFrame behavior). To access a value by position, use `ser.iloc[pos]`\n",
      "  link = row[1]  # Cột 1 chứa link review\n"
     ]
    },
    {
     "name": "stdout",
     "output_type": "stream",
     "text": [
      "350/845 - Cập nhật thể loại: Hài, Hành động\n",
      "350/845 - Cập nhật ảnh: https://cinema.momocdn.net/img/6704916054765301-unT5IUqiZgqcGyjcOMxomdxQOMj.jpg\n"
     ]
    },
    {
     "name": "stderr",
     "output_type": "stream",
     "text": [
      "C:\\Users\\ADMIN\\AppData\\Local\\Temp\\ipykernel_7724\\373337600.py:22: FutureWarning: Series.__getitem__ treating keys as positions is deprecated. In a future version, integer keys will always be treated as labels (consistent with DataFrame behavior). To access a value by position, use `ser.iloc[pos]`\n",
      "  link = row[1]  # Cột 1 chứa link review\n"
     ]
    },
    {
     "name": "stdout",
     "output_type": "stream",
     "text": [
      "351/845 - Cập nhật thể loại: Gay cấn, Kinh dị\n",
      "351/845 - Cập nhật ảnh: https://cinema.momocdn.net/img/59072057236781191-3E7DHntQkwvTeChrtT2GAYN9pbi.jpg\n"
     ]
    },
    {
     "name": "stderr",
     "output_type": "stream",
     "text": [
      "C:\\Users\\ADMIN\\AppData\\Local\\Temp\\ipykernel_7724\\373337600.py:22: FutureWarning: Series.__getitem__ treating keys as positions is deprecated. In a future version, integer keys will always be treated as labels (consistent with DataFrame behavior). To access a value by position, use `ser.iloc[pos]`\n",
      "  link = row[1]  # Cột 1 chứa link review\n"
     ]
    },
    {
     "name": "stdout",
     "output_type": "stream",
     "text": [
      "352/845 - Cập nhật thể loại: Gay cấn, Ma, Kinh dị\n",
      "352/845 - Cập nhật ảnh: https://homepage.momocdn.net/cinema/momo-upload-api-220717190655-637936816157043002.jpeg\n"
     ]
    },
    {
     "name": "stderr",
     "output_type": "stream",
     "text": [
      "C:\\Users\\ADMIN\\AppData\\Local\\Temp\\ipykernel_7724\\373337600.py:22: FutureWarning: Series.__getitem__ treating keys as positions is deprecated. In a future version, integer keys will always be treated as labels (consistent with DataFrame behavior). To access a value by position, use `ser.iloc[pos]`\n",
      "  link = row[1]  # Cột 1 chứa link review\n"
     ]
    },
    {
     "name": "stdout",
     "output_type": "stream",
     "text": [
      "353/845 - Cập nhật thể loại: Ma, Kinh dị\n",
      "353/845 - Cập nhật ảnh: https://cinema.momocdn.net/img/4186614890981939-54IXMMEQKlkPXHqPExWy98UBmtE.jpg\n"
     ]
    },
    {
     "name": "stderr",
     "output_type": "stream",
     "text": [
      "C:\\Users\\ADMIN\\AppData\\Local\\Temp\\ipykernel_7724\\373337600.py:22: FutureWarning: Series.__getitem__ treating keys as positions is deprecated. In a future version, integer keys will always be treated as labels (consistent with DataFrame behavior). To access a value by position, use `ser.iloc[pos]`\n",
      "  link = row[1]  # Cột 1 chứa link review\n"
     ]
    },
    {
     "name": "stdout",
     "output_type": "stream",
     "text": [
      "354/845 - Cập nhật thể loại: Âm Nhạc, Tài liệu\n",
      "354/845 - Cập nhật ảnh: https://homepage.momocdn.net/cinema/momo-upload-api-230707152047-638243400474715682.jpg\n"
     ]
    },
    {
     "name": "stderr",
     "output_type": "stream",
     "text": [
      "C:\\Users\\ADMIN\\AppData\\Local\\Temp\\ipykernel_7724\\373337600.py:22: FutureWarning: Series.__getitem__ treating keys as positions is deprecated. In a future version, integer keys will always be treated as labels (consistent with DataFrame behavior). To access a value by position, use `ser.iloc[pos]`\n",
      "  link = row[1]  # Cột 1 chứa link review\n"
     ]
    },
    {
     "name": "stdout",
     "output_type": "stream",
     "text": [
      "355/845 - Cập nhật thể loại: Gay cấn, Kinh dị, Hình sự\n",
      "355/845 - Cập nhật ảnh: https://cinema.momocdn.net/img/59076793377993903-fSLrQ0TyUYeoF1bhB8g9hORBQZk.jpg\n"
     ]
    },
    {
     "name": "stderr",
     "output_type": "stream",
     "text": [
      "C:\\Users\\ADMIN\\AppData\\Local\\Temp\\ipykernel_7724\\373337600.py:22: FutureWarning: Series.__getitem__ treating keys as positions is deprecated. In a future version, integer keys will always be treated as labels (consistent with DataFrame behavior). To access a value by position, use `ser.iloc[pos]`\n",
      "  link = row[1]  # Cột 1 chứa link review\n"
     ]
    },
    {
     "name": "stdout",
     "output_type": "stream",
     "text": [
      "356/845 - Cập nhật thể loại: Ma, Kinh dị\n",
      "356/845 - Cập nhật ảnh: https://cinema.momocdn.net/img/12743128760119019-u5nY7pY2Y58o7dSM9cy6NclOV8V.jpg\n"
     ]
    },
    {
     "name": "stderr",
     "output_type": "stream",
     "text": [
      "C:\\Users\\ADMIN\\AppData\\Local\\Temp\\ipykernel_7724\\373337600.py:22: FutureWarning: Series.__getitem__ treating keys as positions is deprecated. In a future version, integer keys will always be treated as labels (consistent with DataFrame behavior). To access a value by position, use `ser.iloc[pos]`\n",
      "  link = row[1]  # Cột 1 chứa link review\n"
     ]
    },
    {
     "name": "stdout",
     "output_type": "stream",
     "text": [
      "357/845 - Cập nhật thể loại: Phiêu lưu, Khoa học - Viễn tưởng, Hành động, Hoạt hình\n",
      "357/845 - Cập nhật ảnh: https://cinema.momocdn.net/img/51163953442734052-hd1TvTUGjkoYoqvXYfSBpI5Ri9B.jpg\n"
     ]
    },
    {
     "name": "stderr",
     "output_type": "stream",
     "text": [
      "C:\\Users\\ADMIN\\AppData\\Local\\Temp\\ipykernel_7724\\373337600.py:22: FutureWarning: Series.__getitem__ treating keys as positions is deprecated. In a future version, integer keys will always be treated as labels (consistent with DataFrame behavior). To access a value by position, use `ser.iloc[pos]`\n",
      "  link = row[1]  # Cột 1 chứa link review\n"
     ]
    },
    {
     "name": "stdout",
     "output_type": "stream",
     "text": [
      "358/845 - Cập nhật thể loại: Chính kịch, Hài\n",
      "358/845 - Cập nhật ảnh: https://cinema.momocdn.net/img/25888778939670095-fvUWuX1S9CPd3ojPj2TvY371ln9.jpg\n"
     ]
    },
    {
     "name": "stderr",
     "output_type": "stream",
     "text": [
      "C:\\Users\\ADMIN\\AppData\\Local\\Temp\\ipykernel_7724\\373337600.py:22: FutureWarning: Series.__getitem__ treating keys as positions is deprecated. In a future version, integer keys will always be treated as labels (consistent with DataFrame behavior). To access a value by position, use `ser.iloc[pos]`\n",
      "  link = row[1]  # Cột 1 chứa link review\n"
     ]
    },
    {
     "name": "stdout",
     "output_type": "stream",
     "text": [
      "359/845 - Cập nhật thể loại: Gay cấn, Tâm lý, Kinh dị\n",
      "359/845 - Cập nhật ảnh: https://cinema.momocdn.net/img/80376219538772557-1-5004.png\n"
     ]
    },
    {
     "name": "stderr",
     "output_type": "stream",
     "text": [
      "C:\\Users\\ADMIN\\AppData\\Local\\Temp\\ipykernel_7724\\373337600.py:22: FutureWarning: Series.__getitem__ treating keys as positions is deprecated. In a future version, integer keys will always be treated as labels (consistent with DataFrame behavior). To access a value by position, use `ser.iloc[pos]`\n",
      "  link = row[1]  # Cột 1 chứa link review\n"
     ]
    },
    {
     "name": "stdout",
     "output_type": "stream",
     "text": [
      "360/845 - Cập nhật thể loại: Gay cấn, Hình sự, Hành động\n",
      "360/845 - Cập nhật ảnh: https://homepage.momocdn.net/cinema/momo-cdn-api-220615142928-637909001686261188.jpg\n"
     ]
    },
    {
     "name": "stderr",
     "output_type": "stream",
     "text": [
      "C:\\Users\\ADMIN\\AppData\\Local\\Temp\\ipykernel_7724\\373337600.py:22: FutureWarning: Series.__getitem__ treating keys as positions is deprecated. In a future version, integer keys will always be treated as labels (consistent with DataFrame behavior). To access a value by position, use `ser.iloc[pos]`\n",
      "  link = row[1]  # Cột 1 chứa link review\n"
     ]
    },
    {
     "name": "stdout",
     "output_type": "stream",
     "text": [
      "361/845 - Cập nhật thể loại: Âm Nhạc, Tài liệu\n",
      "361/845 - Cập nhật ảnh: https://cinema.momocdn.net/img/57932498371870303-vsEWcQctLmfyITT4a48F4mErQFi.jpg\n"
     ]
    },
    {
     "name": "stderr",
     "output_type": "stream",
     "text": [
      "C:\\Users\\ADMIN\\AppData\\Local\\Temp\\ipykernel_7724\\373337600.py:22: FutureWarning: Series.__getitem__ treating keys as positions is deprecated. In a future version, integer keys will always be treated as labels (consistent with DataFrame behavior). To access a value by position, use `ser.iloc[pos]`\n",
      "  link = row[1]  # Cột 1 chứa link review\n"
     ]
    },
    {
     "name": "stdout",
     "output_type": "stream",
     "text": [
      "362/845 - Cập nhật thể loại: Chính kịch, Gay cấn, Hành động\n",
      "362/845 - Cập nhật ảnh: https://cinema.momocdn.net/img/89450286334689294-vW016VDPIzzEgDzrC19xJ7pAoqg.jpg\n"
     ]
    },
    {
     "name": "stderr",
     "output_type": "stream",
     "text": [
      "C:\\Users\\ADMIN\\AppData\\Local\\Temp\\ipykernel_7724\\373337600.py:22: FutureWarning: Series.__getitem__ treating keys as positions is deprecated. In a future version, integer keys will always be treated as labels (consistent with DataFrame behavior). To access a value by position, use `ser.iloc[pos]`\n",
      "  link = row[1]  # Cột 1 chứa link review\n"
     ]
    },
    {
     "name": "stdout",
     "output_type": "stream",
     "text": [
      "363/845 - Cập nhật thể loại: Gay cấn, Kinh dị, Khoa học - Viễn tưởng\n",
      "363/845 - Cập nhật ảnh: https://image.tmdb.org/t/p/w780/61ILWcYQKZhPPntTJEe4PKUfncp.jpg\n"
     ]
    },
    {
     "name": "stderr",
     "output_type": "stream",
     "text": [
      "C:\\Users\\ADMIN\\AppData\\Local\\Temp\\ipykernel_7724\\373337600.py:22: FutureWarning: Series.__getitem__ treating keys as positions is deprecated. In a future version, integer keys will always be treated as labels (consistent with DataFrame behavior). To access a value by position, use `ser.iloc[pos]`\n",
      "  link = row[1]  # Cột 1 chứa link review\n"
     ]
    },
    {
     "name": "stdout",
     "output_type": "stream",
     "text": [
      "364/845 - Cập nhật thể loại: Kinh dị\n",
      "364/845 - Cập nhật ảnh: https://cinema.momocdn.net/img/29701592595100395-2hiUhSfrQM8Avwmx7WW5ruv9mVP.jpg\n"
     ]
    },
    {
     "name": "stderr",
     "output_type": "stream",
     "text": [
      "C:\\Users\\ADMIN\\AppData\\Local\\Temp\\ipykernel_7724\\373337600.py:22: FutureWarning: Series.__getitem__ treating keys as positions is deprecated. In a future version, integer keys will always be treated as labels (consistent with DataFrame behavior). To access a value by position, use `ser.iloc[pos]`\n",
      "  link = row[1]  # Cột 1 chứa link review\n"
     ]
    },
    {
     "name": "stdout",
     "output_type": "stream",
     "text": [
      "365/845 - Cập nhật thể loại: Gay cấn, Hình sự, Hành động\n",
      "365/845 - Cập nhật ảnh: https://cinema.momocdn.net/img/12744064230015377-the_equalizer_2_EZYV.jpg\n"
     ]
    },
    {
     "name": "stderr",
     "output_type": "stream",
     "text": [
      "C:\\Users\\ADMIN\\AppData\\Local\\Temp\\ipykernel_7724\\373337600.py:22: FutureWarning: Series.__getitem__ treating keys as positions is deprecated. In a future version, integer keys will always be treated as labels (consistent with DataFrame behavior). To access a value by position, use `ser.iloc[pos]`\n",
      "  link = row[1]  # Cột 1 chứa link review\n"
     ]
    },
    {
     "name": "stdout",
     "output_type": "stream",
     "text": [
      "366/845 - Cập nhật thể loại: Bí ẩn, Kinh dị\n",
      "366/845 - Cập nhật ảnh: https://homepage.momocdn.net/cinema/momo-upload-api-230707152435-638243402755540257.jpg\n"
     ]
    },
    {
     "name": "stderr",
     "output_type": "stream",
     "text": [
      "C:\\Users\\ADMIN\\AppData\\Local\\Temp\\ipykernel_7724\\373337600.py:22: FutureWarning: Series.__getitem__ treating keys as positions is deprecated. In a future version, integer keys will always be treated as labels (consistent with DataFrame behavior). To access a value by position, use `ser.iloc[pos]`\n",
      "  link = row[1]  # Cột 1 chứa link review\n"
     ]
    },
    {
     "name": "stdout",
     "output_type": "stream",
     "text": [
      "367/845 - Cập nhật thể loại: Kinh dị, Hài\n",
      "367/845 - Cập nhật ảnh: https://cinema.momocdn.net/img/13981257032893653-7MjgRNq3RqQ8reT5DNprkYOd3LV.jpg\n"
     ]
    },
    {
     "name": "stderr",
     "output_type": "stream",
     "text": [
      "C:\\Users\\ADMIN\\AppData\\Local\\Temp\\ipykernel_7724\\373337600.py:22: FutureWarning: Series.__getitem__ treating keys as positions is deprecated. In a future version, integer keys will always be treated as labels (consistent with DataFrame behavior). To access a value by position, use `ser.iloc[pos]`\n",
      "  link = row[1]  # Cột 1 chứa link review\n"
     ]
    },
    {
     "name": "stdout",
     "output_type": "stream",
     "text": [
      "368/845 - Cập nhật thể loại: Chính kịch, Gay cấn\n",
      "368/845 - Cập nhật ảnh: https://cinema.momocdn.net/img/32465974063282856-TRA.jpg\n"
     ]
    },
    {
     "name": "stderr",
     "output_type": "stream",
     "text": [
      "C:\\Users\\ADMIN\\AppData\\Local\\Temp\\ipykernel_7724\\373337600.py:22: FutureWarning: Series.__getitem__ treating keys as positions is deprecated. In a future version, integer keys will always be treated as labels (consistent with DataFrame behavior). To access a value by position, use `ser.iloc[pos]`\n",
      "  link = row[1]  # Cột 1 chứa link review\n"
     ]
    },
    {
     "name": "stdout",
     "output_type": "stream",
     "text": [
      "369/845 - Cập nhật thể loại: Chính kịch, Tình cảm, Hài, Lãng mạn\n",
      "369/845 - Cập nhật ảnh: https://cinema.momocdn.net/img/16219336083308255-z4554688700973_a64e2111ade581ea5aee147f1deb2190-e1690800060137.jpg\n"
     ]
    },
    {
     "name": "stderr",
     "output_type": "stream",
     "text": [
      "C:\\Users\\ADMIN\\AppData\\Local\\Temp\\ipykernel_7724\\373337600.py:22: FutureWarning: Series.__getitem__ treating keys as positions is deprecated. In a future version, integer keys will always be treated as labels (consistent with DataFrame behavior). To access a value by position, use `ser.iloc[pos]`\n",
      "  link = row[1]  # Cột 1 chứa link review\n"
     ]
    },
    {
     "name": "stdout",
     "output_type": "stream",
     "text": [
      "370/845 - Cập nhật thể loại: Âm Nhạc, Tài liệu\n",
      "370/845 - Cập nhật ảnh: https://cinema.momocdn.net/img/121452036707104855-RMback.png?size=L\n"
     ]
    },
    {
     "name": "stderr",
     "output_type": "stream",
     "text": [
      "C:\\Users\\ADMIN\\AppData\\Local\\Temp\\ipykernel_7724\\373337600.py:22: FutureWarning: Series.__getitem__ treating keys as positions is deprecated. In a future version, integer keys will always be treated as labels (consistent with DataFrame behavior). To access a value by position, use `ser.iloc[pos]`\n",
      "  link = row[1]  # Cột 1 chứa link review\n"
     ]
    },
    {
     "name": "stdout",
     "output_type": "stream",
     "text": [
      "371/845 - Cập nhật thể loại: Gay cấn, Hành động\n",
      "371/845 - Cập nhật ảnh: https://homepage.momocdn.net/cinema/momo-cdn-api-220615142920-637909001606231482.jpg\n"
     ]
    },
    {
     "name": "stderr",
     "output_type": "stream",
     "text": [
      "C:\\Users\\ADMIN\\AppData\\Local\\Temp\\ipykernel_7724\\373337600.py:22: FutureWarning: Series.__getitem__ treating keys as positions is deprecated. In a future version, integer keys will always be treated as labels (consistent with DataFrame behavior). To access a value by position, use `ser.iloc[pos]`\n",
      "  link = row[1]  # Cột 1 chứa link review\n"
     ]
    },
    {
     "name": "stdout",
     "output_type": "stream",
     "text": [
      "372/845 - Cập nhật thể loại: Kinh dị, Giả tưởng\n",
      "372/845 - Cập nhật ảnh: https://image.tmdb.org/t/p/w780/h7r6LZ32dgLwtwSW3CxoWIYD9pr.jpg\n"
     ]
    },
    {
     "name": "stderr",
     "output_type": "stream",
     "text": [
      "C:\\Users\\ADMIN\\AppData\\Local\\Temp\\ipykernel_7724\\373337600.py:22: FutureWarning: Series.__getitem__ treating keys as positions is deprecated. In a future version, integer keys will always be treated as labels (consistent with DataFrame behavior). To access a value by position, use `ser.iloc[pos]`\n",
      "  link = row[1]  # Cột 1 chứa link review\n"
     ]
    },
    {
     "name": "stdout",
     "output_type": "stream",
     "text": [
      "373/845 - Cập nhật thể loại: Bí ẩn, Ma, Kinh dị\n",
      "373/845 - Cập nhật ảnh: https://cinema.momocdn.net/img/22256580552763317-eBeD0FpK6mH7IXSxQ6AjuZSkjjL.jpg\n"
     ]
    },
    {
     "name": "stderr",
     "output_type": "stream",
     "text": [
      "C:\\Users\\ADMIN\\AppData\\Local\\Temp\\ipykernel_7724\\373337600.py:22: FutureWarning: Series.__getitem__ treating keys as positions is deprecated. In a future version, integer keys will always be treated as labels (consistent with DataFrame behavior). To access a value by position, use `ser.iloc[pos]`\n",
      "  link = row[1]  # Cột 1 chứa link review\n"
     ]
    },
    {
     "name": "stdout",
     "output_type": "stream",
     "text": [
      "374/845 - Cập nhật thể loại: Gay cấn, Bí ẩn, Kinh dị, Khoa học - Viễn tưởng\n",
      "374/845 - Cập nhật ảnh: https://homepage.momocdn.net/cinema/momo-cdn-api-220615142916-637909001563293062.jpg\n"
     ]
    },
    {
     "name": "stderr",
     "output_type": "stream",
     "text": [
      "C:\\Users\\ADMIN\\AppData\\Local\\Temp\\ipykernel_7724\\373337600.py:22: FutureWarning: Series.__getitem__ treating keys as positions is deprecated. In a future version, integer keys will always be treated as labels (consistent with DataFrame behavior). To access a value by position, use `ser.iloc[pos]`\n",
      "  link = row[1]  # Cột 1 chứa link review\n"
     ]
    },
    {
     "name": "stdout",
     "output_type": "stream",
     "text": [
      "375/845 - Cập nhật thể loại: Gia đình, Phiêu lưu, Khoa học - Viễn tưởng\n",
      "375/845 - Cập nhật ảnh: https://cinema.momocdn.net/img/1f118f3d-2381-4707-afef-cdb2efb8d933-4260000369219083.png\n"
     ]
    },
    {
     "name": "stderr",
     "output_type": "stream",
     "text": [
      "C:\\Users\\ADMIN\\AppData\\Local\\Temp\\ipykernel_7724\\373337600.py:22: FutureWarning: Series.__getitem__ treating keys as positions is deprecated. In a future version, integer keys will always be treated as labels (consistent with DataFrame behavior). To access a value by position, use `ser.iloc[pos]`\n",
      "  link = row[1]  # Cột 1 chứa link review\n"
     ]
    },
    {
     "name": "stdout",
     "output_type": "stream",
     "text": [
      "376/845 - Cập nhật thể loại: Gia đình, Phiêu lưu, Hoạt hình\n",
      "376/845 - Cập nhật ảnh: https://cinema.momocdn.net/img/32108831043370018-7GALTpYi0jPouKi7ZzgHZw6x4SE.jpg\n"
     ]
    },
    {
     "name": "stderr",
     "output_type": "stream",
     "text": [
      "C:\\Users\\ADMIN\\AppData\\Local\\Temp\\ipykernel_7724\\373337600.py:22: FutureWarning: Series.__getitem__ treating keys as positions is deprecated. In a future version, integer keys will always be treated as labels (consistent with DataFrame behavior). To access a value by position, use `ser.iloc[pos]`\n",
      "  link = row[1]  # Cột 1 chứa link review\n"
     ]
    },
    {
     "name": "stdout",
     "output_type": "stream",
     "text": [
      "377/845 - Cập nhật thể loại: Chính kịch\n",
      "377/845 - Cập nhật ảnh: https://cinema.momocdn.net/img/15520264574476751-z94oO4k3bvOrtI5b3Dksv7k3M3y.jpg\n"
     ]
    },
    {
     "name": "stderr",
     "output_type": "stream",
     "text": [
      "C:\\Users\\ADMIN\\AppData\\Local\\Temp\\ipykernel_7724\\373337600.py:22: FutureWarning: Series.__getitem__ treating keys as positions is deprecated. In a future version, integer keys will always be treated as labels (consistent with DataFrame behavior). To access a value by position, use `ser.iloc[pos]`\n",
      "  link = row[1]  # Cột 1 chứa link review\n"
     ]
    },
    {
     "name": "stdout",
     "output_type": "stream",
     "text": [
      "378/845 - Cập nhật thể loại: Khoa học - Viễn tưởng, Hài, Hành động\n",
      "378/845 - Cập nhật ảnh: https://homepage.momocdn.net/cinema/momo-cdn-api-220615142954-637909001949302184.jpg\n"
     ]
    },
    {
     "name": "stderr",
     "output_type": "stream",
     "text": [
      "C:\\Users\\ADMIN\\AppData\\Local\\Temp\\ipykernel_7724\\373337600.py:22: FutureWarning: Series.__getitem__ treating keys as positions is deprecated. In a future version, integer keys will always be treated as labels (consistent with DataFrame behavior). To access a value by position, use `ser.iloc[pos]`\n",
      "  link = row[1]  # Cột 1 chứa link review\n"
     ]
    },
    {
     "name": "stdout",
     "output_type": "stream",
     "text": [
      "379/845 - Cập nhật thể loại: Hài, Lãng mạn\n",
      "379/845 - Cập nhật ảnh: https://homepage.momocdn.net/cinema/momo-cdn-api-220615142618-637908999785917785.jpg\n"
     ]
    },
    {
     "name": "stderr",
     "output_type": "stream",
     "text": [
      "C:\\Users\\ADMIN\\AppData\\Local\\Temp\\ipykernel_7724\\373337600.py:22: FutureWarning: Series.__getitem__ treating keys as positions is deprecated. In a future version, integer keys will always be treated as labels (consistent with DataFrame behavior). To access a value by position, use `ser.iloc[pos]`\n",
      "  link = row[1]  # Cột 1 chứa link review\n"
     ]
    },
    {
     "name": "stdout",
     "output_type": "stream",
     "text": [
      "380/845 - Cập nhật thể loại: Gay cấn, Bí ẩn, Kinh dị\n",
      "380/845 - Cập nhật ảnh: https://cinema.momocdn.net/img/59073655243934506-xgI3YgSmDH7c87aLHabDipnVoT9.jpg\n"
     ]
    },
    {
     "name": "stderr",
     "output_type": "stream",
     "text": [
      "C:\\Users\\ADMIN\\AppData\\Local\\Temp\\ipykernel_7724\\373337600.py:22: FutureWarning: Series.__getitem__ treating keys as positions is deprecated. In a future version, integer keys will always be treated as labels (consistent with DataFrame behavior). To access a value by position, use `ser.iloc[pos]`\n",
      "  link = row[1]  # Cột 1 chứa link review\n"
     ]
    },
    {
     "name": "stdout",
     "output_type": "stream",
     "text": [
      "381/845 - Cập nhật thể loại: Chính kịch, Hành động\n",
      "381/845 - Cập nhật ảnh: https://cinema.momocdn.net/img/25877457772951704-fLKf9EonnbNxreP6P6Jd9McsS8X.jpg\n"
     ]
    },
    {
     "name": "stderr",
     "output_type": "stream",
     "text": [
      "C:\\Users\\ADMIN\\AppData\\Local\\Temp\\ipykernel_7724\\373337600.py:22: FutureWarning: Series.__getitem__ treating keys as positions is deprecated. In a future version, integer keys will always be treated as labels (consistent with DataFrame behavior). To access a value by position, use `ser.iloc[pos]`\n",
      "  link = row[1]  # Cột 1 chứa link review\n"
     ]
    },
    {
     "name": "stdout",
     "output_type": "stream",
     "text": [
      "382/845 - Cập nhật thể loại: Trinh thám, Siêu anh hùng, Hành động\n",
      "382/845 - Cập nhật ảnh: https://cinema.momocdn.net/img/20965873332933218-lh5lbisD4oDbEKgUxoRaZU8HVrk.jpg\n"
     ]
    },
    {
     "name": "stderr",
     "output_type": "stream",
     "text": [
      "C:\\Users\\ADMIN\\AppData\\Local\\Temp\\ipykernel_7724\\373337600.py:22: FutureWarning: Series.__getitem__ treating keys as positions is deprecated. In a future version, integer keys will always be treated as labels (consistent with DataFrame behavior). To access a value by position, use `ser.iloc[pos]`\n",
      "  link = row[1]  # Cột 1 chứa link review\n"
     ]
    },
    {
     "name": "stdout",
     "output_type": "stream",
     "text": [
      "383/845 - Cập nhật thể loại: Âm Nhạc, Tài liệu\n",
      "383/845 - Cập nhật ảnh: https://cinema.momocdn.net/img/25467518049705411-xJkbxJBrnj2O1IRhR2M0cFpsWBz.jpg\n"
     ]
    },
    {
     "name": "stderr",
     "output_type": "stream",
     "text": [
      "C:\\Users\\ADMIN\\AppData\\Local\\Temp\\ipykernel_7724\\373337600.py:22: FutureWarning: Series.__getitem__ treating keys as positions is deprecated. In a future version, integer keys will always be treated as labels (consistent with DataFrame behavior). To access a value by position, use `ser.iloc[pos]`\n",
      "  link = row[1]  # Cột 1 chứa link review\n"
     ]
    },
    {
     "name": "stdout",
     "output_type": "stream",
     "text": [
      "384/845 - Cập nhật thể loại: Gay cấn, Tâm lý, Kinh dị\n",
      "384/845 - Cập nhật ảnh: https://homepage.momocdn.net/cinema/momo-cdn-api-220615142911-637909001515521735.jpg\n"
     ]
    },
    {
     "name": "stderr",
     "output_type": "stream",
     "text": [
      "C:\\Users\\ADMIN\\AppData\\Local\\Temp\\ipykernel_7724\\373337600.py:22: FutureWarning: Series.__getitem__ treating keys as positions is deprecated. In a future version, integer keys will always be treated as labels (consistent with DataFrame behavior). To access a value by position, use `ser.iloc[pos]`\n",
      "  link = row[1]  # Cột 1 chứa link review\n"
     ]
    },
    {
     "name": "stdout",
     "output_type": "stream",
     "text": [
      "385/845 - Cập nhật thể loại: Chính kịch, Lãng mạn\n",
      "385/845 - Cập nhật ảnh: https://cinema.momocdn.net/img/76744946497534653-m6GbPD59FZlwqb1vH3exXBsHB6r.jpg\n"
     ]
    },
    {
     "name": "stderr",
     "output_type": "stream",
     "text": [
      "C:\\Users\\ADMIN\\AppData\\Local\\Temp\\ipykernel_7724\\373337600.py:22: FutureWarning: Series.__getitem__ treating keys as positions is deprecated. In a future version, integer keys will always be treated as labels (consistent with DataFrame behavior). To access a value by position, use `ser.iloc[pos]`\n",
      "  link = row[1]  # Cột 1 chứa link review\n"
     ]
    },
    {
     "name": "stdout",
     "output_type": "stream",
     "text": [
      "386/845 - Cập nhật thể loại: Ma, Kinh dị\n",
      "386/845 - Cập nhật ảnh: https://homepage.momocdn.net/cinema/momo-cdn-api-220615143115-637909002755134209.jpg\n"
     ]
    },
    {
     "name": "stderr",
     "output_type": "stream",
     "text": [
      "C:\\Users\\ADMIN\\AppData\\Local\\Temp\\ipykernel_7724\\373337600.py:22: FutureWarning: Series.__getitem__ treating keys as positions is deprecated. In a future version, integer keys will always be treated as labels (consistent with DataFrame behavior). To access a value by position, use `ser.iloc[pos]`\n",
      "  link = row[1]  # Cột 1 chứa link review\n"
     ]
    },
    {
     "name": "stdout",
     "output_type": "stream",
     "text": [
      "387/845 - Cập nhật thể loại: Hài, Hành động\n",
      "387/845 - Cập nhật ảnh: https://image.tmdb.org/t/p/w780/c6tqdW0MK7NnYKAh9tBuAHhB5Wj.jpg\n"
     ]
    },
    {
     "name": "stderr",
     "output_type": "stream",
     "text": [
      "C:\\Users\\ADMIN\\AppData\\Local\\Temp\\ipykernel_7724\\373337600.py:22: FutureWarning: Series.__getitem__ treating keys as positions is deprecated. In a future version, integer keys will always be treated as labels (consistent with DataFrame behavior). To access a value by position, use `ser.iloc[pos]`\n",
      "  link = row[1]  # Cột 1 chứa link review\n"
     ]
    },
    {
     "name": "stdout",
     "output_type": "stream",
     "text": [
      "388/845 - Cập nhật thể loại: Phiêu lưu, Giả tưởng, Hành động, Hoạt hình\n",
      "388/845 - Cập nhật ảnh: https://image.tmdb.org/t/p/w780/hkJhGayONXn96CqIRM9GhWKnlCf.jpg\n"
     ]
    },
    {
     "name": "stderr",
     "output_type": "stream",
     "text": [
      "C:\\Users\\ADMIN\\AppData\\Local\\Temp\\ipykernel_7724\\373337600.py:22: FutureWarning: Series.__getitem__ treating keys as positions is deprecated. In a future version, integer keys will always be treated as labels (consistent with DataFrame behavior). To access a value by position, use `ser.iloc[pos]`\n",
      "  link = row[1]  # Cột 1 chứa link review\n"
     ]
    },
    {
     "name": "stdout",
     "output_type": "stream",
     "text": [
      "389/845 - Cập nhật thể loại: Bí ẩn, Kinh dị\n",
      "389/845 - Cập nhật ảnh: https://cinema.momocdn.net/img/51409280303386861-TGsfNWkASegCfAn6ED1b08a9O6.jpg\n"
     ]
    },
    {
     "name": "stderr",
     "output_type": "stream",
     "text": [
      "C:\\Users\\ADMIN\\AppData\\Local\\Temp\\ipykernel_7724\\373337600.py:22: FutureWarning: Series.__getitem__ treating keys as positions is deprecated. In a future version, integer keys will always be treated as labels (consistent with DataFrame behavior). To access a value by position, use `ser.iloc[pos]`\n",
      "  link = row[1]  # Cột 1 chứa link review\n"
     ]
    },
    {
     "name": "stdout",
     "output_type": "stream",
     "text": [
      "390/845 - Cập nhật thể loại: Hoạt hình\n",
      "390/845 - Cập nhật ảnh: https://cinema.momocdn.net/img/26417434223140592-z6lGaq1gk9yR5ggkcUkB9nm1pdE.jpg\n"
     ]
    },
    {
     "name": "stderr",
     "output_type": "stream",
     "text": [
      "C:\\Users\\ADMIN\\AppData\\Local\\Temp\\ipykernel_7724\\373337600.py:22: FutureWarning: Series.__getitem__ treating keys as positions is deprecated. In a future version, integer keys will always be treated as labels (consistent with DataFrame behavior). To access a value by position, use `ser.iloc[pos]`\n",
      "  link = row[1]  # Cột 1 chứa link review\n"
     ]
    },
    {
     "name": "stdout",
     "output_type": "stream",
     "text": [
      "391/845 - Cập nhật thể loại: Bí ẩn, Khoa học - Viễn tưởng, Hành động\n",
      "391/845 - Cập nhật ảnh: https://homepage.momocdn.net/cinema/momo-upload-api-220715172241-637935025616469397.jpeg\n"
     ]
    },
    {
     "name": "stderr",
     "output_type": "stream",
     "text": [
      "C:\\Users\\ADMIN\\AppData\\Local\\Temp\\ipykernel_7724\\373337600.py:22: FutureWarning: Series.__getitem__ treating keys as positions is deprecated. In a future version, integer keys will always be treated as labels (consistent with DataFrame behavior). To access a value by position, use `ser.iloc[pos]`\n",
      "  link = row[1]  # Cột 1 chứa link review\n"
     ]
    },
    {
     "name": "stdout",
     "output_type": "stream",
     "text": [
      "392/845 - Cập nhật thể loại: Hài, Lãng mạn\n",
      "392/845 - Cập nhật ảnh: https://cinema.momocdn.net/img/15008691068443340-k5SWymJhC7IGrPdfV31V1Uy3fsB.jpg\n"
     ]
    },
    {
     "name": "stderr",
     "output_type": "stream",
     "text": [
      "C:\\Users\\ADMIN\\AppData\\Local\\Temp\\ipykernel_7724\\373337600.py:22: FutureWarning: Series.__getitem__ treating keys as positions is deprecated. In a future version, integer keys will always be treated as labels (consistent with DataFrame behavior). To access a value by position, use `ser.iloc[pos]`\n",
      "  link = row[1]  # Cột 1 chứa link review\n"
     ]
    },
    {
     "name": "stdout",
     "output_type": "stream",
     "text": [
      "393/845 - Cập nhật thể loại: Ma, Kinh dị\n",
      "393/845 - Cập nhật ảnh: https://cinema.momocdn.net/img/93780253943355089-qtIG15D3RAsIwJajGs6qs3HxU4q.jpg\n"
     ]
    },
    {
     "name": "stderr",
     "output_type": "stream",
     "text": [
      "C:\\Users\\ADMIN\\AppData\\Local\\Temp\\ipykernel_7724\\373337600.py:22: FutureWarning: Series.__getitem__ treating keys as positions is deprecated. In a future version, integer keys will always be treated as labels (consistent with DataFrame behavior). To access a value by position, use `ser.iloc[pos]`\n",
      "  link = row[1]  # Cột 1 chứa link review\n"
     ]
    },
    {
     "name": "stdout",
     "output_type": "stream",
     "text": [
      "394/845 - Cập nhật thể loại: Gia đình, Phiêu lưu, Hài, Hoạt hình\n",
      "394/845 - Cập nhật ảnh: https://cinema.momocdn.net/img/53203914816054517-iIOYU7UjVQBIwOXmQkGlnLW72zP.jpg\n"
     ]
    },
    {
     "name": "stderr",
     "output_type": "stream",
     "text": [
      "C:\\Users\\ADMIN\\AppData\\Local\\Temp\\ipykernel_7724\\373337600.py:22: FutureWarning: Series.__getitem__ treating keys as positions is deprecated. In a future version, integer keys will always be treated as labels (consistent with DataFrame behavior). To access a value by position, use `ser.iloc[pos]`\n",
      "  link = row[1]  # Cột 1 chứa link review\n"
     ]
    },
    {
     "name": "stdout",
     "output_type": "stream",
     "text": [
      "395/845 - Cập nhật thể loại: Bí ẩn, Kinh dị\n",
      "395/845 - Cập nhật ảnh: https://cinema.momocdn.net/img/76656616449751117-xaorunhTOUftbpVPpgPVDjjES0.jpg\n"
     ]
    },
    {
     "name": "stderr",
     "output_type": "stream",
     "text": [
      "C:\\Users\\ADMIN\\AppData\\Local\\Temp\\ipykernel_7724\\373337600.py:22: FutureWarning: Series.__getitem__ treating keys as positions is deprecated. In a future version, integer keys will always be treated as labels (consistent with DataFrame behavior). To access a value by position, use `ser.iloc[pos]`\n",
      "  link = row[1]  # Cột 1 chứa link review\n"
     ]
    },
    {
     "name": "stdout",
     "output_type": "stream",
     "text": [
      "396/845 - Cập nhật thể loại: Kinh dị\n",
      "396/845 - Cập nhật ảnh: https://cinema.momocdn.net/img/92994764547146563-hCcF5O4.jpg\n"
     ]
    },
    {
     "name": "stderr",
     "output_type": "stream",
     "text": [
      "C:\\Users\\ADMIN\\AppData\\Local\\Temp\\ipykernel_7724\\373337600.py:22: FutureWarning: Series.__getitem__ treating keys as positions is deprecated. In a future version, integer keys will always be treated as labels (consistent with DataFrame behavior). To access a value by position, use `ser.iloc[pos]`\n",
      "  link = row[1]  # Cột 1 chứa link review\n"
     ]
    },
    {
     "name": "stdout",
     "output_type": "stream",
     "text": [
      "397/845 - Cập nhật thể loại: Gia đình, Phiêu lưu, Hoạt hình\n",
      "397/845 - Cập nhật ảnh: https://cinema.momocdn.net/img/33330396446912084-oLwM4r0WW8yjLnbSQqLRbxF3ZBu.jpg\n"
     ]
    },
    {
     "name": "stderr",
     "output_type": "stream",
     "text": [
      "C:\\Users\\ADMIN\\AppData\\Local\\Temp\\ipykernel_7724\\373337600.py:22: FutureWarning: Series.__getitem__ treating keys as positions is deprecated. In a future version, integer keys will always be treated as labels (consistent with DataFrame behavior). To access a value by position, use `ser.iloc[pos]`\n",
      "  link = row[1]  # Cột 1 chứa link review\n"
     ]
    },
    {
     "name": "stdout",
     "output_type": "stream",
     "text": [
      "398/845 - Cập nhật thể loại: Chính kịch, Chiến tranh, Hành động\n",
      "398/845 - Cập nhật ảnh: https://cinema.momocdn.net/img/6101138914945190-vnPTLSBk95XKdahOaMkTlAck5Rc.jpg\n"
     ]
    },
    {
     "name": "stderr",
     "output_type": "stream",
     "text": [
      "C:\\Users\\ADMIN\\AppData\\Local\\Temp\\ipykernel_7724\\373337600.py:22: FutureWarning: Series.__getitem__ treating keys as positions is deprecated. In a future version, integer keys will always be treated as labels (consistent with DataFrame behavior). To access a value by position, use `ser.iloc[pos]`\n",
      "  link = row[1]  # Cột 1 chứa link review\n"
     ]
    },
    {
     "name": "stdout",
     "output_type": "stream",
     "text": [
      "399/845 - Cập nhật thể loại: Khoa học - Viễn tưởng, Hành động, Hoạt hình\n",
      "399/845 - Cập nhật ảnh: https://cinema.momocdn.net/img/79249235769716516-uR0FopHrAjDlG5q6PZB07a1JOva.jpg\n"
     ]
    },
    {
     "name": "stderr",
     "output_type": "stream",
     "text": [
      "C:\\Users\\ADMIN\\AppData\\Local\\Temp\\ipykernel_7724\\373337600.py:22: FutureWarning: Series.__getitem__ treating keys as positions is deprecated. In a future version, integer keys will always be treated as labels (consistent with DataFrame behavior). To access a value by position, use `ser.iloc[pos]`\n",
      "  link = row[1]  # Cột 1 chứa link review\n"
     ]
    },
    {
     "name": "stdout",
     "output_type": "stream",
     "text": [
      "400/845 - Cập nhật thể loại: Gay cấn, Hành động\n",
      "400/845 - Cập nhật ảnh: https://homepage.momocdn.net/cinema/momo-cdn-api-220615142936-637909001764404986.jpg\n"
     ]
    },
    {
     "name": "stderr",
     "output_type": "stream",
     "text": [
      "C:\\Users\\ADMIN\\AppData\\Local\\Temp\\ipykernel_7724\\373337600.py:22: FutureWarning: Series.__getitem__ treating keys as positions is deprecated. In a future version, integer keys will always be treated as labels (consistent with DataFrame behavior). To access a value by position, use `ser.iloc[pos]`\n",
      "  link = row[1]  # Cột 1 chứa link review\n"
     ]
    },
    {
     "name": "stdout",
     "output_type": "stream",
     "text": [
      "401/845 - Cập nhật thể loại: Chính kịch, Gay cấn, Tình cảm, Hài\n",
      "401/845 - Cập nhật ảnh: https://homepage.momocdn.net/cinema/momo-cdn-api-220615135743-637908982631286993.jpg\n"
     ]
    },
    {
     "name": "stderr",
     "output_type": "stream",
     "text": [
      "C:\\Users\\ADMIN\\AppData\\Local\\Temp\\ipykernel_7724\\373337600.py:22: FutureWarning: Series.__getitem__ treating keys as positions is deprecated. In a future version, integer keys will always be treated as labels (consistent with DataFrame behavior). To access a value by position, use `ser.iloc[pos]`\n",
      "  link = row[1]  # Cột 1 chứa link review\n"
     ]
    },
    {
     "name": "stdout",
     "output_type": "stream",
     "text": [
      "402/845 - Cập nhật thể loại: Kinh dị, Hài\n",
      "402/845 - Cập nhật ảnh: https://image.tmdb.org/t/p/w780/f6uIhC04AztdceS7gn6dvxNkKW3.jpg\n"
     ]
    },
    {
     "name": "stderr",
     "output_type": "stream",
     "text": [
      "C:\\Users\\ADMIN\\AppData\\Local\\Temp\\ipykernel_7724\\373337600.py:22: FutureWarning: Series.__getitem__ treating keys as positions is deprecated. In a future version, integer keys will always be treated as labels (consistent with DataFrame behavior). To access a value by position, use `ser.iloc[pos]`\n",
      "  link = row[1]  # Cột 1 chứa link review\n"
     ]
    },
    {
     "name": "stdout",
     "output_type": "stream",
     "text": [
      "403/845 - Cập nhật thể loại: Kinh dị\n",
      "403/845 - Cập nhật ảnh: https://cinema.momocdn.net/img/36871069600965931-maxresdefault%20(2\n"
     ]
    },
    {
     "name": "stderr",
     "output_type": "stream",
     "text": [
      "C:\\Users\\ADMIN\\AppData\\Local\\Temp\\ipykernel_7724\\373337600.py:22: FutureWarning: Series.__getitem__ treating keys as positions is deprecated. In a future version, integer keys will always be treated as labels (consistent with DataFrame behavior). To access a value by position, use `ser.iloc[pos]`\n",
      "  link = row[1]  # Cột 1 chứa link review\n"
     ]
    },
    {
     "name": "stdout",
     "output_type": "stream",
     "text": [
      "404/845 - Cập nhật thể loại: Chính kịch, Ma, Kinh dị\n",
      "404/845 - Cập nhật ảnh: https://cinema.momocdn.net/img/27706345488816795-yIrW7njln6BnttncIAyKI1TEo1X.jpg\n"
     ]
    },
    {
     "name": "stderr",
     "output_type": "stream",
     "text": [
      "C:\\Users\\ADMIN\\AppData\\Local\\Temp\\ipykernel_7724\\373337600.py:22: FutureWarning: Series.__getitem__ treating keys as positions is deprecated. In a future version, integer keys will always be treated as labels (consistent with DataFrame behavior). To access a value by position, use `ser.iloc[pos]`\n",
      "  link = row[1]  # Cột 1 chứa link review\n"
     ]
    },
    {
     "name": "stdout",
     "output_type": "stream",
     "text": [
      "405/845 - Cập nhật thể loại: Chính kịch, Gay cấn, Kinh dị\n",
      "405/845 - Cập nhật ảnh: https://cinema.momocdn.net/img/26651526646881592-iCXUr5BaTeDsbFty0BQrDMuxtDK.jpg\n"
     ]
    },
    {
     "name": "stderr",
     "output_type": "stream",
     "text": [
      "C:\\Users\\ADMIN\\AppData\\Local\\Temp\\ipykernel_7724\\373337600.py:22: FutureWarning: Series.__getitem__ treating keys as positions is deprecated. In a future version, integer keys will always be treated as labels (consistent with DataFrame behavior). To access a value by position, use `ser.iloc[pos]`\n",
      "  link = row[1]  # Cột 1 chứa link review\n"
     ]
    },
    {
     "name": "stdout",
     "output_type": "stream",
     "text": [
      "406/845 - Cập nhật thể loại: Phiêu lưu, Hành động\n",
      "406/845 - Cập nhật ảnh: https://cinema.momocdn.net/img/90489193640136444-gCT47rlj2NcME1ObrzLJwlbutMT.jpg\n"
     ]
    },
    {
     "name": "stderr",
     "output_type": "stream",
     "text": [
      "C:\\Users\\ADMIN\\AppData\\Local\\Temp\\ipykernel_7724\\373337600.py:22: FutureWarning: Series.__getitem__ treating keys as positions is deprecated. In a future version, integer keys will always be treated as labels (consistent with DataFrame behavior). To access a value by position, use `ser.iloc[pos]`\n",
      "  link = row[1]  # Cột 1 chứa link review\n"
     ]
    },
    {
     "name": "stdout",
     "output_type": "stream",
     "text": [
      "407/845 - Cập nhật thể loại: Hài, Hành động\n",
      "407/845 - Cập nhật ảnh: https://cinema.momocdn.net/img/88247561688378457-g9Kb3RaLjsybI1jpqHQ3QZTCYpB.jpg\n"
     ]
    },
    {
     "name": "stderr",
     "output_type": "stream",
     "text": [
      "C:\\Users\\ADMIN\\AppData\\Local\\Temp\\ipykernel_7724\\373337600.py:22: FutureWarning: Series.__getitem__ treating keys as positions is deprecated. In a future version, integer keys will always be treated as labels (consistent with DataFrame behavior). To access a value by position, use `ser.iloc[pos]`\n",
      "  link = row[1]  # Cột 1 chứa link review\n"
     ]
    },
    {
     "name": "stdout",
     "output_type": "stream",
     "text": [
      "408/845 - Cập nhật thể loại: Gia đình, Tâm lý\n",
      "408/845 - Cập nhật ảnh: https://homepage.momocdn.net/cinema/momo-upload-api-230117104940-638095493804958700.jpg\n"
     ]
    },
    {
     "name": "stderr",
     "output_type": "stream",
     "text": [
      "C:\\Users\\ADMIN\\AppData\\Local\\Temp\\ipykernel_7724\\373337600.py:22: FutureWarning: Series.__getitem__ treating keys as positions is deprecated. In a future version, integer keys will always be treated as labels (consistent with DataFrame behavior). To access a value by position, use `ser.iloc[pos]`\n",
      "  link = row[1]  # Cột 1 chứa link review\n"
     ]
    },
    {
     "name": "stdout",
     "output_type": "stream",
     "text": [
      "409/845 - Cập nhật thể loại: Chính kịch, Khoa học - Viễn tưởng\n",
      "409/845 - Cập nhật ảnh: https://homepage.momocdn.net/cinema/momo-upload-api-220704151935-637925447759118914.jpeg\n"
     ]
    },
    {
     "name": "stderr",
     "output_type": "stream",
     "text": [
      "C:\\Users\\ADMIN\\AppData\\Local\\Temp\\ipykernel_7724\\373337600.py:22: FutureWarning: Series.__getitem__ treating keys as positions is deprecated. In a future version, integer keys will always be treated as labels (consistent with DataFrame behavior). To access a value by position, use `ser.iloc[pos]`\n",
      "  link = row[1]  # Cột 1 chứa link review\n"
     ]
    },
    {
     "name": "stdout",
     "output_type": "stream",
     "text": [
      "410/845 - Cập nhật thể loại: Chính kịch, Giả tưởng, Hài\n",
      "410/845 - Cập nhật ảnh: https://image.tmdb.org/t/p/w780/kNFFX7w2PJj6DRtPKcPNjSuH5F8.jpg\n"
     ]
    },
    {
     "name": "stderr",
     "output_type": "stream",
     "text": [
      "C:\\Users\\ADMIN\\AppData\\Local\\Temp\\ipykernel_7724\\373337600.py:22: FutureWarning: Series.__getitem__ treating keys as positions is deprecated. In a future version, integer keys will always be treated as labels (consistent with DataFrame behavior). To access a value by position, use `ser.iloc[pos]`\n",
      "  link = row[1]  # Cột 1 chứa link review\n"
     ]
    },
    {
     "name": "stdout",
     "output_type": "stream",
     "text": [
      "411/845 - Cập nhật thể loại: Gay cấn, Kinh dị\n",
      "411/845 - Cập nhật ảnh: https://cinema.momocdn.net/img/50190589493587849-2kY0cBz5sHrRwaxacEyzDBC3SFp.jpg\n"
     ]
    },
    {
     "name": "stderr",
     "output_type": "stream",
     "text": [
      "C:\\Users\\ADMIN\\AppData\\Local\\Temp\\ipykernel_7724\\373337600.py:22: FutureWarning: Series.__getitem__ treating keys as positions is deprecated. In a future version, integer keys will always be treated as labels (consistent with DataFrame behavior). To access a value by position, use `ser.iloc[pos]`\n",
      "  link = row[1]  # Cột 1 chứa link review\n"
     ]
    },
    {
     "name": "stdout",
     "output_type": "stream",
     "text": [
      "412/845 - Cập nhật thể loại: Khoa học - Viễn tưởng, Hành động\n",
      "412/845 - Cập nhật ảnh: https://cinema.momocdn.net/img/29775845413942205-jnE1GA7cGEfv5DJBoU2t4bZHaP4.jpg\n"
     ]
    },
    {
     "name": "stderr",
     "output_type": "stream",
     "text": [
      "C:\\Users\\ADMIN\\AppData\\Local\\Temp\\ipykernel_7724\\373337600.py:22: FutureWarning: Series.__getitem__ treating keys as positions is deprecated. In a future version, integer keys will always be treated as labels (consistent with DataFrame behavior). To access a value by position, use `ser.iloc[pos]`\n",
      "  link = row[1]  # Cột 1 chứa link review\n"
     ]
    },
    {
     "name": "stdout",
     "output_type": "stream",
     "text": [
      "413/845 - Cập nhật thể loại: Gay cấn, Ma, Kinh dị\n",
      "413/845 - Cập nhật ảnh: https://cinema.momocdn.net/img/24837431742221081-2rlt4cfqs7WZjWxpGiuCxio7mA8.jpg\n"
     ]
    },
    {
     "name": "stderr",
     "output_type": "stream",
     "text": [
      "C:\\Users\\ADMIN\\AppData\\Local\\Temp\\ipykernel_7724\\373337600.py:22: FutureWarning: Series.__getitem__ treating keys as positions is deprecated. In a future version, integer keys will always be treated as labels (consistent with DataFrame behavior). To access a value by position, use `ser.iloc[pos]`\n",
      "  link = row[1]  # Cột 1 chứa link review\n"
     ]
    },
    {
     "name": "stdout",
     "output_type": "stream",
     "text": [
      "414/845 - Cập nhật thể loại: Ma, Kinh dị\n",
      "414/845 - Cập nhật ảnh: https://cinema.momocdn.net/img/7391475742549045-b9btd39FjrJidsSylrNMMAsilJ3.jpg\n"
     ]
    },
    {
     "name": "stderr",
     "output_type": "stream",
     "text": [
      "C:\\Users\\ADMIN\\AppData\\Local\\Temp\\ipykernel_7724\\373337600.py:22: FutureWarning: Series.__getitem__ treating keys as positions is deprecated. In a future version, integer keys will always be treated as labels (consistent with DataFrame behavior). To access a value by position, use `ser.iloc[pos]`\n",
      "  link = row[1]  # Cột 1 chứa link review\n"
     ]
    },
    {
     "name": "stdout",
     "output_type": "stream",
     "text": [
      "415/845 - Cập nhật thể loại: Gay cấn, Kinh dị, Hài\n",
      "415/845 - Cập nhật ảnh: https://cinema.momocdn.net/img/88668587093678158-o1k6zNKYVQuNx5DIyVpT9j6gwaQ.jpg\n"
     ]
    },
    {
     "name": "stderr",
     "output_type": "stream",
     "text": [
      "C:\\Users\\ADMIN\\AppData\\Local\\Temp\\ipykernel_7724\\373337600.py:22: FutureWarning: Series.__getitem__ treating keys as positions is deprecated. In a future version, integer keys will always be treated as labels (consistent with DataFrame behavior). To access a value by position, use `ser.iloc[pos]`\n",
      "  link = row[1]  # Cột 1 chứa link review\n"
     ]
    },
    {
     "name": "stdout",
     "output_type": "stream",
     "text": [
      "416/845 - Cập nhật thể loại: Tội phạm, Hình sự\n",
      "416/845 - Cập nhật ảnh: https://cinema.momocdn.net/img/12742971171433560-980x448_3_.jpg\n"
     ]
    },
    {
     "name": "stderr",
     "output_type": "stream",
     "text": [
      "C:\\Users\\ADMIN\\AppData\\Local\\Temp\\ipykernel_7724\\373337600.py:22: FutureWarning: Series.__getitem__ treating keys as positions is deprecated. In a future version, integer keys will always be treated as labels (consistent with DataFrame behavior). To access a value by position, use `ser.iloc[pos]`\n",
      "  link = row[1]  # Cột 1 chứa link review\n"
     ]
    },
    {
     "name": "stdout",
     "output_type": "stream",
     "text": [
      "417/845 - Cập nhật thể loại: Chính kịch, Hành động, Hoạt hình\n",
      "417/845 - Cập nhật ảnh: https://cinema.momocdn.net/img/52014495139408915-7ks7A3mAO7twDOvBVE4cR8LaIM8.jpg\n"
     ]
    },
    {
     "name": "stderr",
     "output_type": "stream",
     "text": [
      "C:\\Users\\ADMIN\\AppData\\Local\\Temp\\ipykernel_7724\\373337600.py:22: FutureWarning: Series.__getitem__ treating keys as positions is deprecated. In a future version, integer keys will always be treated as labels (consistent with DataFrame behavior). To access a value by position, use `ser.iloc[pos]`\n",
      "  link = row[1]  # Cột 1 chứa link review\n"
     ]
    },
    {
     "name": "stdout",
     "output_type": "stream",
     "text": [
      "418/845 - Cập nhật thể loại: Phiêu lưu, Hoạt hình\n",
      "418/845 - Cập nhật ảnh: https://cinema.momocdn.net/img/21745759128281554-1920x1080-wolfoo.jpg\n"
     ]
    },
    {
     "name": "stderr",
     "output_type": "stream",
     "text": [
      "C:\\Users\\ADMIN\\AppData\\Local\\Temp\\ipykernel_7724\\373337600.py:22: FutureWarning: Series.__getitem__ treating keys as positions is deprecated. In a future version, integer keys will always be treated as labels (consistent with DataFrame behavior). To access a value by position, use `ser.iloc[pos]`\n",
      "  link = row[1]  # Cột 1 chứa link review\n"
     ]
    },
    {
     "name": "stdout",
     "output_type": "stream",
     "text": [
      "419/845 - Cập nhật thể loại: Ma, Kinh dị, Hài\n",
      "419/845 - Cập nhật ảnh: https://cinema.momocdn.net/img/80288472095195079-61cfc85072ce2-copy-142548.jpg\n"
     ]
    },
    {
     "name": "stderr",
     "output_type": "stream",
     "text": [
      "C:\\Users\\ADMIN\\AppData\\Local\\Temp\\ipykernel_7724\\373337600.py:22: FutureWarning: Series.__getitem__ treating keys as positions is deprecated. In a future version, integer keys will always be treated as labels (consistent with DataFrame behavior). To access a value by position, use `ser.iloc[pos]`\n",
      "  link = row[1]  # Cột 1 chứa link review\n"
     ]
    },
    {
     "name": "stdout",
     "output_type": "stream",
     "text": [
      "420/845 - Cập nhật thể loại: Chính kịch, Âm Nhạc, Giả tưởng, Lãng mạn\n",
      "420/845 - Cập nhật ảnh: https://cinema.momocdn.net/img/129253199860703107-2EBGWi3pxPAlmwukWs76lcC1rmO.jpg?size=L\n"
     ]
    },
    {
     "name": "stderr",
     "output_type": "stream",
     "text": [
      "C:\\Users\\ADMIN\\AppData\\Local\\Temp\\ipykernel_7724\\373337600.py:22: FutureWarning: Series.__getitem__ treating keys as positions is deprecated. In a future version, integer keys will always be treated as labels (consistent with DataFrame behavior). To access a value by position, use `ser.iloc[pos]`\n",
      "  link = row[1]  # Cột 1 chứa link review\n"
     ]
    },
    {
     "name": "stdout",
     "output_type": "stream",
     "text": [
      "421/845 - Cập nhật thể loại: Chính kịch, Bí ẩn, Hình sự\n",
      "421/845 - Cập nhật ảnh: https://cinema.momocdn.net/img/24248117112566714-fGe1ej335XbqN1j9teoDpofpbLX.jpg\n"
     ]
    },
    {
     "name": "stderr",
     "output_type": "stream",
     "text": [
      "C:\\Users\\ADMIN\\AppData\\Local\\Temp\\ipykernel_7724\\373337600.py:22: FutureWarning: Series.__getitem__ treating keys as positions is deprecated. In a future version, integer keys will always be treated as labels (consistent with DataFrame behavior). To access a value by position, use `ser.iloc[pos]`\n",
      "  link = row[1]  # Cột 1 chứa link review\n"
     ]
    },
    {
     "name": "stdout",
     "output_type": "stream",
     "text": [
      "422/845 - Cập nhật thể loại: Gay cấn, Hình sự, Hành động\n",
      "422/845 - Cập nhật ảnh: https://image.tmdb.org/t/p/w780/q3Rgy4pQlPBou8ilYaVdHmjylyV.jpg\n"
     ]
    },
    {
     "name": "stderr",
     "output_type": "stream",
     "text": [
      "C:\\Users\\ADMIN\\AppData\\Local\\Temp\\ipykernel_7724\\373337600.py:22: FutureWarning: Series.__getitem__ treating keys as positions is deprecated. In a future version, integer keys will always be treated as labels (consistent with DataFrame behavior). To access a value by position, use `ser.iloc[pos]`\n",
      "  link = row[1]  # Cột 1 chứa link review\n"
     ]
    },
    {
     "name": "stdout",
     "output_type": "stream",
     "text": [
      "423/845 - Cập nhật thể loại: Chính kịch, Hài, Lãng mạn\n",
      "423/845 - Cập nhật ảnh: https://cinema.momocdn.net/img/50201075352194221-cJ1TJUzvpjmumyuuJoPstXra6j2.jpg\n"
     ]
    },
    {
     "name": "stderr",
     "output_type": "stream",
     "text": [
      "C:\\Users\\ADMIN\\AppData\\Local\\Temp\\ipykernel_7724\\373337600.py:22: FutureWarning: Series.__getitem__ treating keys as positions is deprecated. In a future version, integer keys will always be treated as labels (consistent with DataFrame behavior). To access a value by position, use `ser.iloc[pos]`\n",
      "  link = row[1]  # Cột 1 chứa link review\n"
     ]
    },
    {
     "name": "stdout",
     "output_type": "stream",
     "text": [
      "424/845 - Cập nhật thể loại: Khoa học - Viễn tưởng, Hài, Lãng mạn\n",
      "424/845 - Cập nhật ảnh: https://cinema.momocdn.net/img/13889054052402521-Capture-2024-07-09-140036.png\n"
     ]
    },
    {
     "name": "stderr",
     "output_type": "stream",
     "text": [
      "C:\\Users\\ADMIN\\AppData\\Local\\Temp\\ipykernel_7724\\373337600.py:22: FutureWarning: Series.__getitem__ treating keys as positions is deprecated. In a future version, integer keys will always be treated as labels (consistent with DataFrame behavior). To access a value by position, use `ser.iloc[pos]`\n",
      "  link = row[1]  # Cột 1 chứa link review\n"
     ]
    },
    {
     "name": "stdout",
     "output_type": "stream",
     "text": [
      "425/845 - Cập nhật thể loại: Ma, Tâm lý, Kinh dị\n",
      "425/845 - Cập nhật ảnh: https://cinema.momocdn.net/img/79694805740578628-bh1gbFHjxK2qgreGOinVJySTR5S.jpg\n"
     ]
    },
    {
     "name": "stderr",
     "output_type": "stream",
     "text": [
      "C:\\Users\\ADMIN\\AppData\\Local\\Temp\\ipykernel_7724\\373337600.py:22: FutureWarning: Series.__getitem__ treating keys as positions is deprecated. In a future version, integer keys will always be treated as labels (consistent with DataFrame behavior). To access a value by position, use `ser.iloc[pos]`\n",
      "  link = row[1]  # Cột 1 chứa link review\n"
     ]
    },
    {
     "name": "stdout",
     "output_type": "stream",
     "text": [
      "426/845 - Cập nhật thể loại: Gay cấn, Bí ẩn, Phiêu lưu, Hành động\n",
      "426/845 - Cập nhật ảnh: https://homepage.momocdn.net/cinema/momo-cdn-api-220615142304-637908997843433222.jpg\n"
     ]
    },
    {
     "name": "stderr",
     "output_type": "stream",
     "text": [
      "C:\\Users\\ADMIN\\AppData\\Local\\Temp\\ipykernel_7724\\373337600.py:22: FutureWarning: Series.__getitem__ treating keys as positions is deprecated. In a future version, integer keys will always be treated as labels (consistent with DataFrame behavior). To access a value by position, use `ser.iloc[pos]`\n",
      "  link = row[1]  # Cột 1 chứa link review\n"
     ]
    },
    {
     "name": "stdout",
     "output_type": "stream",
     "text": [
      "427/845 - Cập nhật thể loại: Gay cấn, Hành động\n",
      "427/845 - Cập nhật ảnh: https://cinema.momocdn.net/img/36701224062106023-qwU4cRX74cN6Z9XvDEOoYsoEAoN.jpg\n"
     ]
    },
    {
     "name": "stderr",
     "output_type": "stream",
     "text": [
      "C:\\Users\\ADMIN\\AppData\\Local\\Temp\\ipykernel_7724\\373337600.py:22: FutureWarning: Series.__getitem__ treating keys as positions is deprecated. In a future version, integer keys will always be treated as labels (consistent with DataFrame behavior). To access a value by position, use `ser.iloc[pos]`\n",
      "  link = row[1]  # Cột 1 chứa link review\n"
     ]
    },
    {
     "name": "stdout",
     "output_type": "stream",
     "text": [
      "428/845 - Cập nhật thể loại: Chính kịch, Gay cấn\n",
      "428/845 - Cập nhật ảnh: https://cinema.momocdn.net/img/93148349921312002-aIKxC8mGq44EUDLPYw1ckCwciqz.jpg\n"
     ]
    },
    {
     "name": "stderr",
     "output_type": "stream",
     "text": [
      "C:\\Users\\ADMIN\\AppData\\Local\\Temp\\ipykernel_7724\\373337600.py:22: FutureWarning: Series.__getitem__ treating keys as positions is deprecated. In a future version, integer keys will always be treated as labels (consistent with DataFrame behavior). To access a value by position, use `ser.iloc[pos]`\n",
      "  link = row[1]  # Cột 1 chứa link review\n"
     ]
    },
    {
     "name": "stdout",
     "output_type": "stream",
     "text": [
      "429/845 - Cập nhật thể loại: Chính kịch, Hài\n",
      "429/845 - Cập nhật ảnh: https://cinema.momocdn.net/img/112407158002071692-maxresdefault.jpg\n"
     ]
    },
    {
     "name": "stderr",
     "output_type": "stream",
     "text": [
      "C:\\Users\\ADMIN\\AppData\\Local\\Temp\\ipykernel_7724\\373337600.py:22: FutureWarning: Series.__getitem__ treating keys as positions is deprecated. In a future version, integer keys will always be treated as labels (consistent with DataFrame behavior). To access a value by position, use `ser.iloc[pos]`\n",
      "  link = row[1]  # Cột 1 chứa link review\n"
     ]
    },
    {
     "name": "stdout",
     "output_type": "stream",
     "text": [
      "430/845 - Cập nhật thể loại: Gay cấn\n",
      "430/845 - Cập nhật ảnh: https://cinema.momocdn.net/img/50119829548351341-aPHznbTaUnmGILTwfyNO9cSQgvY.jpg\n"
     ]
    },
    {
     "name": "stderr",
     "output_type": "stream",
     "text": [
      "C:\\Users\\ADMIN\\AppData\\Local\\Temp\\ipykernel_7724\\373337600.py:22: FutureWarning: Series.__getitem__ treating keys as positions is deprecated. In a future version, integer keys will always be treated as labels (consistent with DataFrame behavior). To access a value by position, use `ser.iloc[pos]`\n",
      "  link = row[1]  # Cột 1 chứa link review\n"
     ]
    },
    {
     "name": "stdout",
     "output_type": "stream",
     "text": [
      "431/845 - Cập nhật thể loại: Chính kịch, Tâm lý\n",
      "431/845 - Cập nhật ảnh: https://homepage.momocdn.net/cinema/momo-cdn-api-220615143146-637909003066846968.jpg\n"
     ]
    },
    {
     "name": "stderr",
     "output_type": "stream",
     "text": [
      "C:\\Users\\ADMIN\\AppData\\Local\\Temp\\ipykernel_7724\\373337600.py:22: FutureWarning: Series.__getitem__ treating keys as positions is deprecated. In a future version, integer keys will always be treated as labels (consistent with DataFrame behavior). To access a value by position, use `ser.iloc[pos]`\n",
      "  link = row[1]  # Cột 1 chứa link review\n"
     ]
    },
    {
     "name": "stdout",
     "output_type": "stream",
     "text": [
      "432/845 - Cập nhật thể loại: Phiêu lưu, Tình cảm, Hài, Hành động, Lãng mạn\n",
      "432/845 - Cập nhật ảnh: https://homepage.momocdn.net/cinema/momo-cdn-api-220615142856-637909001365364614.jpg\n"
     ]
    },
    {
     "name": "stderr",
     "output_type": "stream",
     "text": [
      "C:\\Users\\ADMIN\\AppData\\Local\\Temp\\ipykernel_7724\\373337600.py:22: FutureWarning: Series.__getitem__ treating keys as positions is deprecated. In a future version, integer keys will always be treated as labels (consistent with DataFrame behavior). To access a value by position, use `ser.iloc[pos]`\n",
      "  link = row[1]  # Cột 1 chứa link review\n"
     ]
    },
    {
     "name": "stdout",
     "output_type": "stream",
     "text": [
      "433/845 - Cập nhật thể loại: Chính kịch, Âm Nhạc, Hài, Hoạt hình\n",
      "433/845 - Cập nhật ảnh: https://cinema.momocdn.net/img/111802867611559237-mFC52cN0oz1WqTXR0jRT69oHKTp.jpg\n"
     ]
    },
    {
     "name": "stderr",
     "output_type": "stream",
     "text": [
      "C:\\Users\\ADMIN\\AppData\\Local\\Temp\\ipykernel_7724\\373337600.py:22: FutureWarning: Series.__getitem__ treating keys as positions is deprecated. In a future version, integer keys will always be treated as labels (consistent with DataFrame behavior). To access a value by position, use `ser.iloc[pos]`\n",
      "  link = row[1]  # Cột 1 chứa link review\n"
     ]
    },
    {
     "name": "stdout",
     "output_type": "stream",
     "text": [
      "434/845 - Cập nhật thể loại: Gay cấn, Giả tưởng, Hành động\n",
      "434/845 - Cập nhật ảnh: https://cinema.momocdn.net/img/76648207292549881-qrnt6q3yzK7k9dN7IjLOkI6rZ6O.jpg\n"
     ]
    },
    {
     "name": "stderr",
     "output_type": "stream",
     "text": [
      "C:\\Users\\ADMIN\\AppData\\Local\\Temp\\ipykernel_7724\\373337600.py:22: FutureWarning: Series.__getitem__ treating keys as positions is deprecated. In a future version, integer keys will always be treated as labels (consistent with DataFrame behavior). To access a value by position, use `ser.iloc[pos]`\n",
      "  link = row[1]  # Cột 1 chứa link review\n"
     ]
    },
    {
     "name": "stdout",
     "output_type": "stream",
     "text": [
      "435/845 - Cập nhật thể loại: Phiêu lưu, Hài, Hoạt hình\n",
      "435/845 - Cập nhật ảnh: https://cinema.momocdn.net/img/18544819282764206-gyWqY58lxGnFBR8qGBq68OW7XKn.jpg\n"
     ]
    },
    {
     "name": "stderr",
     "output_type": "stream",
     "text": [
      "C:\\Users\\ADMIN\\AppData\\Local\\Temp\\ipykernel_7724\\373337600.py:22: FutureWarning: Series.__getitem__ treating keys as positions is deprecated. In a future version, integer keys will always be treated as labels (consistent with DataFrame behavior). To access a value by position, use `ser.iloc[pos]`\n",
      "  link = row[1]  # Cột 1 chứa link review\n"
     ]
    },
    {
     "name": "stdout",
     "output_type": "stream",
     "text": [
      "436/845 - Cập nhật thể loại: Chính kịch, Gay cấn, Siêu anh hùng, Hành động\n",
      "436/845 - Cập nhật ảnh: https://cinema.momocdn.net/img/24692219144870300-c3OHQncTAnKFhdOTX7D3LTW6son.jpg\n"
     ]
    },
    {
     "name": "stderr",
     "output_type": "stream",
     "text": [
      "C:\\Users\\ADMIN\\AppData\\Local\\Temp\\ipykernel_7724\\373337600.py:22: FutureWarning: Series.__getitem__ treating keys as positions is deprecated. In a future version, integer keys will always be treated as labels (consistent with DataFrame behavior). To access a value by position, use `ser.iloc[pos]`\n",
      "  link = row[1]  # Cột 1 chứa link review\n"
     ]
    },
    {
     "name": "stdout",
     "output_type": "stream",
     "text": [
      "437/845 - Cập nhật thể loại: Chính kịch, Thảm hoạ, Khoa học - Viễn tưởng\n",
      "437/845 - Cập nhật ảnh: https://cinema.momocdn.net/img/20967363786457198-hUUh8C4c20ZUSSqufQASbEUpTi2.jpg\n"
     ]
    },
    {
     "name": "stderr",
     "output_type": "stream",
     "text": [
      "C:\\Users\\ADMIN\\AppData\\Local\\Temp\\ipykernel_7724\\373337600.py:22: FutureWarning: Series.__getitem__ treating keys as positions is deprecated. In a future version, integer keys will always be treated as labels (consistent with DataFrame behavior). To access a value by position, use `ser.iloc[pos]`\n",
      "  link = row[1]  # Cột 1 chứa link review\n"
     ]
    },
    {
     "name": "stdout",
     "output_type": "stream",
     "text": [
      "438/845 - Cập nhật thể loại: Gia đình, Âm Nhạc, Hài\n",
      "438/845 - Cập nhật ảnh: https://cinema.momocdn.net/img/86843954849605492-c1bz69r0v065TGFA5nqBiKzPDys.jpg\n"
     ]
    },
    {
     "name": "stderr",
     "output_type": "stream",
     "text": [
      "C:\\Users\\ADMIN\\AppData\\Local\\Temp\\ipykernel_7724\\373337600.py:22: FutureWarning: Series.__getitem__ treating keys as positions is deprecated. In a future version, integer keys will always be treated as labels (consistent with DataFrame behavior). To access a value by position, use `ser.iloc[pos]`\n",
      "  link = row[1]  # Cột 1 chứa link review\n"
     ]
    },
    {
     "name": "stdout",
     "output_type": "stream",
     "text": [
      "439/845 - Cập nhật thể loại: Gay cấn, Gia đình, Drama\n",
      "439/845 - Cập nhật ảnh: https://homepage.momocdn.net/cinema/momo-cdn-api-220615142604-637908999642770326.jpg\n"
     ]
    },
    {
     "name": "stderr",
     "output_type": "stream",
     "text": [
      "C:\\Users\\ADMIN\\AppData\\Local\\Temp\\ipykernel_7724\\373337600.py:22: FutureWarning: Series.__getitem__ treating keys as positions is deprecated. In a future version, integer keys will always be treated as labels (consistent with DataFrame behavior). To access a value by position, use `ser.iloc[pos]`\n",
      "  link = row[1]  # Cột 1 chứa link review\n"
     ]
    },
    {
     "name": "stdout",
     "output_type": "stream",
     "text": [
      "440/845 - Cập nhật thể loại: Siêu anh hùng, Khoa học - Viễn tưởng, Hành động, Võ thuật\n",
      "440/845 - Cập nhật ảnh: https://homepage.momocdn.net/cinema/momo-cdn-api-220615142654-637909000148983449.jpg\n"
     ]
    },
    {
     "name": "stderr",
     "output_type": "stream",
     "text": [
      "C:\\Users\\ADMIN\\AppData\\Local\\Temp\\ipykernel_7724\\373337600.py:22: FutureWarning: Series.__getitem__ treating keys as positions is deprecated. In a future version, integer keys will always be treated as labels (consistent with DataFrame behavior). To access a value by position, use `ser.iloc[pos]`\n",
      "  link = row[1]  # Cột 1 chứa link review\n"
     ]
    },
    {
     "name": "stdout",
     "output_type": "stream",
     "text": [
      "441/845 - Cập nhật thể loại: Chính kịch, Hài\n",
      "441/845 - Cập nhật ảnh: https://image.tmdb.org/t/p/w780/qdl3SlctJM72sUbv8zo2UjHoIpv.jpg\n"
     ]
    },
    {
     "name": "stderr",
     "output_type": "stream",
     "text": [
      "C:\\Users\\ADMIN\\AppData\\Local\\Temp\\ipykernel_7724\\373337600.py:22: FutureWarning: Series.__getitem__ treating keys as positions is deprecated. In a future version, integer keys will always be treated as labels (consistent with DataFrame behavior). To access a value by position, use `ser.iloc[pos]`\n",
      "  link = row[1]  # Cột 1 chứa link review\n"
     ]
    },
    {
     "name": "stdout",
     "output_type": "stream",
     "text": [
      "442/845 - Cập nhật thể loại: Phiêu lưu, Khoa học - Viễn tưởng, Hành động, Hoạt hình\n",
      "442/845 - Cập nhật ảnh: https://cinema.momocdn.net/img/44813992677045482-mH4XJXsO9QuO7SmsiibkLi01mDz.jpg\n"
     ]
    },
    {
     "name": "stderr",
     "output_type": "stream",
     "text": [
      "C:\\Users\\ADMIN\\AppData\\Local\\Temp\\ipykernel_7724\\373337600.py:22: FutureWarning: Series.__getitem__ treating keys as positions is deprecated. In a future version, integer keys will always be treated as labels (consistent with DataFrame behavior). To access a value by position, use `ser.iloc[pos]`\n",
      "  link = row[1]  # Cột 1 chứa link review\n"
     ]
    },
    {
     "name": "stdout",
     "output_type": "stream",
     "text": [
      "443/845 - Cập nhật thể loại: Gay cấn, Kinh dị\n",
      "443/845 - Cập nhật ảnh: https://cinema.momocdn.net/img/44817169703232106-lGpgwYE7pcYm3Yf2RY0jU7rsGG7.jpg\n"
     ]
    },
    {
     "name": "stderr",
     "output_type": "stream",
     "text": [
      "C:\\Users\\ADMIN\\AppData\\Local\\Temp\\ipykernel_7724\\373337600.py:22: FutureWarning: Series.__getitem__ treating keys as positions is deprecated. In a future version, integer keys will always be treated as labels (consistent with DataFrame behavior). To access a value by position, use `ser.iloc[pos]`\n",
      "  link = row[1]  # Cột 1 chứa link review\n"
     ]
    },
    {
     "name": "stdout",
     "output_type": "stream",
     "text": [
      "444/845 - Cập nhật thể loại: Chính kịch, Gay cấn\n",
      "444/845 - Cập nhật ảnh: https://cinema.momocdn.net/img/33330108504054785-j64H7GlYSarltRHJOl75jxLTRV6.jpg\n"
     ]
    },
    {
     "name": "stderr",
     "output_type": "stream",
     "text": [
      "C:\\Users\\ADMIN\\AppData\\Local\\Temp\\ipykernel_7724\\373337600.py:22: FutureWarning: Series.__getitem__ treating keys as positions is deprecated. In a future version, integer keys will always be treated as labels (consistent with DataFrame behavior). To access a value by position, use `ser.iloc[pos]`\n",
      "  link = row[1]  # Cột 1 chứa link review\n"
     ]
    },
    {
     "name": "stdout",
     "output_type": "stream",
     "text": [
      "445/845 - Cập nhật thể loại: Ma, Kinh dị\n",
      "445/845 - Cập nhật ảnh: https://cinema.momocdn.net/img/20453421827538344-qvuJpcFl1P2LPOFtcUks6G44aSQ.jpg\n"
     ]
    },
    {
     "name": "stderr",
     "output_type": "stream",
     "text": [
      "C:\\Users\\ADMIN\\AppData\\Local\\Temp\\ipykernel_7724\\373337600.py:22: FutureWarning: Series.__getitem__ treating keys as positions is deprecated. In a future version, integer keys will always be treated as labels (consistent with DataFrame behavior). To access a value by position, use `ser.iloc[pos]`\n",
      "  link = row[1]  # Cột 1 chứa link review\n"
     ]
    },
    {
     "name": "stdout",
     "output_type": "stream",
     "text": [
      "446/845 - Cập nhật thể loại: Gay cấn, Ma, Kinh dị\n",
      "446/845 - Cập nhật ảnh: https://cinema.momocdn.net/img/79080506256572899-99CeVSYiZcdqmVXi4S9U4tLuwg8.jpg\n"
     ]
    },
    {
     "name": "stderr",
     "output_type": "stream",
     "text": [
      "C:\\Users\\ADMIN\\AppData\\Local\\Temp\\ipykernel_7724\\373337600.py:22: FutureWarning: Series.__getitem__ treating keys as positions is deprecated. In a future version, integer keys will always be treated as labels (consistent with DataFrame behavior). To access a value by position, use `ser.iloc[pos]`\n",
      "  link = row[1]  # Cột 1 chứa link review\n"
     ]
    },
    {
     "name": "stdout",
     "output_type": "stream",
     "text": [
      "447/845 - Cập nhật thể loại: Kinh dị\n",
      "447/845 - Cập nhật ảnh: https://image.tmdb.org/t/p/w780/tBj2jTOd7jZwkqFh7GZrNc9OkAx.jpg\n"
     ]
    },
    {
     "name": "stderr",
     "output_type": "stream",
     "text": [
      "C:\\Users\\ADMIN\\AppData\\Local\\Temp\\ipykernel_7724\\373337600.py:22: FutureWarning: Series.__getitem__ treating keys as positions is deprecated. In a future version, integer keys will always be treated as labels (consistent with DataFrame behavior). To access a value by position, use `ser.iloc[pos]`\n",
      "  link = row[1]  # Cột 1 chứa link review\n"
     ]
    },
    {
     "name": "stdout",
     "output_type": "stream",
     "text": [
      "448/845 - Cập nhật thể loại: Tình cảm, Hài\n",
      "448/845 - Cập nhật ảnh: https://cinema.momocdn.net/img/57225904709153932-Capture-2024-10-06-010311.png\n"
     ]
    },
    {
     "name": "stderr",
     "output_type": "stream",
     "text": [
      "C:\\Users\\ADMIN\\AppData\\Local\\Temp\\ipykernel_7724\\373337600.py:22: FutureWarning: Series.__getitem__ treating keys as positions is deprecated. In a future version, integer keys will always be treated as labels (consistent with DataFrame behavior). To access a value by position, use `ser.iloc[pos]`\n",
      "  link = row[1]  # Cột 1 chứa link review\n"
     ]
    },
    {
     "name": "stdout",
     "output_type": "stream",
     "text": [
      "449/845 - Cập nhật thể loại: Phiêu lưu, Giả tưởng, Hài, Hoạt hình\n",
      "449/845 - Cập nhật ảnh: https://cinema.momocdn.net/img/20693484422178053-vXjpwkXPirBmgdEpIknfN8ziDD.jpg\n"
     ]
    },
    {
     "name": "stderr",
     "output_type": "stream",
     "text": [
      "C:\\Users\\ADMIN\\AppData\\Local\\Temp\\ipykernel_7724\\373337600.py:22: FutureWarning: Series.__getitem__ treating keys as positions is deprecated. In a future version, integer keys will always be treated as labels (consistent with DataFrame behavior). To access a value by position, use `ser.iloc[pos]`\n",
      "  link = row[1]  # Cột 1 chứa link review\n"
     ]
    },
    {
     "name": "stdout",
     "output_type": "stream",
     "text": [
      "450/845 - Cập nhật thể loại: Khoa học - Viễn tưởng, Hành động, Hoạt hình\n",
      "450/845 - Cập nhật ảnh: https://cinema.momocdn.net/img/1006472014925260-a5alro35e0XUa21Hb9Wlci67U73.jpg\n"
     ]
    },
    {
     "name": "stderr",
     "output_type": "stream",
     "text": [
      "C:\\Users\\ADMIN\\AppData\\Local\\Temp\\ipykernel_7724\\373337600.py:22: FutureWarning: Series.__getitem__ treating keys as positions is deprecated. In a future version, integer keys will always be treated as labels (consistent with DataFrame behavior). To access a value by position, use `ser.iloc[pos]`\n",
      "  link = row[1]  # Cột 1 chứa link review\n"
     ]
    },
    {
     "name": "stdout",
     "output_type": "stream",
     "text": [
      "451/845 - Cập nhật thể loại: Hình sự\n",
      "451/845 - Cập nhật ảnh: https://homepage.momocdn.net/cinema/momo-cdn-api-220615142426-637908998667949058.jpg\n"
     ]
    },
    {
     "name": "stderr",
     "output_type": "stream",
     "text": [
      "C:\\Users\\ADMIN\\AppData\\Local\\Temp\\ipykernel_7724\\373337600.py:22: FutureWarning: Series.__getitem__ treating keys as positions is deprecated. In a future version, integer keys will always be treated as labels (consistent with DataFrame behavior). To access a value by position, use `ser.iloc[pos]`\n",
      "  link = row[1]  # Cột 1 chứa link review\n"
     ]
    },
    {
     "name": "stdout",
     "output_type": "stream",
     "text": [
      "452/845 - Cập nhật thể loại: Âm Nhạc, Tài liệu\n",
      "452/845 - Cập nhật ảnh: https://cinema.momocdn.net/img/85971618700458933-maxres.jpg?size=L\n"
     ]
    },
    {
     "name": "stderr",
     "output_type": "stream",
     "text": [
      "C:\\Users\\ADMIN\\AppData\\Local\\Temp\\ipykernel_7724\\373337600.py:22: FutureWarning: Series.__getitem__ treating keys as positions is deprecated. In a future version, integer keys will always be treated as labels (consistent with DataFrame behavior). To access a value by position, use `ser.iloc[pos]`\n",
      "  link = row[1]  # Cột 1 chứa link review\n"
     ]
    },
    {
     "name": "stdout",
     "output_type": "stream",
     "text": [
      "453/845 - Cập nhật thể loại: Chính kịch, Lãng mạn\n",
      "453/845 - Cập nhật ảnh: https://image.tmdb.org/t/p/w780/3gamjZzJrZpqsdpz8yJWjD54PoX.jpg\n"
     ]
    },
    {
     "name": "stderr",
     "output_type": "stream",
     "text": [
      "C:\\Users\\ADMIN\\AppData\\Local\\Temp\\ipykernel_7724\\373337600.py:22: FutureWarning: Series.__getitem__ treating keys as positions is deprecated. In a future version, integer keys will always be treated as labels (consistent with DataFrame behavior). To access a value by position, use `ser.iloc[pos]`\n",
      "  link = row[1]  # Cột 1 chứa link review\n"
     ]
    },
    {
     "name": "stdout",
     "output_type": "stream",
     "text": [
      "454/845 - Cập nhật thể loại: Kinh dị\n",
      "454/845 - Cập nhật ảnh: https://cinema.momocdn.net/img/20112194064254029-1Kqp15MtZED7IVXFxNy9jXlX6xd.jpg\n"
     ]
    },
    {
     "name": "stderr",
     "output_type": "stream",
     "text": [
      "C:\\Users\\ADMIN\\AppData\\Local\\Temp\\ipykernel_7724\\373337600.py:22: FutureWarning: Series.__getitem__ treating keys as positions is deprecated. In a future version, integer keys will always be treated as labels (consistent with DataFrame behavior). To access a value by position, use `ser.iloc[pos]`\n",
      "  link = row[1]  # Cột 1 chứa link review\n"
     ]
    },
    {
     "name": "stdout",
     "output_type": "stream",
     "text": [
      "455/845 - Cập nhật thể loại: Chính kịch, Khoa học - Viễn tưởng, Lãng mạn, Hoạt hình\n",
      "455/845 - Cập nhật ảnh: https://homepage.momocdn.net/cinema/momo-cdn-api-220615142406-637908998466651586.jpg\n"
     ]
    },
    {
     "name": "stderr",
     "output_type": "stream",
     "text": [
      "C:\\Users\\ADMIN\\AppData\\Local\\Temp\\ipykernel_7724\\373337600.py:22: FutureWarning: Series.__getitem__ treating keys as positions is deprecated. In a future version, integer keys will always be treated as labels (consistent with DataFrame behavior). To access a value by position, use `ser.iloc[pos]`\n",
      "  link = row[1]  # Cột 1 chứa link review\n"
     ]
    },
    {
     "name": "stdout",
     "output_type": "stream",
     "text": [
      "456/845 - Cập nhật thể loại: Gia đình, Tâm lý, Tình cảm\n",
      "456/845 - Cập nhật ảnh: https://cinema.momocdn.net/img/57280194289865961-4DwNh1VzR0HlQJlPajRJXy3wC1G.jpg\n"
     ]
    },
    {
     "name": "stderr",
     "output_type": "stream",
     "text": [
      "C:\\Users\\ADMIN\\AppData\\Local\\Temp\\ipykernel_7724\\373337600.py:22: FutureWarning: Series.__getitem__ treating keys as positions is deprecated. In a future version, integer keys will always be treated as labels (consistent with DataFrame behavior). To access a value by position, use `ser.iloc[pos]`\n",
      "  link = row[1]  # Cột 1 chứa link review\n"
     ]
    },
    {
     "name": "stdout",
     "output_type": "stream",
     "text": [
      "457/845 - Cập nhật thể loại: Gia đình, Giả tưởng, Hoạt hình\n",
      "457/845 - Cập nhật ảnh: https://cinema.momocdn.net/img/59076319391430981-7TxeZVg2evMG42p0uSbMJpWNQ8A.jpg\n"
     ]
    },
    {
     "name": "stderr",
     "output_type": "stream",
     "text": [
      "C:\\Users\\ADMIN\\AppData\\Local\\Temp\\ipykernel_7724\\373337600.py:22: FutureWarning: Series.__getitem__ treating keys as positions is deprecated. In a future version, integer keys will always be treated as labels (consistent with DataFrame behavior). To access a value by position, use `ser.iloc[pos]`\n",
      "  link = row[1]  # Cột 1 chứa link review\n"
     ]
    },
    {
     "name": "stdout",
     "output_type": "stream",
     "text": [
      "458/845 - Cập nhật thể loại: Phiêu lưu, Khoa học - Viễn tưởng, Hành động\n",
      "458/845 - Cập nhật ảnh: https://cinema.momocdn.net/img/2374238080762187-juSUYWiLmic0juql4q20uSTlJW7.jpg\n"
     ]
    },
    {
     "name": "stderr",
     "output_type": "stream",
     "text": [
      "C:\\Users\\ADMIN\\AppData\\Local\\Temp\\ipykernel_7724\\373337600.py:22: FutureWarning: Series.__getitem__ treating keys as positions is deprecated. In a future version, integer keys will always be treated as labels (consistent with DataFrame behavior). To access a value by position, use `ser.iloc[pos]`\n",
      "  link = row[1]  # Cột 1 chứa link review\n"
     ]
    },
    {
     "name": "stdout",
     "output_type": "stream",
     "text": [
      "459/845 - Cập nhật thể loại: Bí ẩn, Kinh dị, Hành động, Lãng mạn\n",
      "459/845 - Cập nhật ảnh: https://cinema.momocdn.net/img/44818591245431934-Aa2gAggI5iPRA3IvItWbqZwilaf.jpg\n"
     ]
    },
    {
     "name": "stderr",
     "output_type": "stream",
     "text": [
      "C:\\Users\\ADMIN\\AppData\\Local\\Temp\\ipykernel_7724\\373337600.py:22: FutureWarning: Series.__getitem__ treating keys as positions is deprecated. In a future version, integer keys will always be treated as labels (consistent with DataFrame behavior). To access a value by position, use `ser.iloc[pos]`\n",
      "  link = row[1]  # Cột 1 chứa link review\n"
     ]
    },
    {
     "name": "stdout",
     "output_type": "stream",
     "text": [
      "460/845 - Cập nhật thể loại: Siêu anh hùng, Phiêu lưu, Khoa học - Viễn tưởng, Hành động\n",
      "460/845 - Cập nhật ảnh: https://cinema.momocdn.net/img/25182129929909788-7icgF1dgUJaCpnWV235eafXFznJ.jpg\n"
     ]
    },
    {
     "name": "stderr",
     "output_type": "stream",
     "text": [
      "C:\\Users\\ADMIN\\AppData\\Local\\Temp\\ipykernel_7724\\373337600.py:22: FutureWarning: Series.__getitem__ treating keys as positions is deprecated. In a future version, integer keys will always be treated as labels (consistent with DataFrame behavior). To access a value by position, use `ser.iloc[pos]`\n",
      "  link = row[1]  # Cột 1 chứa link review\n"
     ]
    },
    {
     "name": "stdout",
     "output_type": "stream",
     "text": [
      "461/845 - Cập nhật thể loại: Gia đình\n",
      "461/845 - Cập nhật ảnh: https://cinema.momocdn.net/img/18543866485660323-640wx396h_1_.jpg\n"
     ]
    },
    {
     "name": "stderr",
     "output_type": "stream",
     "text": [
      "C:\\Users\\ADMIN\\AppData\\Local\\Temp\\ipykernel_7724\\373337600.py:22: FutureWarning: Series.__getitem__ treating keys as positions is deprecated. In a future version, integer keys will always be treated as labels (consistent with DataFrame behavior). To access a value by position, use `ser.iloc[pos]`\n",
      "  link = row[1]  # Cột 1 chứa link review\n"
     ]
    },
    {
     "name": "stdout",
     "output_type": "stream",
     "text": [
      "462/845 - Cập nhật thể loại: Ma, Kinh dị\n",
      "462/845 - Cập nhật ảnh: https://cinema.momocdn.net/img/1006911473839469-lQzSMhkAl90iXPirjnLbRHkxApC.jpg\n"
     ]
    },
    {
     "name": "stderr",
     "output_type": "stream",
     "text": [
      "C:\\Users\\ADMIN\\AppData\\Local\\Temp\\ipykernel_7724\\373337600.py:22: FutureWarning: Series.__getitem__ treating keys as positions is deprecated. In a future version, integer keys will always be treated as labels (consistent with DataFrame behavior). To access a value by position, use `ser.iloc[pos]`\n",
      "  link = row[1]  # Cột 1 chứa link review\n"
     ]
    },
    {
     "name": "stdout",
     "output_type": "stream",
     "text": [
      "463/845 - Cập nhật thể loại: Chính kịch, Gay cấn, Bí ẩn\n",
      "463/845 - Cập nhật ảnh: https://cinema.momocdn.net/img/88236621197382757-68ITkRIgwOjOkezm7ZNpp3TVpfz.jpg\n"
     ]
    },
    {
     "name": "stderr",
     "output_type": "stream",
     "text": [
      "C:\\Users\\ADMIN\\AppData\\Local\\Temp\\ipykernel_7724\\373337600.py:22: FutureWarning: Series.__getitem__ treating keys as positions is deprecated. In a future version, integer keys will always be treated as labels (consistent with DataFrame behavior). To access a value by position, use `ser.iloc[pos]`\n",
      "  link = row[1]  # Cột 1 chứa link review\n"
     ]
    },
    {
     "name": "stdout",
     "output_type": "stream",
     "text": [
      "464/845 - Cập nhật thể loại: Ma, Kinh dị\n",
      "464/845 - Cập nhật ảnh: https://homepage.momocdn.net/cinema/momo-cdn-api-220615142957-637909001974731165.jpg\n"
     ]
    },
    {
     "name": "stderr",
     "output_type": "stream",
     "text": [
      "C:\\Users\\ADMIN\\AppData\\Local\\Temp\\ipykernel_7724\\373337600.py:22: FutureWarning: Series.__getitem__ treating keys as positions is deprecated. In a future version, integer keys will always be treated as labels (consistent with DataFrame behavior). To access a value by position, use `ser.iloc[pos]`\n",
      "  link = row[1]  # Cột 1 chứa link review\n"
     ]
    },
    {
     "name": "stdout",
     "output_type": "stream",
     "text": [
      "465/845 - Cập nhật thể loại: Phiêu lưu, Thần Thoại, Hành động, Hoạt hình\n",
      "465/845 - Cập nhật ảnh: https://cinema.momocdn.net/img/108699642406197287-nCnxbPs2mL5V336Uj6D8SjKV35v.jpg\n"
     ]
    },
    {
     "name": "stderr",
     "output_type": "stream",
     "text": [
      "C:\\Users\\ADMIN\\AppData\\Local\\Temp\\ipykernel_7724\\373337600.py:22: FutureWarning: Series.__getitem__ treating keys as positions is deprecated. In a future version, integer keys will always be treated as labels (consistent with DataFrame behavior). To access a value by position, use `ser.iloc[pos]`\n",
      "  link = row[1]  # Cột 1 chứa link review\n"
     ]
    },
    {
     "name": "stdout",
     "output_type": "stream",
     "text": [
      "466/845 - Cập nhật thể loại: Ma, Kinh dị\n",
      "466/845 - Cập nhật ảnh: https://cinema.momocdn.net/img/24837758691290396-thumb_1__1.jpg\n"
     ]
    },
    {
     "name": "stderr",
     "output_type": "stream",
     "text": [
      "C:\\Users\\ADMIN\\AppData\\Local\\Temp\\ipykernel_7724\\373337600.py:22: FutureWarning: Series.__getitem__ treating keys as positions is deprecated. In a future version, integer keys will always be treated as labels (consistent with DataFrame behavior). To access a value by position, use `ser.iloc[pos]`\n",
      "  link = row[1]  # Cột 1 chứa link review\n"
     ]
    },
    {
     "name": "stdout",
     "output_type": "stream",
     "text": [
      "467/845 - Cập nhật thể loại: Âm Nhạc, Tài liệu\n",
      "467/845 - Cập nhật ảnh: https://homepage.momocdn.net/cinema/momo-upload-api-230707152206-638243401267022329.jpeg\n"
     ]
    },
    {
     "name": "stderr",
     "output_type": "stream",
     "text": [
      "C:\\Users\\ADMIN\\AppData\\Local\\Temp\\ipykernel_7724\\373337600.py:22: FutureWarning: Series.__getitem__ treating keys as positions is deprecated. In a future version, integer keys will always be treated as labels (consistent with DataFrame behavior). To access a value by position, use `ser.iloc[pos]`\n",
      "  link = row[1]  # Cột 1 chứa link review\n"
     ]
    },
    {
     "name": "stdout",
     "output_type": "stream",
     "text": [
      "468/845 - Cập nhật thể loại: Chính kịch, Hài\n",
      "468/845 - Cập nhật ảnh: https://cinema.momocdn.net/img/90490447370909837-2ja6u29rJQZKpCMaYkgEcRYdwaA.jpg\n"
     ]
    },
    {
     "name": "stderr",
     "output_type": "stream",
     "text": [
      "C:\\Users\\ADMIN\\AppData\\Local\\Temp\\ipykernel_7724\\373337600.py:22: FutureWarning: Series.__getitem__ treating keys as positions is deprecated. In a future version, integer keys will always be treated as labels (consistent with DataFrame behavior). To access a value by position, use `ser.iloc[pos]`\n",
      "  link = row[1]  # Cột 1 chứa link review\n"
     ]
    },
    {
     "name": "stdout",
     "output_type": "stream",
     "text": [
      "469/845 - Cập nhật thể loại: Gay cấn, Hài, Hành động\n",
      "469/845 - Cập nhật ảnh: https://cinema.momocdn.net/img/93508563397863267-2mJLX6OaQHACvPhkPTEPHjO7p5o.jpg\n"
     ]
    },
    {
     "name": "stderr",
     "output_type": "stream",
     "text": [
      "C:\\Users\\ADMIN\\AppData\\Local\\Temp\\ipykernel_7724\\373337600.py:22: FutureWarning: Series.__getitem__ treating keys as positions is deprecated. In a future version, integer keys will always be treated as labels (consistent with DataFrame behavior). To access a value by position, use `ser.iloc[pos]`\n",
      "  link = row[1]  # Cột 1 chứa link review\n"
     ]
    },
    {
     "name": "stdout",
     "output_type": "stream",
     "text": [
      "470/845 - Cập nhật thể loại: Chính kịch\n",
      "470/845 - Cập nhật ảnh: https://image.tmdb.org/t/p/w780/1b8hTATMGFwWmQBtQJJpae4Rv9g.jpg\n"
     ]
    },
    {
     "name": "stderr",
     "output_type": "stream",
     "text": [
      "C:\\Users\\ADMIN\\AppData\\Local\\Temp\\ipykernel_7724\\373337600.py:22: FutureWarning: Series.__getitem__ treating keys as positions is deprecated. In a future version, integer keys will always be treated as labels (consistent with DataFrame behavior). To access a value by position, use `ser.iloc[pos]`\n",
      "  link = row[1]  # Cột 1 chứa link review\n"
     ]
    },
    {
     "name": "stdout",
     "output_type": "stream",
     "text": [
      "471/845 - Cập nhật thể loại: Gia đình, Hài, Hành động\n",
      "471/845 - Cập nhật ảnh: https://cinema.momocdn.net/img/76229616160407241-outSp8WbkEYwRlQ5cJAV0p8Lp87.jpg\n"
     ]
    },
    {
     "name": "stderr",
     "output_type": "stream",
     "text": [
      "C:\\Users\\ADMIN\\AppData\\Local\\Temp\\ipykernel_7724\\373337600.py:22: FutureWarning: Series.__getitem__ treating keys as positions is deprecated. In a future version, integer keys will always be treated as labels (consistent with DataFrame behavior). To access a value by position, use `ser.iloc[pos]`\n",
      "  link = row[1]  # Cột 1 chứa link review\n"
     ]
    },
    {
     "name": "stdout",
     "output_type": "stream",
     "text": [
      "472/845 - Cập nhật thể loại: Kinh dị\n",
      "472/845 - Cập nhật ảnh: https://cinema.momocdn.net/img/27707128802729930-640x310px.jpg\n"
     ]
    },
    {
     "name": "stderr",
     "output_type": "stream",
     "text": [
      "C:\\Users\\ADMIN\\AppData\\Local\\Temp\\ipykernel_7724\\373337600.py:22: FutureWarning: Series.__getitem__ treating keys as positions is deprecated. In a future version, integer keys will always be treated as labels (consistent with DataFrame behavior). To access a value by position, use `ser.iloc[pos]`\n",
      "  link = row[1]  # Cột 1 chứa link review\n"
     ]
    },
    {
     "name": "stdout",
     "output_type": "stream",
     "text": [
      "473/845 - Cập nhật thể loại: Kinh dị\n",
      "473/845 - Cập nhật ảnh: https://homepage.momocdn.net/cinema/momo-upload-api-230525154356-638206262368220347.jpg\n"
     ]
    },
    {
     "name": "stderr",
     "output_type": "stream",
     "text": [
      "C:\\Users\\ADMIN\\AppData\\Local\\Temp\\ipykernel_7724\\373337600.py:22: FutureWarning: Series.__getitem__ treating keys as positions is deprecated. In a future version, integer keys will always be treated as labels (consistent with DataFrame behavior). To access a value by position, use `ser.iloc[pos]`\n",
      "  link = row[1]  # Cột 1 chứa link review\n"
     ]
    },
    {
     "name": "stdout",
     "output_type": "stream",
     "text": [
      "474/845 - Cập nhật thể loại: Khoa học - Viễn tưởng, Lãng mạn, Hoạt hình\n",
      "474/845 - Cập nhật ảnh: https://cinema.momocdn.net/img/1006046335934227-xsvdIWlX0IQfYQhFluxIBeURg8e.jpg\n"
     ]
    },
    {
     "name": "stderr",
     "output_type": "stream",
     "text": [
      "C:\\Users\\ADMIN\\AppData\\Local\\Temp\\ipykernel_7724\\373337600.py:22: FutureWarning: Series.__getitem__ treating keys as positions is deprecated. In a future version, integer keys will always be treated as labels (consistent with DataFrame behavior). To access a value by position, use `ser.iloc[pos]`\n",
      "  link = row[1]  # Cột 1 chứa link review\n"
     ]
    },
    {
     "name": "stdout",
     "output_type": "stream",
     "text": [
      "475/845 - Cập nhật thể loại: Gay cấn, Kinh dị\n",
      "475/845 - Cập nhật ảnh: https://cinema.momocdn.net/img/108699154765997243-hf368DJjkostZg2EjxiHu10jUE5.jpg\n"
     ]
    },
    {
     "name": "stderr",
     "output_type": "stream",
     "text": [
      "C:\\Users\\ADMIN\\AppData\\Local\\Temp\\ipykernel_7724\\373337600.py:22: FutureWarning: Series.__getitem__ treating keys as positions is deprecated. In a future version, integer keys will always be treated as labels (consistent with DataFrame behavior). To access a value by position, use `ser.iloc[pos]`\n",
      "  link = row[1]  # Cột 1 chứa link review\n"
     ]
    },
    {
     "name": "stdout",
     "output_type": "stream",
     "text": [
      "476/845 - Cập nhật thể loại: Kinh dị, Giả tưởng, Hài\n",
      "476/845 - Cập nhật ảnh: https://cinema.momocdn.net/img/59078504570261875-8c5DY9CWuwiIHIcit5qMHDpNFpb.jpg\n"
     ]
    },
    {
     "name": "stderr",
     "output_type": "stream",
     "text": [
      "C:\\Users\\ADMIN\\AppData\\Local\\Temp\\ipykernel_7724\\373337600.py:22: FutureWarning: Series.__getitem__ treating keys as positions is deprecated. In a future version, integer keys will always be treated as labels (consistent with DataFrame behavior). To access a value by position, use `ser.iloc[pos]`\n",
      "  link = row[1]  # Cột 1 chứa link review\n"
     ]
    },
    {
     "name": "stdout",
     "output_type": "stream",
     "text": [
      "477/845 - Cập nhật thể loại: Chính kịch, Hài\n",
      "477/845 - Cập nhật ảnh: https://cinema.momocdn.net/img/22256923346667931-tMT3tsh7lXJTkHq4Gjq1XkNkgOr.jpg\n"
     ]
    },
    {
     "name": "stderr",
     "output_type": "stream",
     "text": [
      "C:\\Users\\ADMIN\\AppData\\Local\\Temp\\ipykernel_7724\\373337600.py:22: FutureWarning: Series.__getitem__ treating keys as positions is deprecated. In a future version, integer keys will always be treated as labels (consistent with DataFrame behavior). To access a value by position, use `ser.iloc[pos]`\n",
      "  link = row[1]  # Cột 1 chứa link review\n"
     ]
    },
    {
     "name": "stdout",
     "output_type": "stream",
     "text": [
      "478/845 - Cập nhật thể loại: Kinh dị\n",
      "478/845 - Cập nhật ảnh: https://cinema.momocdn.net/img/53202580025453848-8vqmXMXsDVSkw6w3asP4Ie8JlSl.jpg\n"
     ]
    },
    {
     "name": "stderr",
     "output_type": "stream",
     "text": [
      "C:\\Users\\ADMIN\\AppData\\Local\\Temp\\ipykernel_7724\\373337600.py:22: FutureWarning: Series.__getitem__ treating keys as positions is deprecated. In a future version, integer keys will always be treated as labels (consistent with DataFrame behavior). To access a value by position, use `ser.iloc[pos]`\n",
      "  link = row[1]  # Cột 1 chứa link review\n"
     ]
    },
    {
     "name": "stdout",
     "output_type": "stream",
     "text": [
      "479/845 - Cập nhật thể loại: Chính kịch, Hình sự\n",
      "479/845 - Cập nhật ảnh: https://cinema.momocdn.net/img/50980905862651704-84bWZa16ALeGKcdmvKWv6Kvoohb.jpg\n"
     ]
    },
    {
     "name": "stderr",
     "output_type": "stream",
     "text": [
      "C:\\Users\\ADMIN\\AppData\\Local\\Temp\\ipykernel_7724\\373337600.py:22: FutureWarning: Series.__getitem__ treating keys as positions is deprecated. In a future version, integer keys will always be treated as labels (consistent with DataFrame behavior). To access a value by position, use `ser.iloc[pos]`\n",
      "  link = row[1]  # Cột 1 chứa link review\n"
     ]
    },
    {
     "name": "stdout",
     "output_type": "stream",
     "text": [
      "480/845 - Cập nhật thể loại: Chính kịch, Trinh thám, Hình sự\n",
      "480/845 - Cập nhật ảnh: https://cinema.momocdn.net/img/24066301869259442-gEt8nXeSIAZB0xzjeUO6aeH1YnP.jpg\n"
     ]
    },
    {
     "name": "stderr",
     "output_type": "stream",
     "text": [
      "C:\\Users\\ADMIN\\AppData\\Local\\Temp\\ipykernel_7724\\373337600.py:22: FutureWarning: Series.__getitem__ treating keys as positions is deprecated. In a future version, integer keys will always be treated as labels (consistent with DataFrame behavior). To access a value by position, use `ser.iloc[pos]`\n",
      "  link = row[1]  # Cột 1 chứa link review\n"
     ]
    },
    {
     "name": "stdout",
     "output_type": "stream",
     "text": [
      "481/845 - Cập nhật thể loại: Hài, Hoạt hình\n",
      "481/845 - Cập nhật ảnh: https://cinema.momocdn.net/img/7384372024387365-eS1FsyGygY5FomanLeULzFKUvWX.jpg\n"
     ]
    },
    {
     "name": "stderr",
     "output_type": "stream",
     "text": [
      "C:\\Users\\ADMIN\\AppData\\Local\\Temp\\ipykernel_7724\\373337600.py:22: FutureWarning: Series.__getitem__ treating keys as positions is deprecated. In a future version, integer keys will always be treated as labels (consistent with DataFrame behavior). To access a value by position, use `ser.iloc[pos]`\n",
      "  link = row[1]  # Cột 1 chứa link review\n"
     ]
    },
    {
     "name": "stdout",
     "output_type": "stream",
     "text": [
      "482/845 - Cập nhật thể loại: Bí ẩn, Ma, Kinh dị\n",
      "482/845 - Cập nhật ảnh: https://cinema.momocdn.net/img/83316275969318138-Pg0al5HWhs6wYMxfD2A8A7QnB7.jpg\n"
     ]
    },
    {
     "name": "stderr",
     "output_type": "stream",
     "text": [
      "C:\\Users\\ADMIN\\AppData\\Local\\Temp\\ipykernel_7724\\373337600.py:22: FutureWarning: Series.__getitem__ treating keys as positions is deprecated. In a future version, integer keys will always be treated as labels (consistent with DataFrame behavior). To access a value by position, use `ser.iloc[pos]`\n",
      "  link = row[1]  # Cột 1 chứa link review\n"
     ]
    },
    {
     "name": "stdout",
     "output_type": "stream",
     "text": [
      "483/845 - Cập nhật thể loại: Hài, Lãng mạn\n",
      "483/845 - Cập nhật ảnh: https://cinema.momocdn.net/img/59075606431879352-fCddmlyNZkIKHqE6WuuMfqW7vcP.jpg\n"
     ]
    },
    {
     "name": "stderr",
     "output_type": "stream",
     "text": [
      "C:\\Users\\ADMIN\\AppData\\Local\\Temp\\ipykernel_7724\\373337600.py:22: FutureWarning: Series.__getitem__ treating keys as positions is deprecated. In a future version, integer keys will always be treated as labels (consistent with DataFrame behavior). To access a value by position, use `ser.iloc[pos]`\n",
      "  link = row[1]  # Cột 1 chứa link review\n"
     ]
    },
    {
     "name": "stdout",
     "output_type": "stream",
     "text": [
      "484/845 - Cập nhật thể loại: Tình cảm, Hài, Lãng mạn\n",
      "484/845 - Cập nhật ảnh: https://cinema.momocdn.net/img/7393514040737560-t0zJXqmx3BL2W934hnNk7gcF4Re.jpg\n"
     ]
    },
    {
     "name": "stderr",
     "output_type": "stream",
     "text": [
      "C:\\Users\\ADMIN\\AppData\\Local\\Temp\\ipykernel_7724\\373337600.py:22: FutureWarning: Series.__getitem__ treating keys as positions is deprecated. In a future version, integer keys will always be treated as labels (consistent with DataFrame behavior). To access a value by position, use `ser.iloc[pos]`\n",
      "  link = row[1]  # Cột 1 chứa link review\n"
     ]
    },
    {
     "name": "stdout",
     "output_type": "stream",
     "text": [
      "485/845 - Cập nhật thể loại: Gia đình, Phiêu lưu, Hài\n",
      "485/845 - Cập nhật ảnh: https://homepage.momocdn.net/cinema/momo-cdn-api-220615142501-637908999016746702.jpg\n"
     ]
    },
    {
     "name": "stderr",
     "output_type": "stream",
     "text": [
      "C:\\Users\\ADMIN\\AppData\\Local\\Temp\\ipykernel_7724\\373337600.py:22: FutureWarning: Series.__getitem__ treating keys as positions is deprecated. In a future version, integer keys will always be treated as labels (consistent with DataFrame behavior). To access a value by position, use `ser.iloc[pos]`\n",
      "  link = row[1]  # Cột 1 chứa link review\n"
     ]
    },
    {
     "name": "stdout",
     "output_type": "stream",
     "text": [
      "486/845 - Cập nhật thể loại: Hài, Lãng mạn, Hoạt hình\n",
      "486/845 - Cập nhật ảnh: https://cinema.momocdn.net/img/85196915879658837-jBIMZ0AlUYuFNsKbd4L6FojWMoy.jpg\n"
     ]
    },
    {
     "name": "stderr",
     "output_type": "stream",
     "text": [
      "C:\\Users\\ADMIN\\AppData\\Local\\Temp\\ipykernel_7724\\373337600.py:22: FutureWarning: Series.__getitem__ treating keys as positions is deprecated. In a future version, integer keys will always be treated as labels (consistent with DataFrame behavior). To access a value by position, use `ser.iloc[pos]`\n",
      "  link = row[1]  # Cột 1 chứa link review\n"
     ]
    },
    {
     "name": "stdout",
     "output_type": "stream",
     "text": [
      "487/845 - Cập nhật thể loại: Bí ẩn, Tội phạm, Drama, Hình sự\n",
      "487/845 - Cập nhật ảnh: https://homepage.momocdn.net/cinema/momo-cdn-api-220615142908-637909001488166926.jpg\n"
     ]
    },
    {
     "name": "stderr",
     "output_type": "stream",
     "text": [
      "C:\\Users\\ADMIN\\AppData\\Local\\Temp\\ipykernel_7724\\373337600.py:22: FutureWarning: Series.__getitem__ treating keys as positions is deprecated. In a future version, integer keys will always be treated as labels (consistent with DataFrame behavior). To access a value by position, use `ser.iloc[pos]`\n",
      "  link = row[1]  # Cột 1 chứa link review\n"
     ]
    },
    {
     "name": "stdout",
     "output_type": "stream",
     "text": [
      "488/845 - Cập nhật thể loại: Chính kịch, Gay cấn, Hình sự\n",
      "488/845 - Cập nhật ảnh: https://homepage.momocdn.net/cinema/momo-cdn-api-220615142859-637909001396031836.jpg\n"
     ]
    },
    {
     "name": "stderr",
     "output_type": "stream",
     "text": [
      "C:\\Users\\ADMIN\\AppData\\Local\\Temp\\ipykernel_7724\\373337600.py:22: FutureWarning: Series.__getitem__ treating keys as positions is deprecated. In a future version, integer keys will always be treated as labels (consistent with DataFrame behavior). To access a value by position, use `ser.iloc[pos]`\n",
      "  link = row[1]  # Cột 1 chứa link review\n"
     ]
    },
    {
     "name": "stdout",
     "output_type": "stream",
     "text": [
      "489/845 - Cập nhật thể loại: Chính kịch, Tình cảm, Lãng mạn\n",
      "489/845 - Cập nhật ảnh: https://cinema.momocdn.net/img/6690506359292545-1_04_1009_1188b.jpg\n"
     ]
    },
    {
     "name": "stderr",
     "output_type": "stream",
     "text": [
      "C:\\Users\\ADMIN\\AppData\\Local\\Temp\\ipykernel_7724\\373337600.py:22: FutureWarning: Series.__getitem__ treating keys as positions is deprecated. In a future version, integer keys will always be treated as labels (consistent with DataFrame behavior). To access a value by position, use `ser.iloc[pos]`\n",
      "  link = row[1]  # Cột 1 chứa link review\n"
     ]
    },
    {
     "name": "stdout",
     "output_type": "stream",
     "text": [
      "490/845 - Cập nhật thể loại: Chính kịch\n",
      "490/845 - Cập nhật ảnh: https://cinema.momocdn.net/img/88914590600476025-26YLjaC1udGEmSvlM1P5eBGWO5h.jpg\n"
     ]
    },
    {
     "name": "stderr",
     "output_type": "stream",
     "text": [
      "C:\\Users\\ADMIN\\AppData\\Local\\Temp\\ipykernel_7724\\373337600.py:22: FutureWarning: Series.__getitem__ treating keys as positions is deprecated. In a future version, integer keys will always be treated as labels (consistent with DataFrame behavior). To access a value by position, use `ser.iloc[pos]`\n",
      "  link = row[1]  # Cột 1 chứa link review\n"
     ]
    },
    {
     "name": "stdout",
     "output_type": "stream",
     "text": [
      "491/845 - Cập nhật thể loại: Chính kịch, Gay cấn, Kinh dị\n",
      "491/845 - Cập nhật ảnh: https://cinema.momocdn.net/img/84098485331211655-2oqhD3ceejcjELPhJ6ykMxoi8WD.jpg\n"
     ]
    },
    {
     "name": "stderr",
     "output_type": "stream",
     "text": [
      "C:\\Users\\ADMIN\\AppData\\Local\\Temp\\ipykernel_7724\\373337600.py:22: FutureWarning: Series.__getitem__ treating keys as positions is deprecated. In a future version, integer keys will always be treated as labels (consistent with DataFrame behavior). To access a value by position, use `ser.iloc[pos]`\n",
      "  link = row[1]  # Cột 1 chứa link review\n"
     ]
    },
    {
     "name": "stdout",
     "output_type": "stream",
     "text": [
      "492/845 - Cập nhật thể loại: Gia đình, Phiêu lưu, Hài, Hoạt hình\n",
      "492/845 - Cập nhật ảnh: https://cinema.momocdn.net/img/94294095730617834-8XhPYdTbQ2Us7b1OfXYAa7mVuZ9.jpg\n"
     ]
    },
    {
     "name": "stderr",
     "output_type": "stream",
     "text": [
      "C:\\Users\\ADMIN\\AppData\\Local\\Temp\\ipykernel_7724\\373337600.py:22: FutureWarning: Series.__getitem__ treating keys as positions is deprecated. In a future version, integer keys will always be treated as labels (consistent with DataFrame behavior). To access a value by position, use `ser.iloc[pos]`\n",
      "  link = row[1]  # Cột 1 chứa link review\n"
     ]
    },
    {
     "name": "stdout",
     "output_type": "stream",
     "text": [
      "493/845 - Cập nhật thể loại: Gia đình, Phiêu lưu, Khoa học - Viễn tưởng, Hành động, Hoạt hình\n",
      "493/845 - Cập nhật ảnh: https://homepage.momocdn.net/cinema/momo-cdn-api-220615143110-637909002707243167.jpg\n"
     ]
    },
    {
     "name": "stderr",
     "output_type": "stream",
     "text": [
      "C:\\Users\\ADMIN\\AppData\\Local\\Temp\\ipykernel_7724\\373337600.py:22: FutureWarning: Series.__getitem__ treating keys as positions is deprecated. In a future version, integer keys will always be treated as labels (consistent with DataFrame behavior). To access a value by position, use `ser.iloc[pos]`\n",
      "  link = row[1]  # Cột 1 chứa link review\n"
     ]
    },
    {
     "name": "stdout",
     "output_type": "stream",
     "text": [
      "494/845 - Cập nhật thể loại: Kinh dị\n",
      "494/845 - Cập nhật ảnh: https://homepage.momocdn.net/cinema/momo-cdn-api-220615142351-637908998315284919.jpg\n"
     ]
    },
    {
     "name": "stderr",
     "output_type": "stream",
     "text": [
      "C:\\Users\\ADMIN\\AppData\\Local\\Temp\\ipykernel_7724\\373337600.py:22: FutureWarning: Series.__getitem__ treating keys as positions is deprecated. In a future version, integer keys will always be treated as labels (consistent with DataFrame behavior). To access a value by position, use `ser.iloc[pos]`\n",
      "  link = row[1]  # Cột 1 chứa link review\n"
     ]
    },
    {
     "name": "stdout",
     "output_type": "stream",
     "text": [
      "495/845 - Cập nhật thể loại: Chính kịch, Tình cảm, Lãng mạn\n",
      "495/845 - Cập nhật ảnh: https://cinema.momocdn.net/img/1005418221700541-bBFpkBVlOR2qeT6oE3W9uPkfNOr.jpg\n"
     ]
    },
    {
     "name": "stderr",
     "output_type": "stream",
     "text": [
      "C:\\Users\\ADMIN\\AppData\\Local\\Temp\\ipykernel_7724\\373337600.py:22: FutureWarning: Series.__getitem__ treating keys as positions is deprecated. In a future version, integer keys will always be treated as labels (consistent with DataFrame behavior). To access a value by position, use `ser.iloc[pos]`\n",
      "  link = row[1]  # Cột 1 chứa link review\n"
     ]
    },
    {
     "name": "stdout",
     "output_type": "stream",
     "text": [
      "496/845 - Cập nhật thể loại: Kinh dị\n",
      "496/845 - Cập nhật ảnh: https://cinema.momocdn.net/img/86943366384238248-xOcwcyLM2lqXCrZG8AIHC8DXElF.jpg\n"
     ]
    },
    {
     "name": "stderr",
     "output_type": "stream",
     "text": [
      "C:\\Users\\ADMIN\\AppData\\Local\\Temp\\ipykernel_7724\\373337600.py:22: FutureWarning: Series.__getitem__ treating keys as positions is deprecated. In a future version, integer keys will always be treated as labels (consistent with DataFrame behavior). To access a value by position, use `ser.iloc[pos]`\n",
      "  link = row[1]  # Cột 1 chứa link review\n"
     ]
    },
    {
     "name": "stdout",
     "output_type": "stream",
     "text": [
      "497/845 - Cập nhật thể loại: Gay cấn, Hành động\n",
      "497/845 - Cập nhật ảnh: https://cinema.momocdn.net/img/14494131673714282-vVvX9JHYswQoGqwCMTyUNi2k9XH.jpg\n"
     ]
    },
    {
     "name": "stderr",
     "output_type": "stream",
     "text": [
      "C:\\Users\\ADMIN\\AppData\\Local\\Temp\\ipykernel_7724\\373337600.py:22: FutureWarning: Series.__getitem__ treating keys as positions is deprecated. In a future version, integer keys will always be treated as labels (consistent with DataFrame behavior). To access a value by position, use `ser.iloc[pos]`\n",
      "  link = row[1]  # Cột 1 chứa link review\n"
     ]
    },
    {
     "name": "stdout",
     "output_type": "stream",
     "text": [
      "498/845 - Cập nhật thể loại: Gay cấn, Bí ẩn, Kinh dị\n",
      "498/845 - Cập nhật ảnh: https://cinema.momocdn.net/img/44382959389971453-3SrxfpmXfsjibeFQK562gGQDCRx.jpg\n"
     ]
    },
    {
     "name": "stderr",
     "output_type": "stream",
     "text": [
      "C:\\Users\\ADMIN\\AppData\\Local\\Temp\\ipykernel_7724\\373337600.py:22: FutureWarning: Series.__getitem__ treating keys as positions is deprecated. In a future version, integer keys will always be treated as labels (consistent with DataFrame behavior). To access a value by position, use `ser.iloc[pos]`\n",
      "  link = row[1]  # Cột 1 chứa link review\n"
     ]
    },
    {
     "name": "stdout",
     "output_type": "stream",
     "text": [
      "499/845 - Cập nhật thể loại: Chính kịch, Hoạt hình\n",
      "499/845 - Cập nhật ảnh: https://cinema.momocdn.net/img/34430850328212248-65dc848f8be2c008857021.jpg\n"
     ]
    },
    {
     "name": "stderr",
     "output_type": "stream",
     "text": [
      "C:\\Users\\ADMIN\\AppData\\Local\\Temp\\ipykernel_7724\\373337600.py:22: FutureWarning: Series.__getitem__ treating keys as positions is deprecated. In a future version, integer keys will always be treated as labels (consistent with DataFrame behavior). To access a value by position, use `ser.iloc[pos]`\n",
      "  link = row[1]  # Cột 1 chứa link review\n"
     ]
    },
    {
     "name": "stdout",
     "output_type": "stream",
     "text": [
      "500/845 - Cập nhật thể loại: Chính kịch, Bí ẩn, Khoa học - Viễn tưởng, Hoạt hình\n",
      "500/845 - Cập nhật ảnh: https://cinema.momocdn.net/img/12742457728185040-7sMDPzLuDcql5Gwz2OCQVeeDyGp.jpg\n"
     ]
    },
    {
     "name": "stderr",
     "output_type": "stream",
     "text": [
      "C:\\Users\\ADMIN\\AppData\\Local\\Temp\\ipykernel_7724\\373337600.py:22: FutureWarning: Series.__getitem__ treating keys as positions is deprecated. In a future version, integer keys will always be treated as labels (consistent with DataFrame behavior). To access a value by position, use `ser.iloc[pos]`\n",
      "  link = row[1]  # Cột 1 chứa link review\n"
     ]
    },
    {
     "name": "stdout",
     "output_type": "stream",
     "text": [
      "501/845 - Cập nhật thể loại: Chính kịch, Âm Nhạc, Tài liệu\n",
      "501/845 - Cập nhật ảnh: https://cinema.momocdn.net/img/4187483119163927-maxresdefault%20(13\n"
     ]
    },
    {
     "name": "stderr",
     "output_type": "stream",
     "text": [
      "C:\\Users\\ADMIN\\AppData\\Local\\Temp\\ipykernel_7724\\373337600.py:22: FutureWarning: Series.__getitem__ treating keys as positions is deprecated. In a future version, integer keys will always be treated as labels (consistent with DataFrame behavior). To access a value by position, use `ser.iloc[pos]`\n",
      "  link = row[1]  # Cột 1 chứa link review\n"
     ]
    },
    {
     "name": "stdout",
     "output_type": "stream",
     "text": [
      "502/845 - Cập nhật thể loại: Hình sự, Hành động\n",
      "502/845 - Cập nhật ảnh: https://cinema.momocdn.net/img/1769304944222327-1cnknzG8hDYq6qYk75HGzFTre4m.jpg\n"
     ]
    },
    {
     "name": "stderr",
     "output_type": "stream",
     "text": [
      "C:\\Users\\ADMIN\\AppData\\Local\\Temp\\ipykernel_7724\\373337600.py:22: FutureWarning: Series.__getitem__ treating keys as positions is deprecated. In a future version, integer keys will always be treated as labels (consistent with DataFrame behavior). To access a value by position, use `ser.iloc[pos]`\n",
      "  link = row[1]  # Cột 1 chứa link review\n"
     ]
    },
    {
     "name": "stdout",
     "output_type": "stream",
     "text": [
      "503/845 - Cập nhật thể loại: Gia đình, Tình cảm, Hoạt hình\n",
      "503/845 - Cập nhật ảnh: https://homepage.momocdn.net/cinema/momo-cdn-api-220615142729-637909000491855010.jpg\n"
     ]
    },
    {
     "name": "stderr",
     "output_type": "stream",
     "text": [
      "C:\\Users\\ADMIN\\AppData\\Local\\Temp\\ipykernel_7724\\373337600.py:22: FutureWarning: Series.__getitem__ treating keys as positions is deprecated. In a future version, integer keys will always be treated as labels (consistent with DataFrame behavior). To access a value by position, use `ser.iloc[pos]`\n",
      "  link = row[1]  # Cột 1 chứa link review\n"
     ]
    },
    {
     "name": "stdout",
     "output_type": "stream",
     "text": [
      "504/845 - Cập nhật thể loại: Phiêu lưu, Khoa học - Viễn tưởng, Hành động\n",
      "504/845 - Cập nhật ảnh: https://homepage.momocdn.net/cinema/momo-cdn-api-220615135330-637908980108469567.jpg\n"
     ]
    },
    {
     "name": "stderr",
     "output_type": "stream",
     "text": [
      "C:\\Users\\ADMIN\\AppData\\Local\\Temp\\ipykernel_7724\\373337600.py:22: FutureWarning: Series.__getitem__ treating keys as positions is deprecated. In a future version, integer keys will always be treated as labels (consistent with DataFrame behavior). To access a value by position, use `ser.iloc[pos]`\n",
      "  link = row[1]  # Cột 1 chứa link review\n"
     ]
    },
    {
     "name": "stdout",
     "output_type": "stream",
     "text": [
      "505/845 - Cập nhật thể loại: Gay cấn, Hành động\n",
      "505/845 - Cập nhật ảnh: https://cinema.momocdn.net/img/50559971542693590-zafjILdj6K91LOX4w4lCD48utxZ.jpg\n"
     ]
    },
    {
     "name": "stderr",
     "output_type": "stream",
     "text": [
      "C:\\Users\\ADMIN\\AppData\\Local\\Temp\\ipykernel_7724\\373337600.py:22: FutureWarning: Series.__getitem__ treating keys as positions is deprecated. In a future version, integer keys will always be treated as labels (consistent with DataFrame behavior). To access a value by position, use `ser.iloc[pos]`\n",
      "  link = row[1]  # Cột 1 chứa link review\n"
     ]
    },
    {
     "name": "stdout",
     "output_type": "stream",
     "text": [
      "506/845 - Cập nhật thể loại: Chính kịch, Hài\n",
      "506/845 - Cập nhật ảnh: https://cinema.momocdn.net/img/52596776898408190-ySAGMTGqZpEON0VpE0bjyLerde.jpg\n"
     ]
    },
    {
     "name": "stderr",
     "output_type": "stream",
     "text": [
      "C:\\Users\\ADMIN\\AppData\\Local\\Temp\\ipykernel_7724\\373337600.py:22: FutureWarning: Series.__getitem__ treating keys as positions is deprecated. In a future version, integer keys will always be treated as labels (consistent with DataFrame behavior). To access a value by position, use `ser.iloc[pos]`\n",
      "  link = row[1]  # Cột 1 chứa link review\n"
     ]
    },
    {
     "name": "stdout",
     "output_type": "stream",
     "text": [
      "507/845 - Cập nhật thể loại: Gia đình, Phiêu lưu, Hoạt hình\n",
      "507/845 - Cập nhật ảnh: https://cinema.momocdn.net/img/30997713373157351-xgRLyliEA7XatJHmdvKnqghzhOs.jpg\n"
     ]
    },
    {
     "name": "stderr",
     "output_type": "stream",
     "text": [
      "C:\\Users\\ADMIN\\AppData\\Local\\Temp\\ipykernel_7724\\373337600.py:22: FutureWarning: Series.__getitem__ treating keys as positions is deprecated. In a future version, integer keys will always be treated as labels (consistent with DataFrame behavior). To access a value by position, use `ser.iloc[pos]`\n",
      "  link = row[1]  # Cột 1 chứa link review\n"
     ]
    },
    {
     "name": "stdout",
     "output_type": "stream",
     "text": [
      "508/845 - Cập nhật thể loại: Chính kịch, Hình sự\n",
      "508/845 - Cập nhật ảnh: https://cinema.momocdn.net/img/22255557085283946-maxresdefault%20(18\n"
     ]
    },
    {
     "name": "stderr",
     "output_type": "stream",
     "text": [
      "C:\\Users\\ADMIN\\AppData\\Local\\Temp\\ipykernel_7724\\373337600.py:22: FutureWarning: Series.__getitem__ treating keys as positions is deprecated. In a future version, integer keys will always be treated as labels (consistent with DataFrame behavior). To access a value by position, use `ser.iloc[pos]`\n",
      "  link = row[1]  # Cột 1 chứa link review\n"
     ]
    },
    {
     "name": "stdout",
     "output_type": "stream",
     "text": [
      "509/845 - Cập nhật thể loại: Chính kịch, Gay cấn, Hình sự, Hành động\n",
      "509/845 - Cập nhật ảnh: https://cinema.momocdn.net/img/19326887381965801-tUlUdP04nDWsy372myIHuA2qdNv.jpg\n"
     ]
    },
    {
     "name": "stderr",
     "output_type": "stream",
     "text": [
      "C:\\Users\\ADMIN\\AppData\\Local\\Temp\\ipykernel_7724\\373337600.py:22: FutureWarning: Series.__getitem__ treating keys as positions is deprecated. In a future version, integer keys will always be treated as labels (consistent with DataFrame behavior). To access a value by position, use `ser.iloc[pos]`\n",
      "  link = row[1]  # Cột 1 chứa link review\n"
     ]
    },
    {
     "name": "stdout",
     "output_type": "stream",
     "text": [
      "510/845 - Cập nhật thể loại: Gay cấn, Hành động\n",
      "510/845 - Cập nhật ảnh: https://cinema.momocdn.net/img/670194441197789-9Rq14Eyrf7Tu1xk0Pl7VcNbNh1n.jpg\n"
     ]
    },
    {
     "name": "stderr",
     "output_type": "stream",
     "text": [
      "C:\\Users\\ADMIN\\AppData\\Local\\Temp\\ipykernel_7724\\373337600.py:22: FutureWarning: Series.__getitem__ treating keys as positions is deprecated. In a future version, integer keys will always be treated as labels (consistent with DataFrame behavior). To access a value by position, use `ser.iloc[pos]`\n",
      "  link = row[1]  # Cột 1 chứa link review\n"
     ]
    },
    {
     "name": "stdout",
     "output_type": "stream",
     "text": [
      "511/845 - Cập nhật thể loại: Gay cấn, Ma, Kinh dị\n",
      "511/845 - Cập nhật ảnh: https://homepage.momocdn.net/cinema/momo-cdn-api-220615142808-637909000889507073.jpg\n"
     ]
    },
    {
     "name": "stderr",
     "output_type": "stream",
     "text": [
      "C:\\Users\\ADMIN\\AppData\\Local\\Temp\\ipykernel_7724\\373337600.py:22: FutureWarning: Series.__getitem__ treating keys as positions is deprecated. In a future version, integer keys will always be treated as labels (consistent with DataFrame behavior). To access a value by position, use `ser.iloc[pos]`\n",
      "  link = row[1]  # Cột 1 chứa link review\n"
     ]
    },
    {
     "name": "stdout",
     "output_type": "stream",
     "text": [
      "512/845 - Cập nhật thể loại: Gia đình, Phiêu lưu, Hoạt hình\n",
      "512/845 - Cập nhật ảnh: https://cinema.momocdn.net/img/24686709137603315-9XBVJBj8smienzhkZ2ocW7fytWZ.jpg\n"
     ]
    },
    {
     "name": "stderr",
     "output_type": "stream",
     "text": [
      "C:\\Users\\ADMIN\\AppData\\Local\\Temp\\ipykernel_7724\\373337600.py:22: FutureWarning: Series.__getitem__ treating keys as positions is deprecated. In a future version, integer keys will always be treated as labels (consistent with DataFrame behavior). To access a value by position, use `ser.iloc[pos]`\n",
      "  link = row[1]  # Cột 1 chứa link review\n"
     ]
    },
    {
     "name": "stdout",
     "output_type": "stream",
     "text": [
      "513/845 - Cập nhật thể loại: Kinh dị\n",
      "513/845 - Cập nhật ảnh: https://cinema.momocdn.net/img/92030841570345901-kuqVtuENGjYDHMcyGTg6Z4KIzIE.jpg\n"
     ]
    },
    {
     "name": "stderr",
     "output_type": "stream",
     "text": [
      "C:\\Users\\ADMIN\\AppData\\Local\\Temp\\ipykernel_7724\\373337600.py:22: FutureWarning: Series.__getitem__ treating keys as positions is deprecated. In a future version, integer keys will always be treated as labels (consistent with DataFrame behavior). To access a value by position, use `ser.iloc[pos]`\n",
      "  link = row[1]  # Cột 1 chứa link review\n"
     ]
    },
    {
     "name": "stdout",
     "output_type": "stream",
     "text": [
      "514/845 - Cập nhật thể loại: Gay cấn, Hành động\n",
      "514/845 - Cập nhật ảnh: https://cinema.momocdn.net/img/29609444366803533-yVLnNOWDz29EHjc4SwmYRWUifNW.jpg\n"
     ]
    },
    {
     "name": "stderr",
     "output_type": "stream",
     "text": [
      "C:\\Users\\ADMIN\\AppData\\Local\\Temp\\ipykernel_7724\\373337600.py:22: FutureWarning: Series.__getitem__ treating keys as positions is deprecated. In a future version, integer keys will always be treated as labels (consistent with DataFrame behavior). To access a value by position, use `ser.iloc[pos]`\n",
      "  link = row[1]  # Cột 1 chứa link review\n"
     ]
    },
    {
     "name": "stdout",
     "output_type": "stream",
     "text": [
      "515/845 - Cập nhật thể loại: Ma, Hài, Lãng mạn\n",
      "515/845 - Cập nhật ảnh: https://cinema.momocdn.net/img/8550546220461708-maxresdefault%20(2\n"
     ]
    },
    {
     "name": "stderr",
     "output_type": "stream",
     "text": [
      "C:\\Users\\ADMIN\\AppData\\Local\\Temp\\ipykernel_7724\\373337600.py:22: FutureWarning: Series.__getitem__ treating keys as positions is deprecated. In a future version, integer keys will always be treated as labels (consistent with DataFrame behavior). To access a value by position, use `ser.iloc[pos]`\n",
      "  link = row[1]  # Cột 1 chứa link review\n"
     ]
    },
    {
     "name": "stdout",
     "output_type": "stream",
     "text": [
      "516/845 - Cập nhật thể loại: Kinh dị, Hài, Hành động\n",
      "516/845 - Cập nhật ảnh: https://cinema.momocdn.net/img/93258279704976509-4i7AOulBDCaZIQRckIrT1Jcz8yf.jpg\n"
     ]
    },
    {
     "name": "stderr",
     "output_type": "stream",
     "text": [
      "C:\\Users\\ADMIN\\AppData\\Local\\Temp\\ipykernel_7724\\373337600.py:22: FutureWarning: Series.__getitem__ treating keys as positions is deprecated. In a future version, integer keys will always be treated as labels (consistent with DataFrame behavior). To access a value by position, use `ser.iloc[pos]`\n",
      "  link = row[1]  # Cột 1 chứa link review\n"
     ]
    },
    {
     "name": "stdout",
     "output_type": "stream",
     "text": [
      "517/845 - Cập nhật thể loại: Gia đình, Phiêu lưu, Hài, Hoạt hình\n",
      "517/845 - Cập nhật ảnh: https://cinema.momocdn.net/img/93508804589573438-uI1EvYeXNri9BbpcP3YzE4XVUJW.jpg\n"
     ]
    },
    {
     "name": "stderr",
     "output_type": "stream",
     "text": [
      "C:\\Users\\ADMIN\\AppData\\Local\\Temp\\ipykernel_7724\\373337600.py:22: FutureWarning: Series.__getitem__ treating keys as positions is deprecated. In a future version, integer keys will always be treated as labels (consistent with DataFrame behavior). To access a value by position, use `ser.iloc[pos]`\n",
      "  link = row[1]  # Cột 1 chứa link review\n"
     ]
    },
    {
     "name": "stdout",
     "output_type": "stream",
     "text": [
      "518/845 - Cập nhật thể loại: Tình cảm, Hài, Lãng mạn\n",
      "518/845 - Cập nhật ảnh: https://cinema.momocdn.net/img/90828833167622639-wnRcxfwP4Yp2DHqJQXTxBbqWIrp.jpg\n"
     ]
    },
    {
     "name": "stderr",
     "output_type": "stream",
     "text": [
      "C:\\Users\\ADMIN\\AppData\\Local\\Temp\\ipykernel_7724\\373337600.py:22: FutureWarning: Series.__getitem__ treating keys as positions is deprecated. In a future version, integer keys will always be treated as labels (consistent with DataFrame behavior). To access a value by position, use `ser.iloc[pos]`\n",
      "  link = row[1]  # Cột 1 chứa link review\n"
     ]
    },
    {
     "name": "stdout",
     "output_type": "stream",
     "text": [
      "519/845 - Cập nhật thể loại: Gia đình, Phiêu lưu, Hài, Hoạt hình\n",
      "519/845 - Cập nhật ảnh: https://homepage.momocdn.net/cinema/momo-cdn-api-220615143042-637909002428757114.jpg\n"
     ]
    },
    {
     "name": "stderr",
     "output_type": "stream",
     "text": [
      "C:\\Users\\ADMIN\\AppData\\Local\\Temp\\ipykernel_7724\\373337600.py:22: FutureWarning: Series.__getitem__ treating keys as positions is deprecated. In a future version, integer keys will always be treated as labels (consistent with DataFrame behavior). To access a value by position, use `ser.iloc[pos]`\n",
      "  link = row[1]  # Cột 1 chứa link review\n"
     ]
    },
    {
     "name": "stdout",
     "output_type": "stream",
     "text": [
      "520/845 - Cập nhật thể loại: Phiêu lưu, Khoa học - Viễn tưởng, Hành động, Hoạt hình\n",
      "520/845 - Cập nhật ảnh: https://homepage.momocdn.net/cinema/momo-cdn-api-220615142910-637909001500799903.jpg\n"
     ]
    },
    {
     "name": "stderr",
     "output_type": "stream",
     "text": [
      "C:\\Users\\ADMIN\\AppData\\Local\\Temp\\ipykernel_7724\\373337600.py:22: FutureWarning: Series.__getitem__ treating keys as positions is deprecated. In a future version, integer keys will always be treated as labels (consistent with DataFrame behavior). To access a value by position, use `ser.iloc[pos]`\n",
      "  link = row[1]  # Cột 1 chứa link review\n"
     ]
    },
    {
     "name": "stdout",
     "output_type": "stream",
     "text": [
      "521/845 - Cập nhật thể loại: Kinh dị, Phiêu lưu\n",
      "521/845 - Cập nhật ảnh: https://image.tmdb.org/t/p/w780/xdWp1LpiutVD79d9E68JaHrltU9.jpg\n"
     ]
    },
    {
     "name": "stderr",
     "output_type": "stream",
     "text": [
      "C:\\Users\\ADMIN\\AppData\\Local\\Temp\\ipykernel_7724\\373337600.py:22: FutureWarning: Series.__getitem__ treating keys as positions is deprecated. In a future version, integer keys will always be treated as labels (consistent with DataFrame behavior). To access a value by position, use `ser.iloc[pos]`\n",
      "  link = row[1]  # Cột 1 chứa link review\n"
     ]
    },
    {
     "name": "stdout",
     "output_type": "stream",
     "text": [
      "522/845 - Cập nhật thể loại: Gay cấn, Kinh dị\n",
      "522/845 - Cập nhật ảnh: https://image.tmdb.org/t/p/w780/eHu1ZxFPmqyhnait9VdsOQBEFOk.jpg\n"
     ]
    },
    {
     "name": "stderr",
     "output_type": "stream",
     "text": [
      "C:\\Users\\ADMIN\\AppData\\Local\\Temp\\ipykernel_7724\\373337600.py:22: FutureWarning: Series.__getitem__ treating keys as positions is deprecated. In a future version, integer keys will always be treated as labels (consistent with DataFrame behavior). To access a value by position, use `ser.iloc[pos]`\n",
      "  link = row[1]  # Cột 1 chứa link review\n"
     ]
    },
    {
     "name": "stdout",
     "output_type": "stream",
     "text": [
      "523/845 - Cập nhật thể loại: Chính kịch, Âm Nhạc, Hài, Lãng mạn\n",
      "523/845 - Cập nhật ảnh: https://cinema.momocdn.net/img/85970705300561884-maxresdefault.jpg?size=L\n"
     ]
    },
    {
     "name": "stderr",
     "output_type": "stream",
     "text": [
      "C:\\Users\\ADMIN\\AppData\\Local\\Temp\\ipykernel_7724\\373337600.py:22: FutureWarning: Series.__getitem__ treating keys as positions is deprecated. In a future version, integer keys will always be treated as labels (consistent with DataFrame behavior). To access a value by position, use `ser.iloc[pos]`\n",
      "  link = row[1]  # Cột 1 chứa link review\n"
     ]
    },
    {
     "name": "stdout",
     "output_type": "stream",
     "text": [
      "524/845 - Cập nhật thể loại: Gia đình, Phiêu lưu, Hài, Hoạt hình\n",
      "524/845 - Cập nhật ảnh: https://cinema.momocdn.net/img/27714220197105100-58KBZ6EhPacJPHzhVnhwijROOkk.jpg\n"
     ]
    },
    {
     "name": "stderr",
     "output_type": "stream",
     "text": [
      "C:\\Users\\ADMIN\\AppData\\Local\\Temp\\ipykernel_7724\\373337600.py:22: FutureWarning: Series.__getitem__ treating keys as positions is deprecated. In a future version, integer keys will always be treated as labels (consistent with DataFrame behavior). To access a value by position, use `ser.iloc[pos]`\n",
      "  link = row[1]  # Cột 1 chứa link review\n"
     ]
    },
    {
     "name": "stdout",
     "output_type": "stream",
     "text": [
      "525/845 - Cập nhật thể loại: Hài, Hoạt hình\n",
      "525/845 - Cập nhật ảnh: https://cinema.momocdn.net/img/92295649099960558-zlHeQg9OTYED2Gm4ZErdvElsUFg.jpg\n"
     ]
    },
    {
     "name": "stderr",
     "output_type": "stream",
     "text": [
      "C:\\Users\\ADMIN\\AppData\\Local\\Temp\\ipykernel_7724\\373337600.py:22: FutureWarning: Series.__getitem__ treating keys as positions is deprecated. In a future version, integer keys will always be treated as labels (consistent with DataFrame behavior). To access a value by position, use `ser.iloc[pos]`\n",
      "  link = row[1]  # Cột 1 chứa link review\n"
     ]
    },
    {
     "name": "stdout",
     "output_type": "stream",
     "text": [
      "526/845 - Cập nhật thể loại: Bí ẩn, Tâm lý, Hình sự, Lãng mạn\n",
      "526/845 - Cập nhật ảnh: https://homepage.momocdn.net/cinema/momo-cdn-api-220615143143-637909003035933565.jpg\n"
     ]
    },
    {
     "name": "stderr",
     "output_type": "stream",
     "text": [
      "C:\\Users\\ADMIN\\AppData\\Local\\Temp\\ipykernel_7724\\373337600.py:22: FutureWarning: Series.__getitem__ treating keys as positions is deprecated. In a future version, integer keys will always be treated as labels (consistent with DataFrame behavior). To access a value by position, use `ser.iloc[pos]`\n",
      "  link = row[1]  # Cột 1 chứa link review\n"
     ]
    },
    {
     "name": "stdout",
     "output_type": "stream",
     "text": [
      "527/845 - Cập nhật thể loại: Gia đình, Khoa học - Viễn tưởng\n",
      "527/845 - Cập nhật ảnh: https://homepage.momocdn.net/cinema/momo-cdn-api-220615143124-637909002845945454.jpg\n"
     ]
    },
    {
     "name": "stderr",
     "output_type": "stream",
     "text": [
      "C:\\Users\\ADMIN\\AppData\\Local\\Temp\\ipykernel_7724\\373337600.py:22: FutureWarning: Series.__getitem__ treating keys as positions is deprecated. In a future version, integer keys will always be treated as labels (consistent with DataFrame behavior). To access a value by position, use `ser.iloc[pos]`\n",
      "  link = row[1]  # Cột 1 chứa link review\n"
     ]
    },
    {
     "name": "stdout",
     "output_type": "stream",
     "text": [
      "528/845 - Cập nhật thể loại: Ma, Tâm lý, Kinh dị\n",
      "528/845 - Cập nhật ảnh: https://homepage.momocdn.net/cinema/momo-cdn-api-220615142958-637909001985686907.jpg\n"
     ]
    },
    {
     "name": "stderr",
     "output_type": "stream",
     "text": [
      "C:\\Users\\ADMIN\\AppData\\Local\\Temp\\ipykernel_7724\\373337600.py:22: FutureWarning: Series.__getitem__ treating keys as positions is deprecated. In a future version, integer keys will always be treated as labels (consistent with DataFrame behavior). To access a value by position, use `ser.iloc[pos]`\n",
      "  link = row[1]  # Cột 1 chứa link review\n"
     ]
    },
    {
     "name": "stdout",
     "output_type": "stream",
     "text": [
      "529/845 - Cập nhật thể loại: Gia đình, Phiêu lưu, Khoa học - Viễn tưởng, Hành động, Hoạt hình\n",
      "529/845 - Cập nhật ảnh: https://homepage.momocdn.net/cinema/momo-cdn-api-220615142624-637908999846339065.jpg\n"
     ]
    },
    {
     "name": "stderr",
     "output_type": "stream",
     "text": [
      "C:\\Users\\ADMIN\\AppData\\Local\\Temp\\ipykernel_7724\\373337600.py:22: FutureWarning: Series.__getitem__ treating keys as positions is deprecated. In a future version, integer keys will always be treated as labels (consistent with DataFrame behavior). To access a value by position, use `ser.iloc[pos]`\n",
      "  link = row[1]  # Cột 1 chứa link review\n"
     ]
    },
    {
     "name": "stdout",
     "output_type": "stream",
     "text": [
      "530/845 - Cập nhật thể loại: Gay cấn\n",
      "530/845 - Cập nhật ảnh: https://cinema.momocdn.net/img/59078077504632937-e86BQFrxPtDZwv4CfzfJJFufUAm.jpg\n"
     ]
    },
    {
     "name": "stderr",
     "output_type": "stream",
     "text": [
      "C:\\Users\\ADMIN\\AppData\\Local\\Temp\\ipykernel_7724\\373337600.py:22: FutureWarning: Series.__getitem__ treating keys as positions is deprecated. In a future version, integer keys will always be treated as labels (consistent with DataFrame behavior). To access a value by position, use `ser.iloc[pos]`\n",
      "  link = row[1]  # Cột 1 chứa link review\n"
     ]
    },
    {
     "name": "stdout",
     "output_type": "stream",
     "text": [
      "531/845 - Cập nhật thể loại: Tội phạm, Tâm lý, Hồi Hộp\n",
      "531/845 - Cập nhật ảnh: https://cinema.momocdn.net/img/76733074577462347-hO7KbdvGOtDdeg0W4Y5nKEHeDDh.jpg\n"
     ]
    },
    {
     "name": "stderr",
     "output_type": "stream",
     "text": [
      "C:\\Users\\ADMIN\\AppData\\Local\\Temp\\ipykernel_7724\\373337600.py:22: FutureWarning: Series.__getitem__ treating keys as positions is deprecated. In a future version, integer keys will always be treated as labels (consistent with DataFrame behavior). To access a value by position, use `ser.iloc[pos]`\n",
      "  link = row[1]  # Cột 1 chứa link review\n"
     ]
    },
    {
     "name": "stdout",
     "output_type": "stream",
     "text": [
      "532/845 - Cập nhật thể loại: Hài, Lãng mạn, Hoạt hình\n",
      "532/845 - Cập nhật ảnh: https://cinema.momocdn.net/img/57932288119570728-jUIT2wLol4NGLevmNBi3O7h8cMH.jpg\n"
     ]
    },
    {
     "name": "stderr",
     "output_type": "stream",
     "text": [
      "C:\\Users\\ADMIN\\AppData\\Local\\Temp\\ipykernel_7724\\373337600.py:22: FutureWarning: Series.__getitem__ treating keys as positions is deprecated. In a future version, integer keys will always be treated as labels (consistent with DataFrame behavior). To access a value by position, use `ser.iloc[pos]`\n",
      "  link = row[1]  # Cột 1 chứa link review\n"
     ]
    },
    {
     "name": "stdout",
     "output_type": "stream",
     "text": [
      "533/845 - Cập nhật thể loại: Gay cấn, Hình sự, Lãng mạn\n",
      "533/845 - Cập nhật ảnh: https://cinema.momocdn.net/img/36010485584237458-a8TSJvPcllhn7Tmba7mL6LaDRrx.jpg\n"
     ]
    },
    {
     "name": "stderr",
     "output_type": "stream",
     "text": [
      "C:\\Users\\ADMIN\\AppData\\Local\\Temp\\ipykernel_7724\\373337600.py:22: FutureWarning: Series.__getitem__ treating keys as positions is deprecated. In a future version, integer keys will always be treated as labels (consistent with DataFrame behavior). To access a value by position, use `ser.iloc[pos]`\n",
      "  link = row[1]  # Cột 1 chứa link review\n"
     ]
    },
    {
     "name": "stdout",
     "output_type": "stream",
     "text": [
      "534/845 - Cập nhật thể loại: Chính kịch, Âm Nhạc, Lãng mạn\n",
      "534/845 - Cập nhật ảnh: https://cinema.momocdn.net/img/51006883987150710-2A2Ckh2RqPhu4KSexCga0ARqJxO.jpg\n"
     ]
    },
    {
     "name": "stderr",
     "output_type": "stream",
     "text": [
      "C:\\Users\\ADMIN\\AppData\\Local\\Temp\\ipykernel_7724\\373337600.py:22: FutureWarning: Series.__getitem__ treating keys as positions is deprecated. In a future version, integer keys will always be treated as labels (consistent with DataFrame behavior). To access a value by position, use `ser.iloc[pos]`\n",
      "  link = row[1]  # Cột 1 chứa link review\n"
     ]
    },
    {
     "name": "stdout",
     "output_type": "stream",
     "text": [
      "535/845 - Cập nhật thể loại: Phiêu lưu, Khoa học - Viễn tưởng, Hoạt hình\n",
      "535/845 - Cập nhật ảnh: https://cinema.momocdn.net/img/30970612719530940-1HHp75V06ymY19lRqU7EPRv55Jt.jpg\n"
     ]
    },
    {
     "name": "stderr",
     "output_type": "stream",
     "text": [
      "C:\\Users\\ADMIN\\AppData\\Local\\Temp\\ipykernel_7724\\373337600.py:22: FutureWarning: Series.__getitem__ treating keys as positions is deprecated. In a future version, integer keys will always be treated as labels (consistent with DataFrame behavior). To access a value by position, use `ser.iloc[pos]`\n",
      "  link = row[1]  # Cột 1 chứa link review\n"
     ]
    },
    {
     "name": "stdout",
     "output_type": "stream",
     "text": [
      "536/845 - Cập nhật thể loại: Phiêu lưu, Khoa học - Viễn tưởng, Hài, Hành động, Hoạt hình\n",
      "536/845 - Cập nhật ảnh: https://cinema.momocdn.net/img/77874119321349879-9d7ZEb8poSHV6SQ9LqMtlSgF1Bx.jpg\n"
     ]
    },
    {
     "name": "stderr",
     "output_type": "stream",
     "text": [
      "C:\\Users\\ADMIN\\AppData\\Local\\Temp\\ipykernel_7724\\373337600.py:22: FutureWarning: Series.__getitem__ treating keys as positions is deprecated. In a future version, integer keys will always be treated as labels (consistent with DataFrame behavior). To access a value by position, use `ser.iloc[pos]`\n",
      "  link = row[1]  # Cột 1 chứa link review\n"
     ]
    },
    {
     "name": "stdout",
     "output_type": "stream",
     "text": [
      "537/845 - Cập nhật thể loại: Hài, Lãng mạn, Hoạt hình\n",
      "537/845 - Cập nhật ảnh: https://cinema.momocdn.net/img/112502091951604951-maxresdefault%20(1\n"
     ]
    },
    {
     "name": "stderr",
     "output_type": "stream",
     "text": [
      "C:\\Users\\ADMIN\\AppData\\Local\\Temp\\ipykernel_7724\\373337600.py:22: FutureWarning: Series.__getitem__ treating keys as positions is deprecated. In a future version, integer keys will always be treated as labels (consistent with DataFrame behavior). To access a value by position, use `ser.iloc[pos]`\n",
      "  link = row[1]  # Cột 1 chứa link review\n"
     ]
    },
    {
     "name": "stdout",
     "output_type": "stream",
     "text": [
      "538/845 - Cập nhật thể loại: Chính kịch, Gay cấn, Kinh dị\n",
      "538/845 - Cập nhật ảnh: https://cinema.momocdn.net/img/34430179961050706-maxresdefault%20(1\n"
     ]
    },
    {
     "name": "stderr",
     "output_type": "stream",
     "text": [
      "C:\\Users\\ADMIN\\AppData\\Local\\Temp\\ipykernel_7724\\373337600.py:22: FutureWarning: Series.__getitem__ treating keys as positions is deprecated. In a future version, integer keys will always be treated as labels (consistent with DataFrame behavior). To access a value by position, use `ser.iloc[pos]`\n",
      "  link = row[1]  # Cột 1 chứa link review\n"
     ]
    },
    {
     "name": "stdout",
     "output_type": "stream",
     "text": [
      "539/845 - Cập nhật thể loại: Gay cấn, Hình sự\n",
      "539/845 - Cập nhật ảnh: https://cinema.momocdn.net/img/90473006431218443-p6YKmSgBU54L3MPeyXCS0mC0nM1.jpg\n"
     ]
    },
    {
     "name": "stderr",
     "output_type": "stream",
     "text": [
      "C:\\Users\\ADMIN\\AppData\\Local\\Temp\\ipykernel_7724\\373337600.py:22: FutureWarning: Series.__getitem__ treating keys as positions is deprecated. In a future version, integer keys will always be treated as labels (consistent with DataFrame behavior). To access a value by position, use `ser.iloc[pos]`\n",
      "  link = row[1]  # Cột 1 chứa link review\n"
     ]
    },
    {
     "name": "stdout",
     "output_type": "stream",
     "text": [
      "540/845 - Cập nhật thể loại: Ma, Kinh dị\n",
      "540/845 - Cập nhật ảnh: https://homepage.momocdn.net/cinema/momo-cdn-api-220615143105-637909002657567528.jpg\n"
     ]
    },
    {
     "name": "stderr",
     "output_type": "stream",
     "text": [
      "C:\\Users\\ADMIN\\AppData\\Local\\Temp\\ipykernel_7724\\373337600.py:22: FutureWarning: Series.__getitem__ treating keys as positions is deprecated. In a future version, integer keys will always be treated as labels (consistent with DataFrame behavior). To access a value by position, use `ser.iloc[pos]`\n",
      "  link = row[1]  # Cột 1 chứa link review\n"
     ]
    },
    {
     "name": "stdout",
     "output_type": "stream",
     "text": [
      "541/845 - Cập nhật thể loại: Gay cấn, Kinh dị, Khoa học - Viễn tưởng, Hành động\n",
      "541/845 - Cập nhật ảnh: https://homepage.momocdn.net/cinema/momo-cdn-api-220615142739-637909000593120368.jpg\n"
     ]
    },
    {
     "name": "stderr",
     "output_type": "stream",
     "text": [
      "C:\\Users\\ADMIN\\AppData\\Local\\Temp\\ipykernel_7724\\373337600.py:22: FutureWarning: Series.__getitem__ treating keys as positions is deprecated. In a future version, integer keys will always be treated as labels (consistent with DataFrame behavior). To access a value by position, use `ser.iloc[pos]`\n",
      "  link = row[1]  # Cột 1 chứa link review\n"
     ]
    },
    {
     "name": "stdout",
     "output_type": "stream",
     "text": [
      "542/845 - Cập nhật thể loại: Gay cấn, Ma, Kinh dị\n",
      "542/845 - Cập nhật ảnh: https://homepage.momocdn.net/cinema/momo-cdn-api-220615142650-637909000100192361.jpg\n"
     ]
    },
    {
     "name": "stderr",
     "output_type": "stream",
     "text": [
      "C:\\Users\\ADMIN\\AppData\\Local\\Temp\\ipykernel_7724\\373337600.py:22: FutureWarning: Series.__getitem__ treating keys as positions is deprecated. In a future version, integer keys will always be treated as labels (consistent with DataFrame behavior). To access a value by position, use `ser.iloc[pos]`\n",
      "  link = row[1]  # Cột 1 chứa link review\n"
     ]
    },
    {
     "name": "stdout",
     "output_type": "stream",
     "text": [
      "543/845 - Cập nhật thể loại: Gia đình, Phiêu lưu, Hài, Hoạt hình\n",
      "543/845 - Cập nhật ảnh: https://cinema.momocdn.net/img/76653558332434397-u24qadYPInLoBf3Un8D0OsXNSLc.jpg\n"
     ]
    },
    {
     "name": "stderr",
     "output_type": "stream",
     "text": [
      "C:\\Users\\ADMIN\\AppData\\Local\\Temp\\ipykernel_7724\\373337600.py:22: FutureWarning: Series.__getitem__ treating keys as positions is deprecated. In a future version, integer keys will always be treated as labels (consistent with DataFrame behavior). To access a value by position, use `ser.iloc[pos]`\n",
      "  link = row[1]  # Cột 1 chứa link review\n"
     ]
    },
    {
     "name": "stdout",
     "output_type": "stream",
     "text": [
      "544/845 - Cập nhật thể loại: Chính kịch, Phiêu lưu\n",
      "544/845 - Cập nhật ảnh: https://cinema.momocdn.net/img/58032472200945589-jw4SNkaSgbrO7VJPsZUZqbBg1Ph.jpg\n"
     ]
    },
    {
     "name": "stderr",
     "output_type": "stream",
     "text": [
      "C:\\Users\\ADMIN\\AppData\\Local\\Temp\\ipykernel_7724\\373337600.py:22: FutureWarning: Series.__getitem__ treating keys as positions is deprecated. In a future version, integer keys will always be treated as labels (consistent with DataFrame behavior). To access a value by position, use `ser.iloc[pos]`\n",
      "  link = row[1]  # Cột 1 chứa link review\n"
     ]
    },
    {
     "name": "stdout",
     "output_type": "stream",
     "text": [
      "545/845 - Cập nhật thể loại: Bí ẩn, Kinh dị\n",
      "545/845 - Cập nhật ảnh: https://cinema.momocdn.net/img/15076117776554962-w7TfLkYtmnA6EuSQKmGRSoa7i4I.jpg\n"
     ]
    },
    {
     "name": "stderr",
     "output_type": "stream",
     "text": [
      "C:\\Users\\ADMIN\\AppData\\Local\\Temp\\ipykernel_7724\\373337600.py:22: FutureWarning: Series.__getitem__ treating keys as positions is deprecated. In a future version, integer keys will always be treated as labels (consistent with DataFrame behavior). To access a value by position, use `ser.iloc[pos]`\n",
      "  link = row[1]  # Cột 1 chứa link review\n"
     ]
    },
    {
     "name": "stdout",
     "output_type": "stream",
     "text": [
      "546/845 - Cập nhật thể loại: Hài, Hành động, Lãng mạn\n",
      "546/845 - Cập nhật ảnh: https://homepage.momocdn.net/cinema/momo-cdn-api-220615143042-637909002422275408.jpg\n"
     ]
    },
    {
     "name": "stderr",
     "output_type": "stream",
     "text": [
      "C:\\Users\\ADMIN\\AppData\\Local\\Temp\\ipykernel_7724\\373337600.py:22: FutureWarning: Series.__getitem__ treating keys as positions is deprecated. In a future version, integer keys will always be treated as labels (consistent with DataFrame behavior). To access a value by position, use `ser.iloc[pos]`\n",
      "  link = row[1]  # Cột 1 chứa link review\n"
     ]
    },
    {
     "name": "stdout",
     "output_type": "stream",
     "text": [
      "547/845 - Cập nhật thể loại: Gay cấn, Kinh dị\n",
      "547/845 - Cập nhật ảnh: https://homepage.momocdn.net/cinema/momo-cdn-api-220615142517-637908999176653470.jpg\n"
     ]
    },
    {
     "name": "stderr",
     "output_type": "stream",
     "text": [
      "C:\\Users\\ADMIN\\AppData\\Local\\Temp\\ipykernel_7724\\373337600.py:22: FutureWarning: Series.__getitem__ treating keys as positions is deprecated. In a future version, integer keys will always be treated as labels (consistent with DataFrame behavior). To access a value by position, use `ser.iloc[pos]`\n",
      "  link = row[1]  # Cột 1 chứa link review\n"
     ]
    },
    {
     "name": "stdout",
     "output_type": "stream",
     "text": [
      "548/845 - Cập nhật thể loại: Hài, Hành động, Lãng mạn\n",
      "548/845 - Cập nhật ảnh: https://homepage.momocdn.net/cinema/momo-cdn-api-220615142613-637908999730188431.jpg\n"
     ]
    },
    {
     "name": "stderr",
     "output_type": "stream",
     "text": [
      "C:\\Users\\ADMIN\\AppData\\Local\\Temp\\ipykernel_7724\\373337600.py:22: FutureWarning: Series.__getitem__ treating keys as positions is deprecated. In a future version, integer keys will always be treated as labels (consistent with DataFrame behavior). To access a value by position, use `ser.iloc[pos]`\n",
      "  link = row[1]  # Cột 1 chứa link review\n"
     ]
    },
    {
     "name": "stdout",
     "output_type": "stream",
     "text": [
      "549/845 - Cập nhật thể loại: Chính kịch, Thể thao\n",
      "549/845 - Cập nhật ảnh: https://cinema.momocdn.net/img/22957252156847111-qcrActjV3aZl79xfbZ8Wxnqy9eC.jpg\n"
     ]
    },
    {
     "name": "stderr",
     "output_type": "stream",
     "text": [
      "C:\\Users\\ADMIN\\AppData\\Local\\Temp\\ipykernel_7724\\373337600.py:22: FutureWarning: Series.__getitem__ treating keys as positions is deprecated. In a future version, integer keys will always be treated as labels (consistent with DataFrame behavior). To access a value by position, use `ser.iloc[pos]`\n",
      "  link = row[1]  # Cột 1 chứa link review\n"
     ]
    },
    {
     "name": "stdout",
     "output_type": "stream",
     "text": [
      "550/845 - Cập nhật thể loại: Chính kịch, Hoạt hình\n",
      "550/845 - Cập nhật ảnh: https://cinema.momocdn.net/img/21744599012848101-uHyg0pGMC6Ut0gJWfvVpPtKxHm9.jpg\n"
     ]
    },
    {
     "name": "stderr",
     "output_type": "stream",
     "text": [
      "C:\\Users\\ADMIN\\AppData\\Local\\Temp\\ipykernel_7724\\373337600.py:22: FutureWarning: Series.__getitem__ treating keys as positions is deprecated. In a future version, integer keys will always be treated as labels (consistent with DataFrame behavior). To access a value by position, use `ser.iloc[pos]`\n",
      "  link = row[1]  # Cột 1 chứa link review\n"
     ]
    },
    {
     "name": "stdout",
     "output_type": "stream",
     "text": [
      "551/845 - Cập nhật thể loại: Kinh dị\n",
      "551/845 - Cập nhật ảnh: https://homepage.momocdn.net/cinema/momo-cdn-api-220615142353-637908998332156183.jpg\n"
     ]
    },
    {
     "name": "stderr",
     "output_type": "stream",
     "text": [
      "C:\\Users\\ADMIN\\AppData\\Local\\Temp\\ipykernel_7724\\373337600.py:22: FutureWarning: Series.__getitem__ treating keys as positions is deprecated. In a future version, integer keys will always be treated as labels (consistent with DataFrame behavior). To access a value by position, use `ser.iloc[pos]`\n",
      "  link = row[1]  # Cột 1 chứa link review\n"
     ]
    },
    {
     "name": "stdout",
     "output_type": "stream",
     "text": [
      "552/845 - Cập nhật thể loại: Gia đình, Phiêu lưu, Hoạt hình\n",
      "552/845 - Cập nhật ảnh: https://image.tmdb.org/t/p/w780/oH7YAvRgeC5xeMgXSnQBfIllb7X.jpg\n"
     ]
    },
    {
     "name": "stderr",
     "output_type": "stream",
     "text": [
      "C:\\Users\\ADMIN\\AppData\\Local\\Temp\\ipykernel_7724\\373337600.py:22: FutureWarning: Series.__getitem__ treating keys as positions is deprecated. In a future version, integer keys will always be treated as labels (consistent with DataFrame behavior). To access a value by position, use `ser.iloc[pos]`\n",
      "  link = row[1]  # Cột 1 chứa link review\n"
     ]
    },
    {
     "name": "stdout",
     "output_type": "stream",
     "text": [
      "553/845 - Cập nhật thể loại: \n",
      "553/845 - Cập nhật ảnh: https://cinema.momocdn.net/img/51225362080653691-Bo-Phim-Bi-An.jpg\n"
     ]
    },
    {
     "name": "stderr",
     "output_type": "stream",
     "text": [
      "C:\\Users\\ADMIN\\AppData\\Local\\Temp\\ipykernel_7724\\373337600.py:22: FutureWarning: Series.__getitem__ treating keys as positions is deprecated. In a future version, integer keys will always be treated as labels (consistent with DataFrame behavior). To access a value by position, use `ser.iloc[pos]`\n",
      "  link = row[1]  # Cột 1 chứa link review\n"
     ]
    },
    {
     "name": "stdout",
     "output_type": "stream",
     "text": [
      "554/845 - Cập nhật thể loại: Gay cấn, Kinh dị\n",
      "554/845 - Cập nhật ảnh: https://cinema.momocdn.net/img/63218399188644439-63LZxcDtEsvJQUG9vQfzwDQ1Kxh.jpg\n"
     ]
    },
    {
     "name": "stderr",
     "output_type": "stream",
     "text": [
      "C:\\Users\\ADMIN\\AppData\\Local\\Temp\\ipykernel_7724\\373337600.py:22: FutureWarning: Series.__getitem__ treating keys as positions is deprecated. In a future version, integer keys will always be treated as labels (consistent with DataFrame behavior). To access a value by position, use `ser.iloc[pos]`\n",
      "  link = row[1]  # Cột 1 chứa link review\n"
     ]
    },
    {
     "name": "stdout",
     "output_type": "stream",
     "text": [
      "555/845 - Cập nhật thể loại: Phiêu lưu, Khoa học - Viễn tưởng, Hành động\n",
      "555/845 - Cập nhật ảnh: https://cinema.momocdn.net/img/59077395942686985-cO7Mhi8GmtVH4pgZMMqSumOLrC4.jpg\n"
     ]
    },
    {
     "name": "stderr",
     "output_type": "stream",
     "text": [
      "C:\\Users\\ADMIN\\AppData\\Local\\Temp\\ipykernel_7724\\373337600.py:22: FutureWarning: Series.__getitem__ treating keys as positions is deprecated. In a future version, integer keys will always be treated as labels (consistent with DataFrame behavior). To access a value by position, use `ser.iloc[pos]`\n",
      "  link = row[1]  # Cột 1 chứa link review\n"
     ]
    },
    {
     "name": "stdout",
     "output_type": "stream",
     "text": [
      "556/845 - Cập nhật thể loại: Kinh dị\n",
      "556/845 - Cập nhật ảnh: https://cinema.momocdn.net/img/37454759921285300-hs-750_1711611723627.jpg\n"
     ]
    },
    {
     "name": "stderr",
     "output_type": "stream",
     "text": [
      "C:\\Users\\ADMIN\\AppData\\Local\\Temp\\ipykernel_7724\\373337600.py:22: FutureWarning: Series.__getitem__ treating keys as positions is deprecated. In a future version, integer keys will always be treated as labels (consistent with DataFrame behavior). To access a value by position, use `ser.iloc[pos]`\n",
      "  link = row[1]  # Cột 1 chứa link review\n"
     ]
    },
    {
     "name": "stdout",
     "output_type": "stream",
     "text": [
      "557/845 - Cập nhật thể loại: Gia đình, Khoa học - Viễn tưởng, Hoạt hình\n",
      "557/845 - Cập nhật ảnh: https://cinema.momocdn.net/img/cc2ffde3-6404-401a-8143-48f5b9224bbe-67606566478082014.jpg\n"
     ]
    },
    {
     "name": "stderr",
     "output_type": "stream",
     "text": [
      "C:\\Users\\ADMIN\\AppData\\Local\\Temp\\ipykernel_7724\\373337600.py:22: FutureWarning: Series.__getitem__ treating keys as positions is deprecated. In a future version, integer keys will always be treated as labels (consistent with DataFrame behavior). To access a value by position, use `ser.iloc[pos]`\n",
      "  link = row[1]  # Cột 1 chứa link review\n"
     ]
    },
    {
     "name": "stdout",
     "output_type": "stream",
     "text": [
      "558/845 - Cập nhật thể loại: Gia đình, Phiêu lưu, Khoa học - Viễn tưởng, Hoạt hình\n",
      "558/845 - Cập nhật ảnh: https://cinema.momocdn.net/img/2891502191910288-5osplMfdotS9lGOSLPx3Zj8NuMi.jpg\n"
     ]
    },
    {
     "name": "stderr",
     "output_type": "stream",
     "text": [
      "C:\\Users\\ADMIN\\AppData\\Local\\Temp\\ipykernel_7724\\373337600.py:22: FutureWarning: Series.__getitem__ treating keys as positions is deprecated. In a future version, integer keys will always be treated as labels (consistent with DataFrame behavior). To access a value by position, use `ser.iloc[pos]`\n",
      "  link = row[1]  # Cột 1 chứa link review\n"
     ]
    },
    {
     "name": "stdout",
     "output_type": "stream",
     "text": [
      "559/845 - Cập nhật thể loại: Khoa học - Viễn tưởng, Lãng mạn, Hoạt hình\n",
      "559/845 - Cập nhật ảnh: https://cinema.momocdn.net/img/1005785784522013-pQvdcLJjBO9vSltu0U1rghv0xfe.jpg\n"
     ]
    },
    {
     "name": "stderr",
     "output_type": "stream",
     "text": [
      "C:\\Users\\ADMIN\\AppData\\Local\\Temp\\ipykernel_7724\\373337600.py:22: FutureWarning: Series.__getitem__ treating keys as positions is deprecated. In a future version, integer keys will always be treated as labels (consistent with DataFrame behavior). To access a value by position, use `ser.iloc[pos]`\n",
      "  link = row[1]  # Cột 1 chứa link review\n"
     ]
    },
    {
     "name": "stdout",
     "output_type": "stream",
     "text": [
      "560/845 - Cập nhật thể loại: Hài\n",
      "560/845 - Cập nhật ảnh: https://cinema.momocdn.net/img/87110922750389131-ljQ71Tn4N083lnKtmeQFpRkscbf.jpg\n"
     ]
    },
    {
     "name": "stderr",
     "output_type": "stream",
     "text": [
      "C:\\Users\\ADMIN\\AppData\\Local\\Temp\\ipykernel_7724\\373337600.py:22: FutureWarning: Series.__getitem__ treating keys as positions is deprecated. In a future version, integer keys will always be treated as labels (consistent with DataFrame behavior). To access a value by position, use `ser.iloc[pos]`\n",
      "  link = row[1]  # Cột 1 chứa link review\n"
     ]
    },
    {
     "name": "stdout",
     "output_type": "stream",
     "text": [
      "561/845 - Cập nhật thể loại: Âm Nhạc, Tài liệu\n",
      "561/845 - Cập nhật ảnh: https://homepage.momocdn.net/cinema/momo-cdn-api-220615135713-637908982333975306.png\n"
     ]
    },
    {
     "name": "stderr",
     "output_type": "stream",
     "text": [
      "C:\\Users\\ADMIN\\AppData\\Local\\Temp\\ipykernel_7724\\373337600.py:22: FutureWarning: Series.__getitem__ treating keys as positions is deprecated. In a future version, integer keys will always be treated as labels (consistent with DataFrame behavior). To access a value by position, use `ser.iloc[pos]`\n",
      "  link = row[1]  # Cột 1 chứa link review\n"
     ]
    },
    {
     "name": "stdout",
     "output_type": "stream",
     "text": [
      "562/845 - Cập nhật thể loại: Gay cấn, Ma, Kinh dị, Hài\n",
      "562/845 - Cập nhật ảnh: https://cinema.momocdn.net/img/77875816340677432-dXtuggcZJmKMlJ7B2KltQg47lG9.jpg\n"
     ]
    },
    {
     "name": "stderr",
     "output_type": "stream",
     "text": [
      "C:\\Users\\ADMIN\\AppData\\Local\\Temp\\ipykernel_7724\\373337600.py:22: FutureWarning: Series.__getitem__ treating keys as positions is deprecated. In a future version, integer keys will always be treated as labels (consistent with DataFrame behavior). To access a value by position, use `ser.iloc[pos]`\n",
      "  link = row[1]  # Cột 1 chứa link review\n"
     ]
    },
    {
     "name": "stdout",
     "output_type": "stream",
     "text": [
      "563/845 - Cập nhật thể loại: Gay cấn, Bí ẩn, Tâm lý\n",
      "563/845 - Cập nhật ảnh: https://cinema.momocdn.net/img/1515727e-2d21-4454-a413-f248ec5241f0-4263120171037621.png\n"
     ]
    },
    {
     "name": "stderr",
     "output_type": "stream",
     "text": [
      "C:\\Users\\ADMIN\\AppData\\Local\\Temp\\ipykernel_7724\\373337600.py:22: FutureWarning: Series.__getitem__ treating keys as positions is deprecated. In a future version, integer keys will always be treated as labels (consistent with DataFrame behavior). To access a value by position, use `ser.iloc[pos]`\n",
      "  link = row[1]  # Cột 1 chứa link review\n"
     ]
    },
    {
     "name": "stdout",
     "output_type": "stream",
     "text": [
      "564/845 - Cập nhật thể loại: Khoa học - Viễn tưởng, Hành động\n",
      "564/845 - Cập nhật ảnh: https://homepage.momocdn.net/cinema/momo-cdn-api-220615142702-637909000227859644.jpg\n"
     ]
    },
    {
     "name": "stderr",
     "output_type": "stream",
     "text": [
      "C:\\Users\\ADMIN\\AppData\\Local\\Temp\\ipykernel_7724\\373337600.py:22: FutureWarning: Series.__getitem__ treating keys as positions is deprecated. In a future version, integer keys will always be treated as labels (consistent with DataFrame behavior). To access a value by position, use `ser.iloc[pos]`\n",
      "  link = row[1]  # Cột 1 chứa link review\n"
     ]
    },
    {
     "name": "stdout",
     "output_type": "stream",
     "text": [
      "565/845 - Cập nhật thể loại: Gay cấn, Kinh dị\n",
      "565/845 - Cập nhật ảnh: https://cinema.momocdn.net/img/6705285569950689-8koF5lkt1wImZTUH1CkPgmHLtZF.jpg\n"
     ]
    },
    {
     "name": "stderr",
     "output_type": "stream",
     "text": [
      "C:\\Users\\ADMIN\\AppData\\Local\\Temp\\ipykernel_7724\\373337600.py:22: FutureWarning: Series.__getitem__ treating keys as positions is deprecated. In a future version, integer keys will always be treated as labels (consistent with DataFrame behavior). To access a value by position, use `ser.iloc[pos]`\n",
      "  link = row[1]  # Cột 1 chứa link review\n"
     ]
    },
    {
     "name": "stdout",
     "output_type": "stream",
     "text": [
      "566/845 - Cập nhật thể loại: Chính kịch, Hài, Lãng mạn\n",
      "566/845 - Cập nhật ảnh: https://cinema.momocdn.net/img/3433271914470878-buRI0PF6uwsj4x6zfpymgKLGUyT.jpg\n"
     ]
    },
    {
     "name": "stderr",
     "output_type": "stream",
     "text": [
      "C:\\Users\\ADMIN\\AppData\\Local\\Temp\\ipykernel_7724\\373337600.py:22: FutureWarning: Series.__getitem__ treating keys as positions is deprecated. In a future version, integer keys will always be treated as labels (consistent with DataFrame behavior). To access a value by position, use `ser.iloc[pos]`\n",
      "  link = row[1]  # Cột 1 chứa link review\n"
     ]
    },
    {
     "name": "stdout",
     "output_type": "stream",
     "text": [
      "567/845 - Cập nhật thể loại: Gay cấn, Kinh dị\n",
      "567/845 - Cập nhật ảnh: https://cinema.momocdn.net/img/86862372074062155-57febe0a-930a-40da-9bdf-a23aa25b25dd.jpg\n"
     ]
    },
    {
     "name": "stderr",
     "output_type": "stream",
     "text": [
      "C:\\Users\\ADMIN\\AppData\\Local\\Temp\\ipykernel_7724\\373337600.py:22: FutureWarning: Series.__getitem__ treating keys as positions is deprecated. In a future version, integer keys will always be treated as labels (consistent with DataFrame behavior). To access a value by position, use `ser.iloc[pos]`\n",
      "  link = row[1]  # Cột 1 chứa link review\n"
     ]
    },
    {
     "name": "stdout",
     "output_type": "stream",
     "text": [
      "568/845 - Cập nhật thể loại: Chính kịch, Hài, Lãng mạn\n",
      "568/845 - Cập nhật ảnh: https://image.tmdb.org/t/p/w780/z0L9XMfZxRcsirTCVTp8bV3ufzG.jpg\n"
     ]
    },
    {
     "name": "stderr",
     "output_type": "stream",
     "text": [
      "C:\\Users\\ADMIN\\AppData\\Local\\Temp\\ipykernel_7724\\373337600.py:22: FutureWarning: Series.__getitem__ treating keys as positions is deprecated. In a future version, integer keys will always be treated as labels (consistent with DataFrame behavior). To access a value by position, use `ser.iloc[pos]`\n",
      "  link = row[1]  # Cột 1 chứa link review\n"
     ]
    },
    {
     "name": "stdout",
     "output_type": "stream",
     "text": [
      "569/845 - Cập nhật thể loại: Hoạt hình\n",
      "569/845 - Cập nhật ảnh: https://image.tmdb.org/t/p/w780/9H4IqX5lNNwk4dsMmw5QCizM8vK.jpg\n"
     ]
    },
    {
     "name": "stderr",
     "output_type": "stream",
     "text": [
      "C:\\Users\\ADMIN\\AppData\\Local\\Temp\\ipykernel_7724\\373337600.py:22: FutureWarning: Series.__getitem__ treating keys as positions is deprecated. In a future version, integer keys will always be treated as labels (consistent with DataFrame behavior). To access a value by position, use `ser.iloc[pos]`\n",
      "  link = row[1]  # Cột 1 chứa link review\n"
     ]
    },
    {
     "name": "stdout",
     "output_type": "stream",
     "text": [
      "570/845 - Cập nhật thể loại: Chính kịch, Gia đình, Chiến tranh, Lịch sử\n",
      "570/845 - Cập nhật ảnh: https://cinema.momocdn.net/img/56598482013054050-jkiqPH80Lo9gFXDDxViklqaHU8O.jpg\n"
     ]
    },
    {
     "name": "stderr",
     "output_type": "stream",
     "text": [
      "C:\\Users\\ADMIN\\AppData\\Local\\Temp\\ipykernel_7724\\373337600.py:22: FutureWarning: Series.__getitem__ treating keys as positions is deprecated. In a future version, integer keys will always be treated as labels (consistent with DataFrame behavior). To access a value by position, use `ser.iloc[pos]`\n",
      "  link = row[1]  # Cột 1 chứa link review\n"
     ]
    },
    {
     "name": "stdout",
     "output_type": "stream",
     "text": [
      "571/845 - Cập nhật thể loại: Bí ẩn, Tội phạm, Tâm lý\n",
      "571/845 - Cập nhật ảnh: https://cinema.momocdn.net/img/76907087220243289-hVhV2r6X6IWs3y2NStClsUMWbdL.jpg\n"
     ]
    },
    {
     "name": "stderr",
     "output_type": "stream",
     "text": [
      "C:\\Users\\ADMIN\\AppData\\Local\\Temp\\ipykernel_7724\\373337600.py:22: FutureWarning: Series.__getitem__ treating keys as positions is deprecated. In a future version, integer keys will always be treated as labels (consistent with DataFrame behavior). To access a value by position, use `ser.iloc[pos]`\n",
      "  link = row[1]  # Cột 1 chứa link review\n"
     ]
    },
    {
     "name": "stdout",
     "output_type": "stream",
     "text": [
      "572/845 - Cập nhật thể loại: Kinh dị\n",
      "572/845 - Cập nhật ảnh: https://cinema.momocdn.net/img/58117020868574869-gjHE8SBMNXtxPiNv8ngIHzgxVO5.jpg\n"
     ]
    },
    {
     "name": "stderr",
     "output_type": "stream",
     "text": [
      "C:\\Users\\ADMIN\\AppData\\Local\\Temp\\ipykernel_7724\\373337600.py:22: FutureWarning: Series.__getitem__ treating keys as positions is deprecated. In a future version, integer keys will always be treated as labels (consistent with DataFrame behavior). To access a value by position, use `ser.iloc[pos]`\n",
      "  link = row[1]  # Cột 1 chứa link review\n"
     ]
    },
    {
     "name": "stdout",
     "output_type": "stream",
     "text": [
      "573/845 - Cập nhật thể loại: Ma, Kinh dị\n",
      "573/845 - Cập nhật ảnh: https://cinema.momocdn.net/img/23727899112515192-ftvjetaYfmqKyPLb8LqRTFqzPEe.jpg\n"
     ]
    },
    {
     "name": "stderr",
     "output_type": "stream",
     "text": [
      "C:\\Users\\ADMIN\\AppData\\Local\\Temp\\ipykernel_7724\\373337600.py:22: FutureWarning: Series.__getitem__ treating keys as positions is deprecated. In a future version, integer keys will always be treated as labels (consistent with DataFrame behavior). To access a value by position, use `ser.iloc[pos]`\n",
      "  link = row[1]  # Cột 1 chứa link review\n"
     ]
    },
    {
     "name": "stdout",
     "output_type": "stream",
     "text": [
      "574/845 - Cập nhật thể loại: Gay cấn, Kinh dị, Hành động\n",
      "574/845 - Cập nhật ảnh: https://cinema.momocdn.net/img/80291602324789443-8TUb2U9GN3PonbXAQ1FBcJ4XeXu.jpg\n"
     ]
    },
    {
     "name": "stderr",
     "output_type": "stream",
     "text": [
      "C:\\Users\\ADMIN\\AppData\\Local\\Temp\\ipykernel_7724\\373337600.py:22: FutureWarning: Series.__getitem__ treating keys as positions is deprecated. In a future version, integer keys will always be treated as labels (consistent with DataFrame behavior). To access a value by position, use `ser.iloc[pos]`\n",
      "  link = row[1]  # Cột 1 chứa link review\n"
     ]
    },
    {
     "name": "stdout",
     "output_type": "stream",
     "text": [
      "575/845 - Cập nhật thể loại: Chính kịch, Hình sự, Hành động\n",
      "575/845 - Cập nhật ảnh: https://cinema.momocdn.net/img/116726863014936080-yh8iIOLwLKaV1gl74F4u2KcYv5l.jpg\n"
     ]
    },
    {
     "name": "stderr",
     "output_type": "stream",
     "text": [
      "C:\\Users\\ADMIN\\AppData\\Local\\Temp\\ipykernel_7724\\373337600.py:22: FutureWarning: Series.__getitem__ treating keys as positions is deprecated. In a future version, integer keys will always be treated as labels (consistent with DataFrame behavior). To access a value by position, use `ser.iloc[pos]`\n",
      "  link = row[1]  # Cột 1 chứa link review\n"
     ]
    },
    {
     "name": "stdout",
     "output_type": "stream",
     "text": [
      "576/845 - Cập nhật thể loại: Chính kịch\n",
      "576/845 - Cập nhật ảnh: https://homepage.momocdn.net/cinema/momo-cdn-api-220615142344-637908998247761823.jpg\n"
     ]
    },
    {
     "name": "stderr",
     "output_type": "stream",
     "text": [
      "C:\\Users\\ADMIN\\AppData\\Local\\Temp\\ipykernel_7724\\373337600.py:22: FutureWarning: Series.__getitem__ treating keys as positions is deprecated. In a future version, integer keys will always be treated as labels (consistent with DataFrame behavior). To access a value by position, use `ser.iloc[pos]`\n",
      "  link = row[1]  # Cột 1 chứa link review\n"
     ]
    },
    {
     "name": "stdout",
     "output_type": "stream",
     "text": [
      "577/845 - Cập nhật thể loại: Chính kịch, Lãng mạn\n",
      "577/845 - Cập nhật ảnh: https://homepage.momocdn.net/cinema/momo-cdn-api-220615142428-637908998682831377.jpg\n"
     ]
    },
    {
     "name": "stderr",
     "output_type": "stream",
     "text": [
      "C:\\Users\\ADMIN\\AppData\\Local\\Temp\\ipykernel_7724\\373337600.py:22: FutureWarning: Series.__getitem__ treating keys as positions is deprecated. In a future version, integer keys will always be treated as labels (consistent with DataFrame behavior). To access a value by position, use `ser.iloc[pos]`\n",
      "  link = row[1]  # Cột 1 chứa link review\n"
     ]
    },
    {
     "name": "stdout",
     "output_type": "stream",
     "text": [
      "578/845 - Cập nhật thể loại: Gay cấn, Bí ẩn, Kinh dị\n",
      "578/845 - Cập nhật ảnh: https://cinema.momocdn.net/img/51332724032591226-kyVSY4kJcC7ThHE6hQFXxtyaLJv.jpg\n"
     ]
    },
    {
     "name": "stderr",
     "output_type": "stream",
     "text": [
      "C:\\Users\\ADMIN\\AppData\\Local\\Temp\\ipykernel_7724\\373337600.py:22: FutureWarning: Series.__getitem__ treating keys as positions is deprecated. In a future version, integer keys will always be treated as labels (consistent with DataFrame behavior). To access a value by position, use `ser.iloc[pos]`\n",
      "  link = row[1]  # Cột 1 chứa link review\n"
     ]
    },
    {
     "name": "stdout",
     "output_type": "stream",
     "text": [
      "579/845 - Cập nhật thể loại: Gay cấn, Bí ẩn, Hình sự\n",
      "579/845 - Cập nhật ảnh: https://cinema.momocdn.net/img/35216903969597673-4mmkQRZFy6KtNLpw55UYQ2iZ2N1.jpg\n"
     ]
    },
    {
     "name": "stderr",
     "output_type": "stream",
     "text": [
      "C:\\Users\\ADMIN\\AppData\\Local\\Temp\\ipykernel_7724\\373337600.py:22: FutureWarning: Series.__getitem__ treating keys as positions is deprecated. In a future version, integer keys will always be treated as labels (consistent with DataFrame behavior). To access a value by position, use `ser.iloc[pos]`\n",
      "  link = row[1]  # Cột 1 chứa link review\n"
     ]
    },
    {
     "name": "stdout",
     "output_type": "stream",
     "text": [
      "580/845 - Cập nhật thể loại: Kinh dị\n",
      "580/845 - Cập nhật ảnh: https://cinema.momocdn.net/img/27706075615060351-t4QVBXlgE9zuRoanEFZvufDIgF5.jpg\n"
     ]
    },
    {
     "name": "stderr",
     "output_type": "stream",
     "text": [
      "C:\\Users\\ADMIN\\AppData\\Local\\Temp\\ipykernel_7724\\373337600.py:22: FutureWarning: Series.__getitem__ treating keys as positions is deprecated. In a future version, integer keys will always be treated as labels (consistent with DataFrame behavior). To access a value by position, use `ser.iloc[pos]`\n",
      "  link = row[1]  # Cột 1 chứa link review\n"
     ]
    },
    {
     "name": "stdout",
     "output_type": "stream",
     "text": [
      "581/845 - Cập nhật thể loại: Ma, Kinh dị\n",
      "581/845 - Cập nhật ảnh: https://cinema.momocdn.net/img/1007191399195727-82dZuGDo2w5jpdmTCNLTMqmS0GI.jpg\n"
     ]
    },
    {
     "name": "stderr",
     "output_type": "stream",
     "text": [
      "C:\\Users\\ADMIN\\AppData\\Local\\Temp\\ipykernel_7724\\373337600.py:22: FutureWarning: Series.__getitem__ treating keys as positions is deprecated. In a future version, integer keys will always be treated as labels (consistent with DataFrame behavior). To access a value by position, use `ser.iloc[pos]`\n",
      "  link = row[1]  # Cột 1 chứa link review\n"
     ]
    },
    {
     "name": "stdout",
     "output_type": "stream",
     "text": [
      "582/845 - Cập nhật thể loại: Gay cấn, Hành động\n",
      "582/845 - Cập nhật ảnh: https://cinema.momocdn.net/img/88669123009186473-aRJjCgp4uVUkXhDw8NClesQXbt3.jpg\n"
     ]
    },
    {
     "name": "stderr",
     "output_type": "stream",
     "text": [
      "C:\\Users\\ADMIN\\AppData\\Local\\Temp\\ipykernel_7724\\373337600.py:22: FutureWarning: Series.__getitem__ treating keys as positions is deprecated. In a future version, integer keys will always be treated as labels (consistent with DataFrame behavior). To access a value by position, use `ser.iloc[pos]`\n",
      "  link = row[1]  # Cột 1 chứa link review\n"
     ]
    },
    {
     "name": "stdout",
     "output_type": "stream",
     "text": [
      "583/845 - Cập nhật thể loại: Gay cấn\n",
      "583/845 - Cập nhật ảnh: https://cinema.momocdn.net/img/80291823673279070-n4Iy2cE52WsTKeNtuSD7vgu2qwf.jpg\n"
     ]
    },
    {
     "name": "stderr",
     "output_type": "stream",
     "text": [
      "C:\\Users\\ADMIN\\AppData\\Local\\Temp\\ipykernel_7724\\373337600.py:22: FutureWarning: Series.__getitem__ treating keys as positions is deprecated. In a future version, integer keys will always be treated as labels (consistent with DataFrame behavior). To access a value by position, use `ser.iloc[pos]`\n",
      "  link = row[1]  # Cột 1 chứa link review\n"
     ]
    },
    {
     "name": "stdout",
     "output_type": "stream",
     "text": [
      "584/845 - Cập nhật thể loại: Tâm lý, Tình cảm, Lãng mạn\n",
      "584/845 - Cập nhật ảnh: https://homepage.momocdn.net/cinema/momo-cdn-api-220615143138-637909002987189170.jpg\n"
     ]
    },
    {
     "name": "stderr",
     "output_type": "stream",
     "text": [
      "C:\\Users\\ADMIN\\AppData\\Local\\Temp\\ipykernel_7724\\373337600.py:22: FutureWarning: Series.__getitem__ treating keys as positions is deprecated. In a future version, integer keys will always be treated as labels (consistent with DataFrame behavior). To access a value by position, use `ser.iloc[pos]`\n",
      "  link = row[1]  # Cột 1 chứa link review\n"
     ]
    },
    {
     "name": "stdout",
     "output_type": "stream",
     "text": [
      "585/845 - Cập nhật thể loại: Gay cấn, Bí ẩn, Tâm lý\n",
      "585/845 - Cập nhật ảnh: https://homepage.momocdn.net/cinema/momo-cdn-api-220615143023-637909002234044446.jpg\n"
     ]
    },
    {
     "name": "stderr",
     "output_type": "stream",
     "text": [
      "C:\\Users\\ADMIN\\AppData\\Local\\Temp\\ipykernel_7724\\373337600.py:22: FutureWarning: Series.__getitem__ treating keys as positions is deprecated. In a future version, integer keys will always be treated as labels (consistent with DataFrame behavior). To access a value by position, use `ser.iloc[pos]`\n",
      "  link = row[1]  # Cột 1 chứa link review\n"
     ]
    },
    {
     "name": "stdout",
     "output_type": "stream",
     "text": [
      "586/845 - Cập nhật thể loại: Hài, Hành động, Hoạt hình\n",
      "586/845 - Cập nhật ảnh: https://homepage.momocdn.net/cinema/momo-cdn-api-220615142850-637909001305600655.jpg\n"
     ]
    },
    {
     "name": "stderr",
     "output_type": "stream",
     "text": [
      "C:\\Users\\ADMIN\\AppData\\Local\\Temp\\ipykernel_7724\\373337600.py:22: FutureWarning: Series.__getitem__ treating keys as positions is deprecated. In a future version, integer keys will always be treated as labels (consistent with DataFrame behavior). To access a value by position, use `ser.iloc[pos]`\n",
      "  link = row[1]  # Cột 1 chứa link review\n"
     ]
    },
    {
     "name": "stdout",
     "output_type": "stream",
     "text": [
      "587/845 - Cập nhật thể loại: Phiêu lưu, Khoa học - Viễn tưởng, Hài, Hành động, Hoạt hình\n",
      "587/845 - Cập nhật ảnh: https://homepage.momocdn.net/cinema/momo-cdn-api-220615142804-637909000841040696.jpg\n"
     ]
    },
    {
     "name": "stderr",
     "output_type": "stream",
     "text": [
      "C:\\Users\\ADMIN\\AppData\\Local\\Temp\\ipykernel_7724\\373337600.py:22: FutureWarning: Series.__getitem__ treating keys as positions is deprecated. In a future version, integer keys will always be treated as labels (consistent with DataFrame behavior). To access a value by position, use `ser.iloc[pos]`\n",
      "  link = row[1]  # Cột 1 chứa link review\n"
     ]
    },
    {
     "name": "stdout",
     "output_type": "stream",
     "text": [
      "588/845 - Cập nhật thể loại: Tình cảm, Hài, Lãng mạn\n",
      "588/845 - Cập nhật ảnh: https://homepage.momocdn.net/cinema/momo-cdn-api-220615142737-637909000573797421.jpg\n"
     ]
    },
    {
     "name": "stderr",
     "output_type": "stream",
     "text": [
      "C:\\Users\\ADMIN\\AppData\\Local\\Temp\\ipykernel_7724\\373337600.py:22: FutureWarning: Series.__getitem__ treating keys as positions is deprecated. In a future version, integer keys will always be treated as labels (consistent with DataFrame behavior). To access a value by position, use `ser.iloc[pos]`\n",
      "  link = row[1]  # Cột 1 chứa link review\n"
     ]
    },
    {
     "name": "stdout",
     "output_type": "stream",
     "text": [
      "589/845 - Cập nhật thể loại: Âm Nhạc, Hài, Hoạt hình\n",
      "589/845 - Cập nhật ảnh: https://cinema.momocdn.net/img/57525444487316658-4px3C1MnKtshitubBXBJDS4Fo94.jpg\n"
     ]
    },
    {
     "name": "stderr",
     "output_type": "stream",
     "text": [
      "C:\\Users\\ADMIN\\AppData\\Local\\Temp\\ipykernel_7724\\373337600.py:22: FutureWarning: Series.__getitem__ treating keys as positions is deprecated. In a future version, integer keys will always be treated as labels (consistent with DataFrame behavior). To access a value by position, use `ser.iloc[pos]`\n",
      "  link = row[1]  # Cột 1 chứa link review\n"
     ]
    },
    {
     "name": "stdout",
     "output_type": "stream",
     "text": [
      "590/845 - Cập nhật thể loại: Hài, Hành động\n",
      "590/845 - Cập nhật ảnh: https://cinema.momocdn.net/img/58818130942367512-iSjUx3tiZUI4T9ovwvBWPNAMf0C.jpg\n"
     ]
    },
    {
     "name": "stderr",
     "output_type": "stream",
     "text": [
      "C:\\Users\\ADMIN\\AppData\\Local\\Temp\\ipykernel_7724\\373337600.py:22: FutureWarning: Series.__getitem__ treating keys as positions is deprecated. In a future version, integer keys will always be treated as labels (consistent with DataFrame behavior). To access a value by position, use `ser.iloc[pos]`\n",
      "  link = row[1]  # Cột 1 chứa link review\n"
     ]
    },
    {
     "name": "stdout",
     "output_type": "stream",
     "text": [
      "591/845 - Cập nhật thể loại: Hoạt hình\n",
      "591/845 - Cập nhật ảnh: https://cinema.momocdn.net/img/93509058095166399-lVDCbjFaDVvsrAwJYghjXQcs7LW.jpg\n"
     ]
    },
    {
     "name": "stderr",
     "output_type": "stream",
     "text": [
      "C:\\Users\\ADMIN\\AppData\\Local\\Temp\\ipykernel_7724\\373337600.py:22: FutureWarning: Series.__getitem__ treating keys as positions is deprecated. In a future version, integer keys will always be treated as labels (consistent with DataFrame behavior). To access a value by position, use `ser.iloc[pos]`\n",
      "  link = row[1]  # Cột 1 chứa link review\n"
     ]
    },
    {
     "name": "stdout",
     "output_type": "stream",
     "text": [
      "592/845 - Cập nhật thể loại: Ma, Kinh dị\n",
      "592/845 - Cập nhật ảnh: https://cinema.momocdn.net/img/6176338566046559-kkmvC88pvvZdpNty4Z1jE7rSuh0.jpg\n"
     ]
    },
    {
     "name": "stderr",
     "output_type": "stream",
     "text": [
      "C:\\Users\\ADMIN\\AppData\\Local\\Temp\\ipykernel_7724\\373337600.py:22: FutureWarning: Series.__getitem__ treating keys as positions is deprecated. In a future version, integer keys will always be treated as labels (consistent with DataFrame behavior). To access a value by position, use `ser.iloc[pos]`\n",
      "  link = row[1]  # Cột 1 chứa link review\n"
     ]
    },
    {
     "name": "stdout",
     "output_type": "stream",
     "text": [
      "593/845 - Cập nhật thể loại: Kinh dị\n",
      "593/845 - Cập nhật ảnh: https://cinema.momocdn.net/img/90485836688222877-maxresdefault.jpg\n"
     ]
    },
    {
     "name": "stderr",
     "output_type": "stream",
     "text": [
      "C:\\Users\\ADMIN\\AppData\\Local\\Temp\\ipykernel_7724\\373337600.py:22: FutureWarning: Series.__getitem__ treating keys as positions is deprecated. In a future version, integer keys will always be treated as labels (consistent with DataFrame behavior). To access a value by position, use `ser.iloc[pos]`\n",
      "  link = row[1]  # Cột 1 chứa link review\n"
     ]
    },
    {
     "name": "stdout",
     "output_type": "stream",
     "text": [
      "594/845 - Cập nhật thể loại: Gay cấn, Bí ẩn, Tâm lý, Kinh dị\n",
      "594/845 - Cập nhật ảnh: https://cinema.momocdn.net/img/83833011411706747-zEMVGHpkxQ1GIgD6rATaYz6a7dk.jpg\n"
     ]
    },
    {
     "name": "stderr",
     "output_type": "stream",
     "text": [
      "C:\\Users\\ADMIN\\AppData\\Local\\Temp\\ipykernel_7724\\373337600.py:22: FutureWarning: Series.__getitem__ treating keys as positions is deprecated. In a future version, integer keys will always be treated as labels (consistent with DataFrame behavior). To access a value by position, use `ser.iloc[pos]`\n",
      "  link = row[1]  # Cột 1 chứa link review\n"
     ]
    },
    {
     "name": "stdout",
     "output_type": "stream",
     "text": [
      "595/845 - Cập nhật thể loại: Chính kịch, Lịch sử, Hành động\n",
      "595/845 - Cập nhật ảnh: https://cinema.momocdn.net/img/81659323843321137-bHXrZnsYAh8nfjmB3W2OvfQMVVp.jpg\n"
     ]
    },
    {
     "name": "stderr",
     "output_type": "stream",
     "text": [
      "C:\\Users\\ADMIN\\AppData\\Local\\Temp\\ipykernel_7724\\373337600.py:22: FutureWarning: Series.__getitem__ treating keys as positions is deprecated. In a future version, integer keys will always be treated as labels (consistent with DataFrame behavior). To access a value by position, use `ser.iloc[pos]`\n",
      "  link = row[1]  # Cột 1 chứa link review\n"
     ]
    },
    {
     "name": "stdout",
     "output_type": "stream",
     "text": [
      "596/845 - Cập nhật thể loại: Chính kịch, Ma, Kinh dị, Khoa học - Viễn tưởng\n",
      "596/845 - Cập nhật ảnh: https://homepage.momocdn.net/cinema/momo-cdn-api-220615142926-637909001667817350.jpg\n"
     ]
    },
    {
     "name": "stderr",
     "output_type": "stream",
     "text": [
      "C:\\Users\\ADMIN\\AppData\\Local\\Temp\\ipykernel_7724\\373337600.py:22: FutureWarning: Series.__getitem__ treating keys as positions is deprecated. In a future version, integer keys will always be treated as labels (consistent with DataFrame behavior). To access a value by position, use `ser.iloc[pos]`\n",
      "  link = row[1]  # Cột 1 chứa link review\n"
     ]
    },
    {
     "name": "stdout",
     "output_type": "stream",
     "text": [
      "597/845 - Cập nhật thể loại: Gay cấn, Kinh dị\n",
      "597/845 - Cập nhật ảnh: https://cinema.momocdn.net/img/18458511539635707-HamTuThan.jpeg\n"
     ]
    },
    {
     "name": "stderr",
     "output_type": "stream",
     "text": [
      "C:\\Users\\ADMIN\\AppData\\Local\\Temp\\ipykernel_7724\\373337600.py:22: FutureWarning: Series.__getitem__ treating keys as positions is deprecated. In a future version, integer keys will always be treated as labels (consistent with DataFrame behavior). To access a value by position, use `ser.iloc[pos]`\n",
      "  link = row[1]  # Cột 1 chứa link review\n"
     ]
    },
    {
     "name": "stdout",
     "output_type": "stream",
     "text": [
      "598/845 - Cập nhật thể loại: Chính kịch, Gay cấn, Thảm hoạ, Hành động\n",
      "598/845 - Cập nhật ảnh: https://cinema.momocdn.net/img/5246938570867394-xTLSA6areOJIf4dDNdhjOjiz68V.jpg\n"
     ]
    },
    {
     "name": "stderr",
     "output_type": "stream",
     "text": [
      "C:\\Users\\ADMIN\\AppData\\Local\\Temp\\ipykernel_7724\\373337600.py:22: FutureWarning: Series.__getitem__ treating keys as positions is deprecated. In a future version, integer keys will always be treated as labels (consistent with DataFrame behavior). To access a value by position, use `ser.iloc[pos]`\n",
      "  link = row[1]  # Cột 1 chứa link review\n"
     ]
    },
    {
     "name": "stdout",
     "output_type": "stream",
     "text": [
      "599/845 - Cập nhật thể loại: Chính kịch\n",
      "599/845 - Cập nhật ảnh: https://cinema.momocdn.net/img/1006713011650956-nlNGMvqmm3h0eEUuiysSJ4nPbXN.jpg\n"
     ]
    },
    {
     "name": "stderr",
     "output_type": "stream",
     "text": [
      "C:\\Users\\ADMIN\\AppData\\Local\\Temp\\ipykernel_7724\\373337600.py:22: FutureWarning: Series.__getitem__ treating keys as positions is deprecated. In a future version, integer keys will always be treated as labels (consistent with DataFrame behavior). To access a value by position, use `ser.iloc[pos]`\n",
      "  link = row[1]  # Cột 1 chứa link review\n"
     ]
    },
    {
     "name": "stdout",
     "output_type": "stream",
     "text": [
      "600/845 - Cập nhật thể loại: Bí ẩn, Kinh dị\n",
      "600/845 - Cập nhật ảnh: https://homepage.momocdn.net/cinema/momo-cdn-api-220704150227-637925437474886248.jpg\n"
     ]
    },
    {
     "name": "stderr",
     "output_type": "stream",
     "text": [
      "C:\\Users\\ADMIN\\AppData\\Local\\Temp\\ipykernel_7724\\373337600.py:22: FutureWarning: Series.__getitem__ treating keys as positions is deprecated. In a future version, integer keys will always be treated as labels (consistent with DataFrame behavior). To access a value by position, use `ser.iloc[pos]`\n",
      "  link = row[1]  # Cột 1 chứa link review\n"
     ]
    },
    {
     "name": "stdout",
     "output_type": "stream",
     "text": [
      "601/845 - Cập nhật thể loại: Gay cấn, Kinh dị, Khoa học - Viễn tưởng\n",
      "601/845 - Cập nhật ảnh: https://homepage.momocdn.net/cinema/momo-cdn-api-220615143103-637909002638576726.jpg\n"
     ]
    },
    {
     "name": "stderr",
     "output_type": "stream",
     "text": [
      "C:\\Users\\ADMIN\\AppData\\Local\\Temp\\ipykernel_7724\\373337600.py:22: FutureWarning: Series.__getitem__ treating keys as positions is deprecated. In a future version, integer keys will always be treated as labels (consistent with DataFrame behavior). To access a value by position, use `ser.iloc[pos]`\n",
      "  link = row[1]  # Cột 1 chứa link review\n"
     ]
    },
    {
     "name": "stdout",
     "output_type": "stream",
     "text": [
      "602/845 - Cập nhật thể loại: Chính kịch, Kinh dị, Khoa học - Viễn tưởng, Hành động\n",
      "602/845 - Cập nhật ảnh: https://cinema.momocdn.net/img/116727109842889116-jm1oD3eB08LImSwL1LrzF9AJQ5b.jpg\n"
     ]
    },
    {
     "name": "stderr",
     "output_type": "stream",
     "text": [
      "C:\\Users\\ADMIN\\AppData\\Local\\Temp\\ipykernel_7724\\373337600.py:22: FutureWarning: Series.__getitem__ treating keys as positions is deprecated. In a future version, integer keys will always be treated as labels (consistent with DataFrame behavior). To access a value by position, use `ser.iloc[pos]`\n",
      "  link = row[1]  # Cột 1 chứa link review\n"
     ]
    },
    {
     "name": "stdout",
     "output_type": "stream",
     "text": [
      "603/845 - Cập nhật thể loại: Chính kịch, Tâm lý, Lãng mạn\n",
      "603/845 - Cập nhật ảnh: https://homepage.momocdn.net/cinema/momo-cdn-api-220615142902-637909001424844745.jpg\n"
     ]
    },
    {
     "name": "stderr",
     "output_type": "stream",
     "text": [
      "C:\\Users\\ADMIN\\AppData\\Local\\Temp\\ipykernel_7724\\373337600.py:22: FutureWarning: Series.__getitem__ treating keys as positions is deprecated. In a future version, integer keys will always be treated as labels (consistent with DataFrame behavior). To access a value by position, use `ser.iloc[pos]`\n",
      "  link = row[1]  # Cột 1 chứa link review\n"
     ]
    },
    {
     "name": "stdout",
     "output_type": "stream",
     "text": [
      "604/845 - Cập nhật thể loại: Gia đình, Phiêu lưu, Hoạt hình\n",
      "604/845 - Cập nhật ảnh: https://homepage.momocdn.net/cinema/momo-cdn-api-220615142433-637908998733759690.jpg\n"
     ]
    },
    {
     "name": "stderr",
     "output_type": "stream",
     "text": [
      "C:\\Users\\ADMIN\\AppData\\Local\\Temp\\ipykernel_7724\\373337600.py:22: FutureWarning: Series.__getitem__ treating keys as positions is deprecated. In a future version, integer keys will always be treated as labels (consistent with DataFrame behavior). To access a value by position, use `ser.iloc[pos]`\n",
      "  link = row[1]  # Cột 1 chứa link review\n"
     ]
    },
    {
     "name": "stdout",
     "output_type": "stream",
     "text": [
      "605/845 - Cập nhật thể loại: Gay cấn, Kinh dị\n",
      "605/845 - Cập nhật ảnh: https://cinema.momocdn.net/img/44988375797721623-k37Ccgu05Am1xxgN5GaW0HX9Kkl.jpg\n"
     ]
    },
    {
     "name": "stderr",
     "output_type": "stream",
     "text": [
      "C:\\Users\\ADMIN\\AppData\\Local\\Temp\\ipykernel_7724\\373337600.py:22: FutureWarning: Series.__getitem__ treating keys as positions is deprecated. In a future version, integer keys will always be treated as labels (consistent with DataFrame behavior). To access a value by position, use `ser.iloc[pos]`\n",
      "  link = row[1]  # Cột 1 chứa link review\n"
     ]
    },
    {
     "name": "stdout",
     "output_type": "stream",
     "text": [
      "606/845 - Cập nhật thể loại: Âm Nhạc, Tài liệu\n",
      "606/845 - Cập nhật ảnh: https://cinema.momocdn.net/img/16196793642055603-gWNktIgLvrvAMDLynxYahR6xPEv.jpg\n"
     ]
    },
    {
     "name": "stderr",
     "output_type": "stream",
     "text": [
      "C:\\Users\\ADMIN\\AppData\\Local\\Temp\\ipykernel_7724\\373337600.py:22: FutureWarning: Series.__getitem__ treating keys as positions is deprecated. In a future version, integer keys will always be treated as labels (consistent with DataFrame behavior). To access a value by position, use `ser.iloc[pos]`\n",
      "  link = row[1]  # Cột 1 chứa link review\n"
     ]
    },
    {
     "name": "stdout",
     "output_type": "stream",
     "text": [
      "607/845 - Cập nhật thể loại: Chính kịch, Hài, Lãng mạn\n",
      "607/845 - Cập nhật ảnh: https://cinema.momocdn.net/img/85196401728764265-ghlLbe1i3LP2dkLule09MqxLxqv.jpg\n"
     ]
    },
    {
     "name": "stderr",
     "output_type": "stream",
     "text": [
      "C:\\Users\\ADMIN\\AppData\\Local\\Temp\\ipykernel_7724\\373337600.py:22: FutureWarning: Series.__getitem__ treating keys as positions is deprecated. In a future version, integer keys will always be treated as labels (consistent with DataFrame behavior). To access a value by position, use `ser.iloc[pos]`\n",
      "  link = row[1]  # Cột 1 chứa link review\n"
     ]
    },
    {
     "name": "stdout",
     "output_type": "stream",
     "text": [
      "608/845 - Cập nhật thể loại: Phiêu lưu, Khoa học - Viễn tưởng, Hành động\n",
      "608/845 - Cập nhật ảnh: https://cinema.momocdn.net/img/83925726540293322-tqj7NKj11keFuLzPsBDMUq2dOUO.jpg\n"
     ]
    },
    {
     "name": "stderr",
     "output_type": "stream",
     "text": [
      "C:\\Users\\ADMIN\\AppData\\Local\\Temp\\ipykernel_7724\\373337600.py:22: FutureWarning: Series.__getitem__ treating keys as positions is deprecated. In a future version, integer keys will always be treated as labels (consistent with DataFrame behavior). To access a value by position, use `ser.iloc[pos]`\n",
      "  link = row[1]  # Cột 1 chứa link review\n"
     ]
    },
    {
     "name": "stdout",
     "output_type": "stream",
     "text": [
      "609/845 - Cập nhật thể loại: Gia đình, Phiêu lưu, Khoa học - Viễn tưởng, Hài, Hoạt hình\n",
      "609/845 - Cập nhật ảnh: https://homepage.momocdn.net/cinema/momo-cdn-api-220615142402-637908998429806074.jpg\n"
     ]
    },
    {
     "name": "stderr",
     "output_type": "stream",
     "text": [
      "C:\\Users\\ADMIN\\AppData\\Local\\Temp\\ipykernel_7724\\373337600.py:22: FutureWarning: Series.__getitem__ treating keys as positions is deprecated. In a future version, integer keys will always be treated as labels (consistent with DataFrame behavior). To access a value by position, use `ser.iloc[pos]`\n",
      "  link = row[1]  # Cột 1 chứa link review\n"
     ]
    },
    {
     "name": "stdout",
     "output_type": "stream",
     "text": [
      "610/845 - Cập nhật thể loại: Tài liệu\n",
      "610/845 - Cập nhật ảnh: https://cinema.momocdn.net/img/58257520243583934-6.jpg\n"
     ]
    },
    {
     "name": "stderr",
     "output_type": "stream",
     "text": [
      "C:\\Users\\ADMIN\\AppData\\Local\\Temp\\ipykernel_7724\\373337600.py:22: FutureWarning: Series.__getitem__ treating keys as positions is deprecated. In a future version, integer keys will always be treated as labels (consistent with DataFrame behavior). To access a value by position, use `ser.iloc[pos]`\n",
      "  link = row[1]  # Cột 1 chứa link review\n"
     ]
    },
    {
     "name": "stdout",
     "output_type": "stream",
     "text": [
      "611/845 - Cập nhật thể loại: Kinh dị\n",
      "611/845 - Cập nhật ảnh: https://cinema.momocdn.net/img/26133526086357592-maxresdefault%20(22\n"
     ]
    },
    {
     "name": "stderr",
     "output_type": "stream",
     "text": [
      "C:\\Users\\ADMIN\\AppData\\Local\\Temp\\ipykernel_7724\\373337600.py:22: FutureWarning: Series.__getitem__ treating keys as positions is deprecated. In a future version, integer keys will always be treated as labels (consistent with DataFrame behavior). To access a value by position, use `ser.iloc[pos]`\n",
      "  link = row[1]  # Cột 1 chứa link review\n"
     ]
    },
    {
     "name": "stdout",
     "output_type": "stream",
     "text": [
      "612/845 - Cập nhật thể loại: Gia đình, Hài\n",
      "612/845 - Cập nhật ảnh: https://cinema.momocdn.net/img/2889745448627516-gh76knAv7wtDJdrbDvQPmqhoZ4e.jpg\n"
     ]
    },
    {
     "name": "stderr",
     "output_type": "stream",
     "text": [
      "C:\\Users\\ADMIN\\AppData\\Local\\Temp\\ipykernel_7724\\373337600.py:22: FutureWarning: Series.__getitem__ treating keys as positions is deprecated. In a future version, integer keys will always be treated as labels (consistent with DataFrame behavior). To access a value by position, use `ser.iloc[pos]`\n",
      "  link = row[1]  # Cột 1 chứa link review\n"
     ]
    },
    {
     "name": "stdout",
     "output_type": "stream",
     "text": [
      "613/845 - Cập nhật thể loại: Chính kịch, Chiến tranh, Hành động\n",
      "613/845 - Cập nhật ảnh: https://homepage.momocdn.net/cinema/momo-cdn-api-220711160238-637931521585639917.jpg\n"
     ]
    },
    {
     "name": "stderr",
     "output_type": "stream",
     "text": [
      "C:\\Users\\ADMIN\\AppData\\Local\\Temp\\ipykernel_7724\\373337600.py:22: FutureWarning: Series.__getitem__ treating keys as positions is deprecated. In a future version, integer keys will always be treated as labels (consistent with DataFrame behavior). To access a value by position, use `ser.iloc[pos]`\n",
      "  link = row[1]  # Cột 1 chứa link review\n"
     ]
    },
    {
     "name": "stdout",
     "output_type": "stream",
     "text": [
      "614/845 - Cập nhật thể loại: Khoa học - Viễn tưởng, Hành động\n",
      "614/845 - Cập nhật ảnh: https://homepage.momocdn.net/cinema/momo-cdn-api-220615142525-637908999256760935.jpg\n"
     ]
    },
    {
     "name": "stderr",
     "output_type": "stream",
     "text": [
      "C:\\Users\\ADMIN\\AppData\\Local\\Temp\\ipykernel_7724\\373337600.py:22: FutureWarning: Series.__getitem__ treating keys as positions is deprecated. In a future version, integer keys will always be treated as labels (consistent with DataFrame behavior). To access a value by position, use `ser.iloc[pos]`\n",
      "  link = row[1]  # Cột 1 chứa link review\n"
     ]
    },
    {
     "name": "stdout",
     "output_type": "stream",
     "text": [
      "615/845 - Cập nhật thể loại: Hình sự, Hài, Hành động, Lãng mạn\n",
      "615/845 - Cập nhật ảnh: https://cinema.momocdn.net/img/57970788775140730-Untitled-2.jpg\n"
     ]
    },
    {
     "name": "stderr",
     "output_type": "stream",
     "text": [
      "C:\\Users\\ADMIN\\AppData\\Local\\Temp\\ipykernel_7724\\373337600.py:22: FutureWarning: Series.__getitem__ treating keys as positions is deprecated. In a future version, integer keys will always be treated as labels (consistent with DataFrame behavior). To access a value by position, use `ser.iloc[pos]`\n",
      "  link = row[1]  # Cột 1 chứa link review\n"
     ]
    },
    {
     "name": "stdout",
     "output_type": "stream",
     "text": [
      "616/845 - Cập nhật thể loại: Giả tưởng, Lãng mạn\n",
      "616/845 - Cập nhật ảnh: https://cinema.momocdn.net/img/52618031846284630-uHYBvSvke7c63g56LjIrqzD2lVn.jpg\n"
     ]
    },
    {
     "name": "stderr",
     "output_type": "stream",
     "text": [
      "C:\\Users\\ADMIN\\AppData\\Local\\Temp\\ipykernel_7724\\373337600.py:22: FutureWarning: Series.__getitem__ treating keys as positions is deprecated. In a future version, integer keys will always be treated as labels (consistent with DataFrame behavior). To access a value by position, use `ser.iloc[pos]`\n",
      "  link = row[1]  # Cột 1 chứa link review\n"
     ]
    },
    {
     "name": "stdout",
     "output_type": "stream",
     "text": [
      "617/845 - Cập nhật thể loại: Chính kịch, Gay cấn, Hành động\n",
      "617/845 - Cập nhật ảnh: https://cinema.momocdn.net/img/17492900868160446-jVFeUR259RcW57mzhqJogV3QnLa.jpg\n"
     ]
    },
    {
     "name": "stderr",
     "output_type": "stream",
     "text": [
      "C:\\Users\\ADMIN\\AppData\\Local\\Temp\\ipykernel_7724\\373337600.py:22: FutureWarning: Series.__getitem__ treating keys as positions is deprecated. In a future version, integer keys will always be treated as labels (consistent with DataFrame behavior). To access a value by position, use `ser.iloc[pos]`\n",
      "  link = row[1]  # Cột 1 chứa link review\n"
     ]
    },
    {
     "name": "stdout",
     "output_type": "stream",
     "text": [
      "618/845 - Cập nhật thể loại: Gia đình, Khoa học - Viễn tưởng, Hài, Lãng mạn, Hoạt hình\n",
      "618/845 - Cập nhật ảnh: https://cinema.momocdn.net/img/4188313725860109-1qp7AldNbB7dRb8grChUeIwVOL7.jpg\n"
     ]
    },
    {
     "name": "stderr",
     "output_type": "stream",
     "text": [
      "C:\\Users\\ADMIN\\AppData\\Local\\Temp\\ipykernel_7724\\373337600.py:22: FutureWarning: Series.__getitem__ treating keys as positions is deprecated. In a future version, integer keys will always be treated as labels (consistent with DataFrame behavior). To access a value by position, use `ser.iloc[pos]`\n",
      "  link = row[1]  # Cột 1 chứa link review\n"
     ]
    },
    {
     "name": "stdout",
     "output_type": "stream",
     "text": [
      "619/845 - Cập nhật thể loại: Chính kịch, Gay cấn, Bí ẩn, Tâm lý\n",
      "619/845 - Cập nhật ảnh: https://cinema.momocdn.net/img/83213725210580946-4O9kFXsBjlxtgzXWHfgMS9CjhbN.jpg\n"
     ]
    },
    {
     "name": "stderr",
     "output_type": "stream",
     "text": [
      "C:\\Users\\ADMIN\\AppData\\Local\\Temp\\ipykernel_7724\\373337600.py:22: FutureWarning: Series.__getitem__ treating keys as positions is deprecated. In a future version, integer keys will always be treated as labels (consistent with DataFrame behavior). To access a value by position, use `ser.iloc[pos]`\n",
      "  link = row[1]  # Cột 1 chứa link review\n"
     ]
    },
    {
     "name": "stdout",
     "output_type": "stream",
     "text": [
      "620/845 - Cập nhật thể loại: Gay cấn, Bí ẩn, Tâm lý\n",
      "620/845 - Cập nhật ảnh: https://homepage.momocdn.net/cinema/momo-cdn-api-220615142905-637909001459258651.jpg\n"
     ]
    },
    {
     "name": "stderr",
     "output_type": "stream",
     "text": [
      "C:\\Users\\ADMIN\\AppData\\Local\\Temp\\ipykernel_7724\\373337600.py:22: FutureWarning: Series.__getitem__ treating keys as positions is deprecated. In a future version, integer keys will always be treated as labels (consistent with DataFrame behavior). To access a value by position, use `ser.iloc[pos]`\n",
      "  link = row[1]  # Cột 1 chứa link review\n"
     ]
    },
    {
     "name": "stdout",
     "output_type": "stream",
     "text": [
      "621/845 - Cập nhật thể loại: Gay cấn, Bí ẩn, Hình sự, Hành động, Lãng mạn, Hoạt hình\n",
      "621/845 - Cập nhật ảnh: https://homepage.momocdn.net/cinema/momo-cdn-api-220615135323-637908980034466173.jpg\n"
     ]
    },
    {
     "name": "stderr",
     "output_type": "stream",
     "text": [
      "C:\\Users\\ADMIN\\AppData\\Local\\Temp\\ipykernel_7724\\373337600.py:22: FutureWarning: Series.__getitem__ treating keys as positions is deprecated. In a future version, integer keys will always be treated as labels (consistent with DataFrame behavior). To access a value by position, use `ser.iloc[pos]`\n",
      "  link = row[1]  # Cột 1 chứa link review\n"
     ]
    },
    {
     "name": "stdout",
     "output_type": "stream",
     "text": [
      "622/845 - Cập nhật thể loại: Bí ẩn, Kinh dị\n",
      "622/845 - Cập nhật ảnh: https://homepage.momocdn.net/cinema/momo-cdn-api-220615142459-637908998990581666.jpg\n"
     ]
    },
    {
     "name": "stderr",
     "output_type": "stream",
     "text": [
      "C:\\Users\\ADMIN\\AppData\\Local\\Temp\\ipykernel_7724\\373337600.py:22: FutureWarning: Series.__getitem__ treating keys as positions is deprecated. In a future version, integer keys will always be treated as labels (consistent with DataFrame behavior). To access a value by position, use `ser.iloc[pos]`\n",
      "  link = row[1]  # Cột 1 chứa link review\n"
     ]
    },
    {
     "name": "stdout",
     "output_type": "stream",
     "text": [
      "623/845 - Cập nhật thể loại: Kinh dị\n",
      "623/845 - Cập nhật ảnh: https://cinema.momocdn.net/img/57618825362703609-6xUDHFU16sUAuO10yky7DZVuAZM.jpg\n"
     ]
    },
    {
     "name": "stderr",
     "output_type": "stream",
     "text": [
      "C:\\Users\\ADMIN\\AppData\\Local\\Temp\\ipykernel_7724\\373337600.py:22: FutureWarning: Series.__getitem__ treating keys as positions is deprecated. In a future version, integer keys will always be treated as labels (consistent with DataFrame behavior). To access a value by position, use `ser.iloc[pos]`\n",
      "  link = row[1]  # Cột 1 chứa link review\n"
     ]
    },
    {
     "name": "stdout",
     "output_type": "stream",
     "text": [
      "624/845 - Cập nhật thể loại: Hoạt hình\n",
      "624/845 - Cập nhật ảnh: https://cinema.momocdn.net/img/76903113581516164-3oMhAQR2uZ8gocopds5cGZQSpNi.jpg\n"
     ]
    },
    {
     "name": "stderr",
     "output_type": "stream",
     "text": [
      "C:\\Users\\ADMIN\\AppData\\Local\\Temp\\ipykernel_7724\\373337600.py:22: FutureWarning: Series.__getitem__ treating keys as positions is deprecated. In a future version, integer keys will always be treated as labels (consistent with DataFrame behavior). To access a value by position, use `ser.iloc[pos]`\n",
      "  link = row[1]  # Cột 1 chứa link review\n"
     ]
    },
    {
     "name": "stdout",
     "output_type": "stream",
     "text": [
      "625/845 - Cập nhật thể loại: Gay cấn, Kinh dị\n",
      "625/845 - Cập nhật ảnh: https://cinema.momocdn.net/img/25292240198638087-dAfvQUiq1BGpzZg9fdSvkOjPnQp.jpg\n"
     ]
    },
    {
     "name": "stderr",
     "output_type": "stream",
     "text": [
      "C:\\Users\\ADMIN\\AppData\\Local\\Temp\\ipykernel_7724\\373337600.py:22: FutureWarning: Series.__getitem__ treating keys as positions is deprecated. In a future version, integer keys will always be treated as labels (consistent with DataFrame behavior). To access a value by position, use `ser.iloc[pos]`\n",
      "  link = row[1]  # Cột 1 chứa link review\n"
     ]
    },
    {
     "name": "stdout",
     "output_type": "stream",
     "text": [
      "626/845 - Cập nhật thể loại: Âm Nhạc, Tài liệu\n",
      "626/845 - Cập nhật ảnh: https://cinema.momocdn.net/img/19222008674166920-x8fzSVEh4eiTBctcO96MrMgrjYW.jpg\n"
     ]
    },
    {
     "name": "stderr",
     "output_type": "stream",
     "text": [
      "C:\\Users\\ADMIN\\AppData\\Local\\Temp\\ipykernel_7724\\373337600.py:22: FutureWarning: Series.__getitem__ treating keys as positions is deprecated. In a future version, integer keys will always be treated as labels (consistent with DataFrame behavior). To access a value by position, use `ser.iloc[pos]`\n",
      "  link = row[1]  # Cột 1 chứa link review\n"
     ]
    },
    {
     "name": "stdout",
     "output_type": "stream",
     "text": [
      "627/845 - Cập nhật thể loại: Kinh dị\n",
      "627/845 - Cập nhật ảnh: https://cinema.momocdn.net/img/b5bd2f7e-fd37-47a5-b7db-6d8b02104c72-67607346511010681.jpg\n"
     ]
    },
    {
     "name": "stderr",
     "output_type": "stream",
     "text": [
      "C:\\Users\\ADMIN\\AppData\\Local\\Temp\\ipykernel_7724\\373337600.py:22: FutureWarning: Series.__getitem__ treating keys as positions is deprecated. In a future version, integer keys will always be treated as labels (consistent with DataFrame behavior). To access a value by position, use `ser.iloc[pos]`\n",
      "  link = row[1]  # Cột 1 chứa link review\n"
     ]
    },
    {
     "name": "stdout",
     "output_type": "stream",
     "text": [
      "628/845 - Cập nhật thể loại: Gay cấn, Hài\n",
      "628/845 - Cập nhật ảnh: https://homepage.momocdn.net/cinema/momo-upload-api-230525154239-638206261594353208.jpg\n"
     ]
    },
    {
     "name": "stderr",
     "output_type": "stream",
     "text": [
      "C:\\Users\\ADMIN\\AppData\\Local\\Temp\\ipykernel_7724\\373337600.py:22: FutureWarning: Series.__getitem__ treating keys as positions is deprecated. In a future version, integer keys will always be treated as labels (consistent with DataFrame behavior). To access a value by position, use `ser.iloc[pos]`\n",
      "  link = row[1]  # Cột 1 chứa link review\n"
     ]
    },
    {
     "name": "stdout",
     "output_type": "stream",
     "text": [
      "629/845 - Cập nhật thể loại: Bí ẩn, Kinh dị\n",
      "629/845 - Cập nhật ảnh: https://cinema.momocdn.net/img/88236271778810860-thumb.jpg\n"
     ]
    },
    {
     "name": "stderr",
     "output_type": "stream",
     "text": [
      "C:\\Users\\ADMIN\\AppData\\Local\\Temp\\ipykernel_7724\\373337600.py:22: FutureWarning: Series.__getitem__ treating keys as positions is deprecated. In a future version, integer keys will always be treated as labels (consistent with DataFrame behavior). To access a value by position, use `ser.iloc[pos]`\n",
      "  link = row[1]  # Cột 1 chứa link review\n"
     ]
    },
    {
     "name": "stdout",
     "output_type": "stream",
     "text": [
      "630/845 - Cập nhật thể loại: Chính kịch, Gay cấn, Tâm lý, Hình sự\n",
      "630/845 - Cập nhật ảnh: https://homepage.momocdn.net/cinema/momo-cdn-api-220707133406-637927976463093282.jpg\n"
     ]
    },
    {
     "name": "stderr",
     "output_type": "stream",
     "text": [
      "C:\\Users\\ADMIN\\AppData\\Local\\Temp\\ipykernel_7724\\373337600.py:22: FutureWarning: Series.__getitem__ treating keys as positions is deprecated. In a future version, integer keys will always be treated as labels (consistent with DataFrame behavior). To access a value by position, use `ser.iloc[pos]`\n",
      "  link = row[1]  # Cột 1 chứa link review\n"
     ]
    },
    {
     "name": "stdout",
     "output_type": "stream",
     "text": [
      "631/845 - Cập nhật thể loại: Gay cấn, Kinh dị\n",
      "631/845 - Cập nhật ảnh: https://cinema.momocdn.net/img/84436851425618144-eWYJJComSRrnThuN4HlMmtnP1Nt.jpg\n"
     ]
    },
    {
     "name": "stderr",
     "output_type": "stream",
     "text": [
      "C:\\Users\\ADMIN\\AppData\\Local\\Temp\\ipykernel_7724\\373337600.py:22: FutureWarning: Series.__getitem__ treating keys as positions is deprecated. In a future version, integer keys will always be treated as labels (consistent with DataFrame behavior). To access a value by position, use `ser.iloc[pos]`\n",
      "  link = row[1]  # Cột 1 chứa link review\n"
     ]
    },
    {
     "name": "stdout",
     "output_type": "stream",
     "text": [
      "632/845 - Cập nhật thể loại: Chính kịch, Khoa học - Viễn tưởng, Hành động, Hoạt hình\n",
      "632/845 - Cập nhật ảnh: https://cinema.momocdn.net/img/83485166490159232-1EAxNqdkVnp48a7NUuNBHGflowM.jpg\n"
     ]
    },
    {
     "name": "stderr",
     "output_type": "stream",
     "text": [
      "C:\\Users\\ADMIN\\AppData\\Local\\Temp\\ipykernel_7724\\373337600.py:22: FutureWarning: Series.__getitem__ treating keys as positions is deprecated. In a future version, integer keys will always be treated as labels (consistent with DataFrame behavior). To access a value by position, use `ser.iloc[pos]`\n",
      "  link = row[1]  # Cột 1 chứa link review\n"
     ]
    },
    {
     "name": "stdout",
     "output_type": "stream",
     "text": [
      "633/845 - Cập nhật thể loại: Viễn Tây, Phiêu lưu\n",
      "633/845 - Cập nhật ảnh: https://homepage.momocdn.net/cinema/momo-cdn-api-220615143123-637909002832251760.jpg\n"
     ]
    },
    {
     "name": "stderr",
     "output_type": "stream",
     "text": [
      "C:\\Users\\ADMIN\\AppData\\Local\\Temp\\ipykernel_7724\\373337600.py:22: FutureWarning: Series.__getitem__ treating keys as positions is deprecated. In a future version, integer keys will always be treated as labels (consistent with DataFrame behavior). To access a value by position, use `ser.iloc[pos]`\n",
      "  link = row[1]  # Cột 1 chứa link review\n"
     ]
    },
    {
     "name": "stdout",
     "output_type": "stream",
     "text": [
      "634/845 - Cập nhật thể loại: Gay cấn, Trinh thám, Hình sự\n",
      "634/845 - Cập nhật ảnh: https://homepage.momocdn.net/cinema/momo-cdn-api-220615143114-637909002740733605.jpg\n"
     ]
    },
    {
     "name": "stderr",
     "output_type": "stream",
     "text": [
      "C:\\Users\\ADMIN\\AppData\\Local\\Temp\\ipykernel_7724\\373337600.py:22: FutureWarning: Series.__getitem__ treating keys as positions is deprecated. In a future version, integer keys will always be treated as labels (consistent with DataFrame behavior). To access a value by position, use `ser.iloc[pos]`\n",
      "  link = row[1]  # Cột 1 chứa link review\n"
     ]
    },
    {
     "name": "stdout",
     "output_type": "stream",
     "text": [
      "635/845 - Cập nhật thể loại: Chính kịch, Gay cấn, Khoa học - Viễn tưởng\n",
      "635/845 - Cập nhật ảnh: https://homepage.momocdn.net/cinema/momo-cdn-api-220615135804-637908982840943994.jpg\n"
     ]
    },
    {
     "name": "stderr",
     "output_type": "stream",
     "text": [
      "C:\\Users\\ADMIN\\AppData\\Local\\Temp\\ipykernel_7724\\373337600.py:22: FutureWarning: Series.__getitem__ treating keys as positions is deprecated. In a future version, integer keys will always be treated as labels (consistent with DataFrame behavior). To access a value by position, use `ser.iloc[pos]`\n",
      "  link = row[1]  # Cột 1 chứa link review\n"
     ]
    },
    {
     "name": "stdout",
     "output_type": "stream",
     "text": [
      "636/845 - Cập nhật thể loại: Gay cấn, Hình sự, Hành động\n",
      "636/845 - Cập nhật ảnh: https://homepage.momocdn.net/cinema/momo-cdn-api-220615142621-637908999815915749.jpg\n"
     ]
    },
    {
     "name": "stderr",
     "output_type": "stream",
     "text": [
      "C:\\Users\\ADMIN\\AppData\\Local\\Temp\\ipykernel_7724\\373337600.py:22: FutureWarning: Series.__getitem__ treating keys as positions is deprecated. In a future version, integer keys will always be treated as labels (consistent with DataFrame behavior). To access a value by position, use `ser.iloc[pos]`\n",
      "  link = row[1]  # Cột 1 chứa link review\n"
     ]
    },
    {
     "name": "stdout",
     "output_type": "stream",
     "text": [
      "637/845 - Cập nhật thể loại: Chính kịch\n",
      "637/845 - Cập nhật ảnh: https://homepage.momocdn.net/cinema/momo-cdn-api-220615142503-637908999030529509.jpg\n"
     ]
    },
    {
     "name": "stderr",
     "output_type": "stream",
     "text": [
      "C:\\Users\\ADMIN\\AppData\\Local\\Temp\\ipykernel_7724\\373337600.py:22: FutureWarning: Series.__getitem__ treating keys as positions is deprecated. In a future version, integer keys will always be treated as labels (consistent with DataFrame behavior). To access a value by position, use `ser.iloc[pos]`\n",
      "  link = row[1]  # Cột 1 chứa link review\n"
     ]
    },
    {
     "name": "stdout",
     "output_type": "stream",
     "text": [
      "638/845 - Cập nhật thể loại: Chính kịch, Kinh dị\n",
      "638/845 - Cập nhật ảnh: https://cinema.momocdn.net/img/51164349335277173-l8OyAXEp5FKZWmDhqJMbiwAEvz.jpg\n"
     ]
    },
    {
     "name": "stderr",
     "output_type": "stream",
     "text": [
      "C:\\Users\\ADMIN\\AppData\\Local\\Temp\\ipykernel_7724\\373337600.py:22: FutureWarning: Series.__getitem__ treating keys as positions is deprecated. In a future version, integer keys will always be treated as labels (consistent with DataFrame behavior). To access a value by position, use `ser.iloc[pos]`\n",
      "  link = row[1]  # Cột 1 chứa link review\n"
     ]
    },
    {
     "name": "stdout",
     "output_type": "stream",
     "text": [
      "639/845 - Cập nhật thể loại: Phiêu lưu, Hoạt hình\n",
      "639/845 - Cập nhật ảnh: https://cinema.momocdn.net/img/29086768592732707-hglZzptsgCdC62kT436nL7cXDca.jpg\n"
     ]
    },
    {
     "name": "stderr",
     "output_type": "stream",
     "text": [
      "C:\\Users\\ADMIN\\AppData\\Local\\Temp\\ipykernel_7724\\373337600.py:22: FutureWarning: Series.__getitem__ treating keys as positions is deprecated. In a future version, integer keys will always be treated as labels (consistent with DataFrame behavior). To access a value by position, use `ser.iloc[pos]`\n",
      "  link = row[1]  # Cột 1 chứa link review\n"
     ]
    },
    {
     "name": "stdout",
     "output_type": "stream",
     "text": [
      "640/845 - Cập nhật thể loại: Gay cấn, Bí ẩn, Hình sự\n",
      "640/845 - Cập nhật ảnh: https://cinema.momocdn.net/img/9031046827114176-tbQ7bEg5qnk7zR1bsi4xMqnaIRu.jpg\n"
     ]
    },
    {
     "name": "stderr",
     "output_type": "stream",
     "text": [
      "C:\\Users\\ADMIN\\AppData\\Local\\Temp\\ipykernel_7724\\373337600.py:22: FutureWarning: Series.__getitem__ treating keys as positions is deprecated. In a future version, integer keys will always be treated as labels (consistent with DataFrame behavior). To access a value by position, use `ser.iloc[pos]`\n",
      "  link = row[1]  # Cột 1 chứa link review\n"
     ]
    },
    {
     "name": "stdout",
     "output_type": "stream",
     "text": [
      "641/845 - Cập nhật thể loại: Chính kịch, Hài\n",
      "641/845 - Cập nhật ảnh: https://cinema.momocdn.net/img/94295198409263216-ivUOT7czxrz9uR3K8KV5D2JchBi.jpg\n"
     ]
    },
    {
     "name": "stderr",
     "output_type": "stream",
     "text": [
      "C:\\Users\\ADMIN\\AppData\\Local\\Temp\\ipykernel_7724\\373337600.py:22: FutureWarning: Series.__getitem__ treating keys as positions is deprecated. In a future version, integer keys will always be treated as labels (consistent with DataFrame behavior). To access a value by position, use `ser.iloc[pos]`\n",
      "  link = row[1]  # Cột 1 chứa link review\n"
     ]
    },
    {
     "name": "stdout",
     "output_type": "stream",
     "text": [
      "642/845 - Cập nhật thể loại: Hài, Hành động\n",
      "642/845 - Cập nhật ảnh: https://cinema.momocdn.net/img/92384667315180094-1iUHX2c24DIDQJYBSImmyKr0GHn.jpg\n"
     ]
    },
    {
     "name": "stderr",
     "output_type": "stream",
     "text": [
      "C:\\Users\\ADMIN\\AppData\\Local\\Temp\\ipykernel_7724\\373337600.py:22: FutureWarning: Series.__getitem__ treating keys as positions is deprecated. In a future version, integer keys will always be treated as labels (consistent with DataFrame behavior). To access a value by position, use `ser.iloc[pos]`\n",
      "  link = row[1]  # Cột 1 chứa link review\n"
     ]
    },
    {
     "name": "stdout",
     "output_type": "stream",
     "text": [
      "643/845 - Cập nhật thể loại: Tình cảm, Hài, Lãng mạn\n",
      "643/845 - Cập nhật ảnh: https://cinema.momocdn.net/img/80292038888362351-1HtkO6fEMeB65xKak5LakfrKOrd.jpg\n"
     ]
    },
    {
     "name": "stderr",
     "output_type": "stream",
     "text": [
      "C:\\Users\\ADMIN\\AppData\\Local\\Temp\\ipykernel_7724\\373337600.py:22: FutureWarning: Series.__getitem__ treating keys as positions is deprecated. In a future version, integer keys will always be treated as labels (consistent with DataFrame behavior). To access a value by position, use `ser.iloc[pos]`\n",
      "  link = row[1]  # Cột 1 chứa link review\n"
     ]
    },
    {
     "name": "stdout",
     "output_type": "stream",
     "text": [
      "644/845 - Cập nhật thể loại: Chính kịch, Gay cấn, Hình sự\n",
      "644/845 - Cập nhật ảnh: https://homepage.momocdn.net/cinema/momo-cdn-api-220615142816-637909000962905375.jpg\n"
     ]
    },
    {
     "name": "stderr",
     "output_type": "stream",
     "text": [
      "C:\\Users\\ADMIN\\AppData\\Local\\Temp\\ipykernel_7724\\373337600.py:22: FutureWarning: Series.__getitem__ treating keys as positions is deprecated. In a future version, integer keys will always be treated as labels (consistent with DataFrame behavior). To access a value by position, use `ser.iloc[pos]`\n",
      "  link = row[1]  # Cột 1 chứa link review\n"
     ]
    },
    {
     "name": "stdout",
     "output_type": "stream",
     "text": [
      "645/845 - Cập nhật thể loại: Bí ẩn, Kinh dị\n",
      "645/845 - Cập nhật ảnh: https://homepage.momocdn.net/cinema/momo-cdn-api-220615142619-637908999798615508.jpg\n"
     ]
    },
    {
     "name": "stderr",
     "output_type": "stream",
     "text": [
      "C:\\Users\\ADMIN\\AppData\\Local\\Temp\\ipykernel_7724\\373337600.py:22: FutureWarning: Series.__getitem__ treating keys as positions is deprecated. In a future version, integer keys will always be treated as labels (consistent with DataFrame behavior). To access a value by position, use `ser.iloc[pos]`\n",
      "  link = row[1]  # Cột 1 chứa link review\n"
     ]
    },
    {
     "name": "stdout",
     "output_type": "stream",
     "text": [
      "646/845 - Cập nhật thể loại: Hài, Hành động\n",
      "646/845 - Cập nhật ảnh: https://homepage.momocdn.net/cinema/momo-cdn-api-220615142352-637908998323337638.jpg\n"
     ]
    },
    {
     "name": "stderr",
     "output_type": "stream",
     "text": [
      "C:\\Users\\ADMIN\\AppData\\Local\\Temp\\ipykernel_7724\\373337600.py:22: FutureWarning: Series.__getitem__ treating keys as positions is deprecated. In a future version, integer keys will always be treated as labels (consistent with DataFrame behavior). To access a value by position, use `ser.iloc[pos]`\n",
      "  link = row[1]  # Cột 1 chứa link review\n"
     ]
    },
    {
     "name": "stdout",
     "output_type": "stream",
     "text": [
      "647/845 - Cập nhật thể loại: Tâm lý\n",
      "647/845 - Cập nhật ảnh: https://image.tmdb.org/t/p/w780/3pxw8nebAow801XgvEebxI5TTrF.jpg\n"
     ]
    },
    {
     "name": "stderr",
     "output_type": "stream",
     "text": [
      "C:\\Users\\ADMIN\\AppData\\Local\\Temp\\ipykernel_7724\\373337600.py:22: FutureWarning: Series.__getitem__ treating keys as positions is deprecated. In a future version, integer keys will always be treated as labels (consistent with DataFrame behavior). To access a value by position, use `ser.iloc[pos]`\n",
      "  link = row[1]  # Cột 1 chứa link review\n"
     ]
    },
    {
     "name": "stdout",
     "output_type": "stream",
     "text": [
      "648/845 - Cập nhật thể loại: Chính kịch, Lãng mạn\n",
      "648/845 - Cập nhật ảnh: https://cinema.momocdn.net/img/100924632695389810-2KY3rb2WpR86kDlZzvTjS4mJjNj.jpg\n"
     ]
    },
    {
     "name": "stderr",
     "output_type": "stream",
     "text": [
      "C:\\Users\\ADMIN\\AppData\\Local\\Temp\\ipykernel_7724\\373337600.py:22: FutureWarning: Series.__getitem__ treating keys as positions is deprecated. In a future version, integer keys will always be treated as labels (consistent with DataFrame behavior). To access a value by position, use `ser.iloc[pos]`\n",
      "  link = row[1]  # Cột 1 chứa link review\n"
     ]
    },
    {
     "name": "stdout",
     "output_type": "stream",
     "text": [
      "649/845 - Cập nhật thể loại: Tâm lý, Kinh dị, Hài, Lãng mạn\n",
      "649/845 - Cập nhật ảnh: https://cinema.momocdn.net/img/88236010187720214-vLI8s0xbiyLAMxmsfZiCdM5bXt6.jpg\n"
     ]
    },
    {
     "name": "stderr",
     "output_type": "stream",
     "text": [
      "C:\\Users\\ADMIN\\AppData\\Local\\Temp\\ipykernel_7724\\373337600.py:22: FutureWarning: Series.__getitem__ treating keys as positions is deprecated. In a future version, integer keys will always be treated as labels (consistent with DataFrame behavior). To access a value by position, use `ser.iloc[pos]`\n",
      "  link = row[1]  # Cột 1 chứa link review\n"
     ]
    },
    {
     "name": "stdout",
     "output_type": "stream",
     "text": [
      "650/845 - Cập nhật thể loại: Gay cấn, Hình sự\n",
      "650/845 - Cập nhật ảnh: https://cinema.momocdn.net/img/82694703410772626-8HOGCOnZn9T10htivZ95CGdko8F.jpg\n"
     ]
    },
    {
     "name": "stderr",
     "output_type": "stream",
     "text": [
      "C:\\Users\\ADMIN\\AppData\\Local\\Temp\\ipykernel_7724\\373337600.py:22: FutureWarning: Series.__getitem__ treating keys as positions is deprecated. In a future version, integer keys will always be treated as labels (consistent with DataFrame behavior). To access a value by position, use `ser.iloc[pos]`\n",
      "  link = row[1]  # Cột 1 chứa link review\n"
     ]
    },
    {
     "name": "stdout",
     "output_type": "stream",
     "text": [
      "651/845 - Cập nhật thể loại: Ma, Kinh dị\n",
      "651/845 - Cập nhật ảnh: https://homepage.momocdn.net/cinema/momo-cdn-api-220711160237-637931521576034948.jpg\n"
     ]
    },
    {
     "name": "stderr",
     "output_type": "stream",
     "text": [
      "C:\\Users\\ADMIN\\AppData\\Local\\Temp\\ipykernel_7724\\373337600.py:22: FutureWarning: Series.__getitem__ treating keys as positions is deprecated. In a future version, integer keys will always be treated as labels (consistent with DataFrame behavior). To access a value by position, use `ser.iloc[pos]`\n",
      "  link = row[1]  # Cột 1 chứa link review\n"
     ]
    },
    {
     "name": "stdout",
     "output_type": "stream",
     "text": [
      "652/845 - Cập nhật thể loại: Gay cấn, Kinh dị, Hành động\n",
      "652/845 - Cập nhật ảnh: https://homepage.momocdn.net/cinema/momo-cdn-api-220615143126-637909002862029774.jpg\n"
     ]
    },
    {
     "name": "stderr",
     "output_type": "stream",
     "text": [
      "C:\\Users\\ADMIN\\AppData\\Local\\Temp\\ipykernel_7724\\373337600.py:22: FutureWarning: Series.__getitem__ treating keys as positions is deprecated. In a future version, integer keys will always be treated as labels (consistent with DataFrame behavior). To access a value by position, use `ser.iloc[pos]`\n",
      "  link = row[1]  # Cột 1 chứa link review\n"
     ]
    },
    {
     "name": "stdout",
     "output_type": "stream",
     "text": [
      "653/845 - Cập nhật thể loại: Chính kịch, Tâm lý, Tình cảm\n",
      "653/845 - Cập nhật ảnh: https://cinema.momocdn.net/img/07962064-79a9-4af4-b628-a53e21b6a6a3-4264800036583216.png\n"
     ]
    },
    {
     "name": "stderr",
     "output_type": "stream",
     "text": [
      "C:\\Users\\ADMIN\\AppData\\Local\\Temp\\ipykernel_7724\\373337600.py:22: FutureWarning: Series.__getitem__ treating keys as positions is deprecated. In a future version, integer keys will always be treated as labels (consistent with DataFrame behavior). To access a value by position, use `ser.iloc[pos]`\n",
      "  link = row[1]  # Cột 1 chứa link review\n"
     ]
    },
    {
     "name": "stdout",
     "output_type": "stream",
     "text": [
      "654/845 - Cập nhật thể loại: Gia đình, Khoa học - Viễn tưởng, Hài\n",
      "654/845 - Cập nhật ảnh: https://homepage.momocdn.net/cinema/momo-cdn-api-220615142907-637909001476938825.jpg\n"
     ]
    },
    {
     "name": "stderr",
     "output_type": "stream",
     "text": [
      "C:\\Users\\ADMIN\\AppData\\Local\\Temp\\ipykernel_7724\\373337600.py:22: FutureWarning: Series.__getitem__ treating keys as positions is deprecated. In a future version, integer keys will always be treated as labels (consistent with DataFrame behavior). To access a value by position, use `ser.iloc[pos]`\n",
      "  link = row[1]  # Cột 1 chứa link review\n"
     ]
    },
    {
     "name": "stdout",
     "output_type": "stream",
     "text": [
      "655/845 - Cập nhật thể loại: Âm Nhạc, Tài liệu\n",
      "655/845 - Cập nhật ảnh: https://homepage.momocdn.net/cinema/momo-cdn-api-220615142733-637909000537838087.jpg\n"
     ]
    },
    {
     "name": "stderr",
     "output_type": "stream",
     "text": [
      "C:\\Users\\ADMIN\\AppData\\Local\\Temp\\ipykernel_7724\\373337600.py:22: FutureWarning: Series.__getitem__ treating keys as positions is deprecated. In a future version, integer keys will always be treated as labels (consistent with DataFrame behavior). To access a value by position, use `ser.iloc[pos]`\n",
      "  link = row[1]  # Cột 1 chứa link review\n"
     ]
    },
    {
     "name": "stdout",
     "output_type": "stream",
     "text": [
      "656/845 - Cập nhật thể loại: Chính kịch, Hình sự\n",
      "656/845 - Cập nhật ảnh: https://homepage.momocdn.net/cinema/momo-cdn-api-220615142628-637908999889343906.jpg\n"
     ]
    },
    {
     "name": "stderr",
     "output_type": "stream",
     "text": [
      "C:\\Users\\ADMIN\\AppData\\Local\\Temp\\ipykernel_7724\\373337600.py:22: FutureWarning: Series.__getitem__ treating keys as positions is deprecated. In a future version, integer keys will always be treated as labels (consistent with DataFrame behavior). To access a value by position, use `ser.iloc[pos]`\n",
      "  link = row[1]  # Cột 1 chứa link review\n"
     ]
    },
    {
     "name": "stdout",
     "output_type": "stream",
     "text": [
      "657/845 - Cập nhật thể loại: Chính kịch, Gay cấn\n",
      "657/845 - Cập nhật ảnh: https://cinema.momocdn.net/img/95639436696465060-28CEBwLDmLPMJKwAyBkfUqSW5.jpg\n"
     ]
    },
    {
     "name": "stderr",
     "output_type": "stream",
     "text": [
      "C:\\Users\\ADMIN\\AppData\\Local\\Temp\\ipykernel_7724\\373337600.py:22: FutureWarning: Series.__getitem__ treating keys as positions is deprecated. In a future version, integer keys will always be treated as labels (consistent with DataFrame behavior). To access a value by position, use `ser.iloc[pos]`\n",
      "  link = row[1]  # Cột 1 chứa link review\n"
     ]
    },
    {
     "name": "stdout",
     "output_type": "stream",
     "text": [
      "658/845 - Cập nhật thể loại: Âm Nhạc, Tài liệu\n",
      "658/845 - Cập nhật ảnh: https://image.tmdb.org/t/p/w780/ltU1bL4i6v52STYXlUwH5mTh6Y9.jpg\n"
     ]
    },
    {
     "name": "stderr",
     "output_type": "stream",
     "text": [
      "C:\\Users\\ADMIN\\AppData\\Local\\Temp\\ipykernel_7724\\373337600.py:22: FutureWarning: Series.__getitem__ treating keys as positions is deprecated. In a future version, integer keys will always be treated as labels (consistent with DataFrame behavior). To access a value by position, use `ser.iloc[pos]`\n",
      "  link = row[1]  # Cột 1 chứa link review\n"
     ]
    },
    {
     "name": "stdout",
     "output_type": "stream",
     "text": [
      "659/845 - Cập nhật thể loại: Kinh dị\n",
      "659/845 - Cập nhật ảnh: https://cinema.momocdn.net/img/52005012301248372-640wx396h-calling.jpg\n"
     ]
    },
    {
     "name": "stderr",
     "output_type": "stream",
     "text": [
      "C:\\Users\\ADMIN\\AppData\\Local\\Temp\\ipykernel_7724\\373337600.py:22: FutureWarning: Series.__getitem__ treating keys as positions is deprecated. In a future version, integer keys will always be treated as labels (consistent with DataFrame behavior). To access a value by position, use `ser.iloc[pos]`\n",
      "  link = row[1]  # Cột 1 chứa link review\n"
     ]
    },
    {
     "name": "stdout",
     "output_type": "stream",
     "text": [
      "660/845 - Cập nhật thể loại: Gay cấn, Ma, Kinh dị\n",
      "660/845 - Cập nhật ảnh: https://cinema.momocdn.net/img/17333300304135805-maxresdefault%20(13\n"
     ]
    },
    {
     "name": "stderr",
     "output_type": "stream",
     "text": [
      "C:\\Users\\ADMIN\\AppData\\Local\\Temp\\ipykernel_7724\\373337600.py:22: FutureWarning: Series.__getitem__ treating keys as positions is deprecated. In a future version, integer keys will always be treated as labels (consistent with DataFrame behavior). To access a value by position, use `ser.iloc[pos]`\n",
      "  link = row[1]  # Cột 1 chứa link review\n"
     ]
    },
    {
     "name": "stdout",
     "output_type": "stream",
     "text": [
      "661/845 - Cập nhật thể loại: Tình cảm, Hài, Lãng mạn\n",
      "661/845 - Cập nhật ảnh: https://cinema.momocdn.net/img/17492044076257535-maxresdefault%20(14\n"
     ]
    },
    {
     "name": "stderr",
     "output_type": "stream",
     "text": [
      "C:\\Users\\ADMIN\\AppData\\Local\\Temp\\ipykernel_7724\\373337600.py:22: FutureWarning: Series.__getitem__ treating keys as positions is deprecated. In a future version, integer keys will always be treated as labels (consistent with DataFrame behavior). To access a value by position, use `ser.iloc[pos]`\n",
      "  link = row[1]  # Cột 1 chứa link review\n"
     ]
    },
    {
     "name": "stdout",
     "output_type": "stream",
     "text": [
      "662/845 - Cập nhật thể loại: Gay cấn, Kinh dị, Khoa học - Viễn tưởng\n",
      "662/845 - Cập nhật ảnh: https://cinema.momocdn.net/img/89449585422472374-oijKQd7jcaAwq3aLoUiGo1abeV3.jpg\n"
     ]
    },
    {
     "name": "stderr",
     "output_type": "stream",
     "text": [
      "C:\\Users\\ADMIN\\AppData\\Local\\Temp\\ipykernel_7724\\373337600.py:22: FutureWarning: Series.__getitem__ treating keys as positions is deprecated. In a future version, integer keys will always be treated as labels (consistent with DataFrame behavior). To access a value by position, use `ser.iloc[pos]`\n",
      "  link = row[1]  # Cột 1 chứa link review\n"
     ]
    },
    {
     "name": "stdout",
     "output_type": "stream",
     "text": [
      "663/845 - Cập nhật thể loại: Gia đình, Phiêu lưu, Khoa học - Viễn tưởng\n",
      "663/845 - Cập nhật ảnh: https://cinema.momocdn.net/img/87789885600535103-5rrGVmRUuCKVbqUu41XIWTXJmNA.jpg\n"
     ]
    },
    {
     "name": "stderr",
     "output_type": "stream",
     "text": [
      "C:\\Users\\ADMIN\\AppData\\Local\\Temp\\ipykernel_7724\\373337600.py:22: FutureWarning: Series.__getitem__ treating keys as positions is deprecated. In a future version, integer keys will always be treated as labels (consistent with DataFrame behavior). To access a value by position, use `ser.iloc[pos]`\n",
      "  link = row[1]  # Cột 1 chứa link review\n"
     ]
    },
    {
     "name": "stdout",
     "output_type": "stream",
     "text": [
      "664/845 - Cập nhật thể loại: Ma, Kinh dị\n",
      "664/845 - Cập nhật ảnh: https://cinema.momocdn.net/img/78653918287691149-aZ8365UJquswZof2R6LQAoAU04k.jpg\n"
     ]
    },
    {
     "name": "stderr",
     "output_type": "stream",
     "text": [
      "C:\\Users\\ADMIN\\AppData\\Local\\Temp\\ipykernel_7724\\373337600.py:22: FutureWarning: Series.__getitem__ treating keys as positions is deprecated. In a future version, integer keys will always be treated as labels (consistent with DataFrame behavior). To access a value by position, use `ser.iloc[pos]`\n",
      "  link = row[1]  # Cột 1 chứa link review\n"
     ]
    },
    {
     "name": "stdout",
     "output_type": "stream",
     "text": [
      "665/845 - Cập nhật thể loại: Phiêu lưu, Khoa học - Viễn tưởng, Hành động\n",
      "665/845 - Cập nhật ảnh: https://cinema.momocdn.net/img/75695774918739407-vbk5CfaAHOjQPSAcYm6AoRRz2Af.jpg\n"
     ]
    },
    {
     "name": "stderr",
     "output_type": "stream",
     "text": [
      "C:\\Users\\ADMIN\\AppData\\Local\\Temp\\ipykernel_7724\\373337600.py:22: FutureWarning: Series.__getitem__ treating keys as positions is deprecated. In a future version, integer keys will always be treated as labels (consistent with DataFrame behavior). To access a value by position, use `ser.iloc[pos]`\n",
      "  link = row[1]  # Cột 1 chứa link review\n"
     ]
    },
    {
     "name": "stdout",
     "output_type": "stream",
     "text": [
      "666/845 - Cập nhật thể loại: Hài, Lãng mạn\n",
      "666/845 - Cập nhật ảnh: https://cinema.momocdn.net/img/db497606-0a90-43d3-a0c2-73299cfd7c40-4275240057913898.png\n"
     ]
    },
    {
     "name": "stderr",
     "output_type": "stream",
     "text": [
      "C:\\Users\\ADMIN\\AppData\\Local\\Temp\\ipykernel_7724\\373337600.py:22: FutureWarning: Series.__getitem__ treating keys as positions is deprecated. In a future version, integer keys will always be treated as labels (consistent with DataFrame behavior). To access a value by position, use `ser.iloc[pos]`\n",
      "  link = row[1]  # Cột 1 chứa link review\n"
     ]
    },
    {
     "name": "stdout",
     "output_type": "stream",
     "text": [
      "667/845 - Cập nhật thể loại: Chính kịch, Gay cấn, Hình sự\n",
      "667/845 - Cập nhật ảnh: https://homepage.momocdn.net/cinema/momo-cdn-api-220615142935-637909001759507565.jpg\n"
     ]
    },
    {
     "name": "stderr",
     "output_type": "stream",
     "text": [
      "C:\\Users\\ADMIN\\AppData\\Local\\Temp\\ipykernel_7724\\373337600.py:22: FutureWarning: Series.__getitem__ treating keys as positions is deprecated. In a future version, integer keys will always be treated as labels (consistent with DataFrame behavior). To access a value by position, use `ser.iloc[pos]`\n",
      "  link = row[1]  # Cột 1 chứa link review\n"
     ]
    },
    {
     "name": "stdout",
     "output_type": "stream",
     "text": [
      "668/845 - Cập nhật thể loại: Chính kịch, Gay cấn, Bí ẩn, Tâm lý, Kinh dị\n",
      "668/845 - Cập nhật ảnh: https://homepage.momocdn.net/cinema/momo-cdn-api-220615142545-637908999453698798.jpg\n"
     ]
    },
    {
     "name": "stderr",
     "output_type": "stream",
     "text": [
      "C:\\Users\\ADMIN\\AppData\\Local\\Temp\\ipykernel_7724\\373337600.py:22: FutureWarning: Series.__getitem__ treating keys as positions is deprecated. In a future version, integer keys will always be treated as labels (consistent with DataFrame behavior). To access a value by position, use `ser.iloc[pos]`\n",
      "  link = row[1]  # Cột 1 chứa link review\n"
     ]
    },
    {
     "name": "stdout",
     "output_type": "stream",
     "text": [
      "669/845 - Cập nhật thể loại: Gay cấn, Hành động\n",
      "669/845 - Cập nhật ảnh: https://homepage.momocdn.net/cinema/momo-cdn-api-220615142919-637909001593510432.jpg\n"
     ]
    },
    {
     "name": "stderr",
     "output_type": "stream",
     "text": [
      "C:\\Users\\ADMIN\\AppData\\Local\\Temp\\ipykernel_7724\\373337600.py:22: FutureWarning: Series.__getitem__ treating keys as positions is deprecated. In a future version, integer keys will always be treated as labels (consistent with DataFrame behavior). To access a value by position, use `ser.iloc[pos]`\n",
      "  link = row[1]  # Cột 1 chứa link review\n"
     ]
    },
    {
     "name": "stdout",
     "output_type": "stream",
     "text": [
      "670/845 - Cập nhật thể loại: Gia đình, Phiêu lưu, Hoạt hình\n",
      "670/845 - Cập nhật ảnh: https://homepage.momocdn.net/cinema/momo-cdn-api-220615142916-637909001567918370.jpg\n"
     ]
    },
    {
     "name": "stderr",
     "output_type": "stream",
     "text": [
      "C:\\Users\\ADMIN\\AppData\\Local\\Temp\\ipykernel_7724\\373337600.py:22: FutureWarning: Series.__getitem__ treating keys as positions is deprecated. In a future version, integer keys will always be treated as labels (consistent with DataFrame behavior). To access a value by position, use `ser.iloc[pos]`\n",
      "  link = row[1]  # Cột 1 chứa link review\n"
     ]
    },
    {
     "name": "stdout",
     "output_type": "stream",
     "text": [
      "671/845 - Cập nhật thể loại: Chính kịch, Hài\n",
      "671/845 - Cập nhật ảnh: https://homepage.momocdn.net/cinema/momo-cdn-api-220615142732-637909000523146697.jpg\n"
     ]
    },
    {
     "name": "stderr",
     "output_type": "stream",
     "text": [
      "C:\\Users\\ADMIN\\AppData\\Local\\Temp\\ipykernel_7724\\373337600.py:22: FutureWarning: Series.__getitem__ treating keys as positions is deprecated. In a future version, integer keys will always be treated as labels (consistent with DataFrame behavior). To access a value by position, use `ser.iloc[pos]`\n",
      "  link = row[1]  # Cột 1 chứa link review\n"
     ]
    },
    {
     "name": "stdout",
     "output_type": "stream",
     "text": [
      "672/845 - Cập nhật thể loại: Siêu anh hùng, Phiêu lưu, Hình sự, Hài, Hành động\n",
      "672/845 - Cập nhật ảnh: https://homepage.momocdn.net/cinema/momo-cdn-api-220615142519-637908999191152456.jpg\n"
     ]
    },
    {
     "name": "stderr",
     "output_type": "stream",
     "text": [
      "C:\\Users\\ADMIN\\AppData\\Local\\Temp\\ipykernel_7724\\373337600.py:22: FutureWarning: Series.__getitem__ treating keys as positions is deprecated. In a future version, integer keys will always be treated as labels (consistent with DataFrame behavior). To access a value by position, use `ser.iloc[pos]`\n",
      "  link = row[1]  # Cột 1 chứa link review\n"
     ]
    },
    {
     "name": "stdout",
     "output_type": "stream",
     "text": [
      "673/845 - Cập nhật thể loại: Gay cấn, Bí ẩn, Ma, Kinh dị\n",
      "673/845 - Cập nhật ảnh: https://homepage.momocdn.net/cinema/momo-cdn-api-220615135315-637908979950609628.jpg\n"
     ]
    },
    {
     "name": "stderr",
     "output_type": "stream",
     "text": [
      "C:\\Users\\ADMIN\\AppData\\Local\\Temp\\ipykernel_7724\\373337600.py:22: FutureWarning: Series.__getitem__ treating keys as positions is deprecated. In a future version, integer keys will always be treated as labels (consistent with DataFrame behavior). To access a value by position, use `ser.iloc[pos]`\n",
      "  link = row[1]  # Cột 1 chứa link review\n"
     ]
    },
    {
     "name": "stdout",
     "output_type": "stream",
     "text": [
      "674/845 - Cập nhật thể loại: Ma, Kinh dị, Hành động\n",
      "674/845 - Cập nhật ảnh: https://homepage.momocdn.net/cinema/momo-cdn-api-220615135324-637908980040272580.jpg\n"
     ]
    },
    {
     "name": "stderr",
     "output_type": "stream",
     "text": [
      "C:\\Users\\ADMIN\\AppData\\Local\\Temp\\ipykernel_7724\\373337600.py:22: FutureWarning: Series.__getitem__ treating keys as positions is deprecated. In a future version, integer keys will always be treated as labels (consistent with DataFrame behavior). To access a value by position, use `ser.iloc[pos]`\n",
      "  link = row[1]  # Cột 1 chứa link review\n"
     ]
    },
    {
     "name": "stdout",
     "output_type": "stream",
     "text": [
      "675/845 - Cập nhật thể loại: Kinh dị\n",
      "675/845 - Cập nhật ảnh: https://homepage.momocdn.net/cinema/momo-cdn-api-220615142431-637908998713696960.jpg\n"
     ]
    },
    {
     "name": "stderr",
     "output_type": "stream",
     "text": [
      "C:\\Users\\ADMIN\\AppData\\Local\\Temp\\ipykernel_7724\\373337600.py:22: FutureWarning: Series.__getitem__ treating keys as positions is deprecated. In a future version, integer keys will always be treated as labels (consistent with DataFrame behavior). To access a value by position, use `ser.iloc[pos]`\n",
      "  link = row[1]  # Cột 1 chứa link review\n"
     ]
    },
    {
     "name": "stdout",
     "output_type": "stream",
     "text": [
      "676/845 - Cập nhật thể loại: Gay cấn, Hành động\n",
      "676/845 - Cập nhật ảnh: https://homepage.momocdn.net/cinema/momo-cdn-api-220615142429-637908998697588633.jpg\n"
     ]
    },
    {
     "name": "stderr",
     "output_type": "stream",
     "text": [
      "C:\\Users\\ADMIN\\AppData\\Local\\Temp\\ipykernel_7724\\373337600.py:22: FutureWarning: Series.__getitem__ treating keys as positions is deprecated. In a future version, integer keys will always be treated as labels (consistent with DataFrame behavior). To access a value by position, use `ser.iloc[pos]`\n",
      "  link = row[1]  # Cột 1 chứa link review\n"
     ]
    },
    {
     "name": "stdout",
     "output_type": "stream",
     "text": [
      "677/845 - Cập nhật thể loại: Chính kịch, Gia đình, Hành động\n",
      "677/845 - Cập nhật ảnh: https://homepage.momocdn.net/cinema/momo-cdn-api-220615142345-637908998256096611.jpg\n"
     ]
    },
    {
     "name": "stderr",
     "output_type": "stream",
     "text": [
      "C:\\Users\\ADMIN\\AppData\\Local\\Temp\\ipykernel_7724\\373337600.py:22: FutureWarning: Series.__getitem__ treating keys as positions is deprecated. In a future version, integer keys will always be treated as labels (consistent with DataFrame behavior). To access a value by position, use `ser.iloc[pos]`\n",
      "  link = row[1]  # Cột 1 chứa link review\n"
     ]
    },
    {
     "name": "stdout",
     "output_type": "stream",
     "text": [
      "678/845 - Cập nhật thể loại: Chính kịch, Thảm hoạ, Hành động\n",
      "678/845 - Cập nhật ảnh: https://homepage.momocdn.net/cinema/momo-cdn-api-220615142343-637908998235489045.jpg\n"
     ]
    },
    {
     "name": "stderr",
     "output_type": "stream",
     "text": [
      "C:\\Users\\ADMIN\\AppData\\Local\\Temp\\ipykernel_7724\\373337600.py:22: FutureWarning: Series.__getitem__ treating keys as positions is deprecated. In a future version, integer keys will always be treated as labels (consistent with DataFrame behavior). To access a value by position, use `ser.iloc[pos]`\n",
      "  link = row[1]  # Cột 1 chứa link review\n"
     ]
    },
    {
     "name": "stdout",
     "output_type": "stream",
     "text": [
      "679/845 - Cập nhật thể loại: Gay cấn, Hình sự, Hành động\n",
      "679/845 - Cập nhật ảnh: https://image.tmdb.org/t/p/w780/rOMLLMGgDgGG6XeT3P8sUdUb8nl.jpg\n"
     ]
    },
    {
     "name": "stderr",
     "output_type": "stream",
     "text": [
      "C:\\Users\\ADMIN\\AppData\\Local\\Temp\\ipykernel_7724\\373337600.py:22: FutureWarning: Series.__getitem__ treating keys as positions is deprecated. In a future version, integer keys will always be treated as labels (consistent with DataFrame behavior). To access a value by position, use `ser.iloc[pos]`\n",
      "  link = row[1]  # Cột 1 chứa link review\n"
     ]
    },
    {
     "name": "stdout",
     "output_type": "stream",
     "text": [
      "680/845 - Cập nhật thể loại: Chính kịch, Hành động\n",
      "680/845 - Cập nhật ảnh: https://cinema.momocdn.net/img/51335019472262018-DlXdNS5JmM5WPSk5H64ritDy5.jpg\n"
     ]
    },
    {
     "name": "stderr",
     "output_type": "stream",
     "text": [
      "C:\\Users\\ADMIN\\AppData\\Local\\Temp\\ipykernel_7724\\373337600.py:22: FutureWarning: Series.__getitem__ treating keys as positions is deprecated. In a future version, integer keys will always be treated as labels (consistent with DataFrame behavior). To access a value by position, use `ser.iloc[pos]`\n",
      "  link = row[1]  # Cột 1 chứa link review\n"
     ]
    },
    {
     "name": "stdout",
     "output_type": "stream",
     "text": [
      "681/845 - Cập nhật thể loại: Kinh dị, Hành động, Hoạt hình\n",
      "681/845 - Cập nhật ảnh: https://cinema.momocdn.net/img/13882047356588929-qML773ukKgeJHBOsLyI4ZhrNGZx.jpg\n"
     ]
    },
    {
     "name": "stderr",
     "output_type": "stream",
     "text": [
      "C:\\Users\\ADMIN\\AppData\\Local\\Temp\\ipykernel_7724\\373337600.py:22: FutureWarning: Series.__getitem__ treating keys as positions is deprecated. In a future version, integer keys will always be treated as labels (consistent with DataFrame behavior). To access a value by position, use `ser.iloc[pos]`\n",
      "  link = row[1]  # Cột 1 chứa link review\n"
     ]
    },
    {
     "name": "stdout",
     "output_type": "stream",
     "text": [
      "682/845 - Cập nhật thể loại: Chính kịch, Ma, Kinh dị, Hành động\n",
      "682/845 - Cập nhật ảnh: https://cinema.momocdn.net/img/2297264138461410-zRQZOqbkxf2wguBahJ6iOdJT7BX.jpg\n"
     ]
    },
    {
     "name": "stderr",
     "output_type": "stream",
     "text": [
      "C:\\Users\\ADMIN\\AppData\\Local\\Temp\\ipykernel_7724\\373337600.py:22: FutureWarning: Series.__getitem__ treating keys as positions is deprecated. In a future version, integer keys will always be treated as labels (consistent with DataFrame behavior). To access a value by position, use `ser.iloc[pos]`\n",
      "  link = row[1]  # Cột 1 chứa link review\n"
     ]
    },
    {
     "name": "stdout",
     "output_type": "stream",
     "text": [
      "683/845 - Cập nhật thể loại: Kinh dị\n",
      "683/845 - Cập nhật ảnh: https://cinema.momocdn.net/img/93175408828683235-xpKEhcQSEn2PmH0UwXdZe7FxHVx.jpg\n"
     ]
    },
    {
     "name": "stderr",
     "output_type": "stream",
     "text": [
      "C:\\Users\\ADMIN\\AppData\\Local\\Temp\\ipykernel_7724\\373337600.py:22: FutureWarning: Series.__getitem__ treating keys as positions is deprecated. In a future version, integer keys will always be treated as labels (consistent with DataFrame behavior). To access a value by position, use `ser.iloc[pos]`\n",
      "  link = row[1]  # Cột 1 chứa link review\n"
     ]
    },
    {
     "name": "stdout",
     "output_type": "stream",
     "text": [
      "684/845 - Cập nhật thể loại: Chính kịch, Tâm lý\n",
      "684/845 - Cập nhật ảnh: https://cinema.momocdn.net/img/91950849739972814-7cVbl7kviABxBg48ZQDcf9du1rf.jpg\n"
     ]
    },
    {
     "name": "stderr",
     "output_type": "stream",
     "text": [
      "C:\\Users\\ADMIN\\AppData\\Local\\Temp\\ipykernel_7724\\373337600.py:22: FutureWarning: Series.__getitem__ treating keys as positions is deprecated. In a future version, integer keys will always be treated as labels (consistent with DataFrame behavior). To access a value by position, use `ser.iloc[pos]`\n",
      "  link = row[1]  # Cột 1 chứa link review\n"
     ]
    },
    {
     "name": "stdout",
     "output_type": "stream",
     "text": [
      "685/845 - Cập nhật thể loại: Âm Nhạc, Tình cảm, Hài, Lãng mạn\n",
      "685/845 - Cập nhật ảnh: https://homepage.momocdn.net/cinema/momo-cdn-api-220615142901-637909001410074547.jpg\n"
     ]
    },
    {
     "name": "stderr",
     "output_type": "stream",
     "text": [
      "C:\\Users\\ADMIN\\AppData\\Local\\Temp\\ipykernel_7724\\373337600.py:22: FutureWarning: Series.__getitem__ treating keys as positions is deprecated. In a future version, integer keys will always be treated as labels (consistent with DataFrame behavior). To access a value by position, use `ser.iloc[pos]`\n",
      "  link = row[1]  # Cột 1 chứa link review\n"
     ]
    },
    {
     "name": "stdout",
     "output_type": "stream",
     "text": [
      "686/845 - Cập nhật thể loại: Gia đình, Phiêu lưu, Hài, Hoạt hình\n",
      "686/845 - Cập nhật ảnh: https://homepage.momocdn.net/cinema/momo-cdn-api-220615142822-637909001027563386.jpg\n"
     ]
    },
    {
     "name": "stderr",
     "output_type": "stream",
     "text": [
      "C:\\Users\\ADMIN\\AppData\\Local\\Temp\\ipykernel_7724\\373337600.py:22: FutureWarning: Series.__getitem__ treating keys as positions is deprecated. In a future version, integer keys will always be treated as labels (consistent with DataFrame behavior). To access a value by position, use `ser.iloc[pos]`\n",
      "  link = row[1]  # Cột 1 chứa link review\n"
     ]
    },
    {
     "name": "stdout",
     "output_type": "stream",
     "text": [
      "687/845 - Cập nhật thể loại: Chính kịch, Gay cấn\n",
      "687/845 - Cập nhật ảnh: https://homepage.momocdn.net/cinema/momo-cdn-api-220615142548-637908999487748129.png\n"
     ]
    },
    {
     "name": "stderr",
     "output_type": "stream",
     "text": [
      "C:\\Users\\ADMIN\\AppData\\Local\\Temp\\ipykernel_7724\\373337600.py:22: FutureWarning: Series.__getitem__ treating keys as positions is deprecated. In a future version, integer keys will always be treated as labels (consistent with DataFrame behavior). To access a value by position, use `ser.iloc[pos]`\n",
      "  link = row[1]  # Cột 1 chứa link review\n"
     ]
    },
    {
     "name": "stdout",
     "output_type": "stream",
     "text": [
      "688/845 - Cập nhật thể loại: Hành động, Võ thuật\n",
      "688/845 - Cập nhật ảnh: https://cinema.momocdn.net/img/9560162f-170b-47e5-ac33-6a942c7253e7-4252320219183242.png\n"
     ]
    },
    {
     "name": "stderr",
     "output_type": "stream",
     "text": [
      "C:\\Users\\ADMIN\\AppData\\Local\\Temp\\ipykernel_7724\\373337600.py:22: FutureWarning: Series.__getitem__ treating keys as positions is deprecated. In a future version, integer keys will always be treated as labels (consistent with DataFrame behavior). To access a value by position, use `ser.iloc[pos]`\n",
      "  link = row[1]  # Cột 1 chứa link review\n"
     ]
    },
    {
     "name": "stdout",
     "output_type": "stream",
     "text": [
      "689/845 - Cập nhật thể loại: Gay cấn, Kinh dị, Hài\n",
      "689/845 - Cập nhật ảnh: https://homepage.momocdn.net/cinema/momo-cdn-api-220615142457-637908998973481152.jpg\n"
     ]
    },
    {
     "name": "stderr",
     "output_type": "stream",
     "text": [
      "C:\\Users\\ADMIN\\AppData\\Local\\Temp\\ipykernel_7724\\373337600.py:22: FutureWarning: Series.__getitem__ treating keys as positions is deprecated. In a future version, integer keys will always be treated as labels (consistent with DataFrame behavior). To access a value by position, use `ser.iloc[pos]`\n",
      "  link = row[1]  # Cột 1 chứa link review\n"
     ]
    },
    {
     "name": "stdout",
     "output_type": "stream",
     "text": [
      "690/845 - Cập nhật thể loại: Chính kịch, Âm Nhạc, Hoạt hình\n",
      "690/845 - Cập nhật ảnh: https://image.tmdb.org/t/p/w780/f7L0CMVMnlV2FRlWASw9Yu6zYEQ.jpg\n"
     ]
    },
    {
     "name": "stderr",
     "output_type": "stream",
     "text": [
      "C:\\Users\\ADMIN\\AppData\\Local\\Temp\\ipykernel_7724\\373337600.py:22: FutureWarning: Series.__getitem__ treating keys as positions is deprecated. In a future version, integer keys will always be treated as labels (consistent with DataFrame behavior). To access a value by position, use `ser.iloc[pos]`\n",
      "  link = row[1]  # Cột 1 chứa link review\n"
     ]
    },
    {
     "name": "stdout",
     "output_type": "stream",
     "text": [
      "691/845 - Cập nhật thể loại: Chính kịch, Lãng mạn\n",
      "691/845 - Cập nhật ảnh: https://cinema.momocdn.net/img/56917233411170875-Capture-2024-10-02-112111.png\n"
     ]
    },
    {
     "name": "stderr",
     "output_type": "stream",
     "text": [
      "C:\\Users\\ADMIN\\AppData\\Local\\Temp\\ipykernel_7724\\373337600.py:22: FutureWarning: Series.__getitem__ treating keys as positions is deprecated. In a future version, integer keys will always be treated as labels (consistent with DataFrame behavior). To access a value by position, use `ser.iloc[pos]`\n",
      "  link = row[1]  # Cột 1 chứa link review\n"
     ]
    },
    {
     "name": "stdout",
     "output_type": "stream",
     "text": [
      "692/845 - Cập nhật thể loại: Gia đình, Hài, Hành động, Hoạt hình\n",
      "692/845 - Cập nhật ảnh: https://cinema.momocdn.net/img/57931757198079449-jpTww2MaDju4JrE4ZjriwbBln6B.jpg\n"
     ]
    },
    {
     "name": "stderr",
     "output_type": "stream",
     "text": [
      "C:\\Users\\ADMIN\\AppData\\Local\\Temp\\ipykernel_7724\\373337600.py:22: FutureWarning: Series.__getitem__ treating keys as positions is deprecated. In a future version, integer keys will always be treated as labels (consistent with DataFrame behavior). To access a value by position, use `ser.iloc[pos]`\n",
      "  link = row[1]  # Cột 1 chứa link review\n"
     ]
    },
    {
     "name": "stdout",
     "output_type": "stream",
     "text": [
      "693/845 - Cập nhật thể loại: Chính kịch, Khoa học - Viễn tưởng, Hành động, Hoạt hình\n",
      "693/845 - Cập nhật ảnh: https://cinema.momocdn.net/img/51600478788737399-oe6wfHJ6i6b1YR0DLJJ7V0XTmLf.jpg\n"
     ]
    },
    {
     "name": "stderr",
     "output_type": "stream",
     "text": [
      "C:\\Users\\ADMIN\\AppData\\Local\\Temp\\ipykernel_7724\\373337600.py:22: FutureWarning: Series.__getitem__ treating keys as positions is deprecated. In a future version, integer keys will always be treated as labels (consistent with DataFrame behavior). To access a value by position, use `ser.iloc[pos]`\n",
      "  link = row[1]  # Cột 1 chứa link review\n"
     ]
    },
    {
     "name": "stdout",
     "output_type": "stream",
     "text": [
      "694/845 - Cập nhật thể loại: Gay cấn, Ma\n",
      "694/845 - Cập nhật ảnh: https://cinema.momocdn.net/img/25870517164389412-thumb_1.jpg\n"
     ]
    },
    {
     "name": "stderr",
     "output_type": "stream",
     "text": [
      "C:\\Users\\ADMIN\\AppData\\Local\\Temp\\ipykernel_7724\\373337600.py:22: FutureWarning: Series.__getitem__ treating keys as positions is deprecated. In a future version, integer keys will always be treated as labels (consistent with DataFrame behavior). To access a value by position, use `ser.iloc[pos]`\n",
      "  link = row[1]  # Cột 1 chứa link review\n"
     ]
    },
    {
     "name": "stdout",
     "output_type": "stream",
     "text": [
      "695/845 - Cập nhật thể loại: Chính kịch, Lãng mạn\n",
      "695/845 - Cập nhật ảnh: https://cinema.momocdn.net/img/19505099197943069-xIpVsOGaKuguTQl5k6IGJeDzp6k.jpg\n"
     ]
    },
    {
     "name": "stderr",
     "output_type": "stream",
     "text": [
      "C:\\Users\\ADMIN\\AppData\\Local\\Temp\\ipykernel_7724\\373337600.py:22: FutureWarning: Series.__getitem__ treating keys as positions is deprecated. In a future version, integer keys will always be treated as labels (consistent with DataFrame behavior). To access a value by position, use `ser.iloc[pos]`\n",
      "  link = row[1]  # Cột 1 chứa link review\n"
     ]
    },
    {
     "name": "stdout",
     "output_type": "stream",
     "text": [
      "696/845 - Cập nhật thể loại: Chính kịch, Tình cảm, Hài, Lãng mạn\n",
      "696/845 - Cập nhật ảnh: https://cinema.momocdn.net/img/10863558961599122-loser_lover___n_i_ta_g_p_nhau__preshow_kt_1350wx900h_020623.jpg\n"
     ]
    },
    {
     "name": "stderr",
     "output_type": "stream",
     "text": [
      "C:\\Users\\ADMIN\\AppData\\Local\\Temp\\ipykernel_7724\\373337600.py:22: FutureWarning: Series.__getitem__ treating keys as positions is deprecated. In a future version, integer keys will always be treated as labels (consistent with DataFrame behavior). To access a value by position, use `ser.iloc[pos]`\n",
      "  link = row[1]  # Cột 1 chứa link review\n"
     ]
    },
    {
     "name": "stdout",
     "output_type": "stream",
     "text": [
      "697/845 - Cập nhật thể loại: Gia đình, Khoa học - Viễn tưởng, Hài, Hoạt hình\n",
      "697/845 - Cập nhật ảnh: https://cinema.momocdn.net/img/1777949313082779-aI81IF6f68Nne2NFttKhyQMdJdN.jpg\n"
     ]
    },
    {
     "name": "stderr",
     "output_type": "stream",
     "text": [
      "C:\\Users\\ADMIN\\AppData\\Local\\Temp\\ipykernel_7724\\373337600.py:22: FutureWarning: Series.__getitem__ treating keys as positions is deprecated. In a future version, integer keys will always be treated as labels (consistent with DataFrame behavior). To access a value by position, use `ser.iloc[pos]`\n",
      "  link = row[1]  # Cột 1 chứa link review\n"
     ]
    },
    {
     "name": "stdout",
     "output_type": "stream",
     "text": [
      "698/845 - Cập nhật thể loại: Tâm lý, Hình sự, Hành động\n",
      "698/845 - Cập nhật ảnh: https://cinema.momocdn.net/img/94295373103440096-sjKnKEDHnjzsOmUHtqQ2hKTqgv2.jpg\n"
     ]
    },
    {
     "name": "stderr",
     "output_type": "stream",
     "text": [
      "C:\\Users\\ADMIN\\AppData\\Local\\Temp\\ipykernel_7724\\373337600.py:22: FutureWarning: Series.__getitem__ treating keys as positions is deprecated. In a future version, integer keys will always be treated as labels (consistent with DataFrame behavior). To access a value by position, use `ser.iloc[pos]`\n",
      "  link = row[1]  # Cột 1 chứa link review\n"
     ]
    },
    {
     "name": "stdout",
     "output_type": "stream",
     "text": [
      "699/845 - Cập nhật thể loại: Bí ẩn, Ma, Kinh dị\n",
      "699/845 - Cập nhật ảnh: https://cinema.momocdn.net/img/90211200220824070-pMj9d6jITjjo0fLHZX91E6GcdH2.jpg\n"
     ]
    },
    {
     "name": "stderr",
     "output_type": "stream",
     "text": [
      "C:\\Users\\ADMIN\\AppData\\Local\\Temp\\ipykernel_7724\\373337600.py:22: FutureWarning: Series.__getitem__ treating keys as positions is deprecated. In a future version, integer keys will always be treated as labels (consistent with DataFrame behavior). To access a value by position, use `ser.iloc[pos]`\n",
      "  link = row[1]  # Cột 1 chứa link review\n"
     ]
    },
    {
     "name": "stdout",
     "output_type": "stream",
     "text": [
      "700/845 - Cập nhật thể loại: Gia đình, Phiêu lưu, Hài, Hoạt hình\n",
      "700/845 - Cập nhật ảnh: https://cinema.momocdn.net/img/87461865788153913-8l2buCZeOsADD2tr4SbY9Ekm5II.jpg\n"
     ]
    },
    {
     "name": "stderr",
     "output_type": "stream",
     "text": [
      "C:\\Users\\ADMIN\\AppData\\Local\\Temp\\ipykernel_7724\\373337600.py:22: FutureWarning: Series.__getitem__ treating keys as positions is deprecated. In a future version, integer keys will always be treated as labels (consistent with DataFrame behavior). To access a value by position, use `ser.iloc[pos]`\n",
      "  link = row[1]  # Cột 1 chứa link review\n"
     ]
    },
    {
     "name": "stdout",
     "output_type": "stream",
     "text": [
      "701/845 - Cập nhật thể loại: Gay cấn, Kinh dị, Khoa học - Viễn tưởng\n",
      "701/845 - Cập nhật ảnh: https://cinema.momocdn.net/img/85815851863073897-zqeJdwsPcsIq9FmrAEUXzRVRCRM.jpg\n"
     ]
    },
    {
     "name": "stderr",
     "output_type": "stream",
     "text": [
      "C:\\Users\\ADMIN\\AppData\\Local\\Temp\\ipykernel_7724\\373337600.py:22: FutureWarning: Series.__getitem__ treating keys as positions is deprecated. In a future version, integer keys will always be treated as labels (consistent with DataFrame behavior). To access a value by position, use `ser.iloc[pos]`\n",
      "  link = row[1]  # Cột 1 chứa link review\n"
     ]
    },
    {
     "name": "stdout",
     "output_type": "stream",
     "text": [
      "702/845 - Cập nhật thể loại: Gay cấn, Hình sự, Hành động\n",
      "702/845 - Cập nhật ảnh: https://cinema.momocdn.net/img/82695949057132290-1KctJpQ7OJG4e1CLCf559FyfZVj.jpg\n"
     ]
    },
    {
     "name": "stderr",
     "output_type": "stream",
     "text": [
      "C:\\Users\\ADMIN\\AppData\\Local\\Temp\\ipykernel_7724\\373337600.py:22: FutureWarning: Series.__getitem__ treating keys as positions is deprecated. In a future version, integer keys will always be treated as labels (consistent with DataFrame behavior). To access a value by position, use `ser.iloc[pos]`\n",
      "  link = row[1]  # Cột 1 chứa link review\n"
     ]
    },
    {
     "name": "stdout",
     "output_type": "stream",
     "text": [
      "703/845 - Cập nhật thể loại: Phiêu lưu, Khoa học - Viễn tưởng, Hài, Hoạt hình\n",
      "703/845 - Cập nhật ảnh: https://homepage.momocdn.net/cinema/momo-cdn-api-220615143129-637909002892617995.jpg\n"
     ]
    },
    {
     "name": "stderr",
     "output_type": "stream",
     "text": [
      "C:\\Users\\ADMIN\\AppData\\Local\\Temp\\ipykernel_7724\\373337600.py:22: FutureWarning: Series.__getitem__ treating keys as positions is deprecated. In a future version, integer keys will always be treated as labels (consistent with DataFrame behavior). To access a value by position, use `ser.iloc[pos]`\n",
      "  link = row[1]  # Cột 1 chứa link review\n"
     ]
    },
    {
     "name": "stdout",
     "output_type": "stream",
     "text": [
      "704/845 - Cập nhật thể loại: Gia đình, Hoạt hình\n",
      "704/845 - Cập nhật ảnh: https://homepage.momocdn.net/cinema/momo-cdn-api-220615143040-637909002407825660.jpg\n"
     ]
    },
    {
     "name": "stderr",
     "output_type": "stream",
     "text": [
      "C:\\Users\\ADMIN\\AppData\\Local\\Temp\\ipykernel_7724\\373337600.py:22: FutureWarning: Series.__getitem__ treating keys as positions is deprecated. In a future version, integer keys will always be treated as labels (consistent with DataFrame behavior). To access a value by position, use `ser.iloc[pos]`\n",
      "  link = row[1]  # Cột 1 chứa link review\n"
     ]
    },
    {
     "name": "stdout",
     "output_type": "stream",
     "text": [
      "705/845 - Cập nhật thể loại: Hình sự, Hành động\n",
      "705/845 - Cập nhật ảnh: https://homepage.momocdn.net/cinema/momo-cdn-api-220615142917-637909001579191280.jpg\n"
     ]
    },
    {
     "name": "stderr",
     "output_type": "stream",
     "text": [
      "C:\\Users\\ADMIN\\AppData\\Local\\Temp\\ipykernel_7724\\373337600.py:22: FutureWarning: Series.__getitem__ treating keys as positions is deprecated. In a future version, integer keys will always be treated as labels (consistent with DataFrame behavior). To access a value by position, use `ser.iloc[pos]`\n",
      "  link = row[1]  # Cột 1 chứa link review\n"
     ]
    },
    {
     "name": "stdout",
     "output_type": "stream",
     "text": [
      "706/845 - Cập nhật thể loại: Gia đình, Phiêu lưu, Hài, Hoạt hình\n",
      "706/845 - Cập nhật ảnh: https://homepage.momocdn.net/cinema/momo-cdn-api-220615142503-637908999038357052.jpg\n"
     ]
    },
    {
     "name": "stderr",
     "output_type": "stream",
     "text": [
      "C:\\Users\\ADMIN\\AppData\\Local\\Temp\\ipykernel_7724\\373337600.py:22: FutureWarning: Series.__getitem__ treating keys as positions is deprecated. In a future version, integer keys will always be treated as labels (consistent with DataFrame behavior). To access a value by position, use `ser.iloc[pos]`\n",
      "  link = row[1]  # Cột 1 chứa link review\n"
     ]
    },
    {
     "name": "stdout",
     "output_type": "stream",
     "text": [
      "707/845 - Cập nhật thể loại: Kinh dị\n",
      "707/845 - Cập nhật ảnh: https://homepage.momocdn.net/cinema/momo-cdn-api-220615142644-637909000040411697.jpeg\n"
     ]
    },
    {
     "name": "stderr",
     "output_type": "stream",
     "text": [
      "C:\\Users\\ADMIN\\AppData\\Local\\Temp\\ipykernel_7724\\373337600.py:22: FutureWarning: Series.__getitem__ treating keys as positions is deprecated. In a future version, integer keys will always be treated as labels (consistent with DataFrame behavior). To access a value by position, use `ser.iloc[pos]`\n",
      "  link = row[1]  # Cột 1 chứa link review\n"
     ]
    },
    {
     "name": "stdout",
     "output_type": "stream",
     "text": [
      "708/845 - Cập nhật thể loại: Chính kịch, Hình sự, Hành động\n",
      "708/845 - Cập nhật ảnh: https://homepage.momocdn.net/cinema/momo-cdn-api-220615142345-637908998251912171.jpg\n"
     ]
    },
    {
     "name": "stderr",
     "output_type": "stream",
     "text": [
      "C:\\Users\\ADMIN\\AppData\\Local\\Temp\\ipykernel_7724\\373337600.py:22: FutureWarning: Series.__getitem__ treating keys as positions is deprecated. In a future version, integer keys will always be treated as labels (consistent with DataFrame behavior). To access a value by position, use `ser.iloc[pos]`\n",
      "  link = row[1]  # Cột 1 chứa link review\n"
     ]
    },
    {
     "name": "stdout",
     "output_type": "stream",
     "text": [
      "709/845 - Cập nhật thể loại: Gay cấn\n",
      "709/845 - Cập nhật ảnh: https://homepage.momocdn.net/cinema/momo-cdn-api-220615142434-637908998743143194.jpg\n"
     ]
    },
    {
     "name": "stderr",
     "output_type": "stream",
     "text": [
      "C:\\Users\\ADMIN\\AppData\\Local\\Temp\\ipykernel_7724\\373337600.py:22: FutureWarning: Series.__getitem__ treating keys as positions is deprecated. In a future version, integer keys will always be treated as labels (consistent with DataFrame behavior). To access a value by position, use `ser.iloc[pos]`\n",
      "  link = row[1]  # Cột 1 chứa link review\n"
     ]
    },
    {
     "name": "stdout",
     "output_type": "stream",
     "text": [
      "710/845 - Cập nhật thể loại: Gia đình, Phiêu lưu, Hài, Hoạt hình\n",
      "710/845 - Cập nhật ảnh: https://cinema.momocdn.net/img/51331951407379706-l30cJrcUOCYFyyMZ5nRxknq9fVR.jpg\n"
     ]
    },
    {
     "name": "stderr",
     "output_type": "stream",
     "text": [
      "C:\\Users\\ADMIN\\AppData\\Local\\Temp\\ipykernel_7724\\373337600.py:22: FutureWarning: Series.__getitem__ treating keys as positions is deprecated. In a future version, integer keys will always be treated as labels (consistent with DataFrame behavior). To access a value by position, use `ser.iloc[pos]`\n",
      "  link = row[1]  # Cột 1 chứa link review\n"
     ]
    },
    {
     "name": "stdout",
     "output_type": "stream",
     "text": [
      "711/845 - Cập nhật thể loại: Âm Nhạc, Hài, Hoạt hình\n",
      "711/845 - Cập nhật ảnh: https://cinema.momocdn.net/img/58255282700049644-bAwlPvcKjtFX0F8bz4GQVRwcIEu.jpg\n"
     ]
    },
    {
     "name": "stderr",
     "output_type": "stream",
     "text": [
      "C:\\Users\\ADMIN\\AppData\\Local\\Temp\\ipykernel_7724\\373337600.py:22: FutureWarning: Series.__getitem__ treating keys as positions is deprecated. In a future version, integer keys will always be treated as labels (consistent with DataFrame behavior). To access a value by position, use `ser.iloc[pos]`\n",
      "  link = row[1]  # Cột 1 chứa link review\n"
     ]
    },
    {
     "name": "stdout",
     "output_type": "stream",
     "text": [
      "712/845 - Cập nhật thể loại: Gay cấn, Tâm lý\n",
      "712/845 - Cập nhật ảnh: https://cinema.momocdn.net/img/57224925915375310-1_1x1.jpg\n"
     ]
    },
    {
     "name": "stderr",
     "output_type": "stream",
     "text": [
      "C:\\Users\\ADMIN\\AppData\\Local\\Temp\\ipykernel_7724\\373337600.py:22: FutureWarning: Series.__getitem__ treating keys as positions is deprecated. In a future version, integer keys will always be treated as labels (consistent with DataFrame behavior). To access a value by position, use `ser.iloc[pos]`\n",
      "  link = row[1]  # Cột 1 chứa link review\n"
     ]
    },
    {
     "name": "stdout",
     "output_type": "stream",
     "text": [
      "713/845 - Cập nhật thể loại: Tình cảm, Hài, Lãng mạn\n",
      "713/845 - Cập nhật ảnh: https://cinema.momocdn.net/img/26418005751404756-qk9r1KRLE0IapvO7YO9seRsLPRT.jpg\n"
     ]
    },
    {
     "name": "stderr",
     "output_type": "stream",
     "text": [
      "C:\\Users\\ADMIN\\AppData\\Local\\Temp\\ipykernel_7724\\373337600.py:22: FutureWarning: Series.__getitem__ treating keys as positions is deprecated. In a future version, integer keys will always be treated as labels (consistent with DataFrame behavior). To access a value by position, use `ser.iloc[pos]`\n",
      "  link = row[1]  # Cột 1 chứa link review\n"
     ]
    },
    {
     "name": "stdout",
     "output_type": "stream",
     "text": [
      "714/845 - Cập nhật thể loại: Gia đình, Phiêu lưu, Hài, Hoạt hình\n",
      "714/845 - Cập nhật ảnh: https://cinema.momocdn.net/img/18545149033223165-6rhFfbI03esU1FlhEsa0OvoGCym.jpg\n"
     ]
    },
    {
     "name": "stderr",
     "output_type": "stream",
     "text": [
      "C:\\Users\\ADMIN\\AppData\\Local\\Temp\\ipykernel_7724\\373337600.py:22: FutureWarning: Series.__getitem__ treating keys as positions is deprecated. In a future version, integer keys will always be treated as labels (consistent with DataFrame behavior). To access a value by position, use `ser.iloc[pos]`\n",
      "  link = row[1]  # Cột 1 chứa link review\n"
     ]
    },
    {
     "name": "stdout",
     "output_type": "stream",
     "text": [
      "715/845 - Cập nhật thể loại: Phiêu lưu, Tình cảm, Hài, Lãng mạn\n",
      "715/845 - Cập nhật ảnh: https://cinema.momocdn.net/img/5221235881393456-maxresdefault.jpg\n"
     ]
    },
    {
     "name": "stderr",
     "output_type": "stream",
     "text": [
      "C:\\Users\\ADMIN\\AppData\\Local\\Temp\\ipykernel_7724\\373337600.py:22: FutureWarning: Series.__getitem__ treating keys as positions is deprecated. In a future version, integer keys will always be treated as labels (consistent with DataFrame behavior). To access a value by position, use `ser.iloc[pos]`\n",
      "  link = row[1]  # Cột 1 chứa link review\n"
     ]
    },
    {
     "name": "stdout",
     "output_type": "stream",
     "text": [
      "716/845 - Cập nhật thể loại: Tâm lý, Hài\n",
      "716/845 - Cập nhật ảnh: https://cinema.momocdn.net/img/92995707129382515-15EgH2UPtr98MFkNajU6BjBTEcf.jpg\n"
     ]
    },
    {
     "name": "stderr",
     "output_type": "stream",
     "text": [
      "C:\\Users\\ADMIN\\AppData\\Local\\Temp\\ipykernel_7724\\373337600.py:22: FutureWarning: Series.__getitem__ treating keys as positions is deprecated. In a future version, integer keys will always be treated as labels (consistent with DataFrame behavior). To access a value by position, use `ser.iloc[pos]`\n",
      "  link = row[1]  # Cột 1 chứa link review\n"
     ]
    },
    {
     "name": "stdout",
     "output_type": "stream",
     "text": [
      "717/845 - Cập nhật thể loại: Chính kịch, Hài\n",
      "717/845 - Cập nhật ảnh: https://cinema.momocdn.net/img/90141214385780495-yiYwRU9nAYZDQkZi8l4DMnYpcmz.jpg\n"
     ]
    },
    {
     "name": "stderr",
     "output_type": "stream",
     "text": [
      "C:\\Users\\ADMIN\\AppData\\Local\\Temp\\ipykernel_7724\\373337600.py:22: FutureWarning: Series.__getitem__ treating keys as positions is deprecated. In a future version, integer keys will always be treated as labels (consistent with DataFrame behavior). To access a value by position, use `ser.iloc[pos]`\n",
      "  link = row[1]  # Cột 1 chứa link review\n"
     ]
    },
    {
     "name": "stdout",
     "output_type": "stream",
     "text": [
      "718/845 - Cập nhật thể loại: Âm Nhạc, Tài liệu\n",
      "718/845 - Cập nhật ảnh: https://cinema.momocdn.net/img/89449332577287677-fP5wcmD3m1AiZuFXMDWAZQ47fWq.jpg\n"
     ]
    },
    {
     "name": "stderr",
     "output_type": "stream",
     "text": [
      "C:\\Users\\ADMIN\\AppData\\Local\\Temp\\ipykernel_7724\\373337600.py:22: FutureWarning: Series.__getitem__ treating keys as positions is deprecated. In a future version, integer keys will always be treated as labels (consistent with DataFrame behavior). To access a value by position, use `ser.iloc[pos]`\n",
      "  link = row[1]  # Cột 1 chứa link review\n"
     ]
    },
    {
     "name": "stdout",
     "output_type": "stream",
     "text": [
      "719/845 - Cập nhật thể loại: Chính kịch, Âm Nhạc, Tâm lý, Tình cảm, Lãng mạn\n",
      "719/845 - Cập nhật ảnh: https://cinema.momocdn.net/img/86854626558820603-hS2NJsSNNtmDflANdVuv9jJUm86.jpg\n"
     ]
    },
    {
     "name": "stderr",
     "output_type": "stream",
     "text": [
      "C:\\Users\\ADMIN\\AppData\\Local\\Temp\\ipykernel_7724\\373337600.py:22: FutureWarning: Series.__getitem__ treating keys as positions is deprecated. In a future version, integer keys will always be treated as labels (consistent with DataFrame behavior). To access a value by position, use `ser.iloc[pos]`\n",
      "  link = row[1]  # Cột 1 chứa link review\n"
     ]
    },
    {
     "name": "stdout",
     "output_type": "stream",
     "text": [
      "720/845 - Cập nhật thể loại: Tâm lý\n",
      "720/845 - Cập nhật ảnh: https://cinema.momocdn.net/img/84535195566339658-brI2aKrXoCddmIZlw8UeALmnLUX.jpg\n"
     ]
    },
    {
     "name": "stderr",
     "output_type": "stream",
     "text": [
      "C:\\Users\\ADMIN\\AppData\\Local\\Temp\\ipykernel_7724\\373337600.py:22: FutureWarning: Series.__getitem__ treating keys as positions is deprecated. In a future version, integer keys will always be treated as labels (consistent with DataFrame behavior). To access a value by position, use `ser.iloc[pos]`\n",
      "  link = row[1]  # Cột 1 chứa link review\n"
     ]
    },
    {
     "name": "stdout",
     "output_type": "stream",
     "text": [
      "721/845 - Cập nhật thể loại: Chính kịch, Khoa học - Viễn tưởng, Hành động\n",
      "721/845 - Cập nhật ảnh: https://cinema.momocdn.net/img/84436322790925268-oDssywRwolqmDfHm3k0SrdcVzvs.jpg\n"
     ]
    },
    {
     "name": "stderr",
     "output_type": "stream",
     "text": [
      "C:\\Users\\ADMIN\\AppData\\Local\\Temp\\ipykernel_7724\\373337600.py:22: FutureWarning: Series.__getitem__ treating keys as positions is deprecated. In a future version, integer keys will always be treated as labels (consistent with DataFrame behavior). To access a value by position, use `ser.iloc[pos]`\n",
      "  link = row[1]  # Cột 1 chứa link review\n"
     ]
    },
    {
     "name": "stdout",
     "output_type": "stream",
     "text": [
      "722/845 - Cập nhật thể loại: Chính kịch, Kinh dị\n",
      "722/845 - Cập nhật ảnh: https://homepage.momocdn.net/cinema/momo-cdn-api-220615142915-637909001551937846.jpg\n"
     ]
    },
    {
     "name": "stderr",
     "output_type": "stream",
     "text": [
      "C:\\Users\\ADMIN\\AppData\\Local\\Temp\\ipykernel_7724\\373337600.py:22: FutureWarning: Series.__getitem__ treating keys as positions is deprecated. In a future version, integer keys will always be treated as labels (consistent with DataFrame behavior). To access a value by position, use `ser.iloc[pos]`\n",
      "  link = row[1]  # Cột 1 chứa link review\n"
     ]
    },
    {
     "name": "stdout",
     "output_type": "stream",
     "text": [
      "723/845 - Cập nhật thể loại: Bí ẩn, Kinh dị\n",
      "723/845 - Cập nhật ảnh: https://homepage.momocdn.net/cinema/momo-cdn-api-220615143132-637909002923890360.jpg\n"
     ]
    },
    {
     "name": "stderr",
     "output_type": "stream",
     "text": [
      "C:\\Users\\ADMIN\\AppData\\Local\\Temp\\ipykernel_7724\\373337600.py:22: FutureWarning: Series.__getitem__ treating keys as positions is deprecated. In a future version, integer keys will always be treated as labels (consistent with DataFrame behavior). To access a value by position, use `ser.iloc[pos]`\n",
      "  link = row[1]  # Cột 1 chứa link review\n"
     ]
    },
    {
     "name": "stdout",
     "output_type": "stream",
     "text": [
      "724/845 - Cập nhật thể loại: Gay cấn, Ma, Kinh dị\n",
      "724/845 - Cập nhật ảnh: https://homepage.momocdn.net/cinema/momo-cdn-api-220615143038-637909002389983585.jpg\n"
     ]
    },
    {
     "name": "stderr",
     "output_type": "stream",
     "text": [
      "C:\\Users\\ADMIN\\AppData\\Local\\Temp\\ipykernel_7724\\373337600.py:22: FutureWarning: Series.__getitem__ treating keys as positions is deprecated. In a future version, integer keys will always be treated as labels (consistent with DataFrame behavior). To access a value by position, use `ser.iloc[pos]`\n",
      "  link = row[1]  # Cột 1 chứa link review\n"
     ]
    },
    {
     "name": "stdout",
     "output_type": "stream",
     "text": [
      "725/845 - Cập nhật thể loại: Gay cấn, Kinh dị\n",
      "725/845 - Cập nhật ảnh: https://homepage.momocdn.net/cinema/momo-cdn-api-220615142956-637909001963318092.jpg\n"
     ]
    },
    {
     "name": "stderr",
     "output_type": "stream",
     "text": [
      "C:\\Users\\ADMIN\\AppData\\Local\\Temp\\ipykernel_7724\\373337600.py:22: FutureWarning: Series.__getitem__ treating keys as positions is deprecated. In a future version, integer keys will always be treated as labels (consistent with DataFrame behavior). To access a value by position, use `ser.iloc[pos]`\n",
      "  link = row[1]  # Cột 1 chứa link review\n"
     ]
    },
    {
     "name": "stdout",
     "output_type": "stream",
     "text": [
      "726/845 - Cập nhật thể loại: Chính kịch, Gay cấn, Kinh dị, Khoa học - Viễn tưởng\n",
      "726/845 - Cập nhật ảnh: https://homepage.momocdn.net/cinema/momo-cdn-api-220615142807-637909000875316467.jpg\n"
     ]
    },
    {
     "name": "stderr",
     "output_type": "stream",
     "text": [
      "C:\\Users\\ADMIN\\AppData\\Local\\Temp\\ipykernel_7724\\373337600.py:22: FutureWarning: Series.__getitem__ treating keys as positions is deprecated. In a future version, integer keys will always be treated as labels (consistent with DataFrame behavior). To access a value by position, use `ser.iloc[pos]`\n",
      "  link = row[1]  # Cột 1 chứa link review\n"
     ]
    },
    {
     "name": "stdout",
     "output_type": "stream",
     "text": [
      "727/845 - Cập nhật thể loại: Ma, Phiêu lưu, Khoa học - Viễn tưởng, Hài\n",
      "727/845 - Cập nhật ảnh: https://homepage.momocdn.net/cinema/momo-cdn-api-220615142743-637909000633482550.jpg\n"
     ]
    },
    {
     "name": "stderr",
     "output_type": "stream",
     "text": [
      "C:\\Users\\ADMIN\\AppData\\Local\\Temp\\ipykernel_7724\\373337600.py:22: FutureWarning: Series.__getitem__ treating keys as positions is deprecated. In a future version, integer keys will always be treated as labels (consistent with DataFrame behavior). To access a value by position, use `ser.iloc[pos]`\n",
      "  link = row[1]  # Cột 1 chứa link review\n"
     ]
    },
    {
     "name": "stdout",
     "output_type": "stream",
     "text": [
      "728/845 - Cập nhật thể loại: Bí ẩn, Vòng lặp, Hack Não, Khoa học - Viễn tưởng, Hài, Lãng mạn\n",
      "728/845 - Cập nhật ảnh: https://homepage.momocdn.net/cinema/momo-cdn-api-220615142606-637908999664854095.jpg\n"
     ]
    },
    {
     "name": "stderr",
     "output_type": "stream",
     "text": [
      "C:\\Users\\ADMIN\\AppData\\Local\\Temp\\ipykernel_7724\\373337600.py:22: FutureWarning: Series.__getitem__ treating keys as positions is deprecated. In a future version, integer keys will always be treated as labels (consistent with DataFrame behavior). To access a value by position, use `ser.iloc[pos]`\n",
      "  link = row[1]  # Cột 1 chứa link review\n"
     ]
    },
    {
     "name": "stdout",
     "output_type": "stream",
     "text": [
      "729/845 - Cập nhật thể loại: Chính kịch, Hình sự, Hành động\n",
      "729/845 - Cập nhật ảnh: https://cinema.momocdn.net/img/56918489609118465-Capture-2024-10-02-114149.png\n"
     ]
    },
    {
     "name": "stderr",
     "output_type": "stream",
     "text": [
      "C:\\Users\\ADMIN\\AppData\\Local\\Temp\\ipykernel_7724\\373337600.py:22: FutureWarning: Series.__getitem__ treating keys as positions is deprecated. In a future version, integer keys will always be treated as labels (consistent with DataFrame behavior). To access a value by position, use `ser.iloc[pos]`\n",
      "  link = row[1]  # Cột 1 chứa link review\n"
     ]
    },
    {
     "name": "stdout",
     "output_type": "stream",
     "text": [
      "730/845 - Cập nhật thể loại: Kinh dị\n",
      "730/845 - Cập nhật ảnh: https://cinema.momocdn.net/img/56580958054683366-r56a7mdF9hgRKdbFfVXBGcDUpMS.jpg\n"
     ]
    },
    {
     "name": "stderr",
     "output_type": "stream",
     "text": [
      "C:\\Users\\ADMIN\\AppData\\Local\\Temp\\ipykernel_7724\\373337600.py:22: FutureWarning: Series.__getitem__ treating keys as positions is deprecated. In a future version, integer keys will always be treated as labels (consistent with DataFrame behavior). To access a value by position, use `ser.iloc[pos]`\n",
      "  link = row[1]  # Cột 1 chứa link review\n"
     ]
    },
    {
     "name": "stdout",
     "output_type": "stream",
     "text": [
      "731/845 - Cập nhật thể loại: Gay cấn, Kinh dị, Khoa học - Viễn tưởng\n",
      "731/845 - Cập nhật ảnh: https://cinema.momocdn.net/img/56492104895906920-nA9hAUFyS3V8AkAMgNf3wEH7IMv.jpg\n"
     ]
    },
    {
     "name": "stderr",
     "output_type": "stream",
     "text": [
      "C:\\Users\\ADMIN\\AppData\\Local\\Temp\\ipykernel_7724\\373337600.py:22: FutureWarning: Series.__getitem__ treating keys as positions is deprecated. In a future version, integer keys will always be treated as labels (consistent with DataFrame behavior). To access a value by position, use `ser.iloc[pos]`\n",
      "  link = row[1]  # Cột 1 chứa link review\n"
     ]
    },
    {
     "name": "stdout",
     "output_type": "stream",
     "text": [
      "732/845 - Cập nhật thể loại: Hài, Hành động, Hoạt hình\n",
      "732/845 - Cập nhật ảnh: https://cinema.momocdn.net/img/34429319653998947-1.jpg\n"
     ]
    },
    {
     "name": "stderr",
     "output_type": "stream",
     "text": [
      "C:\\Users\\ADMIN\\AppData\\Local\\Temp\\ipykernel_7724\\373337600.py:22: FutureWarning: Series.__getitem__ treating keys as positions is deprecated. In a future version, integer keys will always be treated as labels (consistent with DataFrame behavior). To access a value by position, use `ser.iloc[pos]`\n",
      "  link = row[1]  # Cột 1 chứa link review\n"
     ]
    },
    {
     "name": "stdout",
     "output_type": "stream",
     "text": [
      "733/845 - Cập nhật thể loại: Chính kịch, Tình cảm, Hài, Lãng mạn\n",
      "733/845 - Cập nhật ảnh: https://cinema.momocdn.net/img/16196039867122225-x7YCL9CIuBaLpcbAJewJQ4WzbCC.jpg\n"
     ]
    },
    {
     "name": "stderr",
     "output_type": "stream",
     "text": [
      "C:\\Users\\ADMIN\\AppData\\Local\\Temp\\ipykernel_7724\\373337600.py:22: FutureWarning: Series.__getitem__ treating keys as positions is deprecated. In a future version, integer keys will always be treated as labels (consistent with DataFrame behavior). To access a value by position, use `ser.iloc[pos]`\n",
      "  link = row[1]  # Cột 1 chứa link review\n"
     ]
    },
    {
     "name": "stdout",
     "output_type": "stream",
     "text": [
      "734/845 - Cập nhật thể loại: Gia đình, Tình cảm, Tài liệu\n",
      "734/845 - Cập nhật ảnh: https://cinema.momocdn.net/img/12740143768076015-640x396px.jpg\n"
     ]
    },
    {
     "name": "stderr",
     "output_type": "stream",
     "text": [
      "C:\\Users\\ADMIN\\AppData\\Local\\Temp\\ipykernel_7724\\373337600.py:22: FutureWarning: Series.__getitem__ treating keys as positions is deprecated. In a future version, integer keys will always be treated as labels (consistent with DataFrame behavior). To access a value by position, use `ser.iloc[pos]`\n",
      "  link = row[1]  # Cột 1 chứa link review\n"
     ]
    },
    {
     "name": "stdout",
     "output_type": "stream",
     "text": [
      "735/845 - Cập nhật thể loại: Gia đình, Phiêu lưu, Hài, Hoạt hình\n",
      "735/845 - Cập nhật ảnh: https://homepage.momocdn.net/cinema/momo-upload-api-230707151953-638243399931084407.jpg\n"
     ]
    },
    {
     "name": "stderr",
     "output_type": "stream",
     "text": [
      "C:\\Users\\ADMIN\\AppData\\Local\\Temp\\ipykernel_7724\\373337600.py:22: FutureWarning: Series.__getitem__ treating keys as positions is deprecated. In a future version, integer keys will always be treated as labels (consistent with DataFrame behavior). To access a value by position, use `ser.iloc[pos]`\n",
      "  link = row[1]  # Cột 1 chứa link review\n"
     ]
    },
    {
     "name": "stdout",
     "output_type": "stream",
     "text": [
      "736/845 - Cập nhật thể loại: Chiến tranh, Hành động\n",
      "736/845 - Cập nhật ảnh: https://cinema.momocdn.net/img/8551141441668559-x9Misp6hEpA8k9VsrTLfFZ0SK46.jpg\n"
     ]
    },
    {
     "name": "stderr",
     "output_type": "stream",
     "text": [
      "C:\\Users\\ADMIN\\AppData\\Local\\Temp\\ipykernel_7724\\373337600.py:22: FutureWarning: Series.__getitem__ treating keys as positions is deprecated. In a future version, integer keys will always be treated as labels (consistent with DataFrame behavior). To access a value by position, use `ser.iloc[pos]`\n",
      "  link = row[1]  # Cột 1 chứa link review\n"
     ]
    },
    {
     "name": "stdout",
     "output_type": "stream",
     "text": [
      "737/845 - Cập nhật thể loại: Chính kịch\n",
      "737/845 - Cập nhật ảnh: https://cinema.momocdn.net/img/645432598386299-6cmKP4k30LuZ9KPS3aEdDurituV.jpg\n"
     ]
    },
    {
     "name": "stderr",
     "output_type": "stream",
     "text": [
      "C:\\Users\\ADMIN\\AppData\\Local\\Temp\\ipykernel_7724\\373337600.py:22: FutureWarning: Series.__getitem__ treating keys as positions is deprecated. In a future version, integer keys will always be treated as labels (consistent with DataFrame behavior). To access a value by position, use `ser.iloc[pos]`\n",
      "  link = row[1]  # Cột 1 chứa link review\n"
     ]
    },
    {
     "name": "stdout",
     "output_type": "stream",
     "text": [
      "738/845 - Cập nhật thể loại: Chính kịch\n",
      "738/845 - Cập nhật ảnh: https://cinema.momocdn.net/img/94605348017611902-yNMgBF92CfD5ILvePt6nIy3OYdm.jpg\n"
     ]
    },
    {
     "name": "stderr",
     "output_type": "stream",
     "text": [
      "C:\\Users\\ADMIN\\AppData\\Local\\Temp\\ipykernel_7724\\373337600.py:22: FutureWarning: Series.__getitem__ treating keys as positions is deprecated. In a future version, integer keys will always be treated as labels (consistent with DataFrame behavior). To access a value by position, use `ser.iloc[pos]`\n",
      "  link = row[1]  # Cột 1 chứa link review\n"
     ]
    },
    {
     "name": "stdout",
     "output_type": "stream",
     "text": [
      "739/845 - Cập nhật thể loại: Chính kịch, Lịch sử\n",
      "739/845 - Cập nhật ảnh: https://cinema.momocdn.net/img/88925469540353076-maxresdefault%20(11\n"
     ]
    },
    {
     "name": "stderr",
     "output_type": "stream",
     "text": [
      "C:\\Users\\ADMIN\\AppData\\Local\\Temp\\ipykernel_7724\\373337600.py:22: FutureWarning: Series.__getitem__ treating keys as positions is deprecated. In a future version, integer keys will always be treated as labels (consistent with DataFrame behavior). To access a value by position, use `ser.iloc[pos]`\n",
      "  link = row[1]  # Cột 1 chứa link review\n"
     ]
    },
    {
     "name": "stdout",
     "output_type": "stream",
     "text": [
      "740/845 - Cập nhật thể loại: Chính kịch, Âm Nhạc, Tâm lý\n",
      "740/845 - Cập nhật ảnh: https://homepage.momocdn.net/cinema/momo-cdn-api-220615142818-637909000986951971.jpg\n"
     ]
    },
    {
     "name": "stderr",
     "output_type": "stream",
     "text": [
      "C:\\Users\\ADMIN\\AppData\\Local\\Temp\\ipykernel_7724\\373337600.py:22: FutureWarning: Series.__getitem__ treating keys as positions is deprecated. In a future version, integer keys will always be treated as labels (consistent with DataFrame behavior). To access a value by position, use `ser.iloc[pos]`\n",
      "  link = row[1]  # Cột 1 chứa link review\n"
     ]
    },
    {
     "name": "stdout",
     "output_type": "stream",
     "text": [
      "741/845 - Cập nhật thể loại: Gay cấn, Bí ẩn, Khoa học - Viễn tưởng, Hành động\n",
      "741/845 - Cập nhật ảnh: https://homepage.momocdn.net/cinema/momo-cdn-api-220615142727-637909000475242055.jpg\n"
     ]
    },
    {
     "name": "stderr",
     "output_type": "stream",
     "text": [
      "C:\\Users\\ADMIN\\AppData\\Local\\Temp\\ipykernel_7724\\373337600.py:22: FutureWarning: Series.__getitem__ treating keys as positions is deprecated. In a future version, integer keys will always be treated as labels (consistent with DataFrame behavior). To access a value by position, use `ser.iloc[pos]`\n",
      "  link = row[1]  # Cột 1 chứa link review\n"
     ]
    },
    {
     "name": "stdout",
     "output_type": "stream",
     "text": [
      "742/845 - Cập nhật thể loại: Gay cấn, Siêu Trộm, Hình sự, Hành động\n",
      "742/845 - Cập nhật ảnh: https://homepage.momocdn.net/cinema/momo-cdn-api-220615142513-637908999139734916.jpg\n"
     ]
    },
    {
     "name": "stderr",
     "output_type": "stream",
     "text": [
      "C:\\Users\\ADMIN\\AppData\\Local\\Temp\\ipykernel_7724\\373337600.py:22: FutureWarning: Series.__getitem__ treating keys as positions is deprecated. In a future version, integer keys will always be treated as labels (consistent with DataFrame behavior). To access a value by position, use `ser.iloc[pos]`\n",
      "  link = row[1]  # Cột 1 chứa link review\n"
     ]
    },
    {
     "name": "stdout",
     "output_type": "stream",
     "text": [
      "743/845 - Cập nhật thể loại: Gay cấn, Hình sự\n",
      "743/845 - Cập nhật ảnh: https://homepage.momocdn.net/cinema/momo-cdn-api-220615142343-637908998239658257.jpg\n"
     ]
    },
    {
     "name": "stderr",
     "output_type": "stream",
     "text": [
      "C:\\Users\\ADMIN\\AppData\\Local\\Temp\\ipykernel_7724\\373337600.py:22: FutureWarning: Series.__getitem__ treating keys as positions is deprecated. In a future version, integer keys will always be treated as labels (consistent with DataFrame behavior). To access a value by position, use `ser.iloc[pos]`\n",
      "  link = row[1]  # Cột 1 chứa link review\n"
     ]
    },
    {
     "name": "stdout",
     "output_type": "stream",
     "text": [
      "744/845 - Cập nhật thể loại: Bí ẩn, Hành động\n",
      "744/845 - Cập nhật ảnh: https://homepage.momocdn.net/cinema/momo-cdn-api-220615142605-637908999652946001.jpg\n"
     ]
    },
    {
     "name": "stderr",
     "output_type": "stream",
     "text": [
      "C:\\Users\\ADMIN\\AppData\\Local\\Temp\\ipykernel_7724\\373337600.py:22: FutureWarning: Series.__getitem__ treating keys as positions is deprecated. In a future version, integer keys will always be treated as labels (consistent with DataFrame behavior). To access a value by position, use `ser.iloc[pos]`\n",
      "  link = row[1]  # Cột 1 chứa link review\n"
     ]
    },
    {
     "name": "stdout",
     "output_type": "stream",
     "text": [
      "745/845 - Cập nhật thể loại: Gay cấn, Bí ẩn, Tâm lý, Kinh dị\n",
      "745/845 - Cập nhật ảnh: https://homepage.momocdn.net/cinema/momo-cdn-api-220615142558-637908999588665497.jpg\n"
     ]
    },
    {
     "name": "stderr",
     "output_type": "stream",
     "text": [
      "C:\\Users\\ADMIN\\AppData\\Local\\Temp\\ipykernel_7724\\373337600.py:22: FutureWarning: Series.__getitem__ treating keys as positions is deprecated. In a future version, integer keys will always be treated as labels (consistent with DataFrame behavior). To access a value by position, use `ser.iloc[pos]`\n",
      "  link = row[1]  # Cột 1 chứa link review\n"
     ]
    },
    {
     "name": "stdout",
     "output_type": "stream",
     "text": [
      "746/845 - Cập nhật thể loại: Gia đình, Hài, Hoạt hình\n",
      "746/845 - Cập nhật ảnh: https://cinema.momocdn.net/img/49954601611023593-2NMpzJs7MUodxof8hmCf0RsxBda.jpg\n"
     ]
    },
    {
     "name": "stderr",
     "output_type": "stream",
     "text": [
      "C:\\Users\\ADMIN\\AppData\\Local\\Temp\\ipykernel_7724\\373337600.py:22: FutureWarning: Series.__getitem__ treating keys as positions is deprecated. In a future version, integer keys will always be treated as labels (consistent with DataFrame behavior). To access a value by position, use `ser.iloc[pos]`\n",
      "  link = row[1]  # Cột 1 chứa link review\n"
     ]
    },
    {
     "name": "stdout",
     "output_type": "stream",
     "text": [
      "747/845 - Cập nhật thể loại: Gay cấn, Khoa học - Viễn tưởng, Hành động, Lãng mạn\n",
      "747/845 - Cập nhật ảnh: https://cinema.momocdn.net/img/32109563441876756-tDmAhKMBv0e4sYyg4FX5LVfe64S.jpg\n"
     ]
    },
    {
     "name": "stderr",
     "output_type": "stream",
     "text": [
      "C:\\Users\\ADMIN\\AppData\\Local\\Temp\\ipykernel_7724\\373337600.py:22: FutureWarning: Series.__getitem__ treating keys as positions is deprecated. In a future version, integer keys will always be treated as labels (consistent with DataFrame behavior). To access a value by position, use `ser.iloc[pos]`\n",
      "  link = row[1]  # Cột 1 chứa link review\n"
     ]
    },
    {
     "name": "stdout",
     "output_type": "stream",
     "text": [
      "748/845 - Cập nhật thể loại: Chính kịch, Hài\n",
      "748/845 - Cập nhật ảnh: https://cinema.momocdn.net/img/29083250098135111-uJwTRJxMnZcnDTyesNyeZhkHaOp.jpg\n"
     ]
    },
    {
     "name": "stderr",
     "output_type": "stream",
     "text": [
      "C:\\Users\\ADMIN\\AppData\\Local\\Temp\\ipykernel_7724\\373337600.py:22: FutureWarning: Series.__getitem__ treating keys as positions is deprecated. In a future version, integer keys will always be treated as labels (consistent with DataFrame behavior). To access a value by position, use `ser.iloc[pos]`\n",
      "  link = row[1]  # Cột 1 chứa link review\n"
     ]
    },
    {
     "name": "stdout",
     "output_type": "stream",
     "text": [
      "749/845 - Cập nhật thể loại: Kinh dị, Hài\n",
      "749/845 - Cập nhật ảnh: https://cinema.momocdn.net/img/24839072252454477-tEm3rfyE8V16FvcYFPjl1OYvNPx.jpg\n"
     ]
    },
    {
     "name": "stderr",
     "output_type": "stream",
     "text": [
      "C:\\Users\\ADMIN\\AppData\\Local\\Temp\\ipykernel_7724\\373337600.py:22: FutureWarning: Series.__getitem__ treating keys as positions is deprecated. In a future version, integer keys will always be treated as labels (consistent with DataFrame behavior). To access a value by position, use `ser.iloc[pos]`\n",
      "  link = row[1]  # Cột 1 chứa link review\n"
     ]
    },
    {
     "name": "stdout",
     "output_type": "stream",
     "text": [
      "750/845 - Cập nhật thể loại: Gia đình, Hoạt hình\n",
      "750/845 - Cập nhật ảnh: https://cinema.momocdn.net/img/8550847674710991-rEX8tOPvdgWqURQWx6oEzQqSWsM.jpg\n"
     ]
    },
    {
     "name": "stderr",
     "output_type": "stream",
     "text": [
      "C:\\Users\\ADMIN\\AppData\\Local\\Temp\\ipykernel_7724\\373337600.py:22: FutureWarning: Series.__getitem__ treating keys as positions is deprecated. In a future version, integer keys will always be treated as labels (consistent with DataFrame behavior). To access a value by position, use `ser.iloc[pos]`\n",
      "  link = row[1]  # Cột 1 chứa link review\n"
     ]
    },
    {
     "name": "stdout",
     "output_type": "stream",
     "text": [
      "751/845 - Cập nhật thể loại: Gay cấn, Thảm hoạ, Kinh dị\n",
      "751/845 - Cập nhật ảnh: https://cinema.momocdn.net/img/9030543078966786-8kZu1HNYRI0133Rb1CoQkLoQRy6.jpg\n"
     ]
    },
    {
     "name": "stderr",
     "output_type": "stream",
     "text": [
      "C:\\Users\\ADMIN\\AppData\\Local\\Temp\\ipykernel_7724\\373337600.py:22: FutureWarning: Series.__getitem__ treating keys as positions is deprecated. In a future version, integer keys will always be treated as labels (consistent with DataFrame behavior). To access a value by position, use `ser.iloc[pos]`\n",
      "  link = row[1]  # Cột 1 chứa link review\n"
     ]
    },
    {
     "name": "stdout",
     "output_type": "stream",
     "text": [
      "752/845 - Cập nhật thể loại: Chính kịch, Gay cấn, Tâm lý\n",
      "752/845 - Cập nhật ảnh: https://cinema.momocdn.net/img/87631430882508005-jOR09Vp483yEGNZBGYPWRdhCXQU.jpg\n"
     ]
    },
    {
     "name": "stderr",
     "output_type": "stream",
     "text": [
      "C:\\Users\\ADMIN\\AppData\\Local\\Temp\\ipykernel_7724\\373337600.py:22: FutureWarning: Series.__getitem__ treating keys as positions is deprecated. In a future version, integer keys will always be treated as labels (consistent with DataFrame behavior). To access a value by position, use `ser.iloc[pos]`\n",
      "  link = row[1]  # Cột 1 chứa link review\n"
     ]
    },
    {
     "name": "stdout",
     "output_type": "stream",
     "text": [
      "753/845 - Cập nhật thể loại: Hài, Lãng mạn\n",
      "753/845 - Cập nhật ảnh: https://homepage.momocdn.net/cinema/momo-upload-api-220715171824-637935023043136286.jpeg\n"
     ]
    },
    {
     "name": "stderr",
     "output_type": "stream",
     "text": [
      "C:\\Users\\ADMIN\\AppData\\Local\\Temp\\ipykernel_7724\\373337600.py:22: FutureWarning: Series.__getitem__ treating keys as positions is deprecated. In a future version, integer keys will always be treated as labels (consistent with DataFrame behavior). To access a value by position, use `ser.iloc[pos]`\n",
      "  link = row[1]  # Cột 1 chứa link review\n"
     ]
    },
    {
     "name": "stdout",
     "output_type": "stream",
     "text": [
      "754/845 - Cập nhật thể loại: Phiêu lưu, Khoa học - Viễn tưởng, Hoạt hình\n",
      "754/845 - Cập nhật ảnh: https://homepage.momocdn.net/cinema/momo-cdn-api-220704150226-637925437465133027.jpg\n"
     ]
    },
    {
     "name": "stderr",
     "output_type": "stream",
     "text": [
      "C:\\Users\\ADMIN\\AppData\\Local\\Temp\\ipykernel_7724\\373337600.py:22: FutureWarning: Series.__getitem__ treating keys as positions is deprecated. In a future version, integer keys will always be treated as labels (consistent with DataFrame behavior). To access a value by position, use `ser.iloc[pos]`\n",
      "  link = row[1]  # Cột 1 chứa link review\n"
     ]
    },
    {
     "name": "stdout",
     "output_type": "stream",
     "text": [
      "755/845 - Cập nhật thể loại: Hình sự, Hài, Hành động\n",
      "755/845 - Cập nhật ảnh: https://homepage.momocdn.net/cinema/momo-cdn-api-220615143037-637909002376288661.jpg\n"
     ]
    },
    {
     "name": "stderr",
     "output_type": "stream",
     "text": [
      "C:\\Users\\ADMIN\\AppData\\Local\\Temp\\ipykernel_7724\\373337600.py:22: FutureWarning: Series.__getitem__ treating keys as positions is deprecated. In a future version, integer keys will always be treated as labels (consistent with DataFrame behavior). To access a value by position, use `ser.iloc[pos]`\n",
      "  link = row[1]  # Cột 1 chứa link review\n"
     ]
    },
    {
     "name": "stdout",
     "output_type": "stream",
     "text": [
      "756/845 - Cập nhật thể loại: Bí ẩn, Ma, Tâm lý, Kinh dị\n",
      "756/845 - Cập nhật ảnh: https://homepage.momocdn.net/cinema/momo-cdn-api-220615143026-637909002269391315.jpg\n"
     ]
    },
    {
     "name": "stderr",
     "output_type": "stream",
     "text": [
      "C:\\Users\\ADMIN\\AppData\\Local\\Temp\\ipykernel_7724\\373337600.py:22: FutureWarning: Series.__getitem__ treating keys as positions is deprecated. In a future version, integer keys will always be treated as labels (consistent with DataFrame behavior). To access a value by position, use `ser.iloc[pos]`\n",
      "  link = row[1]  # Cột 1 chứa link review\n"
     ]
    },
    {
     "name": "stdout",
     "output_type": "stream",
     "text": [
      "757/845 - Cập nhật thể loại: Gia đình, Hài, Hoạt hình\n",
      "757/845 - Cập nhật ảnh: https://homepage.momocdn.net/cinema/momo-cdn-api-220615142741-637909000612421739.jpg\n"
     ]
    },
    {
     "name": "stderr",
     "output_type": "stream",
     "text": [
      "C:\\Users\\ADMIN\\AppData\\Local\\Temp\\ipykernel_7724\\373337600.py:22: FutureWarning: Series.__getitem__ treating keys as positions is deprecated. In a future version, integer keys will always be treated as labels (consistent with DataFrame behavior). To access a value by position, use `ser.iloc[pos]`\n",
      "  link = row[1]  # Cột 1 chứa link review\n"
     ]
    },
    {
     "name": "stdout",
     "output_type": "stream",
     "text": [
      "758/845 - Cập nhật thể loại: Phiêu lưu, Khoa học - Viễn tưởng\n",
      "758/845 - Cập nhật ảnh: https://homepage.momocdn.net/cinema/momo-cdn-api-220615142429-637908998690709213.jpg\n"
     ]
    },
    {
     "name": "stderr",
     "output_type": "stream",
     "text": [
      "C:\\Users\\ADMIN\\AppData\\Local\\Temp\\ipykernel_7724\\373337600.py:22: FutureWarning: Series.__getitem__ treating keys as positions is deprecated. In a future version, integer keys will always be treated as labels (consistent with DataFrame behavior). To access a value by position, use `ser.iloc[pos]`\n",
      "  link = row[1]  # Cột 1 chứa link review\n"
     ]
    },
    {
     "name": "stdout",
     "output_type": "stream",
     "text": [
      "759/845 - Cập nhật thể loại: Chính kịch, Gay cấn, Hình sự\n",
      "759/845 - Cập nhật ảnh: https://homepage.momocdn.net/cinema/momo-cdn-api-220615142410-637908998508616725.jpg\n"
     ]
    },
    {
     "name": "stderr",
     "output_type": "stream",
     "text": [
      "C:\\Users\\ADMIN\\AppData\\Local\\Temp\\ipykernel_7724\\373337600.py:22: FutureWarning: Series.__getitem__ treating keys as positions is deprecated. In a future version, integer keys will always be treated as labels (consistent with DataFrame behavior). To access a value by position, use `ser.iloc[pos]`\n",
      "  link = row[1]  # Cột 1 chứa link review\n"
     ]
    },
    {
     "name": "stdout",
     "output_type": "stream",
     "text": [
      "760/845 - Cập nhật thể loại: Gay cấn, Phiêu lưu, Khoa học - Viễn tưởng, Hành động\n",
      "760/845 - Cập nhật ảnh: https://homepage.momocdn.net/cinema/momo-cdn-api-220615142344-637908998243781908.jpg\n"
     ]
    },
    {
     "name": "stderr",
     "output_type": "stream",
     "text": [
      "C:\\Users\\ADMIN\\AppData\\Local\\Temp\\ipykernel_7724\\373337600.py:22: FutureWarning: Series.__getitem__ treating keys as positions is deprecated. In a future version, integer keys will always be treated as labels (consistent with DataFrame behavior). To access a value by position, use `ser.iloc[pos]`\n",
      "  link = row[1]  # Cột 1 chứa link review\n"
     ]
    },
    {
     "name": "stdout",
     "output_type": "stream",
     "text": [
      "761/845 - Cập nhật thể loại: Chính kịch, Kinh dị\n",
      "761/845 - Cập nhật ảnh: https://homepage.momocdn.net/cinema/momo-cdn-api-220615142424-637908998641009110.jpg\n"
     ]
    },
    {
     "name": "stderr",
     "output_type": "stream",
     "text": [
      "C:\\Users\\ADMIN\\AppData\\Local\\Temp\\ipykernel_7724\\373337600.py:22: FutureWarning: Series.__getitem__ treating keys as positions is deprecated. In a future version, integer keys will always be treated as labels (consistent with DataFrame behavior). To access a value by position, use `ser.iloc[pos]`\n",
      "  link = row[1]  # Cột 1 chứa link review\n"
     ]
    },
    {
     "name": "stdout",
     "output_type": "stream",
     "text": [
      "762/845 - Cập nhật thể loại: Gay cấn, Kinh dị\n",
      "762/845 - Cập nhật ảnh: https://cinema.momocdn.net/img/22257041740962947-igwshQHV36aBkPyWp7En5P4Kn2V.jpg\n"
     ]
    },
    {
     "name": "stderr",
     "output_type": "stream",
     "text": [
      "C:\\Users\\ADMIN\\AppData\\Local\\Temp\\ipykernel_7724\\373337600.py:22: FutureWarning: Series.__getitem__ treating keys as positions is deprecated. In a future version, integer keys will always be treated as labels (consistent with DataFrame behavior). To access a value by position, use `ser.iloc[pos]`\n",
      "  link = row[1]  # Cột 1 chứa link review\n"
     ]
    },
    {
     "name": "stdout",
     "output_type": "stream",
     "text": [
      "763/845 - Cập nhật thể loại: Tình cảm, Lãng mạn\n",
      "763/845 - Cập nhật ảnh: https://cinema.momocdn.net/img/13693975269554876-jCJ3Ytyl7scR9EhkvikjlKYZxRQ.jpg\n"
     ]
    },
    {
     "name": "stderr",
     "output_type": "stream",
     "text": [
      "C:\\Users\\ADMIN\\AppData\\Local\\Temp\\ipykernel_7724\\373337600.py:22: FutureWarning: Series.__getitem__ treating keys as positions is deprecated. In a future version, integer keys will always be treated as labels (consistent with DataFrame behavior). To access a value by position, use `ser.iloc[pos]`\n",
      "  link = row[1]  # Cột 1 chứa link review\n"
     ]
    },
    {
     "name": "stdout",
     "output_type": "stream",
     "text": [
      "764/845 - Cập nhật thể loại: Chính kịch, Thể thao\n",
      "764/845 - Cập nhật ảnh: https://homepage.momocdn.net/cinema/momo-upload-api-230525155125-638206266855234776.jpg\n"
     ]
    },
    {
     "name": "stderr",
     "output_type": "stream",
     "text": [
      "C:\\Users\\ADMIN\\AppData\\Local\\Temp\\ipykernel_7724\\373337600.py:22: FutureWarning: Series.__getitem__ treating keys as positions is deprecated. In a future version, integer keys will always be treated as labels (consistent with DataFrame behavior). To access a value by position, use `ser.iloc[pos]`\n",
      "  link = row[1]  # Cột 1 chứa link review\n"
     ]
    },
    {
     "name": "stdout",
     "output_type": "stream",
     "text": [
      "765/845 - Cập nhật thể loại: Kinh dị\n",
      "765/845 - Cập nhật ảnh: https://cinema.momocdn.net/img/8551021542051576-dAcWx9pcEVxDwC90VPxgzXJC7AO.jpg\n"
     ]
    },
    {
     "name": "stderr",
     "output_type": "stream",
     "text": [
      "C:\\Users\\ADMIN\\AppData\\Local\\Temp\\ipykernel_7724\\373337600.py:22: FutureWarning: Series.__getitem__ treating keys as positions is deprecated. In a future version, integer keys will always be treated as labels (consistent with DataFrame behavior). To access a value by position, use `ser.iloc[pos]`\n",
      "  link = row[1]  # Cột 1 chứa link review\n"
     ]
    },
    {
     "name": "stdout",
     "output_type": "stream",
     "text": [
      "766/845 - Cập nhật thể loại: Trinh thám, Phiêu lưu, Hình sự\n",
      "766/845 - Cập nhật ảnh: https://cinema.momocdn.net/img/89449741674183356-maxresdefault%20(12\n"
     ]
    },
    {
     "name": "stderr",
     "output_type": "stream",
     "text": [
      "C:\\Users\\ADMIN\\AppData\\Local\\Temp\\ipykernel_7724\\373337600.py:22: FutureWarning: Series.__getitem__ treating keys as positions is deprecated. In a future version, integer keys will always be treated as labels (consistent with DataFrame behavior). To access a value by position, use `ser.iloc[pos]`\n",
      "  link = row[1]  # Cột 1 chứa link review\n"
     ]
    },
    {
     "name": "stdout",
     "output_type": "stream",
     "text": [
      "767/845 - Cập nhật thể loại: Phiêu lưu, Khoa học - Viễn tưởng, Hành động\n",
      "767/845 - Cập nhật ảnh: https://cinema.momocdn.net/img/89017301643277730-urDWNffjwmNi5IQaezw9GwqkUXa.jpg\n"
     ]
    },
    {
     "name": "stderr",
     "output_type": "stream",
     "text": [
      "C:\\Users\\ADMIN\\AppData\\Local\\Temp\\ipykernel_7724\\373337600.py:22: FutureWarning: Series.__getitem__ treating keys as positions is deprecated. In a future version, integer keys will always be treated as labels (consistent with DataFrame behavior). To access a value by position, use `ser.iloc[pos]`\n",
      "  link = row[1]  # Cột 1 chứa link review\n"
     ]
    },
    {
     "name": "stdout",
     "output_type": "stream",
     "text": [
      "768/845 - Cập nhật thể loại: Gay cấn, Kinh dị, Hành động\n",
      "768/845 - Cập nhật ảnh: https://cinema.momocdn.net/img/84089501075290977-maxresdefault.jpg\n"
     ]
    },
    {
     "name": "stderr",
     "output_type": "stream",
     "text": [
      "C:\\Users\\ADMIN\\AppData\\Local\\Temp\\ipykernel_7724\\373337600.py:22: FutureWarning: Series.__getitem__ treating keys as positions is deprecated. In a future version, integer keys will always be treated as labels (consistent with DataFrame behavior). To access a value by position, use `ser.iloc[pos]`\n",
      "  link = row[1]  # Cột 1 chứa link review\n"
     ]
    },
    {
     "name": "stdout",
     "output_type": "stream",
     "text": [
      "769/845 - Cập nhật thể loại: Tài liệu\n",
      "769/845 - Cập nhật ảnh: https://homepage.momocdn.net/cinema/momo-cdn-api-220615142952-637909001927591836.jpg\n"
     ]
    },
    {
     "name": "stderr",
     "output_type": "stream",
     "text": [
      "C:\\Users\\ADMIN\\AppData\\Local\\Temp\\ipykernel_7724\\373337600.py:22: FutureWarning: Series.__getitem__ treating keys as positions is deprecated. In a future version, integer keys will always be treated as labels (consistent with DataFrame behavior). To access a value by position, use `ser.iloc[pos]`\n",
      "  link = row[1]  # Cột 1 chứa link review\n"
     ]
    },
    {
     "name": "stdout",
     "output_type": "stream",
     "text": [
      "770/845 - Cập nhật thể loại: Hài, Lãng mạn\n",
      "770/845 - Cập nhật ảnh: https://homepage.momocdn.net/cinema/momo-cdn-api-220615143032-637909002327033346.jpg\n"
     ]
    },
    {
     "name": "stderr",
     "output_type": "stream",
     "text": [
      "C:\\Users\\ADMIN\\AppData\\Local\\Temp\\ipykernel_7724\\373337600.py:22: FutureWarning: Series.__getitem__ treating keys as positions is deprecated. In a future version, integer keys will always be treated as labels (consistent with DataFrame behavior). To access a value by position, use `ser.iloc[pos]`\n",
      "  link = row[1]  # Cột 1 chứa link review\n"
     ]
    },
    {
     "name": "stdout",
     "output_type": "stream",
     "text": [
      "771/845 - Cập nhật thể loại: Chính kịch\n",
      "771/845 - Cập nhật ảnh: https://homepage.momocdn.net/cinema/momo-cdn-api-220615142515-637908999152007467.jpg\n"
     ]
    },
    {
     "name": "stderr",
     "output_type": "stream",
     "text": [
      "C:\\Users\\ADMIN\\AppData\\Local\\Temp\\ipykernel_7724\\373337600.py:22: FutureWarning: Series.__getitem__ treating keys as positions is deprecated. In a future version, integer keys will always be treated as labels (consistent with DataFrame behavior). To access a value by position, use `ser.iloc[pos]`\n",
      "  link = row[1]  # Cột 1 chứa link review\n"
     ]
    },
    {
     "name": "stdout",
     "output_type": "stream",
     "text": [
      "772/845 - Cập nhật thể loại: Phiêu lưu, Khoa học - Viễn tưởng\n",
      "772/845 - Cập nhật ảnh: https://homepage.momocdn.net/cinema/momo-cdn-api-220615142347-637908998271160707.jpg\n"
     ]
    },
    {
     "name": "stderr",
     "output_type": "stream",
     "text": [
      "C:\\Users\\ADMIN\\AppData\\Local\\Temp\\ipykernel_7724\\373337600.py:22: FutureWarning: Series.__getitem__ treating keys as positions is deprecated. In a future version, integer keys will always be treated as labels (consistent with DataFrame behavior). To access a value by position, use `ser.iloc[pos]`\n",
      "  link = row[1]  # Cột 1 chứa link review\n"
     ]
    },
    {
     "name": "stdout",
     "output_type": "stream",
     "text": [
      "773/845 - Cập nhật thể loại: Chính kịch, Hài\n",
      "773/845 - Cập nhật ảnh: https://homepage.momocdn.net/cinema/momo-cdn-api-220615142601-637908999617841929.jpg\n"
     ]
    },
    {
     "name": "stderr",
     "output_type": "stream",
     "text": [
      "C:\\Users\\ADMIN\\AppData\\Local\\Temp\\ipykernel_7724\\373337600.py:22: FutureWarning: Series.__getitem__ treating keys as positions is deprecated. In a future version, integer keys will always be treated as labels (consistent with DataFrame behavior). To access a value by position, use `ser.iloc[pos]`\n",
      "  link = row[1]  # Cột 1 chứa link review\n"
     ]
    },
    {
     "name": "stdout",
     "output_type": "stream",
     "text": [
      "774/845 - Cập nhật thể loại: Gay cấn, Gia đình\n",
      "774/845 - Cập nhật ảnh: https://homepage.momocdn.net/cinema/momo-cdn-api-220615142414-637908998543217180.jpg\n"
     ]
    },
    {
     "name": "stderr",
     "output_type": "stream",
     "text": [
      "C:\\Users\\ADMIN\\AppData\\Local\\Temp\\ipykernel_7724\\373337600.py:22: FutureWarning: Series.__getitem__ treating keys as positions is deprecated. In a future version, integer keys will always be treated as labels (consistent with DataFrame behavior). To access a value by position, use `ser.iloc[pos]`\n",
      "  link = row[1]  # Cột 1 chứa link review\n",
      "C:\\Users\\ADMIN\\AppData\\Local\\Temp\\ipykernel_7724\\373337600.py:22: FutureWarning: Series.__getitem__ treating keys as positions is deprecated. In a future version, integer keys will always be treated as labels (consistent with DataFrame behavior). To access a value by position, use `ser.iloc[pos]`\n",
      "  link = row[1]  # Cột 1 chứa link review\n"
     ]
    },
    {
     "name": "stdout",
     "output_type": "stream",
     "text": [
      "775/845 - Cập nhật thể loại: Gia đình, Giả tưởng\n",
      "775/845 - Cập nhật ảnh: https://image.tmdb.org/t/p/w780/krU2kjcEKaGwOu3qPoS4spSa9cD.jpg\n",
      "776/845 - Cập nhật thể loại: Âm Nhạc, Tài liệu\n",
      "776/845 - Cập nhật ảnh: https://cinema.momocdn.net/img/57277398142615306-Capture-2024-10-06-152202.png\n"
     ]
    },
    {
     "name": "stderr",
     "output_type": "stream",
     "text": [
      "C:\\Users\\ADMIN\\AppData\\Local\\Temp\\ipykernel_7724\\373337600.py:22: FutureWarning: Series.__getitem__ treating keys as positions is deprecated. In a future version, integer keys will always be treated as labels (consistent with DataFrame behavior). To access a value by position, use `ser.iloc[pos]`\n",
      "  link = row[1]  # Cột 1 chứa link review\n"
     ]
    },
    {
     "name": "stdout",
     "output_type": "stream",
     "text": [
      "777/845 - Cập nhật thể loại: Tâm lý, Lãng mạn\n",
      "777/845 - Cập nhật ảnh: https://cinema.momocdn.net/img/57441135246606587-anh3.jpg\n"
     ]
    },
    {
     "name": "stderr",
     "output_type": "stream",
     "text": [
      "C:\\Users\\ADMIN\\AppData\\Local\\Temp\\ipykernel_7724\\373337600.py:22: FutureWarning: Series.__getitem__ treating keys as positions is deprecated. In a future version, integer keys will always be treated as labels (consistent with DataFrame behavior). To access a value by position, use `ser.iloc[pos]`\n",
      "  link = row[1]  # Cột 1 chứa link review\n"
     ]
    },
    {
     "name": "stdout",
     "output_type": "stream",
     "text": [
      "778/845 - Cập nhật thể loại: Ma, Kinh dị\n",
      "778/845 - Cập nhật ảnh: https://cinema.momocdn.net/img/28071092435901542-4fTW4N1CdnyRr2EjKJUx3eYuXiS.jpg\n"
     ]
    },
    {
     "name": "stderr",
     "output_type": "stream",
     "text": [
      "C:\\Users\\ADMIN\\AppData\\Local\\Temp\\ipykernel_7724\\373337600.py:22: FutureWarning: Series.__getitem__ treating keys as positions is deprecated. In a future version, integer keys will always be treated as labels (consistent with DataFrame behavior). To access a value by position, use `ser.iloc[pos]`\n",
      "  link = row[1]  # Cột 1 chứa link review\n"
     ]
    },
    {
     "name": "stdout",
     "output_type": "stream",
     "text": [
      "779/845 - Cập nhật thể loại: Tình cảm, Hài, Lãng mạn\n",
      "779/845 - Cập nhật ảnh: https://cinema.momocdn.net/img/15680457939701185-c8MCL2rYCLdSmiUFqhL7TjpN1sP.jpg\n"
     ]
    },
    {
     "name": "stderr",
     "output_type": "stream",
     "text": [
      "C:\\Users\\ADMIN\\AppData\\Local\\Temp\\ipykernel_7724\\373337600.py:22: FutureWarning: Series.__getitem__ treating keys as positions is deprecated. In a future version, integer keys will always be treated as labels (consistent with DataFrame behavior). To access a value by position, use `ser.iloc[pos]`\n",
      "  link = row[1]  # Cột 1 chứa link review\n"
     ]
    },
    {
     "name": "stdout",
     "output_type": "stream",
     "text": [
      "780/845 - Cập nhật thể loại: Gia đình, Hài, Hoạt hình\n",
      "780/845 - Cập nhật ảnh: https://cinema.momocdn.net/img/12743358927936086-ooXeD2XghNOg4JEb7XQPL3YPE5y.jpg\n"
     ]
    },
    {
     "name": "stderr",
     "output_type": "stream",
     "text": [
      "C:\\Users\\ADMIN\\AppData\\Local\\Temp\\ipykernel_7724\\373337600.py:22: FutureWarning: Series.__getitem__ treating keys as positions is deprecated. In a future version, integer keys will always be treated as labels (consistent with DataFrame behavior). To access a value by position, use `ser.iloc[pos]`\n",
      "  link = row[1]  # Cột 1 chứa link review\n"
     ]
    },
    {
     "name": "stdout",
     "output_type": "stream",
     "text": [
      "781/845 - Cập nhật thể loại: Chính kịch\n",
      "781/845 - Cập nhật ảnh: https://cinema.momocdn.net/img/5936707079882127-9eIuMefy5LwrJKwVDvMaGLFSWxl.jpg\n"
     ]
    },
    {
     "name": "stderr",
     "output_type": "stream",
     "text": [
      "C:\\Users\\ADMIN\\AppData\\Local\\Temp\\ipykernel_7724\\373337600.py:22: FutureWarning: Series.__getitem__ treating keys as positions is deprecated. In a future version, integer keys will always be treated as labels (consistent with DataFrame behavior). To access a value by position, use `ser.iloc[pos]`\n",
      "  link = row[1]  # Cột 1 chứa link review\n"
     ]
    },
    {
     "name": "stdout",
     "output_type": "stream",
     "text": [
      "782/845 - Cập nhật thể loại: Hoạt hình\n",
      "782/845 - Cập nhật ảnh: https://cinema.momocdn.net/img/670426957312776-maxresdefault%20(3\n"
     ]
    },
    {
     "name": "stderr",
     "output_type": "stream",
     "text": [
      "C:\\Users\\ADMIN\\AppData\\Local\\Temp\\ipykernel_7724\\373337600.py:22: FutureWarning: Series.__getitem__ treating keys as positions is deprecated. In a future version, integer keys will always be treated as labels (consistent with DataFrame behavior). To access a value by position, use `ser.iloc[pos]`\n",
      "  link = row[1]  # Cột 1 chứa link review\n"
     ]
    },
    {
     "name": "stdout",
     "output_type": "stream",
     "text": [
      "783/845 - Cập nhật thể loại: Khoa học - Viễn tưởng\n",
      "783/845 - Cập nhật ảnh: https://cinema.momocdn.net/img/87461597041569201-yeu-quai-toan-thu.jpg\n"
     ]
    },
    {
     "name": "stderr",
     "output_type": "stream",
     "text": [
      "C:\\Users\\ADMIN\\AppData\\Local\\Temp\\ipykernel_7724\\373337600.py:22: FutureWarning: Series.__getitem__ treating keys as positions is deprecated. In a future version, integer keys will always be treated as labels (consistent with DataFrame behavior). To access a value by position, use `ser.iloc[pos]`\n",
      "  link = row[1]  # Cột 1 chứa link review\n"
     ]
    },
    {
     "name": "stdout",
     "output_type": "stream",
     "text": [
      "784/845 - Cập nhật thể loại: Phiêu lưu, Hài\n",
      "784/845 - Cập nhật ảnh: https://cinema.momocdn.net/img/83837844451943456-ke5QdLEEsBqXnl22oSIffMRTUq1.jpg\n"
     ]
    },
    {
     "name": "stderr",
     "output_type": "stream",
     "text": [
      "C:\\Users\\ADMIN\\AppData\\Local\\Temp\\ipykernel_7724\\373337600.py:22: FutureWarning: Series.__getitem__ treating keys as positions is deprecated. In a future version, integer keys will always be treated as labels (consistent with DataFrame behavior). To access a value by position, use `ser.iloc[pos]`\n",
      "  link = row[1]  # Cột 1 chứa link review\n"
     ]
    },
    {
     "name": "stdout",
     "output_type": "stream",
     "text": [
      "785/845 - Cập nhật thể loại: Gia đình, Phiêu lưu, Hoạt hình\n",
      "785/845 - Cập nhật ảnh: https://homepage.momocdn.net/cinema/momo-cdn-api-220615143130-637909002908325248.jpg\n"
     ]
    },
    {
     "name": "stderr",
     "output_type": "stream",
     "text": [
      "C:\\Users\\ADMIN\\AppData\\Local\\Temp\\ipykernel_7724\\373337600.py:22: FutureWarning: Series.__getitem__ treating keys as positions is deprecated. In a future version, integer keys will always be treated as labels (consistent with DataFrame behavior). To access a value by position, use `ser.iloc[pos]`\n",
      "  link = row[1]  # Cột 1 chứa link review\n"
     ]
    },
    {
     "name": "stdout",
     "output_type": "stream",
     "text": [
      "786/845 - Cập nhật thể loại: Chính kịch, Kinh dị, Hoạt hình\n",
      "786/845 - Cập nhật ảnh: https://homepage.momocdn.net/cinema/momo-cdn-api-220615143107-637909002671630339.jpg\n"
     ]
    },
    {
     "name": "stderr",
     "output_type": "stream",
     "text": [
      "C:\\Users\\ADMIN\\AppData\\Local\\Temp\\ipykernel_7724\\373337600.py:22: FutureWarning: Series.__getitem__ treating keys as positions is deprecated. In a future version, integer keys will always be treated as labels (consistent with DataFrame behavior). To access a value by position, use `ser.iloc[pos]`\n",
      "  link = row[1]  # Cột 1 chứa link review\n"
     ]
    },
    {
     "name": "stdout",
     "output_type": "stream",
     "text": [
      "787/845 - Cập nhật thể loại: Gay cấn, Hình sự, Hành động\n",
      "787/845 - Cập nhật ảnh: https://homepage.momocdn.net/cinema/momo-cdn-api-220615143035-637909002357578860.jpg\n"
     ]
    },
    {
     "name": "stderr",
     "output_type": "stream",
     "text": [
      "C:\\Users\\ADMIN\\AppData\\Local\\Temp\\ipykernel_7724\\373337600.py:22: FutureWarning: Series.__getitem__ treating keys as positions is deprecated. In a future version, integer keys will always be treated as labels (consistent with DataFrame behavior). To access a value by position, use `ser.iloc[pos]`\n",
      "  link = row[1]  # Cột 1 chứa link review\n"
     ]
    },
    {
     "name": "stdout",
     "output_type": "stream",
     "text": [
      "788/845 - Cập nhật thể loại: Chính kịch, Hành động\n",
      "788/845 - Cập nhật ảnh: https://homepage.momocdn.net/cinema/momo-cdn-api-220615142721-637909000418492658.jpg\n"
     ]
    },
    {
     "name": "stderr",
     "output_type": "stream",
     "text": [
      "C:\\Users\\ADMIN\\AppData\\Local\\Temp\\ipykernel_7724\\373337600.py:22: FutureWarning: Series.__getitem__ treating keys as positions is deprecated. In a future version, integer keys will always be treated as labels (consistent with DataFrame behavior). To access a value by position, use `ser.iloc[pos]`\n",
      "  link = row[1]  # Cột 1 chứa link review\n"
     ]
    },
    {
     "name": "stdout",
     "output_type": "stream",
     "text": [
      "789/845 - Cập nhật thể loại: Gay cấn, Kinh dị\n",
      "789/845 - Cập nhật ảnh: https://homepage.momocdn.net/cinema/momo-cdn-api-220615142701-637909000217200385.jpg\n"
     ]
    },
    {
     "name": "stderr",
     "output_type": "stream",
     "text": [
      "C:\\Users\\ADMIN\\AppData\\Local\\Temp\\ipykernel_7724\\373337600.py:22: FutureWarning: Series.__getitem__ treating keys as positions is deprecated. In a future version, integer keys will always be treated as labels (consistent with DataFrame behavior). To access a value by position, use `ser.iloc[pos]`\n",
      "  link = row[1]  # Cột 1 chứa link review\n"
     ]
    },
    {
     "name": "stdout",
     "output_type": "stream",
     "text": [
      "790/845 - Cập nhật thể loại: Chính kịch, Lịch sử, Lãng mạn\n",
      "790/845 - Cập nhật ảnh: https://homepage.momocdn.net/cinema/momo-cdn-api-220615142358-637908998384658658.jpg\n"
     ]
    },
    {
     "name": "stderr",
     "output_type": "stream",
     "text": [
      "C:\\Users\\ADMIN\\AppData\\Local\\Temp\\ipykernel_7724\\373337600.py:22: FutureWarning: Series.__getitem__ treating keys as positions is deprecated. In a future version, integer keys will always be treated as labels (consistent with DataFrame behavior). To access a value by position, use `ser.iloc[pos]`\n",
      "  link = row[1]  # Cột 1 chứa link review\n"
     ]
    },
    {
     "name": "stdout",
     "output_type": "stream",
     "text": [
      "791/845 - Cập nhật thể loại: Chính kịch, Bí ẩn, Hình sự\n",
      "791/845 - Cập nhật ảnh: https://homepage.momocdn.net/cinema/momo-cdn-api-220615142500-637908999005108177.jpg\n"
     ]
    },
    {
     "name": "stderr",
     "output_type": "stream",
     "text": [
      "C:\\Users\\ADMIN\\AppData\\Local\\Temp\\ipykernel_7724\\373337600.py:22: FutureWarning: Series.__getitem__ treating keys as positions is deprecated. In a future version, integer keys will always be treated as labels (consistent with DataFrame behavior). To access a value by position, use `ser.iloc[pos]`\n",
      "  link = row[1]  # Cột 1 chứa link review\n"
     ]
    },
    {
     "name": "stdout",
     "output_type": "stream",
     "text": [
      "792/845 - Cập nhật thể loại: Chiến tranh, Gay cấn\n",
      "792/845 - Cập nhật ảnh: https://homepage.momocdn.net/cinema/momo-cdn-api-220615142422-637908998623355840.jpg\n"
     ]
    },
    {
     "name": "stderr",
     "output_type": "stream",
     "text": [
      "C:\\Users\\ADMIN\\AppData\\Local\\Temp\\ipykernel_7724\\373337600.py:22: FutureWarning: Series.__getitem__ treating keys as positions is deprecated. In a future version, integer keys will always be treated as labels (consistent with DataFrame behavior). To access a value by position, use `ser.iloc[pos]`\n",
      "  link = row[1]  # Cột 1 chứa link review\n"
     ]
    },
    {
     "name": "stdout",
     "output_type": "stream",
     "text": [
      "793/845 - Cập nhật thể loại: Gay cấn, Ma, Kinh dị\n",
      "793/845 - Cập nhật ảnh: https://homepage.momocdn.net/cinema/momo-cdn-api-220615142512-637908999127341247.jpg\n"
     ]
    },
    {
     "name": "stderr",
     "output_type": "stream",
     "text": [
      "C:\\Users\\ADMIN\\AppData\\Local\\Temp\\ipykernel_7724\\373337600.py:22: FutureWarning: Series.__getitem__ treating keys as positions is deprecated. In a future version, integer keys will always be treated as labels (consistent with DataFrame behavior). To access a value by position, use `ser.iloc[pos]`\n",
      "  link = row[1]  # Cột 1 chứa link review\n"
     ]
    },
    {
     "name": "stdout",
     "output_type": "stream",
     "text": [
      "794/845 - Cập nhật thể loại: Gay cấn, Bí ẩn, Hình sự\n",
      "794/845 - Cập nhật ảnh: https://cinema.momocdn.net/img/0fa38084-ac9e-41de-a197-1cd308e7f0ac-11634794107239515.png\n"
     ]
    },
    {
     "name": "stderr",
     "output_type": "stream",
     "text": [
      "C:\\Users\\ADMIN\\AppData\\Local\\Temp\\ipykernel_7724\\373337600.py:22: FutureWarning: Series.__getitem__ treating keys as positions is deprecated. In a future version, integer keys will always be treated as labels (consistent with DataFrame behavior). To access a value by position, use `ser.iloc[pos]`\n",
      "  link = row[1]  # Cột 1 chứa link review\n"
     ]
    },
    {
     "name": "stdout",
     "output_type": "stream",
     "text": [
      "795/845 - Cập nhật thể loại: Gia đình, Phiêu lưu, Hoạt hình\n",
      "795/845 - Cập nhật ảnh: https://image.tmdb.org/t/p/w780/61arVnYIN3OefoZkVXcAPq2mJ2N.jpg\n"
     ]
    },
    {
     "name": "stderr",
     "output_type": "stream",
     "text": [
      "C:\\Users\\ADMIN\\AppData\\Local\\Temp\\ipykernel_7724\\373337600.py:22: FutureWarning: Series.__getitem__ treating keys as positions is deprecated. In a future version, integer keys will always be treated as labels (consistent with DataFrame behavior). To access a value by position, use `ser.iloc[pos]`\n",
      "  link = row[1]  # Cột 1 chứa link review\n"
     ]
    },
    {
     "name": "stdout",
     "output_type": "stream",
     "text": [
      "796/845 - Cập nhật thể loại: Chính kịch, Lãng mạn\n",
      "796/845 - Cập nhật ảnh: https://cinema.momocdn.net/img/75604896340869096-czfbhgM0cjFqPt4ARofDKgRHCyj.jpg\n"
     ]
    },
    {
     "name": "stderr",
     "output_type": "stream",
     "text": [
      "C:\\Users\\ADMIN\\AppData\\Local\\Temp\\ipykernel_7724\\373337600.py:22: FutureWarning: Series.__getitem__ treating keys as positions is deprecated. In a future version, integer keys will always be treated as labels (consistent with DataFrame behavior). To access a value by position, use `ser.iloc[pos]`\n",
      "  link = row[1]  # Cột 1 chứa link review\n"
     ]
    },
    {
     "name": "stdout",
     "output_type": "stream",
     "text": [
      "797/845 - Cập nhật thể loại: Hài, Lãng mạn\n",
      "797/845 - Cập nhật ảnh: https://cinema.momocdn.net/img/77511337782075529-j9eOeLlTGoHoM8BNUJVNyWmIvCi.jpg\n"
     ]
    },
    {
     "name": "stderr",
     "output_type": "stream",
     "text": [
      "C:\\Users\\ADMIN\\AppData\\Local\\Temp\\ipykernel_7724\\373337600.py:22: FutureWarning: Series.__getitem__ treating keys as positions is deprecated. In a future version, integer keys will always be treated as labels (consistent with DataFrame behavior). To access a value by position, use `ser.iloc[pos]`\n",
      "  link = row[1]  # Cột 1 chứa link review\n"
     ]
    },
    {
     "name": "stdout",
     "output_type": "stream",
     "text": [
      "798/845 - Cập nhật thể loại: Chính kịch, Âm Nhạc, Tâm lý, Hài\n",
      "798/845 - Cập nhật ảnh: https://cinema.momocdn.net/img/20966277832178716-nV4nOG6ZCK8orRL7T5wXXgMdM0N.jpg\n"
     ]
    },
    {
     "name": "stderr",
     "output_type": "stream",
     "text": [
      "C:\\Users\\ADMIN\\AppData\\Local\\Temp\\ipykernel_7724\\373337600.py:22: FutureWarning: Series.__getitem__ treating keys as positions is deprecated. In a future version, integer keys will always be treated as labels (consistent with DataFrame behavior). To access a value by position, use `ser.iloc[pos]`\n",
      "  link = row[1]  # Cột 1 chứa link review\n"
     ]
    },
    {
     "name": "stdout",
     "output_type": "stream",
     "text": [
      "799/845 - Cập nhật thể loại: Chính kịch, Khoa học - Viễn tưởng, Hài, Lãng mạn\n",
      "799/845 - Cập nhật ảnh: https://cinema.momocdn.net/img/20966711204155539-beys1MLA1QVjsNHtHW2XW5Ia3Q1.jpg\n"
     ]
    },
    {
     "name": "stderr",
     "output_type": "stream",
     "text": [
      "C:\\Users\\ADMIN\\AppData\\Local\\Temp\\ipykernel_7724\\373337600.py:22: FutureWarning: Series.__getitem__ treating keys as positions is deprecated. In a future version, integer keys will always be treated as labels (consistent with DataFrame behavior). To access a value by position, use `ser.iloc[pos]`\n",
      "  link = row[1]  # Cột 1 chứa link review\n"
     ]
    },
    {
     "name": "stdout",
     "output_type": "stream",
     "text": [
      "800/845 - Cập nhật thể loại: Chính kịch, Gia đình\n",
      "800/845 - Cập nhật ảnh: https://cinema.momocdn.net/img/19505384863205972-3WNJCh3rgOSn3juBiqbHFr14Qzc.jpg\n"
     ]
    },
    {
     "name": "stderr",
     "output_type": "stream",
     "text": [
      "C:\\Users\\ADMIN\\AppData\\Local\\Temp\\ipykernel_7724\\373337600.py:22: FutureWarning: Series.__getitem__ treating keys as positions is deprecated. In a future version, integer keys will always be treated as labels (consistent with DataFrame behavior). To access a value by position, use `ser.iloc[pos]`\n",
      "  link = row[1]  # Cột 1 chứa link review\n"
     ]
    },
    {
     "name": "stdout",
     "output_type": "stream",
     "text": [
      "801/845 - Cập nhật thể loại: Hài\n",
      "801/845 - Cập nhật ảnh: https://cinema.momocdn.net/img/19505502906033203-slylEb05kgJ057BT8XJCobytF2o.jpg\n"
     ]
    },
    {
     "name": "stderr",
     "output_type": "stream",
     "text": [
      "C:\\Users\\ADMIN\\AppData\\Local\\Temp\\ipykernel_7724\\373337600.py:22: FutureWarning: Series.__getitem__ treating keys as positions is deprecated. In a future version, integer keys will always be treated as labels (consistent with DataFrame behavior). To access a value by position, use `ser.iloc[pos]`\n",
      "  link = row[1]  # Cột 1 chứa link review\n"
     ]
    },
    {
     "name": "stdout",
     "output_type": "stream",
     "text": [
      "802/845 - Cập nhật thể loại: Chính kịch, Âm Nhạc, Hoạt hình\n",
      "802/845 - Cập nhật ảnh: https://cinema.momocdn.net/img/19505218163893177-exOykaBLLT2hc0zvYrZz0yz5Asz.jpg\n"
     ]
    },
    {
     "name": "stderr",
     "output_type": "stream",
     "text": [
      "C:\\Users\\ADMIN\\AppData\\Local\\Temp\\ipykernel_7724\\373337600.py:22: FutureWarning: Series.__getitem__ treating keys as positions is deprecated. In a future version, integer keys will always be treated as labels (consistent with DataFrame behavior). To access a value by position, use `ser.iloc[pos]`\n",
      "  link = row[1]  # Cột 1 chứa link review\n"
     ]
    },
    {
     "name": "stdout",
     "output_type": "stream",
     "text": [
      "803/845 - Cập nhật thể loại: Gia đình, Phiêu lưu, Khoa học - Viễn tưởng\n",
      "803/845 - Cập nhật ảnh: https://cinema.momocdn.net/img/13693476269397864-mYIWIFZRrxCVsOUFM9uUpOdgJ3I.jpg\n"
     ]
    },
    {
     "name": "stderr",
     "output_type": "stream",
     "text": [
      "C:\\Users\\ADMIN\\AppData\\Local\\Temp\\ipykernel_7724\\373337600.py:22: FutureWarning: Series.__getitem__ treating keys as positions is deprecated. In a future version, integer keys will always be treated as labels (consistent with DataFrame behavior). To access a value by position, use `ser.iloc[pos]`\n",
      "  link = row[1]  # Cột 1 chứa link review\n"
     ]
    },
    {
     "name": "stdout",
     "output_type": "stream",
     "text": [
      "804/845 - Cập nhật thể loại: Gia đình, Hài\n",
      "804/845 - Cập nhật ảnh: https://cinema.momocdn.net/img/8551363923497750-4iRxUzGkzk8dcxBdsJ5OA2i9pLo.jpg\n"
     ]
    },
    {
     "name": "stderr",
     "output_type": "stream",
     "text": [
      "C:\\Users\\ADMIN\\AppData\\Local\\Temp\\ipykernel_7724\\373337600.py:22: FutureWarning: Series.__getitem__ treating keys as positions is deprecated. In a future version, integer keys will always be treated as labels (consistent with DataFrame behavior). To access a value by position, use `ser.iloc[pos]`\n",
      "  link = row[1]  # Cột 1 chứa link review\n"
     ]
    },
    {
     "name": "stdout",
     "output_type": "stream",
     "text": [
      "805/845 - Cập nhật thể loại: Chính kịch, Tâm lý, Lãng mạn\n",
      "805/845 - Cập nhật ảnh: https://cinema.momocdn.net/img/5853900576710956-lGL6HNc2h0VmdEtjQ2bZfWX8qn1.jpg\n"
     ]
    },
    {
     "name": "stderr",
     "output_type": "stream",
     "text": [
      "C:\\Users\\ADMIN\\AppData\\Local\\Temp\\ipykernel_7724\\373337600.py:22: FutureWarning: Series.__getitem__ treating keys as positions is deprecated. In a future version, integer keys will always be treated as labels (consistent with DataFrame behavior). To access a value by position, use `ser.iloc[pos]`\n",
      "  link = row[1]  # Cột 1 chứa link review\n"
     ]
    },
    {
     "name": "stdout",
     "output_type": "stream",
     "text": [
      "806/845 - Cập nhật thể loại: Kinh dị, Hài\n",
      "806/845 - Cập nhật ảnh: https://cinema.momocdn.net/img/1868644861723679-4ojumOJv7MS4rMRhzgxbBoW0VrC.jpg\n"
     ]
    },
    {
     "name": "stderr",
     "output_type": "stream",
     "text": [
      "C:\\Users\\ADMIN\\AppData\\Local\\Temp\\ipykernel_7724\\373337600.py:22: FutureWarning: Series.__getitem__ treating keys as positions is deprecated. In a future version, integer keys will always be treated as labels (consistent with DataFrame behavior). To access a value by position, use `ser.iloc[pos]`\n",
      "  link = row[1]  # Cột 1 chứa link review\n"
     ]
    },
    {
     "name": "stdout",
     "output_type": "stream",
     "text": [
      "807/845 - Cập nhật thể loại: Gay cấn\n",
      "807/845 - Cập nhật ảnh: https://cinema.momocdn.net/img/1780183691875123-xPoflbDME9NFwxDKiynPRwUSUOM.jpg\n"
     ]
    },
    {
     "name": "stderr",
     "output_type": "stream",
     "text": [
      "C:\\Users\\ADMIN\\AppData\\Local\\Temp\\ipykernel_7724\\373337600.py:22: FutureWarning: Series.__getitem__ treating keys as positions is deprecated. In a future version, integer keys will always be treated as labels (consistent with DataFrame behavior). To access a value by position, use `ser.iloc[pos]`\n",
      "  link = row[1]  # Cột 1 chứa link review\n"
     ]
    },
    {
     "name": "stdout",
     "output_type": "stream",
     "text": [
      "808/845 - Cập nhật thể loại: Bí ẩn, Trinh thám, Hình sự\n",
      "808/845 - Cập nhật ảnh: https://cinema.momocdn.net/img/88248710863961841-xTGAseTeeS1Dz6WCrypzRk5QTDQ.jpg\n"
     ]
    },
    {
     "name": "stderr",
     "output_type": "stream",
     "text": [
      "C:\\Users\\ADMIN\\AppData\\Local\\Temp\\ipykernel_7724\\373337600.py:22: FutureWarning: Series.__getitem__ treating keys as positions is deprecated. In a future version, integer keys will always be treated as labels (consistent with DataFrame behavior). To access a value by position, use `ser.iloc[pos]`\n",
      "  link = row[1]  # Cột 1 chứa link review\n"
     ]
    },
    {
     "name": "stdout",
     "output_type": "stream",
     "text": [
      "809/845 - Cập nhật thể loại: Gay cấn, Tội phạm, Trinh thám, Hình sự\n",
      "809/845 - Cập nhật ảnh: https://cinema.momocdn.net/img/88235414815199024-nfSaFuQkLqnCrwf300wM3xIY5sT.jpg\n"
     ]
    },
    {
     "name": "stderr",
     "output_type": "stream",
     "text": [
      "C:\\Users\\ADMIN\\AppData\\Local\\Temp\\ipykernel_7724\\373337600.py:22: FutureWarning: Series.__getitem__ treating keys as positions is deprecated. In a future version, integer keys will always be treated as labels (consistent with DataFrame behavior). To access a value by position, use `ser.iloc[pos]`\n",
      "  link = row[1]  # Cột 1 chứa link review\n"
     ]
    },
    {
     "name": "stdout",
     "output_type": "stream",
     "text": [
      "810/845 - Cập nhật thể loại: Phiêu lưu, Khoa học - Viễn tưởng, Hoạt hình\n",
      "810/845 - Cập nhật ảnh: https://cinema.momocdn.net/img/86859281525905729-kVcjJHeRiuYBs13bVW3ZCb0cP0H.jpg\n"
     ]
    },
    {
     "name": "stderr",
     "output_type": "stream",
     "text": [
      "C:\\Users\\ADMIN\\AppData\\Local\\Temp\\ipykernel_7724\\373337600.py:22: FutureWarning: Series.__getitem__ treating keys as positions is deprecated. In a future version, integer keys will always be treated as labels (consistent with DataFrame behavior). To access a value by position, use `ser.iloc[pos]`\n",
      "  link = row[1]  # Cột 1 chứa link review\n"
     ]
    },
    {
     "name": "stdout",
     "output_type": "stream",
     "text": [
      "811/845 - Cập nhật thể loại: Chính kịch, Tâm lý\n",
      "811/845 - Cập nhật ảnh: https://cinema.momocdn.net/img/75540945467713925-AkKWF4tP51SYOe6R61CxeWcU4VX.jpg\n"
     ]
    },
    {
     "name": "stderr",
     "output_type": "stream",
     "text": [
      "C:\\Users\\ADMIN\\AppData\\Local\\Temp\\ipykernel_7724\\373337600.py:22: FutureWarning: Series.__getitem__ treating keys as positions is deprecated. In a future version, integer keys will always be treated as labels (consistent with DataFrame behavior). To access a value by position, use `ser.iloc[pos]`\n",
      "  link = row[1]  # Cột 1 chứa link review\n"
     ]
    },
    {
     "name": "stdout",
     "output_type": "stream",
     "text": [
      "812/845 - Cập nhật thể loại: Phiêu lưu, Khoa học - Viễn tưởng\n",
      "812/845 - Cập nhật ảnh: https://homepage.momocdn.net/cinema/momo-cdn-api-220615143127-637909002878565017.jpg\n"
     ]
    },
    {
     "name": "stderr",
     "output_type": "stream",
     "text": [
      "C:\\Users\\ADMIN\\AppData\\Local\\Temp\\ipykernel_7724\\373337600.py:22: FutureWarning: Series.__getitem__ treating keys as positions is deprecated. In a future version, integer keys will always be treated as labels (consistent with DataFrame behavior). To access a value by position, use `ser.iloc[pos]`\n",
      "  link = row[1]  # Cột 1 chứa link review\n"
     ]
    },
    {
     "name": "stdout",
     "output_type": "stream",
     "text": [
      "813/845 - Cập nhật thể loại: Chính kịch, Tâm lý\n",
      "813/845 - Cập nhật ảnh: https://homepage.momocdn.net/cinema/momo-cdn-api-220615143133-637909002939793349.jpg\n"
     ]
    },
    {
     "name": "stderr",
     "output_type": "stream",
     "text": [
      "C:\\Users\\ADMIN\\AppData\\Local\\Temp\\ipykernel_7724\\373337600.py:22: FutureWarning: Series.__getitem__ treating keys as positions is deprecated. In a future version, integer keys will always be treated as labels (consistent with DataFrame behavior). To access a value by position, use `ser.iloc[pos]`\n",
      "  link = row[1]  # Cột 1 chứa link review\n"
     ]
    },
    {
     "name": "stdout",
     "output_type": "stream",
     "text": [
      "814/845 - Cập nhật thể loại: Chiến tranh, Kinh dị, Hành động\n",
      "814/845 - Cập nhật ảnh: https://homepage.momocdn.net/cinema/momo-cdn-api-220615143122-637909002821011100.jpg\n"
     ]
    },
    {
     "name": "stderr",
     "output_type": "stream",
     "text": [
      "C:\\Users\\ADMIN\\AppData\\Local\\Temp\\ipykernel_7724\\373337600.py:22: FutureWarning: Series.__getitem__ treating keys as positions is deprecated. In a future version, integer keys will always be treated as labels (consistent with DataFrame behavior). To access a value by position, use `ser.iloc[pos]`\n",
      "  link = row[1]  # Cột 1 chứa link review\n"
     ]
    },
    {
     "name": "stdout",
     "output_type": "stream",
     "text": [
      "815/845 - Cập nhật thể loại: Tình cảm, Lãng mạn\n",
      "815/845 - Cập nhật ảnh: https://homepage.momocdn.net/cinema/momo-cdn-api-220615143025-637909002257363464.jpg\n"
     ]
    },
    {
     "name": "stderr",
     "output_type": "stream",
     "text": [
      "C:\\Users\\ADMIN\\AppData\\Local\\Temp\\ipykernel_7724\\373337600.py:22: FutureWarning: Series.__getitem__ treating keys as positions is deprecated. In a future version, integer keys will always be treated as labels (consistent with DataFrame behavior). To access a value by position, use `ser.iloc[pos]`\n",
      "  link = row[1]  # Cột 1 chứa link review\n"
     ]
    },
    {
     "name": "stdout",
     "output_type": "stream",
     "text": [
      "816/845 - Cập nhật thể loại: Tâm lý, Hài, Hành động\n",
      "816/845 - Cập nhật ảnh: https://homepage.momocdn.net/cinema/momo-cdn-api-220615142922-637909001621495522.jpg\n"
     ]
    },
    {
     "name": "stderr",
     "output_type": "stream",
     "text": [
      "C:\\Users\\ADMIN\\AppData\\Local\\Temp\\ipykernel_7724\\373337600.py:22: FutureWarning: Series.__getitem__ treating keys as positions is deprecated. In a future version, integer keys will always be treated as labels (consistent with DataFrame behavior). To access a value by position, use `ser.iloc[pos]`\n",
      "  link = row[1]  # Cột 1 chứa link review\n"
     ]
    },
    {
     "name": "stdout",
     "output_type": "stream",
     "text": [
      "817/845 - Cập nhật thể loại: Chính kịch, Âm Nhạc, Hình sự, Tình cảm, Lãng mạn\n",
      "817/845 - Cập nhật ảnh: https://homepage.momocdn.net/cinema/momo-cdn-api-220615142735-637909000554496118.jpg\n"
     ]
    },
    {
     "name": "stderr",
     "output_type": "stream",
     "text": [
      "C:\\Users\\ADMIN\\AppData\\Local\\Temp\\ipykernel_7724\\373337600.py:22: FutureWarning: Series.__getitem__ treating keys as positions is deprecated. In a future version, integer keys will always be treated as labels (consistent with DataFrame behavior). To access a value by position, use `ser.iloc[pos]`\n",
      "  link = row[1]  # Cột 1 chứa link review\n"
     ]
    },
    {
     "name": "stdout",
     "output_type": "stream",
     "text": [
      "818/845 - Cập nhật thể loại: Gay cấn, Hình sự, Hành động\n",
      "818/845 - Cập nhật ảnh: https://homepage.momocdn.net/cinema/momo-cdn-api-220615135322-637908980028803884.jpg\n"
     ]
    },
    {
     "name": "stderr",
     "output_type": "stream",
     "text": [
      "C:\\Users\\ADMIN\\AppData\\Local\\Temp\\ipykernel_7724\\373337600.py:22: FutureWarning: Series.__getitem__ treating keys as positions is deprecated. In a future version, integer keys will always be treated as labels (consistent with DataFrame behavior). To access a value by position, use `ser.iloc[pos]`\n",
      "  link = row[1]  # Cột 1 chứa link review\n"
     ]
    },
    {
     "name": "stdout",
     "output_type": "stream",
     "text": [
      "819/845 - Cập nhật thể loại: Gay cấn, Kinh dị\n",
      "819/845 - Cập nhật ảnh: https://homepage.momocdn.net/cinema/momo-cdn-api-220615135335-637908980152855478.jpg\n"
     ]
    },
    {
     "name": "stderr",
     "output_type": "stream",
     "text": [
      "C:\\Users\\ADMIN\\AppData\\Local\\Temp\\ipykernel_7724\\373337600.py:22: FutureWarning: Series.__getitem__ treating keys as positions is deprecated. In a future version, integer keys will always be treated as labels (consistent with DataFrame behavior). To access a value by position, use `ser.iloc[pos]`\n",
      "  link = row[1]  # Cột 1 chứa link review\n"
     ]
    },
    {
     "name": "stdout",
     "output_type": "stream",
     "text": [
      "820/845 - Cập nhật thể loại: Hài, Hành động, Hoạt hình\n",
      "820/845 - Cập nhật ảnh: https://homepage.momocdn.net/cinema/momo-cdn-api-220615142502-637908999024579176.jpg\n"
     ]
    },
    {
     "name": "stderr",
     "output_type": "stream",
     "text": [
      "C:\\Users\\ADMIN\\AppData\\Local\\Temp\\ipykernel_7724\\373337600.py:22: FutureWarning: Series.__getitem__ treating keys as positions is deprecated. In a future version, integer keys will always be treated as labels (consistent with DataFrame behavior). To access a value by position, use `ser.iloc[pos]`\n",
      "  link = row[1]  # Cột 1 chứa link review\n"
     ]
    },
    {
     "name": "stdout",
     "output_type": "stream",
     "text": [
      "821/845 - Cập nhật thể loại: Phiêu lưu, Hoạt hình\n",
      "821/845 - Cập nhật ảnh: https://homepage.momocdn.net/cinema/momo-cdn-api-220615142509-637908999099794897.jpg\n"
     ]
    },
    {
     "name": "stderr",
     "output_type": "stream",
     "text": [
      "C:\\Users\\ADMIN\\AppData\\Local\\Temp\\ipykernel_7724\\373337600.py:22: FutureWarning: Series.__getitem__ treating keys as positions is deprecated. In a future version, integer keys will always be treated as labels (consistent with DataFrame behavior). To access a value by position, use `ser.iloc[pos]`\n",
      "  link = row[1]  # Cột 1 chứa link review\n"
     ]
    },
    {
     "name": "stdout",
     "output_type": "stream",
     "text": [
      "822/845 - Cập nhật thể loại: Gia đình, Hoạt hình\n",
      "822/845 - Cập nhật ảnh: https://homepage.momocdn.net/cinema/momo-cdn-api-220615142615-637908999754704015.jpg\n"
     ]
    },
    {
     "name": "stderr",
     "output_type": "stream",
     "text": [
      "C:\\Users\\ADMIN\\AppData\\Local\\Temp\\ipykernel_7724\\373337600.py:22: FutureWarning: Series.__getitem__ treating keys as positions is deprecated. In a future version, integer keys will always be treated as labels (consistent with DataFrame behavior). To access a value by position, use `ser.iloc[pos]`\n",
      "  link = row[1]  # Cột 1 chứa link review\n"
     ]
    },
    {
     "name": "stdout",
     "output_type": "stream",
     "text": [
      "823/845 - Cập nhật thể loại: Tài liệu\n",
      "823/845 - Cập nhật ảnh: https://image.tmdb.org/t/p/w780/rTgTQgmv5pOFpvVMlRBXIXb56yQ.jpg\n"
     ]
    },
    {
     "name": "stderr",
     "output_type": "stream",
     "text": [
      "C:\\Users\\ADMIN\\AppData\\Local\\Temp\\ipykernel_7724\\373337600.py:22: FutureWarning: Series.__getitem__ treating keys as positions is deprecated. In a future version, integer keys will always be treated as labels (consistent with DataFrame behavior). To access a value by position, use `ser.iloc[pos]`\n",
      "  link = row[1]  # Cột 1 chứa link review\n"
     ]
    },
    {
     "name": "stdout",
     "output_type": "stream",
     "text": [
      "824/845 - Cập nhật thể loại: Kinh dị, Hài\n",
      "824/845 - Cập nhật ảnh: https://cinema.momocdn.net/img/51333962522001690-l8ZBmJtRVxd5l1JlZSIq18Fu6hX.jpg\n"
     ]
    },
    {
     "name": "stderr",
     "output_type": "stream",
     "text": [
      "C:\\Users\\ADMIN\\AppData\\Local\\Temp\\ipykernel_7724\\373337600.py:22: FutureWarning: Series.__getitem__ treating keys as positions is deprecated. In a future version, integer keys will always be treated as labels (consistent with DataFrame behavior). To access a value by position, use `ser.iloc[pos]`\n",
      "  link = row[1]  # Cột 1 chứa link review\n"
     ]
    },
    {
     "name": "stdout",
     "output_type": "stream",
     "text": [
      "825/845 - Cập nhật thể loại: Hình sự, Hài\n",
      "825/845 - Cập nhật ảnh: https://cinema.momocdn.net/img/76657785524317912-zXRMUNuSQ3psaa15D6oluX5ywjb.jpg\n"
     ]
    },
    {
     "name": "stderr",
     "output_type": "stream",
     "text": [
      "C:\\Users\\ADMIN\\AppData\\Local\\Temp\\ipykernel_7724\\373337600.py:22: FutureWarning: Series.__getitem__ treating keys as positions is deprecated. In a future version, integer keys will always be treated as labels (consistent with DataFrame behavior). To access a value by position, use `ser.iloc[pos]`\n",
      "  link = row[1]  # Cột 1 chứa link review\n"
     ]
    },
    {
     "name": "stdout",
     "output_type": "stream",
     "text": [
      "826/845 - Cập nhật thể loại: Phiêu lưu, Hài, Hoạt hình\n",
      "826/845 - Cập nhật ảnh: https://cinema.momocdn.net/img/75605261497270869-mB0EO0am5wVI61t0UShH10czHsj.jpg\n"
     ]
    },
    {
     "name": "stderr",
     "output_type": "stream",
     "text": [
      "C:\\Users\\ADMIN\\AppData\\Local\\Temp\\ipykernel_7724\\373337600.py:22: FutureWarning: Series.__getitem__ treating keys as positions is deprecated. In a future version, integer keys will always be treated as labels (consistent with DataFrame behavior). To access a value by position, use `ser.iloc[pos]`\n",
      "  link = row[1]  # Cột 1 chứa link review\n"
     ]
    },
    {
     "name": "stdout",
     "output_type": "stream",
     "text": [
      "827/845 - Cập nhật thể loại: Tiểu Sử, Nhạc Kịch\n",
      "827/845 - Cập nhật ảnh: https://cinema.momocdn.net/img/35131786145762655-wpfpmJ1kwWyVP57hw6IV6oAaFEM.jpg\n"
     ]
    },
    {
     "name": "stderr",
     "output_type": "stream",
     "text": [
      "C:\\Users\\ADMIN\\AppData\\Local\\Temp\\ipykernel_7724\\373337600.py:22: FutureWarning: Series.__getitem__ treating keys as positions is deprecated. In a future version, integer keys will always be treated as labels (consistent with DataFrame behavior). To access a value by position, use `ser.iloc[pos]`\n",
      "  link = row[1]  # Cột 1 chứa link review\n"
     ]
    },
    {
     "name": "stdout",
     "output_type": "stream",
     "text": [
      "828/845 - Cập nhật thể loại: Tình cảm, Hài, Lãng mạn\n",
      "828/845 - Cập nhật ảnh: https://cinema.momocdn.net/img/23741155546720123-6eZkIBXDYeqTHIU6sLKvyCxRvbR.jpg\n"
     ]
    },
    {
     "name": "stderr",
     "output_type": "stream",
     "text": [
      "C:\\Users\\ADMIN\\AppData\\Local\\Temp\\ipykernel_7724\\373337600.py:22: FutureWarning: Series.__getitem__ treating keys as positions is deprecated. In a future version, integer keys will always be treated as labels (consistent with DataFrame behavior). To access a value by position, use `ser.iloc[pos]`\n",
      "  link = row[1]  # Cột 1 chứa link review\n"
     ]
    },
    {
     "name": "stdout",
     "output_type": "stream",
     "text": [
      "829/845 - Cập nhật thể loại: Khoa học - Viễn tưởng, Hoạt hình\n",
      "829/845 - Cập nhật ảnh: https://cinema.momocdn.net/img/23457803634899652-yUc1EuUJ4hEXKePiqlWIkudERSy.jpg\n"
     ]
    },
    {
     "name": "stderr",
     "output_type": "stream",
     "text": [
      "C:\\Users\\ADMIN\\AppData\\Local\\Temp\\ipykernel_7724\\373337600.py:22: FutureWarning: Series.__getitem__ treating keys as positions is deprecated. In a future version, integer keys will always be treated as labels (consistent with DataFrame behavior). To access a value by position, use `ser.iloc[pos]`\n",
      "  link = row[1]  # Cột 1 chứa link review\n"
     ]
    },
    {
     "name": "stdout",
     "output_type": "stream",
     "text": [
      "830/845 - Cập nhật thể loại: Chính kịch\n",
      "830/845 - Cập nhật ảnh: https://cinema.momocdn.net/img/22440060690159371-63HcRYJI4LKeo8sINlL71ZtlUFY.jpg\n"
     ]
    },
    {
     "name": "stderr",
     "output_type": "stream",
     "text": [
      "C:\\Users\\ADMIN\\AppData\\Local\\Temp\\ipykernel_7724\\373337600.py:22: FutureWarning: Series.__getitem__ treating keys as positions is deprecated. In a future version, integer keys will always be treated as labels (consistent with DataFrame behavior). To access a value by position, use `ser.iloc[pos]`\n",
      "  link = row[1]  # Cột 1 chứa link review\n"
     ]
    },
    {
     "name": "stdout",
     "output_type": "stream",
     "text": [
      "831/845 - Cập nhật thể loại: Phiêu lưu, Hài, Hoạt hình\n",
      "831/845 - Cập nhật ảnh: https://cinema.momocdn.net/img/17495841846099841-rmDsMg9C85PxvCh6oYYVKdY2gKX.jpg\n"
     ]
    },
    {
     "name": "stderr",
     "output_type": "stream",
     "text": [
      "C:\\Users\\ADMIN\\AppData\\Local\\Temp\\ipykernel_7724\\373337600.py:22: FutureWarning: Series.__getitem__ treating keys as positions is deprecated. In a future version, integer keys will always be treated as labels (consistent with DataFrame behavior). To access a value by position, use `ser.iloc[pos]`\n",
      "  link = row[1]  # Cột 1 chứa link review\n"
     ]
    },
    {
     "name": "stdout",
     "output_type": "stream",
     "text": [
      "832/845 - Cập nhật thể loại: Hài\n",
      "832/845 - Cập nhật ảnh: https://cinema.momocdn.net/img/14471235566913606-tzJ8zxSO7t9eaJOGwTQdCDF9l2x.jpg\n"
     ]
    },
    {
     "name": "stderr",
     "output_type": "stream",
     "text": [
      "C:\\Users\\ADMIN\\AppData\\Local\\Temp\\ipykernel_7724\\373337600.py:22: FutureWarning: Series.__getitem__ treating keys as positions is deprecated. In a future version, integer keys will always be treated as labels (consistent with DataFrame behavior). To access a value by position, use `ser.iloc[pos]`\n",
      "  link = row[1]  # Cột 1 chứa link review\n"
     ]
    },
    {
     "name": "stdout",
     "output_type": "stream",
     "text": [
      "833/845 - Cập nhật thể loại: Chính kịch, Gay cấn, Kinh dị\n",
      "833/845 - Cập nhật ảnh: https://cinema.momocdn.net/img/5482250278384747-m9c23iVQk7oh6CwhiOjDYwLzniu.jpg\n"
     ]
    },
    {
     "name": "stderr",
     "output_type": "stream",
     "text": [
      "C:\\Users\\ADMIN\\AppData\\Local\\Temp\\ipykernel_7724\\373337600.py:22: FutureWarning: Series.__getitem__ treating keys as positions is deprecated. In a future version, integer keys will always be treated as labels (consistent with DataFrame behavior). To access a value by position, use `ser.iloc[pos]`\n",
      "  link = row[1]  # Cột 1 chứa link review\n"
     ]
    },
    {
     "name": "stdout",
     "output_type": "stream",
     "text": [
      "834/845 - Cập nhật thể loại: Khoa học - Viễn tưởng, Hài\n",
      "834/845 - Cập nhật ảnh: https://cinema.momocdn.net/img/83316752668176247-ublcpS4fNtjg3YwnBO1S0zS9Po0.jpg\n"
     ]
    },
    {
     "name": "stderr",
     "output_type": "stream",
     "text": [
      "C:\\Users\\ADMIN\\AppData\\Local\\Temp\\ipykernel_7724\\373337600.py:22: FutureWarning: Series.__getitem__ treating keys as positions is deprecated. In a future version, integer keys will always be treated as labels (consistent with DataFrame behavior). To access a value by position, use `ser.iloc[pos]`\n",
      "  link = row[1]  # Cột 1 chứa link review\n"
     ]
    },
    {
     "name": "stdout",
     "output_type": "stream",
     "text": [
      "835/845 - Cập nhật thể loại: Gay cấn, Hành động\n",
      "835/845 - Cập nhật ảnh: https://homepage.momocdn.net/cinema/momo-cdn-api-220615142744-637909000648934621.jpg\n"
     ]
    },
    {
     "name": "stderr",
     "output_type": "stream",
     "text": [
      "C:\\Users\\ADMIN\\AppData\\Local\\Temp\\ipykernel_7724\\373337600.py:22: FutureWarning: Series.__getitem__ treating keys as positions is deprecated. In a future version, integer keys will always be treated as labels (consistent with DataFrame behavior). To access a value by position, use `ser.iloc[pos]`\n",
      "  link = row[1]  # Cột 1 chứa link review\n"
     ]
    },
    {
     "name": "stdout",
     "output_type": "stream",
     "text": [
      "836/845 - Cập nhật thể loại: Gay cấn, Bí ẩn, Kinh dị\n",
      "836/845 - Cập nhật ảnh: https://homepage.momocdn.net/cinema/momo-cdn-api-220615142700-637909000206789813.jpg\n"
     ]
    },
    {
     "name": "stderr",
     "output_type": "stream",
     "text": [
      "C:\\Users\\ADMIN\\AppData\\Local\\Temp\\ipykernel_7724\\373337600.py:22: FutureWarning: Series.__getitem__ treating keys as positions is deprecated. In a future version, integer keys will always be treated as labels (consistent with DataFrame behavior). To access a value by position, use `ser.iloc[pos]`\n",
      "  link = row[1]  # Cột 1 chứa link review\n"
     ]
    },
    {
     "name": "stdout",
     "output_type": "stream",
     "text": [
      "837/845 - Cập nhật thể loại: Gay cấn, Giật gân, Kinh dị\n",
      "837/845 - Cập nhật ảnh: https://homepage.momocdn.net/cinema/momo-cdn-api-220615142655-637909000159788598.jpg\n"
     ]
    },
    {
     "name": "stderr",
     "output_type": "stream",
     "text": [
      "C:\\Users\\ADMIN\\AppData\\Local\\Temp\\ipykernel_7724\\373337600.py:22: FutureWarning: Series.__getitem__ treating keys as positions is deprecated. In a future version, integer keys will always be treated as labels (consistent with DataFrame behavior). To access a value by position, use `ser.iloc[pos]`\n",
      "  link = row[1]  # Cột 1 chứa link review\n"
     ]
    },
    {
     "name": "stdout",
     "output_type": "stream",
     "text": [
      "838/845 - Cập nhật thể loại: Gay cấn, Khoa học - Viễn tưởng, Hài, Hành động\n",
      "838/845 - Cập nhật ảnh: https://homepage.momocdn.net/cinema/momo-cdn-api-220615135331-637908980111920777.jpg\n"
     ]
    },
    {
     "name": "stderr",
     "output_type": "stream",
     "text": [
      "C:\\Users\\ADMIN\\AppData\\Local\\Temp\\ipykernel_7724\\373337600.py:22: FutureWarning: Series.__getitem__ treating keys as positions is deprecated. In a future version, integer keys will always be treated as labels (consistent with DataFrame behavior). To access a value by position, use `ser.iloc[pos]`\n",
      "  link = row[1]  # Cột 1 chứa link review\n"
     ]
    },
    {
     "name": "stdout",
     "output_type": "stream",
     "text": [
      "839/845 - Cập nhật thể loại: Chính kịch, Phiêu lưu, Khoa học - Viễn tưởng, Lịch sử, Hành động, Hoạt hình\n",
      "839/845 - Cập nhật ảnh: https://homepage.momocdn.net/cinema/momo-cdn-api-220615142408-637908998484491482.jpg\n"
     ]
    },
    {
     "name": "stderr",
     "output_type": "stream",
     "text": [
      "C:\\Users\\ADMIN\\AppData\\Local\\Temp\\ipykernel_7724\\373337600.py:22: FutureWarning: Series.__getitem__ treating keys as positions is deprecated. In a future version, integer keys will always be treated as labels (consistent with DataFrame behavior). To access a value by position, use `ser.iloc[pos]`\n",
      "  link = row[1]  # Cột 1 chứa link review\n"
     ]
    },
    {
     "name": "stdout",
     "output_type": "stream",
     "text": [
      "840/845 - Cập nhật thể loại: Khoa học - Viễn tưởng, Hành động\n",
      "840/845 - Cập nhật ảnh: https://homepage.momocdn.net/cinema/momo-cdn-api-220615135335-637908980159377452.jpg\n"
     ]
    },
    {
     "name": "stderr",
     "output_type": "stream",
     "text": [
      "C:\\Users\\ADMIN\\AppData\\Local\\Temp\\ipykernel_7724\\373337600.py:22: FutureWarning: Series.__getitem__ treating keys as positions is deprecated. In a future version, integer keys will always be treated as labels (consistent with DataFrame behavior). To access a value by position, use `ser.iloc[pos]`\n",
      "  link = row[1]  # Cột 1 chứa link review\n"
     ]
    },
    {
     "name": "stdout",
     "output_type": "stream",
     "text": [
      "841/845 - Cập nhật thể loại: Chính kịch, Lãng mạn, Hoạt hình\n",
      "841/845 - Cập nhật ảnh: https://homepage.momocdn.net/cinema/momo-cdn-api-220615142516-637908999160262233.jpg\n"
     ]
    },
    {
     "name": "stderr",
     "output_type": "stream",
     "text": [
      "C:\\Users\\ADMIN\\AppData\\Local\\Temp\\ipykernel_7724\\373337600.py:22: FutureWarning: Series.__getitem__ treating keys as positions is deprecated. In a future version, integer keys will always be treated as labels (consistent with DataFrame behavior). To access a value by position, use `ser.iloc[pos]`\n",
      "  link = row[1]  # Cột 1 chứa link review\n"
     ]
    },
    {
     "name": "stdout",
     "output_type": "stream",
     "text": [
      "842/845 - Cập nhật thể loại: Chính kịch, Tâm lý\n",
      "842/845 - Cập nhật ảnh: https://homepage.momocdn.net/cinema/momo-cdn-api-220615142557-637908999571931183.jpg\n"
     ]
    },
    {
     "name": "stderr",
     "output_type": "stream",
     "text": [
      "C:\\Users\\ADMIN\\AppData\\Local\\Temp\\ipykernel_7724\\373337600.py:22: FutureWarning: Series.__getitem__ treating keys as positions is deprecated. In a future version, integer keys will always be treated as labels (consistent with DataFrame behavior). To access a value by position, use `ser.iloc[pos]`\n",
      "  link = row[1]  # Cột 1 chứa link review\n"
     ]
    },
    {
     "name": "stdout",
     "output_type": "stream",
     "text": [
      "843/845 - Cập nhật thể loại: Gay cấn, Kinh dị\n",
      "843/845 - Cập nhật ảnh: https://homepage.momocdn.net/cinema/momo-cdn-api-220615142423-637908998631066836.jpg\n"
     ]
    },
    {
     "name": "stderr",
     "output_type": "stream",
     "text": [
      "C:\\Users\\ADMIN\\AppData\\Local\\Temp\\ipykernel_7724\\373337600.py:22: FutureWarning: Series.__getitem__ treating keys as positions is deprecated. In a future version, integer keys will always be treated as labels (consistent with DataFrame behavior). To access a value by position, use `ser.iloc[pos]`\n",
      "  link = row[1]  # Cột 1 chứa link review\n"
     ]
    },
    {
     "name": "stdout",
     "output_type": "stream",
     "text": [
      "844/845 - Cập nhật thể loại: Hoạt hình\n",
      "844/845 - Cập nhật ảnh: https://homepage.momocdn.net/cinema/momo-cdn-api-220615142622-637908999829900844.jpg\n"
     ]
    },
    {
     "name": "stderr",
     "output_type": "stream",
     "text": [
      "C:\\Users\\ADMIN\\AppData\\Local\\Temp\\ipykernel_7724\\373337600.py:22: FutureWarning: Series.__getitem__ treating keys as positions is deprecated. In a future version, integer keys will always be treated as labels (consistent with DataFrame behavior). To access a value by position, use `ser.iloc[pos]`\n",
      "  link = row[1]  # Cột 1 chứa link review\n"
     ]
    },
    {
     "name": "stdout",
     "output_type": "stream",
     "text": [
      "845/845 - Cập nhật thể loại: Âm Nhạc, Tâm lý, Tình cảm, Lãng mạn\n",
      "845/845 - Cập nhật ảnh: https://homepage.momocdn.net/cinema/momo-cdn-api-220615142349-637908998290307009.jpg\n",
      "Hoàn thành cập nhật toàn bộ dữ liệu!\n"
     ]
    }
   ],
   "source": [
    "import pandas as pd\n",
    "from selenium import webdriver\n",
    "from bs4 import BeautifulSoup\n",
    "import time\n",
    "import re\n",
    "\n",
    "# Đọc file CSV\n",
    "csv_filename = \"movies.csv\"\n",
    "df = pd.read_csv(csv_filename)\n",
    "\n",
    "# Thêm cột \"Thể loại\" và \"Ảnh\" nếu chưa có\n",
    "if \"Thể loại\" not in df.columns:\n",
    "    df[\"Thể loại\"] = \"\"\n",
    "if \"Ảnh\" not in df.columns:\n",
    "    df[\"Ảnh\"] = \"\"\n",
    "\n",
    "# Mở trình duyệt Selenium\n",
    "driver = webdriver.Chrome()\n",
    "\n",
    "# Duyệt qua từng dòng trong CSV\n",
    "for index, row in df.iterrows():\n",
    "    link = row[1]  # Cột 1 chứa link review\n",
    "\n",
    "    if pd.isna(link) or link == \"\":  # Bỏ qua nếu link trống\n",
    "        continue\n",
    "\n",
    "    try:\n",
    "        driver.get(link)\n",
    "        time.sleep(2)  # Đợi trang load\n",
    "\n",
    "        # Dùng BeautifulSoup để lấy dữ liệu từ trang\n",
    "        soup = BeautifulSoup(driver.page_source, 'html.parser')\n",
    "\n",
    "        # Lấy thể loại\n",
    "        li_tags = soup.find_all('li', class_=\"jsx-d074b6b0f0aeffcc\")\n",
    "        first_genre_li = [li for li in li_tags if \"Thể loại\" in li.get_text()]\n",
    "        if first_genre_li:\n",
    "            genre = first_genre_li[0].get_text(strip=True).split(\":\")[-1].strip()\n",
    "            df.loc[index, \"Thể loại\"] = genre\n",
    "            print(f\"{index + 1}/{len(df)} - Cập nhật thể loại: {genre}\")\n",
    "\n",
    "        # Lấy ảnh\n",
    "        div_tag = soup.find('div', class_=\"jsx-d074b6b0f0aeffcc relative z-[1] mb-3 aspect-[21/9] w-full overflow-hidden rounded-md bg-gray-200 bg-cover bg-no-repeat md:mb-5 md:aspect-[3/1] md:rounded-xl\")\n",
    "        if div_tag and \"style\" in div_tag.attrs:\n",
    "            style = div_tag[\"style\"]\n",
    "            match = re.search(r'url\\((.*?)\\)', style)  # Tách link ảnh\n",
    "            if match:\n",
    "                image_url = match.group(1)\n",
    "                df.loc[index, \"Ảnh\"] = image_url\n",
    "                print(f\"{index + 1}/{len(df)} - Cập nhật ảnh: {image_url}\")\n",
    "\n",
    "    except Exception as e:\n",
    "        print(f\"Lỗi ở dòng {index + 1}: {e}\")\n",
    "\n",
    "# Đóng trình duyệt sau khi xong\n",
    "driver.quit()\n",
    "\n",
    "# Ghi lại file CSV\n",
    "df.to_csv(csv_filename, index=False)\n",
    "\n",
    "print(\"Hoàn thành cập nhật toàn bộ dữ liệu!\")\n"
   ]
  },
  {
   "cell_type": "markdown",
   "metadata": {},
   "source": [
    "Code lấy comment"
   ]
  },
  {
   "cell_type": "code",
   "execution_count": null,
   "metadata": {},
   "outputs": [],
   "source": [
    "import pandas as pd\n",
    "from selenium import webdriver\n",
    "from selenium.webdriver.common.by import By\n",
    "from selenium.webdriver.common.action_chains import ActionChains\n",
    "from selenium.webdriver.support.ui import WebDriverWait\n",
    "from selenium.webdriver.support import expected_conditions as EC\n",
    "from bs4 import BeautifulSoup\n",
    "import time\n",
    "import unidecode\n",
    "import os\n",
    "\n",
    "# Đọc file CSV gốc\n",
    "csv_filename = \"movies.csv\"\n",
    "df = pd.read_csv(csv_filename)\n",
    "\n",
    "# Khởi tạo Selenium WebDriver\n",
    "driver = webdriver.Chrome()\n",
    "\n",
    "# Số lần bấm \"Xem tiếp nhé!\"\n",
    "time_press_see_more = 900\n",
    "\n",
    "# Duyệt qua từng dòng trong CSV\n",
    "for index, row in df.iterrows():\n",
    "    ten_phim = row[0]  # Giả sử cột 0 là tên phim\n",
    "    link = row[1]  # Cột 1 chứa link review\n",
    "\n",
    "    # Chuyển tên phim thành file CSV không dấu, không cách\n",
    "    file_name = unidecode.unidecode(ten_phim).replace(\" \", \"_\") + \".csv\"\n",
    "    print(f\"Đang lấy bình luận cho phim {ten_phim}...\")\n",
    "\n",
    "    # Đọc bình luận cũ nếu file tồn tại\n",
    "    if os.path.exists(file_name):\n",
    "        df_old = pd.read_csv(file_name)\n",
    "        print(f\"Đã tìm thấy file {file_name} chứa {len(df_old)} bình luận cũ.\")\n",
    "        old_comments = set(df_old[\"Bình luận\"].astype(str))\n",
    "    else:\n",
    "        old_comments = set()\n",
    "\n",
    "    try:\n",
    "        driver.get(link)\n",
    "        time.sleep(5)  # Đợi trang load\n",
    "        print(f\"Đã mở trang {link}\")\n",
    "\n",
    "        # Bấm nút \"Xem tiếp nhé!\" nhiều lần để tải hết bình luận\n",
    "        for _ in range(time_press_see_more):\n",
    "            try:\n",
    "                xem_them_button = WebDriverWait(driver, 2).until(\n",
    "                    EC.element_to_be_clickable((By.XPATH, \"//button[contains(text(),'Xem tiếp nhé!')]\"))\n",
    "                )\n",
    "                ActionChains(driver).move_to_element(xem_them_button).click().perform()\n",
    "                time.sleep(2)\n",
    "            except:\n",
    "                break  \n",
    "\n",
    "        print(\"Đã bấm hết nút 'Xem tiếp nhé!'\")\n",
    "\n",
    "        # Bấm vào tất cả các nút \"Xem thêm\" nếu bình luận chứa \"...\"\n",
    "        while True:\n",
    "            try:\n",
    "                xem_them_cmt_buttons = driver.find_elements(By.XPATH, \"//span[contains(text(),'Xem thêm')]\")\n",
    "                if not xem_them_cmt_buttons:\n",
    "                    break  # Không còn nút nào để bấm\n",
    "\n",
    "                for button in xem_them_cmt_buttons:\n",
    "                    parent_div = button.find_element(By.XPATH, \"./ancestor::div[contains(@class, 'whitespace-pre-wrap')]\")\n",
    "                    if \"...Xem thêm\" in parent_div.text:  # Chỉ bấm nếu có \"...\"\n",
    "                        driver.execute_script(\"arguments[0].click();\", button)\n",
    "                        time.sleep(0.5)  # Đợi bình luận mở ra\n",
    "\n",
    "                time.sleep(1)  # Chờ toàn bộ nội dung cập nhật\n",
    "            except:\n",
    "                break  \n",
    "\n",
    "        print(\"Đã mở hết các bình luận bị ẩn.\")\n",
    "\n",
    "        # Dùng BeautifulSoup để lấy dữ liệu từ trang\n",
    "        soup = BeautifulSoup(driver.page_source, 'html.parser')\n",
    "        print(\"Đã lấy dữ liệu từ trang\")\n",
    "\n",
    "        # Lấy tất cả các div chứa bình luận\n",
    "        divs = soup.find_all('div', class_=\"text-md whitespace-pre-wrap break-words leading-relaxed text-gray-900\")\n",
    "\n",
    "        # Lọc ra các bình luận mới (tránh trùng lặp)\n",
    "        new_comments = [div.get_text(strip=True) for div in divs if div.get_text(strip=True) not in old_comments]\n",
    "\n",
    "        # Nếu có bình luận mới thì cập nhật file CSV\n",
    "        if new_comments:\n",
    "            df_new = pd.DataFrame({\"Bình luận\": new_comments})\n",
    "            df_new.to_csv(file_name, mode='a', header=not os.path.exists(file_name), index=False)\n",
    "            print(f\"Đã cập nhật {len(new_comments)} bình luận mới vào {file_name}.\")\n",
    "        else:\n",
    "            print(f\"Không có bình luận mới cho phim {ten_phim}.\")\n",
    "\n",
    "    except Exception as e:\n",
    "        print(f\"Lỗi ở phim {ten_phim}: {e}\")\n",
    "\n",
    "# Đóng trình duyệt sau khi xong\n",
    "driver.quit()\n",
    "\n",
    "print(\"Hoàn thành lấy bình luận và cập nhật file CSV!\")\n"
   ]
  },
  {
   "cell_type": "code",
   "execution_count": null,
   "metadata": {},
   "outputs": [],
   "source": [
    "https://github.com/WebMining2025/demo-repository.git"
   ]
  }
 ],
 "metadata": {
  "kernelspec": {
   "display_name": ".venv",
   "language": "python",
   "name": "python3"
  },
  "language_info": {
   "codemirror_mode": {
    "name": "ipython",
    "version": 3
   },
   "file_extension": ".py",
   "mimetype": "text/x-python",
   "name": "python",
   "nbconvert_exporter": "python",
   "pygments_lexer": "ipython3",
   "version": "3.12.5"
  }
 },
 "nbformat": 4,
 "nbformat_minor": 2
}
